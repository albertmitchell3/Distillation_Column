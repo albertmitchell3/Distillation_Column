{
 "cells": [
  {
   "cell_type": "markdown",
   "metadata": {},
   "source": [
    "# Vector Distillation Column\n",
    "\n",
    "Contains the following elements:\n",
    "\n",
    "- Mass Balance\n",
    "- Energy Balance\n",
    "- VLE with constant relative volatily\n",
    "- VLE interpolated from literature data\n",
    "- VLE calculated with NRTL activity model and modified Raoults law"
   ]
  },
  {
   "cell_type": "code",
   "execution_count": 27,
   "metadata": {},
   "outputs": [],
   "source": [
    "import numpy as np\n",
    "import sympy\n",
    "from matplotlib import pyplot as plt\n",
    "import scipy\n",
    "import scipy.optimize\n",
    "import scipy.integrate\n",
    "import CoolProp.CoolProp as CP\n",
    "from scipy.stats.mstats import gmean\n",
    "from thermo.vapor_pressure import Antoine"
   ]
  },
  {
   "cell_type": "markdown",
   "metadata": {},
   "source": [
    "## Assumptions:\n",
    "\n",
    "1. Constant liquid hold up on each plate \n",
    "2. Constant liquid flow in each of the three sections of the column\n",
    "3. Constant vapour flow in the column\n",
    "4. No vapour holdup in the column\n",
    "5. Constant hold up in reboiler and condenser\n",
    "6. Constant relative volatility"
   ]
  },
  {
   "cell_type": "markdown",
   "metadata": {},
   "source": [
    "## The functions below are used for the VLE data\n",
    "\n",
    "- The first function is based on a constant relative volatility assumption calculate as an average from the data set at 1 atm. Here a geometrial mean is used due to the volatility of the data set.\n",
    "- The second function is based on VLE data collected from a system at a pressure of 1 atm."
   ]
  },
  {
   "cell_type": "code",
   "execution_count": 3,
   "metadata": {},
   "outputs": [
    {
     "data": {
      "text/plain": [
       "array([0.52922059, 0.56570296, 0.79192729])"
      ]
     },
     "execution_count": 3,
     "metadata": {},
     "output_type": "execute_result"
    }
   ],
   "source": [
    "def rel_vol(xi):\n",
    "    \n",
    "    xi = np.asarray(xi)\n",
    "    x= np.asarray([ 0.019, 0.0721, 0.0966, 0.1238, 0.1661, 0.2337, 0.2608, \n",
    "              0.3273, 0.3965, 0.5079, 0.5198, 0.5732, 0.6763, 0.7472, 0.8943])\n",
    "    y = np.asarray([ 0.170, 0.3891, 0.4375, 0.4704, 0.5089, 0.5445, 0.5580, \n",
    "              0.5826, 0.6122, 0.6564, 0.6599, 0.6841, 0.7385, 0.7815, 0.8943])\n",
    "    \n",
    "    αi = (y*(1-x))/(x*(1-y))\n",
    "    α = gmean(αi)\n",
    "    xi = (α*xi)/(1+(α-1)*xi)\n",
    "    \n",
    "    return xi\n",
    "\n",
    "rel_vol([0.27,0.3,0.556])"
   ]
  },
  {
   "cell_type": "code",
   "execution_count": 4,
   "metadata": {},
   "outputs": [
    {
     "data": {
      "text/plain": [
       "(array([0.56140331, 0.57250105, 0.67630524]),\n",
       " array([82.18932331, 81.82842105, 79.42883895]))"
      ]
     },
     "execution_count": 4,
     "metadata": {},
     "output_type": "execute_result"
    }
   ],
   "source": [
    "def vle_data(xi):\n",
    "    \n",
    "    x_data = [0, 0.019, 0.0721, 0.0966, 0.1238, 0.1661, 0.2337, 0.2608, \n",
    "              0.3273, 0.3965, 0.5079, 0.5198, 0.5732, 0.6763, 0.7472, 0.8943, 1]\n",
    "    y_data = [0, 0.170, 0.3891, 0.4375, 0.4704, 0.5089, 0.5445, 0.5580, \n",
    "              0.5826, 0.6122, 0.6564, 0.6599, 0.6841, 0.7385, 0.7815, 0.8943, 1]\n",
    "    T_data = [100,95.5,89,86.7,85.3,84.1,82.7,82.3,81.5,80.7,79.8,79.7,79.3,\n",
    "             78.74,78.41,78.15,78.30]\n",
    "    x = np.interp(xi,x_data, y_data)\n",
    "    T = np.interp(xi,x_data,T_data)\n",
    "    return x,T\n",
    "\n",
    "vle_data([0.27,0.3,0.556])"
   ]
  },
  {
   "cell_type": "code",
   "execution_count": 5,
   "metadata": {},
   "outputs": [],
   "source": [
    "# thermo.vapor_pressure.Antoine(T, A, B, C, base=10.0)[source]\n",
    "Pt = 101.325\n",
    "\n",
    "A = np.array([5.24677, 4.6543])\n",
    "B = np.array([1598.673, 1435.264])\n",
    "C = np.array([-46.424, -64.848])\n",
    "    \n",
    "\n"
   ]
  },
  {
   "cell_type": "code",
   "execution_count": 6,
   "metadata": {},
   "outputs": [],
   "source": [
    "def Psat(T):\n",
    "    return 10**(A-B/(T+C))*100"
   ]
  },
  {
   "cell_type": "code",
   "execution_count": 7,
   "metadata": {},
   "outputs": [
    {
     "data": {
      "text/plain": [
       "5"
      ]
     },
     "execution_count": 7,
     "metadata": {},
     "output_type": "execute_result"
    }
   ],
   "source": [
    "def τfunc(T):\n",
    "    τ12 = -0.801 + 246.2/T\n",
    "    τ21 = 3.458 -586.1/T\n",
    "    return [τ12+0.25,τ21-0.82]\n",
    "5"
   ]
  },
  {
   "cell_type": "code",
   "execution_count": 8,
   "metadata": {},
   "outputs": [],
   "source": [
    "def Gamma(T,x1):\n",
    "    x2 = 1 - x1\n",
    "    τ12,τ21 = τfunc(T)\n",
    "    G12 = np.exp(0.5*τ12)\n",
    "    G21 = np.exp(0.01*τ21)\n",
    "    gam1 = np.exp(x2**2 * (τ21*(G21/(x1+x2*G21))**2 + G12*τ12/(x2+x1*G12)**2) )\n",
    "    gam2 = np.exp(x1**2 * (τ12*(G12/(x2+x1*G12))**2 + G21*τ21/(x1+x2*G21)**2) )\n",
    "    return [gam1,gam2]\n"
   ]
  },
  {
   "cell_type": "code",
   "execution_count": 9,
   "metadata": {},
   "outputs": [
    {
     "data": {
      "text/plain": [
       "[<matplotlib.lines.Line2D at 0x194f9d34a90>]"
      ]
     },
     "execution_count": 9,
     "metadata": {},
     "output_type": "execute_result"
    },
    {
     "data": {
      "image/png": "[encoded data removed]",
      "text/plain": [
       "<Figure size 432x288 with 1 Axes>"
      ]
     },
     "metadata": {
      "needs_background": "light"
     },
     "output_type": "display_data"
    },
    {
     "data": {
      "image/png": "[encoded data removed]",
      "text/plain": [
       "<Figure size 432x288 with 1 Axes>"
      ]
     },
     "metadata": {
      "needs_background": "light"
     },
     "output_type": "display_data"
    }
   ],
   "source": [
    "z = np.linspace(0.001,0.999,1000)\n",
    "P= 101.325\n",
    "x = []\n",
    "t = []\n",
    "\n",
    "def func(var):\n",
    "    T,x1 = var\n",
    "    eq1 = y1*Pt - x1*(Psat(T)[0])*(Gamma(T,x1)[0])\n",
    "    eq2 = Pt - x1*(Psat(T)[0])*(Gamma(T,x1)[0]) - (1-x1)*(Psat(T)[1])*(Gamma(T,x1)[1])\n",
    "    return eq1,eq2\n",
    "\n",
    "for i in range(len(z)):\n",
    "    y1 = z[i]\n",
    "    sol = scipy.optimize.fsolve(func,[350,1])\n",
    "    x.append(sol[1])\n",
    "    t.append(sol[0])\n",
    "\n",
    "x_data = [0, 0.019, 0.0721, 0.0966, 0.1238, 0.1661, 0.2337, 0.2608, \n",
    "              0.3273, 0.3965, 0.5079, 0.5198, 0.5732, 0.6763, 0.7472, 0.8943, 1]\n",
    "y_data = [0, 0.170, 0.3891, 0.4375, 0.4704, 0.5089, 0.5445, 0.5580, \n",
    "          0.5826, 0.6122, 0.6564, 0.6599, 0.6841, 0.7385, 0.7815, 0.8943, 1]\n",
    "T_data = [100,95.5,89,86.7,85.3,84.1,82.7,82.3,81.5,80.7,79.8,79.7,79.3,\n",
    "         78.74,78.41,78.15,78.30]    \n",
    "    \n",
    "    \n",
    "t = np.asarray(t)\n",
    "plt.figure(1)\n",
    "plt.plot(z,t-273.15)\n",
    "plt.plot(x,t-273.15)\n",
    "plt.plot(x_data,T_data,\"ro\")\n",
    "plt.plot(y_data,T_data,\"bo\")\n",
    "\n",
    "plt.figure(2)\n",
    "plt.plot(x,z)\n",
    "plt.plot(x_data,y_data, \"ro\")\n",
    "plt.plot([0,1],[0,1])"
   ]
  },
  {
   "cell_type": "markdown",
   "metadata": {},
   "source": [
    "# Vectorized Equations #\n",
    "\n",
    "$\\frac{dx_i}{dt} = \\left(\\frac{1}{M_i}\\right)\\left(V(y_{i+1}-y_{i}) + L_1(x_{i-1}-x_{i}) + Fx_F \\right)$\n",
    "\n",
    "A vector is utilied for the following variables:\n",
    "- $y_{i+1}$\n",
    "- $y_{i}$\n",
    "- $x_{i}$\n",
    "- $x_{i-1}$\n",
    "- $L_1$\n",
    "- $F$"
   ]
  },
  {
   "cell_type": "markdown",
   "metadata": {},
   "source": [
    "## Feed vector function\n",
    "- This function creates 4 vectors for the flow.\n",
    "- The first two vectors are the liquid flows.\n",
    "- The third vector is the feed vector.\n",
    "- The fourth vector contains the reflux and the boilup."
   ]
  },
  {
   "cell_type": "code",
   "execution_count": 10,
   "metadata": {},
   "outputs": [],
   "source": [
    "def feed_vector(plates,feedplate,feed):\n",
    "    \n",
    "    L1 = R_r*D\n",
    "    V = L1 + D\n",
    "    L2 = F + L1\n",
    "    \n",
    "    R = V - L1\n",
    "    BU = L2 - V\n",
    "    \n",
    "    feed_vec1 = np.zeros(plates)\n",
    "    feed_vec2 = np.zeros(plates)\n",
    "    flow_vec_top = np.zeros(plates)\n",
    "    flow_vec_bot = np.zeros(plates)\n",
    "    \n",
    "    flow_vec_top[0:feedplate] = L1\n",
    "    flow_vec_top[feedplate:] = L2\n",
    "    \n",
    "    flow_vec_bot[0:feedplate-1] = L1\n",
    "    flow_vec_bot[feedplate-1:] = L2\n",
    "    \n",
    "    feed_vec1[feedplate-1] = feed\n",
    "    feed_vec2[0] = R\n",
    "    feed_vec2[-1] = BU\n",
    "    \n",
    "    return np.asarray([flow_vec_top,flow_vec_bot,feed_vec1,feed_vec2])\n",
    "\n"
   ]
  },
  {
   "cell_type": "code",
   "execution_count": 111,
   "metadata": {},
   "outputs": [
    {
     "data": {
      "text/plain": [
       "array([[0.3, 0.3, 0.3, 0.3, 1.3, 1.3, 1.3, 1.3, 1.3, 1.3, 1.3, 1.3],\n",
       "       [0.3, 0.3, 0.3, 1.3, 1.3, 1.3, 1.3, 1.3, 1.3, 1.3, 1.3, 1.3],\n",
       "       [0. , 0. , 0. , 1. , 0. , 0. , 0. , 0. , 0. , 0. , 0. , 0. ],\n",
       "       [0.5, 0. , 0. , 0. , 0. , 0. , 0. , 0. , 0. , 0. , 0. , 0.5]])"
      ]
     },
     "execution_count": 111,
     "metadata": {},
     "output_type": "execute_result"
    }
   ],
   "source": [
    "feed_vector(12,4,1)"
   ]
  },
  {
   "cell_type": "markdown",
   "metadata": {},
   "source": [
    "## Composition vector function\n",
    "- This function calculates the 4 different composition vectors needed to complete the mass balance from the following equation:\n",
    "$\\frac{dx_i}{dt} = \\left(\\frac{1}{M_i}\\right)\\left(V(y_{i+1}-y_{i}) + L_1(x_{i-1}-x_{i}) + Fx_F \\right)$"
   ]
  },
  {
   "cell_type": "code",
   "execution_count": 12,
   "metadata": {},
   "outputs": [],
   "source": [
    "def comp_vector(xi,yi):\n",
    "    \n",
    "    xi = np.asarray(xi)\n",
    "    yi = np.asarray(yi)\n",
    "    \n",
    "    xi1 = np.copy(xi)\n",
    "    xi1 = np.roll(xi1, 1)\n",
    "    xi1[0] = 0\n",
    "    \n",
    "    xi2 = np.copy(xi)\n",
    "    xi2[-1] = 0\n",
    "    \n",
    "    yi1 = np.copy(yi)\n",
    "    yi1 = np.roll(yi1, -1)\n",
    "    yi1[-1] = 0\n",
    "    \n",
    "    yi2 = np.copy(yi)\n",
    "    yi2[0] = 0\n",
    "    \n",
    "    \n",
    "    return np.asarray([xi1,xi2]),np.asarray([yi1,yi2])"
   ]
  },
  {
   "cell_type": "markdown",
   "metadata": {},
   "source": []
  },
  {
   "cell_type": "code",
   "execution_count": 13,
   "metadata": {},
   "outputs": [],
   "source": [
    "def holdup_vector(plates,feedplate, m_cond,m_tray,m_rebl):\n",
    "    holdup_vec = np.zeros(plates)\n",
    "    \n",
    "    holdup_vec[0] = m_cond\n",
    "    holdup_vec[-1] = m_rebl\n",
    "    holdup_vec[1:plates-1] = m_tray\n",
    "    \n",
    "    return holdup_vec"
   ]
  },
  {
   "cell_type": "code",
   "execution_count": 14,
   "metadata": {},
   "outputs": [
    {
     "data": {
      "text/plain": [
       "array([0.15, 0.2 , 0.2 , 0.2 , 0.2 , 0.2 , 0.2 , 0.2 , 0.2 , 0.2 , 0.2 ,\n",
       "       0.45])"
      ]
     },
     "execution_count": 14,
     "metadata": {},
     "output_type": "execute_result"
    }
   ],
   "source": [
    "holdup_vector(12,4, 0.15, 0.2,0.45)"
   ]
  },
  {
   "cell_type": "markdown",
   "metadata": {},
   "source": [
    "## Heat capacity function \n",
    "- This function calculates the heat capacity of the liquid holdup on each plate\n",
    "- The heat capacity is used to calculate the temperature on the plate."
   ]
  },
  {
   "cell_type": "code",
   "execution_count": 15,
   "metadata": {},
   "outputs": [],
   "source": [
    "def Cp(xi):\n",
    "    CPi = []\n",
    "    \n",
    "    for i in range(len(xi)):\n",
    "        CPi.append(CP.PropsSI('CPMOLAR','Q',0,'P',101325,f'Ethanol[{xi[i]}]&Water[{1-xi[i]}]'))\n",
    "    return np.asarray(CPi)"
   ]
  },
  {
   "cell_type": "code",
   "execution_count": 16,
   "metadata": {},
   "outputs": [
    {
     "data": {
      "text/plain": [
       "array([117.45980637, 122.1498239 , 126.25094095])"
      ]
     },
     "execution_count": 16,
     "metadata": {},
     "output_type": "execute_result"
    }
   ],
   "source": [
    "Cp([0.5,0.6,0.7])"
   ]
  },
  {
   "cell_type": "markdown",
   "metadata": {},
   "source": [
    "## Ethalpy function \n",
    "- Vectors corrosponding to the flow vectors are calculated and shaped correctly.\n",
    "- This function calculates liquid and vapour enthalpy.\n",
    "- The pressure is currently assumed to be costant and set equal to 101.325 kPa."
   ]
  },
  {
   "cell_type": "code",
   "execution_count": 108,
   "metadata": {},
   "outputs": [],
   "source": [
    "def H(xi,yi,Ti):\n",
    "    Hi_L = []\n",
    "    Hi_V = []\n",
    "    Ti = np.asarray(Ti)+273\n",
    "    \n",
    "    for i in range(len(xi)):\n",
    "        y = round(yi[i],5)\n",
    "        Hi_L.append(CP.PropsSI('HMOLAR','P',101325,'Q',0,f'Ethanol[{xi[i]}]&Water[{1-xi[i]}]'))\n",
    "        Hi_V.append(CP.PropsSI('HMOLAR','P',101325,'Q',1,f'Ethanol[{y}]&Water[{1-y}]'))\n",
    "        \n",
    "    Hi_L = np.asarray(Hi_L)\n",
    "    Hi_V = np.asarray(Hi_V)\n",
    "    \n",
    "    Hi_L1 = np.copy(Hi_L)\n",
    "    Hi_L1 = np.roll(Hi_L1, 1)\n",
    "    Hi_L1[0] = 0\n",
    "    \n",
    "    Hi_L2 = np.copy(Hi_L)\n",
    "    Hi_L2[-1] = 0\n",
    "    \n",
    "    Hi_V1 = np.copy(Hi_V)\n",
    "    Hi_V1 = np.roll(Hi_V1, -1)\n",
    "    Hi_V1[-1] = 0\n",
    "    \n",
    "    Hi_V2 = np.copy(Hi_V)\n",
    "    Hi_V2[0] = 0\n",
    "    \n",
    "    Hi_F = np.zeros(plates)\n",
    "    Hi_F[feedplate-1] = 0#CP.PropsSI('HMOLAR','P',1000000,'Q',0,f'Ethanol[{xF}]&Water[{1-xF}]')\n",
    "    \n",
    "    return [Hi_L,Hi_L1,Hi_L2,Hi_V,Hi_V1,Hi_V2,Hi_F]"
   ]
  },
  {
   "cell_type": "code",
   "execution_count": 109,
   "metadata": {},
   "outputs": [
    {
     "data": {
      "text/plain": [
       "[array([2745.1411304 , 2077.85447   , 1399.61294788]),\n",
       " array([   0.       , 2745.1411304, 2077.85447  ]),\n",
       " array([2745.1411304, 2077.85447  ,    0.       ]),\n",
       " array([44321.96614537, 42642.71156039, 41702.05289461]),\n",
       " array([42642.71156039, 41702.05289461,     0.        ]),\n",
       " array([    0.        , 42642.71156039, 41702.05289461]),\n",
       " array([0., 0., 0., 0., 0., 0., 0., 0., 0., 0., 0., 0.])]"
      ]
     },
     "execution_count": 109,
     "metadata": {},
     "output_type": "execute_result"
    }
   ],
   "source": [
    "H([0.6,0.7,0.8],[0.432419,0.6,0.7],[400,400,400])"
   ]
  },
  {
   "cell_type": "markdown",
   "metadata": {},
   "source": [
    "## Reboiler and Condenser Duty"
   ]
  },
  {
   "cell_type": "code",
   "execution_count": 94,
   "metadata": {},
   "outputs": [],
   "source": [
    "def cond_duty(M,Tout):\n",
    "    cp_w = CP.PropsSI('CPMASS','P',101325,'T',298,'Water')\n",
    "    \n",
    "    Qcond = -M*cp_w*(Tout - 25)\n",
    "    \n",
    "    return Qcond"
   ]
  },
  {
   "cell_type": "code",
   "execution_count": 95,
   "metadata": {},
   "outputs": [
    {
     "data": {
      "text/plain": [
       "-2090688.60359374"
      ]
     },
     "execution_count": 95,
     "metadata": {},
     "output_type": "execute_result"
    }
   ],
   "source": [
    "cond_duty(50,35)"
   ]
  },
  {
   "cell_type": "code",
   "execution_count": 96,
   "metadata": {},
   "outputs": [],
   "source": [
    "def rebl_duty(M,Tout):\n",
    "    cp_w = CP.PropsSI('CPMASS','P',500000,'T',400,'Water')\n",
    "    \n",
    "    Qcond = -M*cp_w*(Tout - 126)\n",
    "    \n",
    "    return Qcond"
   ]
  },
  {
   "cell_type": "code",
   "execution_count": 97,
   "metadata": {},
   "outputs": [
    {
     "data": {
      "text/plain": [
       "140409.38199926657"
      ]
     },
     "execution_count": 97,
     "metadata": {},
     "output_type": "execute_result"
    }
   ],
   "source": [
    "rebl_duty(0.5,60)"
   ]
  },
  {
   "cell_type": "code",
   "execution_count": 98,
   "metadata": {},
   "outputs": [
    {
     "data": {
      "text/plain": [
       "array([-2394.,     0.,     0.,     0.,     0.,     0.,     0.,     0.,\n",
       "           0.,     0.,     0.,   798.])"
      ]
     },
     "execution_count": 98,
     "metadata": {},
     "output_type": "execute_result"
    }
   ],
   "source": [
    "def duty(plates,feedplate,Qcond,Qrebl):\n",
    "    duty_vector = np.zeros(plates)\n",
    "    duty_vector[0] = Qcond\n",
    "\n",
    "    duty_vector[-1] = Qrebl\n",
    "    \n",
    "    return duty_vector\n",
    "\n",
    "duty(12,4,-2394,798)"
   ]
  },
  {
   "cell_type": "markdown",
   "metadata": {},
   "source": [
    "## Vectozied model of the column"
   ]
  },
  {
   "cell_type": "code",
   "execution_count": 143,
   "metadata": {},
   "outputs": [],
   "source": [
    "def mass_DE(t,var):\n",
    "    \n",
    "    # values for compositon and temperature is fed as a 1-D array and reshaped\n",
    "    x,T = np.reshape(var,(2,-1))\n",
    "    \n",
    "    xi = np.asarray(x)\n",
    "    Ti = np.asarray(T)\n",
    "    \n",
    "    L1 = R_r*D\n",
    "    V = L1 + D\n",
    "    L2 = F + L1\n",
    "    \n",
    "    R = V - L1\n",
    "    BU = L2 - V\n",
    "    \n",
    "    yi,T_fake = vle_data(xi) # change to vle_data() for interpolation of vapour liquid equilibrium\n",
    "    \n",
    "    \n",
    "    if t<15:\n",
    "        feedplate = 4\n",
    "    else:\n",
    "        feedplate = 4 # change this to vary which plate is fed on\n",
    "    \n",
    "    flow1, flow2, feed1, feed2 = feed_vector(plates,feedplate, F)\n",
    "    \n",
    "    x1, y1 = comp_vector(xi,yi)\n",
    "    holdup_vec = holdup_vector(plates,feedplate, m_cond,m_tray,m_rebl)\n",
    "\n",
    "    # component mass balance \n",
    "    \n",
    "    dxdt = 1/holdup_vec * (V*(y1[0] - y1[1]) + flow1*x1[0] - flow2*x1[1] + feed1*xF  - feed2*xi)\n",
    "    \n",
    "    \n",
    "    HL,HL1, HL2, HV, HV1, HV2, Hi_F = H(xi,yi,Ti)\n",
    "    CPi = Cp(xi)\n",
    "    \n",
    "#     duty_vector = duty(plates,feedplate,cond_duty(-15,30),rebl_duty(-0.8,60))\n",
    "    duty_vector = duty(plates,feedplate,0,0)\n",
    "    \n",
    "\n",
    "#      Energy balance with coolprops\n",
    "    \n",
    "    additional = np.asarray([-1665.947864,0,0,4.39515094,0,0,0,0,0,0,0,672.7897017])\n",
    "    \n",
    "    dTdt = 1/(holdup_vec*CPi)*( V*(HV1 - HV2) + flow1*HL1 - flow2*HL2 + feed1*HL - feed2*HL ) + additional\n",
    "    \n",
    "#     dTdt = 1/(holdup_vec*CPi)*( V*(HV1 - HV2) + flow1*HL1 - flow2*HL2 + feed1*HL - feed2*HL + F*Hi_F + duty_vector ) \n",
    "    \n",
    "    \n",
    "    print(dTdt+Ti)\n",
    "#     dTdt = np.zeros(len(Ti))  # Unhash this to just use mass balance\n",
    "\n",
    "    didt = np.concatenate([dxdt, dTdt])\n",
    "\n",
    "    return didt"
   ]
  },
  {
   "cell_type": "code",
   "execution_count": 114,
   "metadata": {},
   "outputs": [],
   "source": [
    "# plates is the number of total plates + 2 (for the reboiler and condenser)\n",
    "# feedplate is the plate number the feed occurs on\n",
    "# x_initial is an array with the initial column states\n",
    "\n",
    "plates = 12\n",
    "feedplate = 4"
   ]
  },
  {
   "cell_type": "markdown",
   "metadata": {},
   "source": [
    "## Inputs to calculate intial state"
   ]
  },
  {
   "cell_type": "markdown",
   "metadata": {},
   "source": [
    "### Input variables\n",
    "\n",
    "1. $F_3$ - Feed flow rate on plate 3\n",
    "2. $F_7$ - Feed flow rate on plate 7\n",
    "3. $x_F$ - Feed liquid composition\n",
    "4. $Rr$ - Reflux ratio\n",
    "5. $D_F$ - Distillate to feed ratio\n",
    "\n",
    "### Parameters\n",
    "\n",
    "1. $\\alpha$ - Relative volatility\n",
    "2. $m_{tray}$ - holdup on each tray\n",
    "2. $m_{cond}$ - holdup in the total condenser\n",
    "2. $m_{rebl}$ - holdup in the partial reboiler"
   ]
  },
  {
   "cell_type": "code",
   "execution_count": 115,
   "metadata": {},
   "outputs": [
    {
     "name": "stdout",
     "output_type": "stream",
     "text": [
      "[0.1 0.1 0.1 0.1 0.1 0.1 0.1 0.1 0.1 0.1 0.1 0.1]\n",
      "[303. 303. 303. 303. 303. 303. 303. 303. 303. 303. 303. 303.]\n"
     ]
    }
   ],
   "source": [
    "init_comp = np.array([0.1, 0.1, 0.1, 0.1, 0.1, 0.1, 0.1, 0.1, 0.1, 0.1, 0.1, 0.1])\n",
    "init_temp = np.array([303,303,303,303,303,303,303,303,303,303,303,303])\n",
    "\n",
    "\n",
    "init = np.concatenate([init_comp,init_temp])\n",
    "\n",
    "x,T = np.reshape(init,(2,-1))\n",
    "print(x)\n",
    "print(T)"
   ]
  },
  {
   "cell_type": "code",
   "execution_count": 116,
   "metadata": {},
   "outputs": [
    {
     "data": {
      "text/plain": [
       "array([7.13322180e-01, 6.28582470e-01, 5.67561650e-01, 5.15590620e-01,\n",
       "       5.15588680e-01, 5.15573520e-01, 5.15505570e-01, 5.15081550e-01,\n",
       "       5.12886540e-01, 5.02317580e-01, 4.59643500e-01, 2.86653760e-01,\n",
       "       3.51567682e+02, 3.51999183e+02, 3.52342235e+02, 3.52735373e+02,\n",
       "       3.52735389e+02, 3.52735517e+02, 3.52736088e+02, 3.52739651e+02,\n",
       "       3.52758096e+02, 3.52845100e+02, 3.53189864e+02, 3.54988977e+02])"
      ]
     },
     "execution_count": 116,
     "metadata": {},
     "output_type": "execute_result"
    }
   ],
   "source": [
    "# init_comp = np.array([0.1, 0.1, 0.1, 0.1, 0.1, 0.1, 0.1, 0.1, 0.1, 0.1, 0.1, 0.1])\n",
    "# init_temp = np.array([303,303,303,303,303,303,303,303,303,303,303,303])\n",
    "\n",
    "x_init = np.array([0.71332218, 0.62858247, 0.56756165, 0.51559062, 0.51558868, 0.51557352,\n",
    "        0.51550557, 0.51508155, 0.51288654, 0.50231758, 0.4596435,  0.28665376])\n",
    "_,T_init = vle_data(x_init)\n",
    "T_init = T_init+273\n",
    "\n",
    "init = np.concatenate([x_init,T_init])\n",
    "init"
   ]
  },
  {
   "cell_type": "code",
   "execution_count": 117,
   "metadata": {},
   "outputs": [],
   "source": [
    "F = 1 # Feed on plate 3\n",
    "D =0.5\n",
    "xF = 0.5 # mole fraction in feed\n",
    "R_r = 0.6 # reflux ratio\n",
    "m_cond = 0.15 # holdup in condenser\n",
    "m_tray = 0.2 # holdup on each tray\n",
    "m_rebl = 0.45 # holdup in reboiler"
   ]
  },
  {
   "cell_type": "code",
   "execution_count": 127,
   "metadata": {},
   "outputs": [
    {
     "name": "stdout",
     "output_type": "stream",
     "text": [
      "[351.56768237 354.48216138 354.31668558 352.735373   352.73467772\n",
      " 352.73627441 352.75223515 352.78638524 353.11814935 354.37990767\n",
      " 360.71459837 354.98962833]\n"
     ]
    },
    {
     "data": {
      "text/plain": [
       "array([-2.01745879e-08,  3.09174580e-08, -1.52551223e-07,  1.16264706e-06,\n",
       "       -5.22529412e-06,  1.85988235e-05, -5.71720588e-05,  1.73765294e-04,\n",
       "       -4.58664101e-04,  9.71333860e-04, -1.37607317e-03,  3.52249230e-04,\n",
       "       -6.90124580e-09,  2.48297790e+00,  1.97445075e+00,  5.54277015e-08,\n",
       "       -7.11521580e-04,  7.57769565e-04,  1.61475051e-02,  4.67344010e-02,\n",
       "        3.60053044e-01,  1.53480733e+00,  7.52473436e+00,  6.51002323e-04])"
      ]
     },
     "execution_count": 127,
     "metadata": {},
     "output_type": "execute_result"
    }
   ],
   "source": [
    "mass_DE(0,init)"
   ]
  },
  {
   "cell_type": "code",
   "execution_count": 145,
   "metadata": {},
   "outputs": [
    {
     "name": "stdout",
     "output_type": "stream",
     "text": [
      "[351.56768237 354.48216138 354.31668558 352.735373   352.73467772\n",
      " 352.73627441 352.75223515 352.78638524 353.11814935 354.37990767\n",
      " 360.71459837 354.98962833]\n",
      "[351.56769093 359.57151018 358.36367093 352.73560556 352.72525825\n",
      " 352.77153197 352.68097739 353.17905591 353.04080148 359.21753302\n",
      " 373.87745301 355.88996424]\n",
      "[351.56768258 354.60576339 354.41497233 352.73537864 352.73452568\n",
      " 352.7367471  352.75165557 352.79609007 353.11817904 354.49217595\n",
      " 361.03551922 355.01208998]\n",
      "[351.56768258 354.66756427 354.4641162  352.73537764 352.73452987\n",
      " 352.73668723 352.75231916 352.79669759 353.12899436 354.52576674\n",
      " 361.23023875 355.00856838]\n",
      "[351.56768351 354.97656989 354.70983041 352.73541306 352.73370105\n",
      " 352.74268412 352.73607997 352.84743701 353.04640399 354.98522524\n",
      " 361.8178665  355.1442624 ]\n",
      "[351.56768556 355.03150677 354.75350218 352.73550465 352.73175954\n",
      " 352.75274085 352.69850769 352.96719866 352.71559685 355.71491348\n",
      " 361.08166982 355.49514403]\n",
      "[351.56768651 355.10017576 354.8081006  352.7355505  352.72761692\n",
      " 352.76265464 352.6753001  353.02881042 352.55794168 356.10656115\n",
      " 360.83385645 355.67193138]\n",
      "[351.56768273 355.10017058 354.80812262 352.73537563 352.73435147\n",
      " 352.73707315 352.7549666  352.80129322 353.20399215 354.77247295\n",
      " 362.56529514 354.9998157 ]\n",
      "[351.56768297 355.29921563 354.96640086 352.73538444 352.73411163\n",
      " 352.73781433 352.75094586 352.81792485 353.19857405 354.96398786\n",
      " 363.08173738 355.03399622]\n",
      "[351.5676829  355.39873788 355.04554119 352.73537924 352.73419358\n",
      " 352.73744114 352.75577637 352.81331401 353.23262058 354.98199204\n",
      " 363.43418801 355.01451911]\n",
      "[351.56768585 355.89635393 355.44122154 352.73552339 352.73102573\n",
      " 352.75823407 352.69659541 353.00724986 352.76789292 356.40806092\n",
      " 363.47520962 355.58471603]\n",
      "[351.56769513 355.98483174 355.51150791 352.73916224 352.70827322\n",
      " 352.82909889 352.49005139 353.63739165 350.99727596 360.17861954\n",
      " 358.82358542 357.48143028]\n",
      "[351.5677037  356.09542468 355.59629037 352.74242407 352.69385929\n",
      " 352.88972666 352.29314073 354.22495382 349.46635641 363.60107645\n",
      " 354.51041829 359.26119344]\n",
      "[351.56768041 356.09539071 355.59937435 352.73515967 352.74080807\n",
      " 352.71763119 352.82208565 352.64334231 353.83732265 354.34422758\n",
      " 366.98694322 354.43870067]\n",
      "[351.56768348 356.29443994 355.75763369 352.73532014 352.73446945\n",
      " 352.74204414 352.75065069 352.85118165 353.29428916 355.66945213\n",
      " 365.98909139 355.07684811]\n",
      "[351.56768145 356.3939593  355.83678711 352.73520994 352.73976389\n",
      " 352.7247711  352.79886859 352.71405581 353.71037488 354.89387565\n",
      " 367.38440824 354.64758592]\n",
      "[351.56773448 356.89164936 356.22903883 352.75383028 352.62571003\n",
      " 353.11980622 351.57278611 356.55247253 343.44044673 376.2195574\n",
      " 340.28159589 365.54907205]\n",
      "[351.56791271 356.98037675 356.28927576 352.81521313 352.23987656\n",
      " 354.45106749 346.61414523 370.89417734 303.43626896 447.69485134\n",
      " 235.69558027 400.21739399]\n",
      "[351.56429016 357.09710196 356.36441953 352.87381904 351.87327879\n",
      " 355.97686108 340.95344321 386.57293654 257.87725414 519.62366138\n",
      " 112.47408914 431.20591323]\n",
      "[351.56742867 357.08786699 356.3967603  352.71497136 352.87488261\n",
      " 352.20125277 354.51064542 347.17417456 367.83160271 327.98567895\n",
      " 400.77930481 342.33631823]\n",
      "[351.56768195 356.19466482 355.67830485 352.73523971 352.73922224\n",
      " 352.72666392 352.7879944  352.74870132 353.56620264 355.00597885\n",
      " 366.48932832 354.7562782 ]\n",
      "[351.56768182 356.24430057 355.71777601 352.73523235 352.73942683\n",
      " 352.72605544 352.78997099 352.74175317 353.60124063 354.97829265\n",
      " 366.71272758 354.72897582]\n",
      "[351.56768856 356.49249016 355.91508287 352.73558812 352.72586155\n",
      " 352.77784659 352.63438051 353.19717645 352.35091351 357.82377308\n",
      " 363.91238677 356.12285155]\n",
      "[351.567704   356.53663378 355.94697033 352.74588945 352.68678888\n",
      " 352.89596337 352.27602992 354.24994874 349.51090233 363.92036817\n",
      " 355.75913473 359.31966054]\n",
      "[351.56770972 356.59179326 355.99095734 352.74567632 352.67809722\n",
      " 352.9368856  352.14533844 354.67167787 348.50143284 366.08783456\n",
      " 352.87663866 360.49678207]\n",
      "[351.56768257 356.5917532  355.99418178 352.73490449 352.73922212\n",
      " 352.73176397 352.77691563 352.78441119 353.55349882 355.42783951\n",
      " 367.41163534 354.87786077]\n",
      "[351.56768313 356.70617966 356.085169   352.73493238 352.73559013\n",
      " 352.73696618 352.76450069 352.82734067 353.45985775 355.72303103\n",
      " 367.47388941 354.9862619 ]\n",
      "[351.56768305 356.76339238 356.13066496 352.7349275  352.73558537\n",
      " 352.73668283 352.76917423 352.81868928 353.48812947 355.71730598\n",
      " 367.69839033 354.96699894]\n",
      "[351.5676861  357.04946101 356.35812194 352.73508589 352.73281934\n",
      " 352.7580554  352.69576342 353.04736325 352.89189051 357.19407921\n",
      " 366.89829107 355.60603497]\n",
      "[351.56769364 357.10032799 356.39851209 352.73864694 352.71311467\n",
      " 352.81938908 352.51197933 353.6048059  351.28802658 360.52342412\n",
      " 362.77980138 357.23780034]\n",
      "[351.56769704 357.16390282 356.44903993 352.73862902 352.70681318\n",
      " 352.84520634 352.42926474 353.85775154 350.63042968 361.99602609\n",
      " 361.01587643 357.98295845]\n",
      "[351.56768309 357.16388222 356.44913286 352.73478433 352.73602946\n",
      " 352.73641424 352.77251143 352.82512051 353.55163253 355.93960237\n",
      " 368.96135505 354.94426021]\n",
      "[351.56768353 357.30403081 356.56057514 352.73480576 352.73553348\n",
      " 352.73816076 352.76490644 352.85651915 353.49024786 356.19443013\n",
      " 369.16803582 355.03033958]\n",
      "[351.56768341 357.37410462 356.61629846 352.73479881 352.73566101\n",
      " 352.7376332  352.76702858 352.85003307 353.52676888 356.18275444\n",
      " 369.44761427 355.00469932]\n",
      "[351.56768684 357.72447956 356.89488837 352.73497981 352.7285617\n",
      " 352.76468012 352.68604718 353.09248555 352.91187544 357.78894359\n",
      " 368.67894684 355.7222828 ]\n",
      "[351.5676963  357.78678158 356.94435574 352.73865307 352.7084172\n",
      " 352.83899079 352.45301107 353.76490399 351.04780049 361.74716048\n",
      " 363.63938633 357.74946575]\n",
      "[351.56770194 357.86464992 357.00313728 352.74187365 352.69607609\n",
      " 352.88348821 352.31817724 354.15940301 350.03531953 364.02291329\n",
      " 360.77208497 358.9429711 ]\n",
      "[351.56768273 357.86462141 357.00624691 352.73470025 352.73949139\n",
      " 352.72857366 352.78943011 352.80510264 353.75120948 356.16282562\n",
      " 371.36688136 354.83242742]\n",
      "[351.56768367 358.01498655 357.12580928 352.73474936 352.73544496\n",
      " 352.73838662 352.76924936 352.86760541 353.60246854 356.61476122\n",
      " 371.3446953  355.02249741]\n",
      "[351.56768333 358.09016791 357.18559591 352.73473012 352.73570983\n",
      " 352.73715579 352.77728074 352.84346384 353.68556101 356.51572339\n",
      " 371.76113147 354.94872166]\n",
      "[351.56769232 358.46609056 357.48445749 352.73836809 352.71689867\n",
      " 352.80428188 352.5727212  353.44967684 352.03252803 360.30164889\n",
      " 368.22271386 356.7717272 ]\n",
      "[351.56771855 358.53295775 357.53432879 352.74897888 352.66143281\n",
      " 352.99870199 351.96357453 355.32531545 347.24949664 370.38654018\n",
      " 354.48316589 362.09391171]\n",
      "[351.56773566 358.61651847 357.60089772 352.75255281 352.62457662\n",
      " 353.12809114 351.55983381 356.62097791 343.76759838 377.09393105\n",
      " 345.66750561 365.52721898]\n",
      "[351.56768034 358.61643654 357.60428586 352.73457816 352.74182858\n",
      " 352.71336956 352.85483812 352.61571474 354.49305921 355.41671443\n",
      " 375.01924112 354.32680735]\n",
      "[351.56768353 357.99264492 357.1080444  352.73474207 352.73557683\n",
      " 352.73786731 352.77083967 352.85891482 353.62594658 356.5456615\n",
      " 371.34932431 354.99407847]\n",
      "[351.56768335 358.05665581 357.1589471  352.73473122 352.73568548\n",
      " 352.7372506  352.77677213 352.84664721 353.67223948 356.50659789\n",
      " 371.64491883 354.95394454]\n",
      "[351.56768892 358.37671985 357.41341706 352.73502682 352.72694403\n",
      " 352.77776034 352.65094783 353.22048185 352.66804377 358.89860235\n",
      " 369.73225182 356.07967276]\n",
      "[351.56770384 358.43364075 357.45546841 352.74214686 352.69608388\n",
      " 352.88897449 352.3098176  354.22486768 349.94918652 364.73032943\n",
      " 362.02078856 359.11877323]\n",
      "[351.56771169 358.50477586 357.51219132 352.74528036 352.67854065\n",
      " 352.94451026 352.13072583 354.79436188 348.58012261 367.66979509\n",
      " 358.11589167 360.7042392 ]\n",
      "[351.5676827  358.50473295 357.51541441 352.73448494 352.73967816\n",
      " 352.72835218 352.79783206 352.79486914 353.90481295 356.46981999\n",
      " 373.39109216 354.80223957]\n",
      "[351.5676837  358.63703981 357.62061649 352.73453685 352.73556114\n",
      " 352.73837012 352.77673658 352.86510361 353.72744055 356.94656067\n",
      " 373.28654812 354.99821231]\n",
      "[351.56768345 358.70319212 357.67322261 352.73452211 352.73574674\n",
      " 352.73743616 352.78079289 352.84928486 353.79312168 356.87058636\n",
      " 373.63682132 354.94118636]\n",
      "[351.56769087 359.03396649 357.93619531 352.73491212 352.72188048\n",
      " 352.79183574 352.60642665 353.38489906 352.3464214  360.10755427\n",
      " 370.74321197 356.43601684]\n",
      "[351.56771114 359.09279875 357.97972572 352.74546637 352.6791871\n",
      " 352.94704391 352.10627886 354.911893   348.43446343 368.23200628\n",
      " 359.98166952 360.56639791]\n",
      "[351.56772221 359.16631808 358.03832689 352.74852495 352.65506647\n",
      " 353.03137363 351.8323724  355.80092289 346.21196492 372.64991477\n",
      " 354.1726784  362.85211962]\n"
     ]
    },
    {
     "name": "stdout",
     "output_type": "stream",
     "text": [
      "[351.56768228 359.1662592  358.04161904 352.73407936 352.7401799\n",
      " 352.726308   352.81700869 352.75366894 354.17673363 356.5387436\n",
      " 375.76907229 354.66799217]\n",
      "[351.56768374 359.29856673 358.14681807 352.73415605 352.73552617\n",
      " 352.7384374  352.78300941 352.86618928 353.87290488 357.26998651\n",
      " 375.36779435 354.96783075]\n",
      "[351.56768335 359.36471884 358.19942511 352.7341338  352.73903587\n",
      " 352.73057226 352.79526058 352.83750093 353.97355847 357.11946954\n",
      " 375.81525438 354.87326945]\n",
      "[351.56769422 359.69549836 358.46237421 352.73787619 352.71450224\n",
      " 352.81716665 352.52065072 353.68232989 351.59793008 362.2742731\n",
      " 370.47844235 357.27267437]\n",
      "[351.56772407 359.75434494 358.50583878 352.74872521 352.65641853\n",
      " 353.04311681 351.75764182 356.21575534 344.90226661 375.6806316\n",
      " 352.69091126 363.93247244]\n",
      "[351.56774046 359.82787222 358.56440324 352.75233286 352.61893126\n",
      " 353.17746476 351.2646068  357.75407456 340.84564299 383.23343135\n",
      " 342.86688754 367.62571776]\n",
      "[351.56768152 359.82778492 358.56782618 352.73404005 352.74100337\n",
      " 352.7165093  352.85856408 352.6624369  354.57288053 356.34595864\n",
      " 378.49318239 354.39867454]\n",
      "[351.56768353 359.27960873 358.13174438 352.73414506 352.73574035\n",
      " 352.7376047  352.78561769 352.85099147 353.91819496 357.16396779\n",
      " 375.42474955 354.92536552]\n",
      "[351.56768333 359.33628228 358.17681256 352.73413344 352.73904173\n",
      " 352.73055437 352.79505698 352.83674341 353.97103998 357.0993796\n",
      " 375.72961402 354.8737954 ]\n",
      "[351.56769028 359.61966176 358.40210025 352.73450508 352.72796396\n",
      " 352.78232817 352.62217527 353.37697916 352.45933719 360.43584339\n",
      " 372.56667914 356.39790891]\n",
      "[351.56770769 359.6700643  358.43894828 352.74492509 352.68876936\n",
      " 352.91705462 352.17912843 354.78968231 348.73998715 368.19694131\n",
      " 362.32063007 360.29746332]\n",
      "[351.56771544 359.73304674 358.48916349 352.74475461 352.67409533\n",
      " 352.9776746  351.97947526 355.45458705 347.10665503 371.54643776\n",
      " 357.86663982 362.06079547]\n",
      "[351.5676833  359.7329991  358.49241607 352.7337108  352.74004478\n",
      " 352.72928314 352.80343007 352.8253369  354.08542794 357.23044213\n",
      " 377.06925029 354.81994896]\n",
      "[351.56768408 359.84999865 358.58544755 352.73375166 352.73613409\n",
      " 352.73864214 352.78124214 352.89151688 353.91781224 357.67271534\n",
      " 376.97126592 354.98850637]\n",
      "[351.56768395 359.90849764 358.63196681 352.73374364 352.73619859\n",
      " 352.7381963  352.78661154 352.87987561 353.96047809 357.6355863\n",
      " 377.24432292 354.95176163]\n",
      "[351.56768852 360.20100038 358.86452783 352.73398911 352.72839393\n",
      " 352.77258321 352.67080738 353.253926   352.91910254 360.03118104\n",
      " 375.31508838 356.01954739]\n",
      "[351.56770012 360.25301689 358.90579905 352.73778268 352.70386424\n",
      " 352.86730168 352.36524721 354.19791859 350.28277586 365.63293707\n",
      " 368.07927979 358.80177733]\n",
      "[351.56770553 360.31802405 358.95435496 352.74419383 352.68853746\n",
      " 352.91168476 352.2205972  354.67517114 349.1192055  368.13014668\n",
      " 364.81959107 360.11992336]\n",
      "[351.56768383 360.31799182 358.95750079 352.73378331 352.73947996\n",
      " 352.73433915 352.79521653 352.86166499 354.08345128 357.76837565\n",
      " 378.65088078 354.88370016]\n",
      "[351.56768446 360.44539191 359.05880396 352.73381589 352.73575435\n",
      " 352.74000965 352.7810362  352.9169779  353.95220766 358.1420412\n",
      " 378.67085134 355.02428282]\n",
      "[351.56768432 360.50909129 359.10945859 352.73380755 352.73581507\n",
      " 352.73943428 352.7867864  352.90510589 353.99693283 358.10529253\n",
      " 378.96160767 354.98754303]\n",
      "[351.56768856 360.82759554 359.3626982  352.73403754 352.72836659\n",
      " 352.77348637 352.67209141 353.26633256 353.01791438 360.38871463\n",
      " 377.26470789 356.00607769]\n",
      "[351.56769986 360.88423425 359.40764668 352.73782058 352.7041428\n",
      " 352.86954154 352.35839345 354.22398373 350.38595551 365.93261713\n",
      " 370.12556318 358.77055676]\n",
      "[351.56770582 360.95502043 359.4607936  352.7442455  352.68812525\n",
      " 352.91993482 352.19712531 354.75849828 349.08070624 368.71518042\n",
      " 366.50105018 360.23265891]\n",
      "[351.56768385 360.95498768 359.46393377 352.73383216 352.73950035\n",
      " 352.73088805 352.80719923 352.85946415 354.20705211 358.09143965\n",
      " 380.68513624 354.84523162]\n",
      "[351.56768463 361.08852305 359.57011434 352.73387414 352.73557111\n",
      " 352.74034246 352.78431098 352.92978837 354.0417898  358.54597159\n",
      " 380.61541015 355.02899503]\n",
      "[351.56768443 361.15528983 359.62320873 352.73386161 352.73571504\n",
      " 352.73953122 352.79104224 352.91157613 354.1062605  358.47287627\n",
      " 380.96361498 354.97442004]\n",
      "[351.56769036 361.48913419 359.88863276 352.73418934 352.72616892\n",
      " 352.78731091 352.62828919 353.4198757  352.7203261  361.59141854\n",
      " 378.24173341 356.40685961]\n",
      "[351.56770673 361.54850719 359.93261969 352.74458045 352.68310431\n",
      " 352.93059659 352.17201977 354.86126898 348.95287176 369.43280055\n",
      " 367.89388265 360.38093891]\n",
      "[351.56771593 361.62270661 359.99177629 352.7475563  352.66403445\n",
      " 353.0076204  351.91214048 355.71547069 346.82255916 373.7190031\n",
      " 362.23330007 362.61263067]\n"
     ]
    },
    {
     "ename": "KeyboardInterrupt",
     "evalue": "",
     "output_type": "error",
     "traceback": [
      "\u001b[1;31m---------------------------------------------------------------------------\u001b[0m",
      "\u001b[1;31mKeyboardInterrupt\u001b[0m                         Traceback (most recent call last)",
      "\u001b[1;32m<ipython-input-145-ee6ed0233fe1>\u001b[0m in \u001b[0;36m<module>\u001b[1;34m\u001b[0m\n\u001b[0;32m      2\u001b[0m \u001b[0mtspan\u001b[0m \u001b[1;33m=\u001b[0m \u001b[1;33m(\u001b[0m\u001b[1;36m0\u001b[0m\u001b[1;33m,\u001b[0m\u001b[1;36m50\u001b[0m\u001b[1;33m)\u001b[0m\u001b[1;33m\u001b[0m\u001b[1;33m\u001b[0m\u001b[0m\n\u001b[0;32m      3\u001b[0m \u001b[0mt\u001b[0m \u001b[1;33m=\u001b[0m \u001b[0mnp\u001b[0m\u001b[1;33m.\u001b[0m\u001b[0mlinspace\u001b[0m\u001b[1;33m(\u001b[0m \u001b[1;33m*\u001b[0m\u001b[0mtspan\u001b[0m\u001b[1;33m,\u001b[0m \u001b[1;36m100\u001b[0m\u001b[1;33m)\u001b[0m\u001b[1;33m\u001b[0m\u001b[1;33m\u001b[0m\u001b[0m\n\u001b[1;32m----> 4\u001b[1;33m \u001b[0minitial_run\u001b[0m \u001b[1;33m=\u001b[0m \u001b[0mscipy\u001b[0m\u001b[1;33m.\u001b[0m\u001b[0mintegrate\u001b[0m\u001b[1;33m.\u001b[0m\u001b[0msolve_ivp\u001b[0m\u001b[1;33m(\u001b[0m\u001b[0mmass_DE\u001b[0m\u001b[1;33m,\u001b[0m \u001b[0mtspan\u001b[0m\u001b[1;33m,\u001b[0m \u001b[0minit\u001b[0m\u001b[1;33m,\u001b[0m \u001b[0mt_eval\u001b[0m\u001b[1;33m=\u001b[0m\u001b[0mt\u001b[0m\u001b[1;33m)\u001b[0m\u001b[1;33m\u001b[0m\u001b[1;33m\u001b[0m\u001b[0m\n\u001b[0m",
      "\u001b[1;32m~\\Anaconda3\\lib\\site-packages\\scipy\\integrate\\_ivp\\ivp.py\u001b[0m in \u001b[0;36msolve_ivp\u001b[1;34m(fun, t_span, y0, method, t_eval, dense_output, events, vectorized, **options)\u001b[0m\n\u001b[0;32m    479\u001b[0m     \u001b[0mstatus\u001b[0m \u001b[1;33m=\u001b[0m \u001b[1;32mNone\u001b[0m\u001b[1;33m\u001b[0m\u001b[1;33m\u001b[0m\u001b[0m\n\u001b[0;32m    480\u001b[0m     \u001b[1;32mwhile\u001b[0m \u001b[0mstatus\u001b[0m \u001b[1;32mis\u001b[0m \u001b[1;32mNone\u001b[0m\u001b[1;33m:\u001b[0m\u001b[1;33m\u001b[0m\u001b[1;33m\u001b[0m\u001b[0m\n\u001b[1;32m--> 481\u001b[1;33m         \u001b[0mmessage\u001b[0m \u001b[1;33m=\u001b[0m \u001b[0msolver\u001b[0m\u001b[1;33m.\u001b[0m\u001b[0mstep\u001b[0m\u001b[1;33m(\u001b[0m\u001b[1;33m)\u001b[0m\u001b[1;33m\u001b[0m\u001b[1;33m\u001b[0m\u001b[0m\n\u001b[0m\u001b[0;32m    482\u001b[0m \u001b[1;33m\u001b[0m\u001b[0m\n\u001b[0;32m    483\u001b[0m         \u001b[1;32mif\u001b[0m \u001b[0msolver\u001b[0m\u001b[1;33m.\u001b[0m\u001b[0mstatus\u001b[0m \u001b[1;33m==\u001b[0m \u001b[1;34m'finished'\u001b[0m\u001b[1;33m:\u001b[0m\u001b[1;33m\u001b[0m\u001b[1;33m\u001b[0m\u001b[0m\n",
      "\u001b[1;32m~\\Anaconda3\\lib\\site-packages\\scipy\\integrate\\_ivp\\base.py\u001b[0m in \u001b[0;36mstep\u001b[1;34m(self)\u001b[0m\n\u001b[0;32m    180\u001b[0m         \u001b[1;32melse\u001b[0m\u001b[1;33m:\u001b[0m\u001b[1;33m\u001b[0m\u001b[1;33m\u001b[0m\u001b[0m\n\u001b[0;32m    181\u001b[0m             \u001b[0mt\u001b[0m \u001b[1;33m=\u001b[0m \u001b[0mself\u001b[0m\u001b[1;33m.\u001b[0m\u001b[0mt\u001b[0m\u001b[1;33m\u001b[0m\u001b[1;33m\u001b[0m\u001b[0m\n\u001b[1;32m--> 182\u001b[1;33m             \u001b[0msuccess\u001b[0m\u001b[1;33m,\u001b[0m \u001b[0mmessage\u001b[0m \u001b[1;33m=\u001b[0m \u001b[0mself\u001b[0m\u001b[1;33m.\u001b[0m\u001b[0m_step_impl\u001b[0m\u001b[1;33m(\u001b[0m\u001b[1;33m)\u001b[0m\u001b[1;33m\u001b[0m\u001b[1;33m\u001b[0m\u001b[0m\n\u001b[0m\u001b[0;32m    183\u001b[0m \u001b[1;33m\u001b[0m\u001b[0m\n\u001b[0;32m    184\u001b[0m             \u001b[1;32mif\u001b[0m \u001b[1;32mnot\u001b[0m \u001b[0msuccess\u001b[0m\u001b[1;33m:\u001b[0m\u001b[1;33m\u001b[0m\u001b[1;33m\u001b[0m\u001b[0m\n",
      "\u001b[1;32m~\\Anaconda3\\lib\\site-packages\\scipy\\integrate\\_ivp\\rk.py\u001b[0m in \u001b[0;36m_step_impl\u001b[1;34m(self)\u001b[0m\n\u001b[0;32m    141\u001b[0m \u001b[1;33m\u001b[0m\u001b[0m\n\u001b[0;32m    142\u001b[0m             y_new, f_new, error = rk_step(self.fun, t, y, self.f, h, self.A,\n\u001b[1;32m--> 143\u001b[1;33m                                           self.B, self.C, self.E, self.K)\n\u001b[0m\u001b[0;32m    144\u001b[0m             \u001b[0mscale\u001b[0m \u001b[1;33m=\u001b[0m \u001b[0matol\u001b[0m \u001b[1;33m+\u001b[0m \u001b[0mnp\u001b[0m\u001b[1;33m.\u001b[0m\u001b[0mmaximum\u001b[0m\u001b[1;33m(\u001b[0m\u001b[0mnp\u001b[0m\u001b[1;33m.\u001b[0m\u001b[0mabs\u001b[0m\u001b[1;33m(\u001b[0m\u001b[0my\u001b[0m\u001b[1;33m)\u001b[0m\u001b[1;33m,\u001b[0m \u001b[0mnp\u001b[0m\u001b[1;33m.\u001b[0m\u001b[0mabs\u001b[0m\u001b[1;33m(\u001b[0m\u001b[0my_new\u001b[0m\u001b[1;33m)\u001b[0m\u001b[1;33m)\u001b[0m \u001b[1;33m*\u001b[0m \u001b[0mrtol\u001b[0m\u001b[1;33m\u001b[0m\u001b[1;33m\u001b[0m\u001b[0m\n\u001b[0;32m    145\u001b[0m             \u001b[0merror_norm\u001b[0m \u001b[1;33m=\u001b[0m \u001b[0mnorm\u001b[0m\u001b[1;33m(\u001b[0m\u001b[0merror\u001b[0m \u001b[1;33m/\u001b[0m \u001b[0mscale\u001b[0m\u001b[1;33m)\u001b[0m\u001b[1;33m\u001b[0m\u001b[1;33m\u001b[0m\u001b[0m\n",
      "\u001b[1;32m~\\Anaconda3\\lib\\site-packages\\scipy\\integrate\\_ivp\\rk.py\u001b[0m in \u001b[0;36mrk_step\u001b[1;34m(fun, t, y, f, h, A, B, C, E, K)\u001b[0m\n\u001b[0;32m     71\u001b[0m \u001b[1;33m\u001b[0m\u001b[0m\n\u001b[0;32m     72\u001b[0m     \u001b[0my_new\u001b[0m \u001b[1;33m=\u001b[0m \u001b[0my\u001b[0m \u001b[1;33m+\u001b[0m \u001b[0mh\u001b[0m \u001b[1;33m*\u001b[0m \u001b[0mnp\u001b[0m\u001b[1;33m.\u001b[0m\u001b[0mdot\u001b[0m\u001b[1;33m(\u001b[0m\u001b[0mK\u001b[0m\u001b[1;33m[\u001b[0m\u001b[1;33m:\u001b[0m\u001b[1;33m-\u001b[0m\u001b[1;36m1\u001b[0m\u001b[1;33m]\u001b[0m\u001b[1;33m.\u001b[0m\u001b[0mT\u001b[0m\u001b[1;33m,\u001b[0m \u001b[0mB\u001b[0m\u001b[1;33m)\u001b[0m\u001b[1;33m\u001b[0m\u001b[1;33m\u001b[0m\u001b[0m\n\u001b[1;32m---> 73\u001b[1;33m     \u001b[0mf_new\u001b[0m \u001b[1;33m=\u001b[0m \u001b[0mfun\u001b[0m\u001b[1;33m(\u001b[0m\u001b[0mt\u001b[0m \u001b[1;33m+\u001b[0m \u001b[0mh\u001b[0m\u001b[1;33m,\u001b[0m \u001b[0my_new\u001b[0m\u001b[1;33m)\u001b[0m\u001b[1;33m\u001b[0m\u001b[1;33m\u001b[0m\u001b[0m\n\u001b[0m\u001b[0;32m     74\u001b[0m \u001b[1;33m\u001b[0m\u001b[0m\n\u001b[0;32m     75\u001b[0m     \u001b[0mK\u001b[0m\u001b[1;33m[\u001b[0m\u001b[1;33m-\u001b[0m\u001b[1;36m1\u001b[0m\u001b[1;33m]\u001b[0m \u001b[1;33m=\u001b[0m \u001b[0mf_new\u001b[0m\u001b[1;33m\u001b[0m\u001b[1;33m\u001b[0m\u001b[0m\n",
      "\u001b[1;32m~\\Anaconda3\\lib\\site-packages\\scipy\\integrate\\_ivp\\base.py\u001b[0m in \u001b[0;36mfun\u001b[1;34m(t, y)\u001b[0m\n\u001b[0;32m    137\u001b[0m         \u001b[1;32mdef\u001b[0m \u001b[0mfun\u001b[0m\u001b[1;33m(\u001b[0m\u001b[0mt\u001b[0m\u001b[1;33m,\u001b[0m \u001b[0my\u001b[0m\u001b[1;33m)\u001b[0m\u001b[1;33m:\u001b[0m\u001b[1;33m\u001b[0m\u001b[1;33m\u001b[0m\u001b[0m\n\u001b[0;32m    138\u001b[0m             \u001b[0mself\u001b[0m\u001b[1;33m.\u001b[0m\u001b[0mnfev\u001b[0m \u001b[1;33m+=\u001b[0m \u001b[1;36m1\u001b[0m\u001b[1;33m\u001b[0m\u001b[1;33m\u001b[0m\u001b[0m\n\u001b[1;32m--> 139\u001b[1;33m             \u001b[1;32mreturn\u001b[0m \u001b[0mself\u001b[0m\u001b[1;33m.\u001b[0m\u001b[0mfun_single\u001b[0m\u001b[1;33m(\u001b[0m\u001b[0mt\u001b[0m\u001b[1;33m,\u001b[0m \u001b[0my\u001b[0m\u001b[1;33m)\u001b[0m\u001b[1;33m\u001b[0m\u001b[1;33m\u001b[0m\u001b[0m\n\u001b[0m\u001b[0;32m    140\u001b[0m \u001b[1;33m\u001b[0m\u001b[0m\n\u001b[0;32m    141\u001b[0m         \u001b[0mself\u001b[0m\u001b[1;33m.\u001b[0m\u001b[0mfun\u001b[0m \u001b[1;33m=\u001b[0m \u001b[0mfun\u001b[0m\u001b[1;33m\u001b[0m\u001b[1;33m\u001b[0m\u001b[0m\n",
      "\u001b[1;32m~\\Anaconda3\\lib\\site-packages\\scipy\\integrate\\_ivp\\base.py\u001b[0m in \u001b[0;36mfun_wrapped\u001b[1;34m(t, y)\u001b[0m\n\u001b[0;32m     19\u001b[0m \u001b[1;33m\u001b[0m\u001b[0m\n\u001b[0;32m     20\u001b[0m     \u001b[1;32mdef\u001b[0m \u001b[0mfun_wrapped\u001b[0m\u001b[1;33m(\u001b[0m\u001b[0mt\u001b[0m\u001b[1;33m,\u001b[0m \u001b[0my\u001b[0m\u001b[1;33m)\u001b[0m\u001b[1;33m:\u001b[0m\u001b[1;33m\u001b[0m\u001b[1;33m\u001b[0m\u001b[0m\n\u001b[1;32m---> 21\u001b[1;33m         \u001b[1;32mreturn\u001b[0m \u001b[0mnp\u001b[0m\u001b[1;33m.\u001b[0m\u001b[0masarray\u001b[0m\u001b[1;33m(\u001b[0m\u001b[0mfun\u001b[0m\u001b[1;33m(\u001b[0m\u001b[0mt\u001b[0m\u001b[1;33m,\u001b[0m \u001b[0my\u001b[0m\u001b[1;33m)\u001b[0m\u001b[1;33m,\u001b[0m \u001b[0mdtype\u001b[0m\u001b[1;33m=\u001b[0m\u001b[0mdtype\u001b[0m\u001b[1;33m)\u001b[0m\u001b[1;33m\u001b[0m\u001b[1;33m\u001b[0m\u001b[0m\n\u001b[0m\u001b[0;32m     22\u001b[0m \u001b[1;33m\u001b[0m\u001b[0m\n\u001b[0;32m     23\u001b[0m     \u001b[1;32mreturn\u001b[0m \u001b[0mfun_wrapped\u001b[0m\u001b[1;33m,\u001b[0m \u001b[0my0\u001b[0m\u001b[1;33m\u001b[0m\u001b[1;33m\u001b[0m\u001b[0m\n",
      "\u001b[1;32m<ipython-input-143-a1e4a3fcfc00>\u001b[0m in \u001b[0;36mmass_DE\u001b[1;34m(t, var)\u001b[0m\n\u001b[0;32m     33\u001b[0m \u001b[1;33m\u001b[0m\u001b[0m\n\u001b[0;32m     34\u001b[0m     \u001b[0mHL\u001b[0m\u001b[1;33m,\u001b[0m\u001b[0mHL1\u001b[0m\u001b[1;33m,\u001b[0m \u001b[0mHL2\u001b[0m\u001b[1;33m,\u001b[0m \u001b[0mHV\u001b[0m\u001b[1;33m,\u001b[0m \u001b[0mHV1\u001b[0m\u001b[1;33m,\u001b[0m \u001b[0mHV2\u001b[0m\u001b[1;33m,\u001b[0m \u001b[0mHi_F\u001b[0m \u001b[1;33m=\u001b[0m \u001b[0mH\u001b[0m\u001b[1;33m(\u001b[0m\u001b[0mxi\u001b[0m\u001b[1;33m,\u001b[0m\u001b[0myi\u001b[0m\u001b[1;33m,\u001b[0m\u001b[0mTi\u001b[0m\u001b[1;33m)\u001b[0m\u001b[1;33m\u001b[0m\u001b[1;33m\u001b[0m\u001b[0m\n\u001b[1;32m---> 35\u001b[1;33m     \u001b[0mCPi\u001b[0m \u001b[1;33m=\u001b[0m \u001b[0mCp\u001b[0m\u001b[1;33m(\u001b[0m\u001b[0mxi\u001b[0m\u001b[1;33m)\u001b[0m\u001b[1;33m\u001b[0m\u001b[1;33m\u001b[0m\u001b[0m\n\u001b[0m\u001b[0;32m     36\u001b[0m \u001b[1;33m\u001b[0m\u001b[0m\n\u001b[0;32m     37\u001b[0m \u001b[1;31m#     duty_vector = duty(plates,feedplate,cond_duty(-15,30),rebl_duty(-0.8,60))\u001b[0m\u001b[1;33m\u001b[0m\u001b[1;33m\u001b[0m\u001b[1;33m\u001b[0m\u001b[0m\n",
      "\u001b[1;32m<ipython-input-15-4743f61a4722>\u001b[0m in \u001b[0;36mCp\u001b[1;34m(xi)\u001b[0m\n\u001b[0;32m      3\u001b[0m \u001b[1;33m\u001b[0m\u001b[0m\n\u001b[0;32m      4\u001b[0m     \u001b[1;32mfor\u001b[0m \u001b[0mi\u001b[0m \u001b[1;32min\u001b[0m \u001b[0mrange\u001b[0m\u001b[1;33m(\u001b[0m\u001b[0mlen\u001b[0m\u001b[1;33m(\u001b[0m\u001b[0mxi\u001b[0m\u001b[1;33m)\u001b[0m\u001b[1;33m)\u001b[0m\u001b[1;33m:\u001b[0m\u001b[1;33m\u001b[0m\u001b[1;33m\u001b[0m\u001b[0m\n\u001b[1;32m----> 5\u001b[1;33m         \u001b[0mCPi\u001b[0m\u001b[1;33m.\u001b[0m\u001b[0mappend\u001b[0m\u001b[1;33m(\u001b[0m\u001b[0mCP\u001b[0m\u001b[1;33m.\u001b[0m\u001b[0mPropsSI\u001b[0m\u001b[1;33m(\u001b[0m\u001b[1;34m'CPMOLAR'\u001b[0m\u001b[1;33m,\u001b[0m\u001b[1;34m'Q'\u001b[0m\u001b[1;33m,\u001b[0m\u001b[1;36m0\u001b[0m\u001b[1;33m,\u001b[0m\u001b[1;34m'P'\u001b[0m\u001b[1;33m,\u001b[0m\u001b[1;36m101325\u001b[0m\u001b[1;33m,\u001b[0m\u001b[1;34mf'Ethanol[{xi[i]}]&Water[{1-xi[i]}]'\u001b[0m\u001b[1;33m)\u001b[0m\u001b[1;33m)\u001b[0m\u001b[1;33m\u001b[0m\u001b[1;33m\u001b[0m\u001b[0m\n\u001b[0m\u001b[0;32m      6\u001b[0m     \u001b[1;32mreturn\u001b[0m \u001b[0mnp\u001b[0m\u001b[1;33m.\u001b[0m\u001b[0masarray\u001b[0m\u001b[1;33m(\u001b[0m\u001b[0mCPi\u001b[0m\u001b[1;33m)\u001b[0m\u001b[1;33m\u001b[0m\u001b[1;33m\u001b[0m\u001b[0m\n",
      "\u001b[1;31mKeyboardInterrupt\u001b[0m: "
     ]
    }
   ],
   "source": [
    "# %%debug\n",
    "tspan = (0,50)\n",
    "t = np.linspace( *tspan, 100)\n",
    "initial_run = scipy.integrate.solve_ivp(mass_DE, tspan, init, t_eval=t)"
   ]
  },
  {
   "cell_type": "code",
   "execution_count": 142,
   "metadata": {},
   "outputs": [
    {
     "data": {
      "text/plain": [
       "array([354.98897732, 354.98897732, 354.98897732, 354.98897732,\n",
       "       354.98897732, 354.98897732, 354.98897732, 354.98897732,\n",
       "       354.98897732, 354.98897732, 354.98897732, 354.98897732,\n",
       "       354.98897732, 354.98897732, 354.98897732, 354.98897732,\n",
       "       354.98897732, 354.98897732, 354.98897732, 354.98897732,\n",
       "       354.98897732, 354.98897732, 354.98897732, 354.98897732,\n",
       "       354.98897732, 354.98897732, 354.98897732, 354.98897732,\n",
       "       354.98897732, 354.98897732, 354.98897732, 354.98897732,\n",
       "       354.98897732, 354.98897732, 354.98897732, 354.98897732,\n",
       "       354.98897732, 354.98897732, 354.98897732, 354.98897732,\n",
       "       354.98897732, 354.98897732, 354.98897732, 354.98897732,\n",
       "       354.98897732, 354.98897732, 354.98897732, 354.98897732,\n",
       "       354.98897732, 354.98897732, 354.98897732, 354.98897732,\n",
       "       354.98897732, 354.98897732, 354.98897732, 354.98897732,\n",
       "       354.98897732, 354.98897732, 354.98897732, 354.98897732,\n",
       "       354.98897732, 354.98897732, 354.98897732, 354.98897732,\n",
       "       354.98897732, 354.98897732, 354.98897732, 354.98897732,\n",
       "       354.98897732, 354.98897732, 354.98897732, 354.98897732,\n",
       "       354.98897732, 354.98897732, 354.98897732, 354.98897732,\n",
       "       354.98897732, 354.98897732, 354.98897732, 354.98897732,\n",
       "       354.98897732, 354.98897732, 354.98897732, 354.98897732,\n",
       "       354.98897732, 354.98897732, 354.98897732, 354.98897732,\n",
       "       354.98897732, 354.98897732, 354.98897732, 354.98897732,\n",
       "       354.98897732, 354.98897732, 354.98897732, 354.98897732,\n",
       "       354.98897732, 354.98897732, 354.98897732, 354.98897732])"
      ]
     },
     "execution_count": 142,
     "metadata": {},
     "output_type": "execute_result"
    }
   ],
   "source": [
    "x = initial_run.y\n",
    "x[23,:]"
   ]
  },
  {
   "cell_type": "code",
   "execution_count": 131,
   "metadata": {},
   "outputs": [
    {
     "name": "stdout",
     "output_type": "stream",
     "text": [
      "0.7133221781854008 0.28662984355735077\n"
     ]
    },
    {
     "data": {
      "image/png": "[encoded data removed]",
      "text/plain": [
       "<Figure size 432x288 with 1 Axes>"
      ]
     },
     "metadata": {
      "needs_background": "light"
     },
     "output_type": "display_data"
    }
   ],
   "source": [
    "plt.figure(1)\n",
    "plt.title(\"Initial steady state calculation\")\n",
    "\n",
    "for i in range(12,24) :\n",
    "    plt.plot(np.linspace(0,100,100),initial_run.y[i], label=\"x{}\".format(i))\n",
    "    \n",
    "plt.xlabel(\"Time [min]\")\n",
    "plt.ylabel(\"Composition [$x_{eth}$]\")\n",
    "plt.legend(loc = \"upper right\")\n",
    "plt.savefig(\"Basic_distillation_column_V3.svg\")\n",
    "print(initial_run.y[0,-1],initial_run.y[11,-1])"
   ]
  },
  {
   "cell_type": "markdown",
   "metadata": {},
   "source": [
    "# Consistency plot of model\n",
    "\n",
    "The idea to assume CMO and constant hold up creates a scenario where mass is \"created\" to fulfill both the criterias. The plot below will show that there accumulation occuring in the column increases yet the mass balance decreases to zero. These two are thus contradictory because the mass balance should produce the exact same accumulation.\n",
    "\n",
    "The mass balance is calculated as follows:\n",
    "\n",
    "$M_{t}\\frac{dx_t}{dt} = x_FF -x_BB - x_DD $\n",
    "\n",
    "And the accumulation is calculated as follows:\n",
    "\n",
    "$M_{t}\\frac{dx_t}{dt} = \\sum{M_i\\frac{dx_i}{dt}}$\n",
    "\n",
    "where \n",
    "- $M_t$ is the total mass accumulated in the column\n",
    "- $x_t$ is the mole fraction of the mass in the column\n",
    "- $M_i$ is the total mass accumulated on each tray $i$."
   ]
  },
  {
   "cell_type": "code",
   "execution_count": null,
   "metadata": {},
   "outputs": [],
   "source": [
    "L1 = R_r*D\n",
    "V = L1 + D\n",
    "L2 = F + L1\n",
    "\n",
    "\n",
    "holdup_vec = holdup_vector(plates,feedplate, m_cond,m_tray,m_rebl)\n",
    "\n",
    "moles_inside_column_at_zero = x[0:12,0]*holdup_vec\n",
    "\n",
    "moles_inside_column = (x[0,:]*m_cond + x[1,:]*m_tray + x[2,:]*m_tray + x[3,:]*m_tray + x[4,:]*m_tray + x[5,:]*m_tray\n",
    "                      + x[6,:]*m_tray+ x[7,:]*m_tray+ x[8,:]*m_tray+ x[9,:]*m_tray+ x[10,:]*m_tray+ x[11,:]*m_rebl -\n",
    "                      np.sum(moles_inside_column_at_zero)) \n",
    "\n",
    "\n",
    "# moles_inside_column_at_zero = (x0s[0]*m_cond+x1s[0]*m_tray+x2s[0]*m_tray+x3s[0]*m_tray+x4s[0]*m_tray+x5s[0]*m_tray+x6s[0]*m_tray+\n",
    "#                        x7s[0]*m_tray+x8s[0]*m_tray+x9s[0]*m_tray+x10s[0]*m_tray+x11s[0]*m_rebl)\n",
    "\n",
    "# This calculated the accumulation insie the column through summing the accumulation on each plate\n",
    "# moles_inside_column = (x0s*m_cond+x1s*m_tray+x2s*m_tray+x3s*m_tray+x4s*m_tray+x5s*m_tray+x6s*m_tray+\n",
    "#                        x7s*m_tray+x8s*m_tray+x9s*m_tray+x10s*m_tray+x11s*m_rebl) - moles_inside_column_at_zero\n",
    "\n",
    "\n",
    "\n",
    "# integral = []\n",
    "# for i in range(1,len(t)+1):\n",
    "#     dMtxtdt = xF*F3 - (D)*(x0s[0:i])- (L3-V)*x11s[0:i]\n",
    "#     integral.append(np.trapz(dMtxtdt,t[0:i]))\n",
    "\n",
    "\n",
    "\n",
    "# plt.figure(1)\n",
    "# plt.title(\"Consistency Plot\")\n",
    "# plt.xlabel(\"Time\")\n",
    "# plt.ylabel(\"Accumulation of mass\")\n",
    "# plt.plot(t,integral, label = \"Mole balance\")\n",
    "# plt.plot(t,moles_inside_column, label = \"Diff equations\")\n",
    "# plt.legend(loc=\"best\")\n",
    "# plt.savefig(\"consistency_plot.png\")\n",
    "# plt.figure(2)\n",
    "# plt.plot(t,abs(moles_inside_column-integral), label = \"Error\")\n",
    "# plt.xlabel(\"Time\")\n",
    "# plt.ylabel(\"Error\")\n",
    "# plt.savefig(\"consistency_plot_error.png\")"
   ]
  },
  {
   "cell_type": "code",
   "execution_count": null,
   "metadata": {},
   "outputs": [],
   "source": [
    "# Now lets ee if we can use the vector version for a different setup...\n",
    "\n",
    "plates = 20\n",
    "feedplate = 9\n",
    "\n",
    "init = [0.1,0.1,0.1,0.1,0.1,0.1,0.1,0.1,0.1,0.1,0.1,0.1,0.1,0.1,0.1,0.1,0.1,0.1,0.1,0.1]\n",
    "\n",
    "tspan = (0, 50)\n",
    "t = np.linspace( *tspan, 100)\n",
    "initial_run = scipy.integrate.solve_ivp(mass_DE, tspan, init, t_eval=t)\n",
    "\n",
    "x = initial_run.y\n",
    "\n",
    "for i in x:\n",
    "    plt.plot(t,i)\n"
   ]
  },
  {
   "cell_type": "code",
   "execution_count": null,
   "metadata": {},
   "outputs": [],
   "source": [
    "import CoolProp.CoolProp as CP\n",
    "import matplotlib.pyplot as plt\n",
    "\n",
    "HEOS = CP.AbstractState('HEOS', 'Ethanol&Water')\n",
    "\n",
    "for x0 in [0.02, 0.2, 0.4, 0.6, 0.8, 0.98]:\n",
    "    HEOS.set_mole_fractions([x0, 1 - x0])\n",
    "    try:\n",
    "        HEOS.build_phase_envelope(\"dummy\")\n",
    "        PE = HEOS.get_phase_envelope_data()\n",
    "        PELabel = 'Methane, x = ' + str(x0)\n",
    "        plt.plot(PE.T, PE.p, '-', label=PELabel)\n",
    "    except ValueError as VE:\n",
    "        print(VE)\n",
    "\n",
    "plt.xlabel('Temperature [K]')\n",
    "plt.ylabel('Pressure [Pa]')\n",
    "plt.yscale('log')\n",
    "plt.title('Phase Envelope for Methane/Ethane Mixtures')\n",
    "plt.legend(loc='lower right', shadow=True)\n",
    "plt.savefig('methane-ethane.pdf')\n",
    "plt.savefig('methane-ethane.png')\n",
    "plt.show()"
   ]
  },
  {
   "cell_type": "code",
   "execution_count": null,
   "metadata": {},
   "outputs": [],
   "source": [
    "SRK = CP.AbstractState('HEOS','Ethanol&Water')"
   ]
  },
  {
   "cell_type": "code",
   "execution_count": null,
   "metadata": {},
   "outputs": [],
   "source": [
    "import CoolProp.CoolProp as CP\n",
    "import matplotlib.pyplot as plt\n",
    "\n",
    "# Increase the starting pressure a bit, behavior at very low pressure is problematic\n",
    "CP.set_config_double(CP.PHASE_ENVELOPE_STARTING_PRESSURE_PA, 1e4)\n",
    "\n",
    "SRK = CP.AbstractState('HEOS','Water&Ethanol')\n",
    "SRK.set_mole_fractions([0.5, 1 - 0.5])\n",
    "for kij, c in zip([0.0, 0.1],['r','b']):\n",
    "\n",
    "    # Set the interaction parameter\n",
    "    SRK.set_binary_interaction_double(0, 1, \"kij\", kij)\n",
    "\n",
    "    # Some VLE calculations\n",
    "    for p in [1e5, 1e6]:\n",
    "        SRK.update(CP.PQ_INPUTS, p, 0)\n",
    "        plt.plot(SRK.T(), SRK.p(), '<', color = c)\n",
    "\n",
    "        SRK.update(CP.PQ_INPUTS, p, 1)\n",
    "        plt.plot(SRK.T(), SRK.p(), '>', color = c)\n",
    "\n",
    "    # Phase envelope\n",
    "    SRK.build_phase_envelope(\"\")\n",
    "    PE = SRK.get_phase_envelope_data()\n",
    "    plt.plot(PE.T, PE.p, '-', label = '$k_{ij} = $' + str(kij), color = c)\n",
    "\n",
    "    # Critical point\n",
    "    pts = SRK.all_critical_points()\n",
    "    for pt in pts:\n",
    "      plt.plot(pt.T, pt.p, '*', color = c)\n",
    "\n",
    "# A phase envelope calculated with SRK transformations in a multi-fluid model\n",
    "HEOS = CP.AbstractState('HEOS','Water-SRK&Ethanol-SRK')\n",
    "HEOS.set_mole_fractions([0.5, 0.5])\n",
    "HEOS.build_phase_envelope(\"none\")\n",
    "PE = HEOS.get_phase_envelope_data()\n",
    "plt.plot(PE.T, PE.p, '-', label = 'SRK with transformations in multi-fluid', color = 'g')\n",
    "\n",
    "plt.xlabel('Temperature [K]')\n",
    "plt.ylabel('Pressure [Pa]')\n",
    "plt.yscale('log')\n",
    "plt.legend(loc='best')\n",
    "plt.tight_layout()\n",
    "plt.show()"
   ]
  },
  {
   "cell_type": "code",
   "execution_count": null,
   "metadata": {},
   "outputs": [],
   "source": []
  }
 ],
 "metadata": {
  "kernelspec": {
   "display_name": "Python 3",
   "language": "python",
   "name": "python3"
  },
  "language_info": {
   "codemirror_mode": {
    "name": "ipython",
    "version": 3
   },
   "file_extension": ".py",
   "mimetype": "text/x-python",
   "name": "python",
   "nbconvert_exporter": "python",
   "pygments_lexer": "ipython3",
   "version": "3.7.3"
  }
 },
 "nbformat": 4,
 "nbformat_minor": 2
}
