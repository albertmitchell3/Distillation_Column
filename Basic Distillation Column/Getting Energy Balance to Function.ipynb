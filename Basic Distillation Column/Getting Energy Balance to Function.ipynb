{
 "cells": [
  {
   "cell_type": "markdown",
   "metadata": {},
   "source": [
    "# Establishing steady state and then getting energy balances to function"
   ]
  },
  {
   "cell_type": "code",
   "execution_count": 3,
   "metadata": {},
   "outputs": [],
   "source": [
    "import numpy as np\n",
    "import sympy\n",
    "from matplotlib import pyplot as plt\n",
    "import scipy\n",
    "import scipy.optimize\n",
    "import scipy.integrate\n",
    "import CoolProp\n",
    "import CoolProp.CoolProp as CP\n",
    "import pandas as pd"
   ]
  },
  {
   "cell_type": "code",
   "execution_count": 4,
   "metadata": {},
   "outputs": [],
   "source": [
    "def vle_data(xi):\n",
    "    \n",
    "    x_data = [0, 0.019, 0.0721, 0.0966, 0.1238, 0.1661, 0.2337, 0.2608, \n",
    "              0.3273, 0.3965, 0.5079, 0.5198, 0.5732, 0.6763, 0.7472, 0.8943, 1]\n",
    "    y_data = [0, 0.170, 0.3891, 0.4375, 0.4704, 0.5089, 0.5445, 0.5580, \n",
    "              0.5826, 0.6122, 0.6564, 0.6599, 0.6841, 0.7385, 0.7815, 0.8943, 1]\n",
    "    T_data = [100,95.5,89,86.7,85.3,84.1,82.7,82.3,81.5,80.7,79.8,79.7,79.3,\n",
    "             78.74,78.41,78.15,78.30]\n",
    "    x = np.interp(xi,x_data, y_data)\n",
    "    T = np.interp(xi,x_data,T_data)\n",
    "    return x,T"
   ]
  },
  {
   "cell_type": "code",
   "execution_count": 25,
   "metadata": {},
   "outputs": [],
   "source": [
    "def feed_vector(plates,feedplate,feed):\n",
    "    \n",
    "    L1 = R_r*D\n",
    "    V = L1 + D\n",
    "    L2 = F + L1\n",
    "    \n",
    "    R = V - L1\n",
    "    BU = L2 - V\n",
    "    \n",
    "    feed_vec1 = np.zeros(plates)\n",
    "    feed_vec2 = np.zeros(plates)\n",
    "    flow_vec_top = np.zeros(plates)\n",
    "    flow_vec_bot = np.zeros(plates)\n",
    "    \n",
    "    flow_vec_top[0:feedplate] = L1\n",
    "    flow_vec_top[feedplate:] = L2\n",
    "    \n",
    "    flow_vec_bot[0:feedplate-1] = L1\n",
    "    flow_vec_bot[feedplate-1:] = L2\n",
    "    \n",
    "    feed_vec1[feedplate-1] = feed\n",
    "    feed_vec2[0] = R\n",
    "    feed_vec2[-1] = BU\n",
    "    \n",
    "    return np.asarray([flow_vec_top,flow_vec_bot,feed_vec1,feed_vec2])"
   ]
  },
  {
   "cell_type": "code",
   "execution_count": 6,
   "metadata": {},
   "outputs": [],
   "source": [
    "def comp_vector(xi,yi):\n",
    "    \n",
    "    xi = np.asarray(xi)\n",
    "    yi = np.asarray(yi)\n",
    "    \n",
    "    xi1 = np.copy(xi)\n",
    "    xi1 = np.roll(xi1, 1)\n",
    "    xi1[0] = 0\n",
    "    \n",
    "    xi2 = np.copy(xi)\n",
    "    xi2[-1] = 0\n",
    "    \n",
    "    yi1 = np.copy(yi)\n",
    "    yi1 = np.roll(yi1, -1)\n",
    "    yi1[-1] = 0\n",
    "    \n",
    "    yi2 = np.copy(yi)\n",
    "    yi2[0] = 0\n",
    "    \n",
    "    \n",
    "    return np.asarray([xi1,xi2]),np.asarray([yi1,yi2])"
   ]
  },
  {
   "cell_type": "code",
   "execution_count": 7,
   "metadata": {},
   "outputs": [],
   "source": [
    "def holdup_vector(plates, m_cond,m_tray,m_rebl):\n",
    "    holdup_vec = np.zeros(plates)\n",
    "    \n",
    "    holdup_vec[0] = m_cond\n",
    "    holdup_vec[-1] = m_rebl\n",
    "    holdup_vec[1:plates-1] = m_tray\n",
    "    \n",
    "    return holdup_vec"
   ]
  },
  {
   "cell_type": "code",
   "execution_count": 26,
   "metadata": {},
   "outputs": [],
   "source": [
    "def mass_DE(t, x):\n",
    "    \n",
    "    xi = np.asarray(x)\n",
    "    yi,_ = vle_data(xi)\n",
    "    \n",
    "    L1 = R_r*D\n",
    "    V = L1 + D\n",
    "    L2 = F + L1\n",
    "    \n",
    "    R = V - L1\n",
    "    BU = L2 - V\n",
    "    \n",
    "    if t<15:\n",
    "        feedplate = 4\n",
    "    else:\n",
    "        feedplate = 4\n",
    "    \n",
    "    flow1, flow2, feed1, feed2 = feed_vector(plates,feedplate, F)\n",
    "    x1, y1 = comp_vector(xi,yi)\n",
    "    holdup_vec = holdup_vector(plates, m_cond,m_tray,m_rebl)\n",
    "    \n",
    "    dxdt = 1/holdup_vec * (V*(y1[0] - y1[1]) + flow1*x1[0] - flow2*x1[1] + feed1*xF  - feed2*xi)\n",
    "                     \n",
    "    return dxdt"
   ]
  },
  {
   "cell_type": "markdown",
   "metadata": {},
   "source": [
    "## Establishing an initial steady state vector "
   ]
  },
  {
   "cell_type": "code",
   "execution_count": 27,
   "metadata": {},
   "outputs": [],
   "source": [
    "init = [0.1, 0.1, 0.1, 0.1, 0.1, 0.1, 0.1, 0.1, 0.1, 0.1, 0.1, 0.1]\n",
    "\n",
    "plates = 12\n",
    "feedplate = 4\n",
    "\n",
    "F = 1 # Feed on plate 3\n",
    "D =0.5\n",
    "xF = 0.5 # mole fraction in feed\n",
    "R_r = 0.6 # reflux ratio\n",
    "m_cond = 0.15 # holdup in condenser\n",
    "m_tray = 0.2 # holdup on each tray\n",
    "m_rebl = 0.45 # holdup in reboiler"
   ]
  },
  {
   "cell_type": "code",
   "execution_count": 28,
   "metadata": {},
   "outputs": [],
   "source": [
    "tspan = (0,50)\n",
    "t = np.linspace( *tspan, 100)\n",
    "initial_run = scipy.integrate.solve_ivp(mass_DE, tspan, init, t_eval=t)"
   ]
  },
  {
   "cell_type": "code",
   "execution_count": 29,
   "metadata": {},
   "outputs": [],
   "source": [
    "x = initial_run.y"
   ]
  },
  {
   "cell_type": "code",
   "execution_count": 30,
   "metadata": {},
   "outputs": [
    {
     "name": "stdout",
     "output_type": "stream",
     "text": [
      "[0.71332218 0.62858247 0.56756165 0.51559062 0.51558868 0.51557352\n",
      " 0.51550557 0.51508155 0.51288654 0.50231758 0.4596435  0.28665376]\n"
     ]
    },
    {
     "data": {
      "image/png": "[encoded data removed]",
      "text/plain": [
       "<Figure size 432x288 with 1 Axes>"
      ]
     },
     "metadata": {
      "needs_background": "light"
     },
     "output_type": "display_data"
    }
   ],
   "source": [
    "plt.figure(1)\n",
    "plt.title(\"Initial steady state calculation\")\n",
    "\n",
    "for i in range(len(initial_run.y)) :\n",
    "    plt.plot(t,initial_run.y[i], label=\"x{}\".format(i))\n",
    "    \n",
    "plt.xlabel(\"Time [min]\")\n",
    "plt.ylabel(\"Composition [$x_{eth}$]\")\n",
    "plt.legend(loc = \"upper right\")\n",
    "\n",
    "plt.savefig(\"Basic_distillation_column_V3.svg\")\n",
    "print(x[:,-1])"
   ]
  },
  {
   "cell_type": "code",
   "execution_count": 229,
   "metadata": {},
   "outputs": [
    {
     "data": {
      "text/html": [
       "<div>\n",
       "<style scoped>\n",
       "    .dataframe tbody tr th:only-of-type {\n",
       "        vertical-align: middle;\n",
       "    }\n",
       "\n",
       "    .dataframe tbody tr th {\n",
       "        vertical-align: top;\n",
       "    }\n",
       "\n",
       "    .dataframe thead th {\n",
       "        text-align: right;\n",
       "    }\n",
       "</style>\n",
       "<table border=\"1\" class=\"dataframe\">\n",
       "  <thead>\n",
       "    <tr style=\"text-align: right;\">\n",
       "      <th></th>\n",
       "      <th>x_ss</th>\n",
       "      <th>y_ss</th>\n",
       "      <th>T_ss</th>\n",
       "    </tr>\n",
       "  </thead>\n",
       "  <tbody>\n",
       "    <tr>\n",
       "      <th>0</th>\n",
       "      <td>0.713322</td>\n",
       "      <td>0.760954</td>\n",
       "      <td>78.567682</td>\n",
       "    </tr>\n",
       "    <tr>\n",
       "      <th>1</th>\n",
       "      <td>0.628582</td>\n",
       "      <td>0.713322</td>\n",
       "      <td>78.999183</td>\n",
       "    </tr>\n",
       "    <tr>\n",
       "      <th>2</th>\n",
       "      <td>0.567562</td>\n",
       "      <td>0.681545</td>\n",
       "      <td>79.342235</td>\n",
       "    </tr>\n",
       "    <tr>\n",
       "      <th>3</th>\n",
       "      <td>0.515591</td>\n",
       "      <td>0.658662</td>\n",
       "      <td>79.735373</td>\n",
       "    </tr>\n",
       "    <tr>\n",
       "      <th>4</th>\n",
       "      <td>0.515589</td>\n",
       "      <td>0.658661</td>\n",
       "      <td>79.735389</td>\n",
       "    </tr>\n",
       "    <tr>\n",
       "      <th>5</th>\n",
       "      <td>0.515574</td>\n",
       "      <td>0.658657</td>\n",
       "      <td>79.735517</td>\n",
       "    </tr>\n",
       "    <tr>\n",
       "      <th>6</th>\n",
       "      <td>0.515506</td>\n",
       "      <td>0.658637</td>\n",
       "      <td>79.736088</td>\n",
       "    </tr>\n",
       "    <tr>\n",
       "      <th>7</th>\n",
       "      <td>0.515082</td>\n",
       "      <td>0.658512</td>\n",
       "      <td>79.739651</td>\n",
       "    </tr>\n",
       "    <tr>\n",
       "      <th>8</th>\n",
       "      <td>0.512887</td>\n",
       "      <td>0.657867</td>\n",
       "      <td>79.758096</td>\n",
       "    </tr>\n",
       "    <tr>\n",
       "      <th>9</th>\n",
       "      <td>0.502318</td>\n",
       "      <td>0.654185</td>\n",
       "      <td>79.845100</td>\n",
       "    </tr>\n",
       "    <tr>\n",
       "      <th>10</th>\n",
       "      <td>0.459643</td>\n",
       "      <td>0.637253</td>\n",
       "      <td>80.189864</td>\n",
       "    </tr>\n",
       "    <tr>\n",
       "      <th>11</th>\n",
       "      <td>0.286654</td>\n",
       "      <td>0.567564</td>\n",
       "      <td>81.988977</td>\n",
       "    </tr>\n",
       "  </tbody>\n",
       "</table>\n",
       "</div>"
      ],
      "text/plain": [
       "        x_ss      y_ss       T_ss\n",
       "0   0.713322  0.760954  78.567682\n",
       "1   0.628582  0.713322  78.999183\n",
       "2   0.567562  0.681545  79.342235\n",
       "3   0.515591  0.658662  79.735373\n",
       "4   0.515589  0.658661  79.735389\n",
       "5   0.515574  0.658657  79.735517\n",
       "6   0.515506  0.658637  79.736088\n",
       "7   0.515082  0.658512  79.739651\n",
       "8   0.512887  0.657867  79.758096\n",
       "9   0.502318  0.654185  79.845100\n",
       "10  0.459643  0.637253  80.189864\n",
       "11  0.286654  0.567564  81.988977"
      ]
     },
     "execution_count": 229,
     "metadata": {},
     "output_type": "execute_result"
    }
   ],
   "source": [
    "x_ss = [0.71332218, 0.62858247, 0.56756165, 0.51559062, 0.51558868, 0.51557352,\n",
    "        0.51550557, 0.51508155, 0.51288654, 0.50231758, 0.4596435,  0.28665376]\n",
    "y_ss,T_ss = vle_data(x_ss)\n",
    "steady_state = pd.DataFrame({'x_ss':x_ss, 'y_ss':y_ss, 'T_ss':T_ss})\n",
    "steady_state"
   ]
  },
  {
   "cell_type": "markdown",
   "metadata": {},
   "source": [
    "## Adding energy balance functions "
   ]
  },
  {
   "cell_type": "code",
   "execution_count": 230,
   "metadata": {},
   "outputs": [],
   "source": [
    "def H(xi,yi,Ti):\n",
    "    Hi_L = []\n",
    "    Hi_V = []\n",
    "    Ti = np.asarray(Ti)\n",
    "    \n",
    "    for i in range(len(xi)):\n",
    "        y = round(yi[i],5)\n",
    "        Hi_L.append(CP.PropsSI('HMOLAR','P',101325,'Q',0,f'Ethanol[{xi[i]}]&Water[{1-xi[i]}]'))\n",
    "        Hi_V.append(CP.PropsSI('HMOLAR','P',101325,'Q',1,f'Ethanol[{y}]&Water[{1-y}]'))\n",
    "        \n",
    "    Hi_L = np.asarray(Hi_L)\n",
    "    Hi_V = np.asarray(Hi_V)\n",
    "    \n",
    "    Hi_L1 = np.copy(Hi_L)\n",
    "    Hi_L1 = np.roll(Hi_L1, 1)\n",
    "    Hi_L1[0] = 0\n",
    "    \n",
    "    Hi_L2 = np.copy(Hi_L)\n",
    "    Hi_L2[-1] = 0\n",
    "    \n",
    "    Hi_V1 = np.copy(Hi_V)\n",
    "    Hi_V1 = np.roll(Hi_V1, -1)\n",
    "    Hi_V1[-1] = 0\n",
    "    \n",
    "    Hi_V2 = np.copy(Hi_V)\n",
    "    Hi_V2[0] = 0\n",
    "    \n",
    "    Hi_F = np.zeros(plates)\n",
    "    Hi_F[feedplate-1] = CP.PropsSI('HMOLAR','P',101325,'Q',0,f'Ethanol[{xF}]&Water[{1-xF}]')\n",
    "    \n",
    "    return [Hi_L,Hi_L1,Hi_L2,Hi_V,Hi_V1,Hi_V2,Hi_F]"
   ]
  },
  {
   "cell_type": "code",
   "execution_count": 231,
   "metadata": {},
   "outputs": [],
   "source": [
    "def cond_duty(M,Tout):\n",
    "    cp_w = CP.PropsSI('CPMASS','P',101325,'T',298,'Water')\n",
    "    \n",
    "    Qcond = M*cp_w*(Tout - 25)\n",
    "    \n",
    "    return Qcond"
   ]
  },
  {
   "cell_type": "code",
   "execution_count": 232,
   "metadata": {},
   "outputs": [
    {
     "data": {
      "text/plain": [
       "-54558.520064878896"
      ]
     },
     "execution_count": 232,
     "metadata": {},
     "output_type": "execute_result"
    }
   ],
   "source": [
    "def rebl_duty(M,Tout):\n",
    "    cp_w = CP.PropsSI('CPMASS','P',500000,'T',500,'Water')\n",
    "    \n",
    "    Qcond = M*cp_w*(Tout - 126)\n",
    "    \n",
    "    return Qcond\n",
    "rebl_duty(1,100)"
   ]
  },
  {
   "cell_type": "code",
   "execution_count": 233,
   "metadata": {},
   "outputs": [],
   "source": [
    "def duty(plates,feedplate,Qcond,Qrebl):\n",
    "    duty_vector = np.zeros(plates)\n",
    "    duty_vector[0] = Qcond\n",
    "\n",
    "    duty_vector[-1] = Qrebl\n",
    "    \n",
    "    return duty_vector"
   ]
  },
  {
   "cell_type": "code",
   "execution_count": 234,
   "metadata": {},
   "outputs": [],
   "source": [
    "def Cp(xi):\n",
    "    CPi = []\n",
    "    \n",
    "    for i in range(len(xi)):\n",
    "        CPi.append(CP.PropsSI('CPMOLAR','Q',0,'P',101325,f'Ethanol[{xi[i]}]&Water[{1-xi[i]}]'))\n",
    "    return np.asarray(CPi)"
   ]
  },
  {
   "cell_type": "markdown",
   "metadata": {},
   "source": [
    "## Vectorized model with energy balance"
   ]
  },
  {
   "cell_type": "code",
   "execution_count": 238,
   "metadata": {},
   "outputs": [],
   "source": [
    "def mass_DE(t,var):\n",
    "    \n",
    "    # values for compositon and temperature is fed as a 1-D array and reshaped\n",
    "    x,T = np.reshape(var,(2,-1))\n",
    "    \n",
    "    xi = np.asarray(x)\n",
    "    Ti = np.asarray(T)\n",
    "    \n",
    "    L1 = R_r*D\n",
    "    V = L1 + D\n",
    "    L2 = F + L1\n",
    "    \n",
    "    R = V - L1\n",
    "    BU = L2 - V\n",
    "    \n",
    "    yi,T_fake = vle_data(xi) # change to vle_data() for interpolation of vapour liquid equilibrium\n",
    "    \n",
    "    \n",
    "    if t<15:\n",
    "        feedplate = 4\n",
    "    else:\n",
    "        feedplate = 4 # change this to vary which plate is fed on\n",
    "    \n",
    "    flow1, flow2, feed1, feed2 = feed_vector(plates,feedplate, F)\n",
    "    \n",
    "    x1, y1 = comp_vector(xi,yi)\n",
    "    holdup_vec = holdup_vector(plates,feedplate, m_cond,m_tray,m_rebl)\n",
    "\n",
    "    # component mass balance \n",
    "    \n",
    "    dxdt = 1/holdup_vec * (V*(y1[0] - y1[1]) + flow1*x1[0] - flow2*x1[1] + feed1*xF  - feed2*xi)\n",
    "    \n",
    "    \n",
    "    HL,HL1, HL2, HV, HV1, HV2, Hi_F = H(xi,yi,Ti)\n",
    "    CPi = Cp(xi)\n",
    "    \n",
    "    duty_vector = duty(plates,feedplate,cond_duty(-0.00005,25),rebl_duty(0.8,60))\n",
    "\n",
    "#      Energy balance with coolprops  \n",
    "    \n",
    "    dTdt = 1/(holdup_vec*CPi)*( V*(HV1 - HV2) + flow1*HL1 - flow2*HL2 + feed1*HL - feed2*HL + F*Hi_F + duty_vector ) \n",
    "    \n",
    "#     dTdt = np.zeros(len(Ti))  # Unhash this to just use mass balance\n",
    "\n",
    "    didt = np.concatenate([dxdt, dTdt])\n",
    "\n",
    "    return didt"
   ]
  },
  {
   "cell_type": "markdown",
   "metadata": {},
   "source": [
    "## Use steady state values as initial condition"
   ]
  },
  {
   "cell_type": "code",
   "execution_count": 239,
   "metadata": {},
   "outputs": [
    {
     "data": {
      "text/plain": [
       "array([7.13322180e-01, 6.28582470e-01, 5.67561650e-01, 5.15590620e-01,\n",
       "       5.15588680e-01, 5.15573520e-01, 5.15505570e-01, 5.15081550e-01,\n",
       "       5.12886540e-01, 5.02317580e-01, 4.59643500e-01, 2.86653760e-01,\n",
       "       3.51567682e+02, 3.51999183e+02, 3.52342235e+02, 3.52735373e+02,\n",
       "       3.52735389e+02, 3.52735517e+02, 3.52736088e+02, 3.52739651e+02,\n",
       "       3.52758096e+02, 3.52845100e+02, 3.53189864e+02, 3.54988977e+02])"
      ]
     },
     "execution_count": 239,
     "metadata": {},
     "output_type": "execute_result"
    }
   ],
   "source": [
    "init = np.concatenate([x_ss,T_ss+273])\n",
    "init"
   ]
  },
  {
   "cell_type": "code",
   "execution_count": 240,
   "metadata": {},
   "outputs": [
    {
     "data": {
      "text/plain": [
       "array([-2.01745879e-08,  3.09174580e-08, -1.52551223e-07,  1.16264706e-06,\n",
       "       -5.22529412e-06,  1.85988235e-05, -5.71720588e-05,  1.73765294e-04,\n",
       "       -4.58664101e-04,  9.71333860e-04, -1.37607317e-03,  3.52249230e-04,\n",
       "        1.66594786e+03,  2.48297790e+00,  1.97445075e+00,  1.39881576e+02,\n",
       "       -7.11521580e-04,  7.57769565e-04,  1.61475051e-02,  4.67344010e-02,\n",
       "        3.60053044e-01,  1.53480733e+00,  7.52473436e+00, -3.00321718e+03])"
      ]
     },
     "execution_count": 240,
     "metadata": {},
     "output_type": "execute_result"
    }
   ],
   "source": [
    "mass_DE(0,init)"
   ]
  },
  {
   "cell_type": "code",
   "execution_count": 241,
   "metadata": {},
   "outputs": [],
   "source": [
    "tspan = (0,15)\n",
    "t = np.linspace( *tspan, 100)\n",
    "initial_run = scipy.integrate.solve_ivp(mass_DE, tspan, init, t_eval=t)"
   ]
  },
  {
   "cell_type": "code",
   "execution_count": 247,
   "metadata": {},
   "outputs": [
    {
     "name": "stdout",
     "output_type": "stream",
     "text": [
      "[7.13322180e-01 6.28582470e-01 5.67561650e-01 5.15590620e-01\n",
      " 5.15588680e-01 5.15573520e-01 5.15505570e-01 5.15081550e-01\n",
      " 5.12886540e-01 5.02317580e-01 4.59643500e-01 2.86653760e-01\n",
      " 3.51567682e+02 3.51999183e+02 3.52342235e+02 3.52735373e+02\n",
      " 3.52735389e+02 3.52735517e+02 3.52736088e+02 3.52739651e+02\n",
      " 3.52758096e+02 3.52845100e+02 3.53189864e+02 3.54988977e+02]\n"
     ]
    },
    {
     "data": {
      "image/png": "[encoded data removed]",
      "text/plain": [
       "<Figure size 432x288 with 1 Axes>"
      ]
     },
     "metadata": {
      "needs_background": "light"
     },
     "output_type": "display_data"
    },
    {
     "data": {
      "image/png": "[encoded data removed]",
      "text/plain": [
       "<Figure size 432x288 with 1 Axes>"
      ]
     },
     "metadata": {
      "needs_background": "light"
     },
     "output_type": "display_data"
    }
   ],
   "source": [
    "plt.figure(1)\n",
    "plt.title(\"Initial steady state calculation\")\n",
    "\n",
    "plt.figure(1)\n",
    "for i in range(0,12) :\n",
    "    plt.plot(t,initial_run.y[i], label=\"x{}\".format(i))\n",
    "\n",
    "plt.figure(2)\n",
    "for i in range(12,24) :\n",
    "    plt.plot(t,initial_run.y[i]-273, label=\"x{}\".format(i))\n",
    "    \n",
    "plt.xlabel(\"Time [min]\")\n",
    "plt.ylabel(\"Enthalpy [$kJ/time$]\")\n",
    "plt.legend(loc = \"upper right\")\n",
    "\n",
    "print(initial_run.y[:,0])"
   ]
  },
  {
   "cell_type": "markdown",
   "metadata": {},
   "source": [
    "## Now instead of trying to \"balance\" the temperatures lets just try the energy balance as it normally is "
   ]
  },
  {
   "cell_type": "code",
   "execution_count": 248,
   "metadata": {},
   "outputs": [],
   "source": [
    "def H(xi,yi):\n",
    "    Hi_L = []\n",
    "    Hi_V = []\n",
    "    \n",
    "    for i in range(len(xi)):\n",
    "        y = round(yi[i],5)\n",
    "        Hi_L.append(CP.PropsSI('HMOLAR','P',101325,'Q',0,f'Ethanol[{xi[i]}]&Water[{1-xi[i]}]'))\n",
    "        Hi_V.append(CP.PropsSI('HMOLAR','P',101325,'Q',1,f'Ethanol[{y}]&Water[{1-y}]'))\n",
    "        \n",
    "    Hi_L = np.asarray(Hi_L)\n",
    "    Hi_V = np.asarray(Hi_V)\n",
    "    \n",
    "    Hi_L1 = np.copy(Hi_L)\n",
    "    Hi_L1 = np.roll(Hi_L1, 1)\n",
    "    Hi_L1[0] = 0\n",
    "    \n",
    "    Hi_L2 = np.copy(Hi_L)\n",
    "    Hi_L2[-1] = 0\n",
    "    \n",
    "    Hi_V1 = np.copy(Hi_V)\n",
    "    Hi_V1 = np.roll(Hi_V1, -1)\n",
    "    Hi_V1[-1] = 0\n",
    "    \n",
    "    Hi_V2 = np.copy(Hi_V)\n",
    "    Hi_V2[0] = 0\n",
    "    \n",
    "    Hi_F = np.zeros(plates)\n",
    "    Hi_F[feedplate-1] = CP.PropsSI('HMOLAR','P',101325,'Q',0,f'Ethanol[{xF}]&Water[{1-xF}]')\n",
    "    \n",
    "    return [Hi_L,Hi_L1,Hi_L2,Hi_V,Hi_V1,Hi_V2,Hi_F]"
   ]
  },
  {
   "cell_type": "code",
   "execution_count": 249,
   "metadata": {},
   "outputs": [],
   "source": [
    "def mass_DE(t,var):\n",
    "    \n",
    "    # values for compositon and temperature is fed as a 1-D array and reshaped\n",
    "    x,Hi = np.reshape(var,(2,-1))\n",
    "    \n",
    "    xi = np.asarray(x)\n",
    "    Hi = np.asarray(Hi)\n",
    "    \n",
    "    L1 = R_r*D\n",
    "    V = L1 + D\n",
    "    L2 = F + L1\n",
    "    \n",
    "    R = V - L1\n",
    "    BU = L2 - V\n",
    "    \n",
    "    yi,T_fake = vle_data(xi) # change to vle_data() for interpolation of vapour liquid equilibrium\n",
    "    \n",
    "    \n",
    "    if t<15:\n",
    "        feedplate = 4\n",
    "    else:\n",
    "        feedplate = 4 # change this to vary which plate is fed on\n",
    "    \n",
    "    flow1, flow2, feed1, feed2 = feed_vector(plates,feedplate, F)\n",
    "    \n",
    "    x1, y1 = comp_vector(xi,yi)\n",
    "    holdup_vec = holdup_vector(plates,feedplate, m_cond,m_tray,m_rebl)\n",
    "\n",
    "    # component mass balance \n",
    "    \n",
    "    dxdt = 1/holdup_vec * (V*(y1[0] - y1[1]) + flow1*x1[0] - flow2*x1[1] + feed1*xF  - feed2*xi)\n",
    "    \n",
    "    \n",
    "    HL,HL1, HL2, HV, HV1, HV2, Hi_F = H(xi,yi)\n",
    "    CPi = Cp(xi)\n",
    "    \n",
    "    duty_vector = duty(plates,feedplate,-cond_duty(0.03,28),rebl_duty(0.8,100))\n",
    "#     duty_vector = duty(plates,feedplate,0,0)\n",
    "\n",
    "#      Energy balance with coolprops  \n",
    "    \n",
    "#   Instead of doing the balance for the temperature on each plate\n",
    "\n",
    "    dHdt = 1/(holdup_vec)*( V*(HV1 - HV2) + flow1*HL1 - flow2*HL2 + feed1*HL - feed2*HL + F*Hi_F + duty_vector ) \n",
    "#     print(dHdt)\n",
    "\n",
    "    \n",
    "#     dTdt = np.zeros(len(Ti))  # Unhash this to just use mass balance\n",
    "    didt = np.concatenate([dxdt, dHdt])\n",
    "\n",
    "    return didt"
   ]
  },
  {
   "cell_type": "markdown",
   "metadata": {},
   "source": [
    "## Get the initial conditions of the enthalpy from the steady state conditions"
   ]
  },
  {
   "cell_type": "code",
   "execution_count": 250,
   "metadata": {},
   "outputs": [
    {
     "data": {
      "text/plain": [
       "[1958.8396079181528,\n",
       " 2530.904109253819,\n",
       " 2936.312518569341,\n",
       " 3289.0474099211606,\n",
       " 3289.060692063979,\n",
       " 3289.1644842631267,\n",
       " 3289.6296959407387,\n",
       " 3292.53252609838,\n",
       " 3307.554728574584,\n",
       " 3379.559154925032,\n",
       " 3667.382086904755,\n",
       " 4807.787487046456]"
      ]
     },
     "execution_count": 250,
     "metadata": {},
     "output_type": "execute_result"
    }
   ],
   "source": [
    "x_ss = [0.71332218, 0.62858247, 0.56756165, 0.51559062, 0.51558868, 0.51557352,\n",
    "        0.51550557, 0.51508155, 0.51288654, 0.50231758, 0.4596435,  0.28665376]\n",
    "Hi_ss = []\n",
    "y_ss,T_ss = vle_data(x_ss)\n",
    "T_ss = T_ss + 273\n",
    "\n",
    "for i in range(len(x_ss)):\n",
    "    Hi_ss.append(CP.PropsSI('HMOLAR','T',T_ss[i],'Q',0,f'Ethanol[{x_ss[i]}]&Water[{1-x_ss[i]}]'))\n",
    "Hi_ss"
   ]
  },
  {
   "cell_type": "code",
   "execution_count": 251,
   "metadata": {},
   "outputs": [],
   "source": [
    "init = np.concatenate([x_ss,Hi_ss])"
   ]
  },
  {
   "cell_type": "code",
   "execution_count": 252,
   "metadata": {},
   "outputs": [
    {
     "data": {
      "text/plain": [
       "array([-2.01745879e-08,  3.09174580e-08, -1.52551223e-07,  1.16264706e-06,\n",
       "       -5.22529412e-06,  1.85988235e-05, -5.71720588e-05,  1.73765294e-04,\n",
       "       -4.58664101e-04,  9.71333860e-04, -1.37607317e-03,  3.52249230e-04,\n",
       "        2.08655209e+05,  3.06356381e+02,  2.38299968e+02,  1.65379494e+04,\n",
       "       -8.41218607e-02,  8.95891119e-02,  1.90902363e+00,  5.52416204e+00,\n",
       "        4.25207816e+01,  1.80454749e+02,  8.68450982e+02, -1.68073976e+05])"
      ]
     },
     "execution_count": 252,
     "metadata": {},
     "output_type": "execute_result"
    }
   ],
   "source": [
    "mass_DE(0,init)"
   ]
  },
  {
   "cell_type": "code",
   "execution_count": 253,
   "metadata": {},
   "outputs": [],
   "source": [
    "tspan = (0,15)\n",
    "t = np.linspace( *tspan, 100)\n",
    "initial_run = scipy.integrate.solve_ivp(mass_DE, tspan, init, t_eval=t)"
   ]
  },
  {
   "cell_type": "code",
   "execution_count": 262,
   "metadata": {},
   "outputs": [
    {
     "name": "stdout",
     "output_type": "stream",
     "text": [
      "[7.13322180e-01 6.28582470e-01 5.67561650e-01 5.15590620e-01\n",
      " 5.15588680e-01 5.15573520e-01 5.15505570e-01 5.15081550e-01\n",
      " 5.12886540e-01 5.02317580e-01 4.59643500e-01 2.86653760e-01\n",
      " 1.95883961e+03 2.53090411e+03 2.93631252e+03 3.28904741e+03\n",
      " 3.28906069e+03 3.28916448e+03 3.28962970e+03 3.29253253e+03\n",
      " 3.30755473e+03 3.37955915e+03 3.66738209e+03 4.80778749e+03]\n"
     ]
    },
    {
     "data": {
      "image/png": "[encoded data removed]",
      "text/plain": [
       "<Figure size 432x288 with 1 Axes>"
      ]
     },
     "metadata": {
      "needs_background": "light"
     },
     "output_type": "display_data"
    },
    {
     "data": {
      "image/png": "[encoded data removed]",
      "text/plain": [
       "<Figure size 432x288 with 1 Axes>"
      ]
     },
     "metadata": {
      "needs_background": "light"
     },
     "output_type": "display_data"
    }
   ],
   "source": [
    "plt.figure(1)\n",
    "plt.title(\"Initial steady state calculation\")\n",
    "\n",
    "plt.figure(1)\n",
    "for i in range(0,12) :\n",
    "    plt.plot(t,initial_run.y[i], label= f\"x{i}\")\n",
    "    \n",
    "plt.xlabel(\"Time [min]\")\n",
    "plt.ylabel(\"Composition\")\n",
    "plt.legend(loc = \"upper right\")\n",
    "\n",
    "    \n",
    "plt.figure(2)\n",
    "for i in range(12,24) :\n",
    "    plt.plot(t,initial_run.y[i]/1000, label=f\"H{i-12}\")\n",
    "    \n",
    "plt.xlabel(\"Time [min]\")\n",
    "plt.ylabel(\"Enthalpy [$kJ/time$]\")\n",
    "plt.legend(loc = \"upper right\")\n",
    "\n",
    "print(initial_run.y[:,0])"
   ]
  },
  {
   "cell_type": "code",
   "execution_count": null,
   "metadata": {},
   "outputs": [],
   "source": []
  }
 ],
 "metadata": {
  "kernelspec": {
   "display_name": "Python 3",
   "language": "python",
   "name": "python3"
  },
  "language_info": {
   "codemirror_mode": {
    "name": "ipython",
    "version": 3
   },
   "file_extension": ".py",
   "mimetype": "text/x-python",
   "name": "python",
   "nbconvert_exporter": "python",
   "pygments_lexer": "ipython3",
   "version": "3.7.3"
  }
 },
 "nbformat": 4,
 "nbformat_minor": 4
}
