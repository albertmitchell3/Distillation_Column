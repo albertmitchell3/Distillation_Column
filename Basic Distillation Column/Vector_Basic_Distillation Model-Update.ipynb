{
 "cells": [
  {
   "cell_type": "code",
   "execution_count": 1,
   "metadata": {},
   "outputs": [],
   "source": [
    "import numpy as np\n",
    "import sympy\n",
    "from matplotlib import pyplot as plt\n",
    "import scipy\n",
    "import scipy.optimize\n",
    "import scipy.integrate\n",
    "import CoolProp\n",
    "import CoolProp.CoolProp as CP"
   ]
  },
  {
   "cell_type": "markdown",
   "metadata": {},
   "source": [
    "## Assumptions:\n",
    "\n",
    "1. Constant liquid hold up on each plate \n",
    "2. Constant liquid flow in each of the three sections of the column\n",
    "3. Constant vapour flow in the column\n",
    "4. No vapour holdup in the column\n",
    "5. Constant hold up in reboiler and condenser\n",
    "6. Constant relative volatility"
   ]
  },
  {
   "cell_type": "code",
   "execution_count": 2,
   "metadata": {},
   "outputs": [],
   "source": [
    "def rel_vol(xi):\n",
    "    return (α*xi)/(1+(α-1)*xi)"
   ]
  },
  {
   "cell_type": "code",
   "execution_count": 3,
   "metadata": {},
   "outputs": [],
   "source": [
    "def feed_vector(plates,feedplate,feed,reflux,boilup):\n",
    "    \n",
    "    L1 = R_r*D\n",
    "    V = L1 + D\n",
    "    L2 = F + L1\n",
    "    \n",
    "    R = V - L1\n",
    "    BU = L2 - V\n",
    "    \n",
    "    feed_vec1 = np.zeros(plates)\n",
    "    feed_vec2 = np.zeros(plates)\n",
    "    flow_vec_top = np.zeros(plates)\n",
    "    flow_vec_bot = np.zeros(plates)\n",
    "    \n",
    "    flow_vec_top[0:feedplate] = L1\n",
    "    flow_vec_top[feedplate:] = L2\n",
    "    \n",
    "    flow_vec_bot[0:feedplate-1] = L1\n",
    "    flow_vec_bot[feedplate-1:] = L2\n",
    "    \n",
    "    feed_vec1[feedplate-1] = feed\n",
    "    feed_vec2[0] = R\n",
    "    feed_vec2[-1] = BU\n",
    "    \n",
    "    return np.asarray([flow_vec_top,flow_vec_bot,feed_vec1,feed_vec2])"
   ]
  },
  {
   "cell_type": "code",
   "execution_count": 4,
   "metadata": {},
   "outputs": [
    {
     "ename": "NameError",
     "evalue": "name 'R_r' is not defined",
     "output_type": "error",
     "traceback": [
      "\u001b[1;31m---------------------------------------------------------------------------\u001b[0m",
      "\u001b[1;31mNameError\u001b[0m                                 Traceback (most recent call last)",
      "\u001b[1;32m<ipython-input-4-445be492b55c>\u001b[0m in \u001b[0;36m<module>\u001b[1;34m\u001b[0m\n\u001b[1;32m----> 1\u001b[1;33m \u001b[0mfeed_vector\u001b[0m\u001b[1;33m(\u001b[0m\u001b[1;36m12\u001b[0m\u001b[1;33m,\u001b[0m\u001b[1;36m4\u001b[0m\u001b[1;33m,\u001b[0m\u001b[1;36m1\u001b[0m\u001b[1;33m,\u001b[0m\u001b[1;36m2\u001b[0m\u001b[1;33m,\u001b[0m\u001b[1;36m3\u001b[0m\u001b[1;33m)\u001b[0m\u001b[1;33m\u001b[0m\u001b[1;33m\u001b[0m\u001b[0m\n\u001b[0m",
      "\u001b[1;32m<ipython-input-3-b11b4fa16cc0>\u001b[0m in \u001b[0;36mfeed_vector\u001b[1;34m(plates, feedplate, feed, reflux, boilup)\u001b[0m\n\u001b[0;32m      1\u001b[0m \u001b[1;32mdef\u001b[0m \u001b[0mfeed_vector\u001b[0m\u001b[1;33m(\u001b[0m\u001b[0mplates\u001b[0m\u001b[1;33m,\u001b[0m\u001b[0mfeedplate\u001b[0m\u001b[1;33m,\u001b[0m\u001b[0mfeed\u001b[0m\u001b[1;33m,\u001b[0m\u001b[0mreflux\u001b[0m\u001b[1;33m,\u001b[0m\u001b[0mboilup\u001b[0m\u001b[1;33m)\u001b[0m\u001b[1;33m:\u001b[0m\u001b[1;33m\u001b[0m\u001b[1;33m\u001b[0m\u001b[0m\n\u001b[0;32m      2\u001b[0m \u001b[1;33m\u001b[0m\u001b[0m\n\u001b[1;32m----> 3\u001b[1;33m     \u001b[0mL1\u001b[0m \u001b[1;33m=\u001b[0m \u001b[0mR_r\u001b[0m\u001b[1;33m*\u001b[0m\u001b[0mD\u001b[0m\u001b[1;33m\u001b[0m\u001b[1;33m\u001b[0m\u001b[0m\n\u001b[0m\u001b[0;32m      4\u001b[0m     \u001b[0mV\u001b[0m \u001b[1;33m=\u001b[0m \u001b[0mL1\u001b[0m \u001b[1;33m+\u001b[0m \u001b[0mD\u001b[0m\u001b[1;33m\u001b[0m\u001b[1;33m\u001b[0m\u001b[0m\n\u001b[0;32m      5\u001b[0m     \u001b[0mL2\u001b[0m \u001b[1;33m=\u001b[0m \u001b[0mF\u001b[0m \u001b[1;33m+\u001b[0m \u001b[0mL1\u001b[0m\u001b[1;33m\u001b[0m\u001b[1;33m\u001b[0m\u001b[0m\n",
      "\u001b[1;31mNameError\u001b[0m: name 'R_r' is not defined"
     ]
    }
   ],
   "source": [
    "feed_vector(12,4,1,2,3)"
   ]
  },
  {
   "cell_type": "code",
   "execution_count": 12,
   "metadata": {},
   "outputs": [],
   "source": [
    "def comp_vector(xi):\n",
    "    \n",
    "    xi = np.asarray(xi)\n",
    "    yi = rel_vol(xi)\n",
    "    \n",
    "    xi1 = np.copy(xi)\n",
    "    xi1 = np.roll(xi1, 1)\n",
    "    xi1[0] = 0\n",
    "    \n",
    "    xi2 = np.copy(xi)\n",
    "    xi2[-1] = 0\n",
    "    \n",
    "    yi1 = np.copy(yi)\n",
    "    yi1 = np.roll(yi1, -1)\n",
    "    yi1[-1] = 0\n",
    "    \n",
    "    yi2 = np.copy(yi)\n",
    "    yi2[0] = 0\n",
    "    \n",
    "    \n",
    "    return np.asarray([xi1,xi2]),np.asarray([yi1,yi2])"
   ]
  },
  {
   "cell_type": "code",
   "execution_count": 5,
   "metadata": {},
   "outputs": [
    {
     "ename": "NameError",
     "evalue": "name 'comp_vector' is not defined",
     "output_type": "error",
     "traceback": [
      "\u001b[1;31m---------------------------------------------------------------------------\u001b[0m",
      "\u001b[1;31mNameError\u001b[0m                                 Traceback (most recent call last)",
      "\u001b[1;32m<ipython-input-5-5cbb2fcbacf3>\u001b[0m in \u001b[0;36m<module>\u001b[1;34m\u001b[0m\n\u001b[1;32m----> 1\u001b[1;33m \u001b[0mcomp_vector\u001b[0m\u001b[1;33m(\u001b[0m\u001b[1;33m[\u001b[0m\u001b[1;36m0.1\u001b[0m\u001b[1;33m,\u001b[0m \u001b[1;36m0.1\u001b[0m\u001b[1;33m,\u001b[0m \u001b[1;36m0.1\u001b[0m\u001b[1;33m,\u001b[0m \u001b[1;36m0.1\u001b[0m\u001b[1;33m,\u001b[0m \u001b[1;36m0.1\u001b[0m\u001b[1;33m,\u001b[0m \u001b[1;36m0.1\u001b[0m\u001b[1;33m,\u001b[0m \u001b[1;36m0.1\u001b[0m\u001b[1;33m,\u001b[0m \u001b[1;36m0.1\u001b[0m\u001b[1;33m,\u001b[0m \u001b[1;36m0.1\u001b[0m\u001b[1;33m,\u001b[0m \u001b[1;36m0.1\u001b[0m\u001b[1;33m,\u001b[0m \u001b[1;36m0.1\u001b[0m\u001b[1;33m,\u001b[0m \u001b[1;36m0.1\u001b[0m\u001b[1;33m]\u001b[0m\u001b[1;33m)\u001b[0m\u001b[1;33m\u001b[0m\u001b[1;33m\u001b[0m\u001b[0m\n\u001b[0m",
      "\u001b[1;31mNameError\u001b[0m: name 'comp_vector' is not defined"
     ]
    }
   ],
   "source": [
    "comp_vector([0.1, 0.1, 0.1, 0.1, 0.1, 0.1, 0.1, 0.1, 0.1, 0.1, 0.1, 0.1])"
   ]
  },
  {
   "cell_type": "code",
   "execution_count": 6,
   "metadata": {},
   "outputs": [],
   "source": [
    "def holdup_vector(plates,feedplate, m_cond,m_tray,m_rebl):\n",
    "    holdup_vec = np.zeros(plates)\n",
    "    \n",
    "    holdup_vec[0] = m_cond\n",
    "    holdup_vec[-1] = m_rebl\n",
    "    holdup_vec[1:plates-1] = m_tray\n",
    "    \n",
    "    return holdup_vec"
   ]
  },
  {
   "cell_type": "code",
   "execution_count": 7,
   "metadata": {},
   "outputs": [
    {
     "data": {
      "text/plain": [
       "array([0.15, 0.2 , 0.2 , 0.2 , 0.2 , 0.2 , 0.2 , 0.2 , 0.2 , 0.2 , 0.2 ,\n",
       "       0.45])"
      ]
     },
     "execution_count": 7,
     "metadata": {},
     "output_type": "execute_result"
    }
   ],
   "source": [
    "holdup_vector(12,4, 0.15, 0.2,0.45)"
   ]
  },
  {
   "cell_type": "code",
   "execution_count": 17,
   "metadata": {},
   "outputs": [],
   "source": [
    "def mass_DE(t, x):\n",
    "    \n",
    "    xi = np.asarray(x)\n",
    "    \n",
    "    L1 = R_r*D\n",
    "    V = L1 + D\n",
    "    L2 = F + L1\n",
    "    \n",
    "    R = V - L1\n",
    "    BU = L2 - V\n",
    "    \n",
    "    if t<15:\n",
    "        feedplate = 4\n",
    "    else:\n",
    "        feedplate = 7\n",
    "    \n",
    "    flow1, flow2, feed1, feed2 = feed_vector(plates,feedplate, F, R, BU)\n",
    "    x1, y1 = comp_vector(xi)\n",
    "    holdup_vec = holdup_vector(plates,feedplate, m_cond,m_tray,m_rebl)\n",
    "    \n",
    "    dxdt = 1/holdup_vec * (V*(y1[0] - y1[1]) + flow1*x1[0] - flow2*x1[1] + feed1*xF  - feed2*xi)\n",
    "                     \n",
    "    return dxdt"
   ]
  },
  {
   "cell_type": "code",
   "execution_count": 18,
   "metadata": {},
   "outputs": [],
   "source": [
    "# plates is the number of total plates + 2 (for the reboiler and condenser)\n",
    "# feedplate is the plate number the feed occurs on\n",
    "# x_initial is an array with the initial column states\n",
    "\n",
    "plates = 12\n",
    "feedplate = 4"
   ]
  },
  {
   "cell_type": "markdown",
   "metadata": {},
   "source": [
    "## Inputs to calculate intial state"
   ]
  },
  {
   "cell_type": "markdown",
   "metadata": {},
   "source": [
    "### Input variables\n",
    "\n",
    "1. $F_3$ - Feed flow rate on plate 3\n",
    "2. $F_7$ - Feed flow rate on plate 7\n",
    "3. $x_F$ - Feed liquid composition\n",
    "4. $Rr$ - Reflux ratio\n",
    "5. $D_F$ - Distillate to feed ratio\n",
    "\n",
    "### Parameters\n",
    "\n",
    "1. $\\alpha$ - Relative volatility\n",
    "2. $m_{tray}$ - holdup on each tray\n",
    "2. $m_{cond}$ - holdup in the total condenser\n",
    "2. $m_{rebl}$ - holdup in the partial reboiler"
   ]
  },
  {
   "cell_type": "code",
   "execution_count": 19,
   "metadata": {},
   "outputs": [],
   "source": [
    "init = [0.1, 0.1, 0.1, 0.1, 0.1, 0.1, 0.1, 0.1, 0.1, 0.1, 0.1, 0.1]\n",
    "\n",
    "F = 1 # Feed on plate 3\n",
    "D =0.5\n",
    "xF = 0.25 # mole fraction in feed\n",
    "R_r = 0.6 # reflux ratio\n",
    "m_cond = 0.15 # holdup in condenser\n",
    "m_tray = 0.2 # holdup on each tray\n",
    "m_rebl = 0.45 # holdup in reboiler\n",
    "α = 1.6 # relative volatility"
   ]
  },
  {
   "cell_type": "code",
   "execution_count": 20,
   "metadata": {},
   "outputs": [
    {
     "data": {
      "text/plain": [
       "array([ 0.27169811,  0.        ,  0.        ,  0.75      ,  0.        ,\n",
       "        0.        ,  0.        ,  0.        ,  0.        ,  0.        ,\n",
       "        0.        , -0.09056604])"
      ]
     },
     "execution_count": 20,
     "metadata": {},
     "output_type": "execute_result"
    }
   ],
   "source": [
    "mass_DE(0,init)"
   ]
  },
  {
   "cell_type": "code",
   "execution_count": 21,
   "metadata": {},
   "outputs": [],
   "source": [
    "tspan = (0,50)\n",
    "t = np.linspace( *tspan, 100)\n",
    "initial_run = scipy.integrate.solve_ivp(mass_DE, tspan, init, t_eval=t)"
   ]
  },
  {
   "cell_type": "code",
   "execution_count": 22,
   "metadata": {},
   "outputs": [],
   "source": [
    "x0s,x1s,x2s,x3s,x4s,x5s,x6s,x7s,x8s,x9s,x10s,x11s = initial_run.y\n",
    "xi = [x0s[-1],x1s[-1],x2s[-1],x3s[-1],x4s[-1],x5s[-1],x6s[-1],x7s[-1],x8s[-1],x9s[-1],x10s[-1],x11s[-1]]"
   ]
  },
  {
   "cell_type": "code",
   "execution_count": 23,
   "metadata": {},
   "outputs": [
    {
     "name": "stdout",
     "output_type": "stream",
     "text": [
      "0.38666265771265607 0.11334493475861435\n"
     ]
    },
    {
     "data": {
      "image/png": "[encoded data removed]",
      "text/plain": [
       "<Figure size 432x288 with 1 Axes>"
      ]
     },
     "metadata": {
      "needs_background": "light"
     },
     "output_type": "display_data"
    }
   ],
   "source": [
    "plt.figure(1)\n",
    "plt.title(\"Initial steady state calculation\")\n",
    "\n",
    "for i in range(len(initial_run.y)) :\n",
    "    plt.plot(t,initial_run.y[i], label=\"x{}\".format(i))\n",
    "    \n",
    "plt.xlabel(\"Time [min]\")\n",
    "plt.ylabel(\"Composition [$x_{eth}$]\")\n",
    "plt.legend(loc = \"upper right\")\n",
    "print(x0s[-1],x11s[-1])\n",
    "plt.savefig(\"Basic_distillation_column_V3.svg\")"
   ]
  },
  {
   "cell_type": "markdown",
   "metadata": {},
   "source": [
    "# Consistency plot of model\n",
    "\n",
    "The idea to assume CMO and constant hold up creates a scenario where mass is \"created\" to fulfill both the criterias. The plot below will show that there accumulation occuring in the column increases yet the mass balance decreases to zero. These two are thus contradictory because the mass balance should produce the exact same accumulation.\n",
    "\n",
    "The mass balance is calculated as follows:\n",
    "\n",
    "$M_{t}\\frac{dx_t}{dt} = x_FF -x_BB - x_DD $\n",
    "\n",
    "And the accumulation is calculated as follows:\n",
    "\n",
    "$M_{t}\\frac{dx_t}{dt} = \\sum{M_i\\frac{dx_i}{dt}}$\n",
    "\n",
    "where \n",
    "- $M_t$ is the total mass accumulated in the column\n",
    "- $x_t$ is the mole fraction of the mass in the column\n",
    "- $M_i$ is the total mass accumulated on each tray $i$."
   ]
  },
  {
   "cell_type": "code",
   "execution_count": null,
   "metadata": {},
   "outputs": [],
   "source": [
    "L1 = R_r*D\n",
    "V = L1 + D\n",
    "L2 = F + L1\n",
    "\n",
    "moles_inside_column_at_zero = (x0s[0]*m_cond+x1s[0]*m_tray+x2s[0]*m_tray+x3s[0]*m_tray+x4s[0]*m_tray+x5s[0]*m_tray+x6s[0]*m_tray+\n",
    "                       x7s[0]*m_tray+x8s[0]*m_tray+x9s[0]*m_tray+x10s[0]*m_tray+x11s[0]*m_rebl)\n",
    "\n",
    "# This calculated the accumulation insie the column through summing the accumulation on each plate\n",
    "moles_inside_column = (x0s*m_cond+x1s*m_tray+x2s*m_tray+x3s*m_tray+x4s*m_tray+x5s*m_tray+x6s*m_tray+\n",
    "                       x7s*m_tray+x8s*m_tray+x9s*m_tray+x10s*m_tray+x11s*m_rebl) - moles_inside_column_at_zero\n",
    "\n",
    "# This calculates the accumlation in the column through the mass balance\n",
    "mole_balance = xF*F - (D)*(x0s)- (L2-V)*x11s - 0.1*10*m_tray - 0.1*m_cond - 0.1*m_rebl\n",
    "diff = moles_inside_column - mole_balance\n",
    "\n",
    "integral = []\n",
    "for i in range(1,len(t)+1):\n",
    "    dMtxtdt = xF*F - (D)*(x0s[0:i])- (L2-V)*x11s[0:i]\n",
    "    integral.append(np.trapz(dMtxtdt,t[0:i]))\n",
    "\n",
    "plt.figure(1)\n",
    "plt.title(\"Consistency Plot\")\n",
    "plt.xlabel(\"Time\")\n",
    "plt.ylabel(\"Accumulation of mass\")\n",
    "plt.plot(t,integral, label = \"Mole balance\")\n",
    "plt.plot(t,moles_inside_column, label = \"Diff equations\")\n",
    "plt.legend(loc=\"best\")\n",
    "plt.savefig(\"consistency_plot.png\")\n",
    "plt.figure(2)\n",
    "plt.plot(t,abs(moles_inside_column-integral), label = \"Error\")\n",
    "plt.xlabel(\"Time\")\n",
    "plt.ylabel(\"Error\")\n",
    "plt.savefig(\"consistency_plot_error.png\")"
   ]
  },
  {
   "cell_type": "code",
   "execution_count": null,
   "metadata": {},
   "outputs": [],
   "source": [
    "# Now lets ee if we can use the vector version for a different setup...\n",
    "\n",
    "plates = 20\n",
    "feedplate = 9\n",
    "\n",
    "init = [0.1,0.1,0.1,0.1,0.1,0.1,0.1,0.1,0.1,0.1,0.1,0.1,0.1,0.1,0.1,0.1,0.1,0.1,0.1,0.1]\n",
    "\n",
    "tspan = (0, 50)\n",
    "t = np.linspace( *tspan, 100)\n",
    "initial_run = scipy.integrate.solve_ivp(mass_DE, tspan, init, t_eval=t)\n",
    "\n",
    "x = initial_run.y\n",
    "\n",
    "for i in x:\n",
    "    plt.plot(t,i)\n"
   ]
  }
 ],
 "metadata": {
  "kernelspec": {
   "display_name": "Python 3",
   "language": "python",
   "name": "python3"
  },
  "language_info": {
   "codemirror_mode": {
    "name": "ipython",
    "version": 3
   },
   "file_extension": ".py",
   "mimetype": "text/x-python",
   "name": "python",
   "nbconvert_exporter": "python",
   "pygments_lexer": "ipython3",
   "version": "3.7.3"
  }
 },
 "nbformat": 4,
 "nbformat_minor": 2
}
