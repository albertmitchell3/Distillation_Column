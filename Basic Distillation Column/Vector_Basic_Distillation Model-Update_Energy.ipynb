{
 "cells": [
  {
   "cell_type": "code",
   "execution_count": 1,
   "metadata": {},
   "outputs": [],
   "source": [
    "import numpy as np\n",
    "import sympy\n",
    "from matplotlib import pyplot as plt\n",
    "import scipy\n",
    "import scipy.optimize\n",
    "import scipy.integrate\n",
    "import CoolProp.CoolProp as CP\n",
    "from scipy.stats.mstats import gmean"
   ]
  },
  {
   "cell_type": "markdown",
   "metadata": {},
   "source": [
    "## Assumptions:\n",
    "\n",
    "1. Constant liquid hold up on each plate \n",
    "2. Constant liquid flow in each of the three sections of the column\n",
    "3. Constant vapour flow in the column\n",
    "4. No vapour holdup in the column\n",
    "5. Constant hold up in reboiler and condenser\n",
    "6. Constant relative volatility"
   ]
  },
  {
   "cell_type": "markdown",
   "metadata": {},
   "source": [
    "## The functions below are used for the VLE data\n",
    "\n",
    "- The first function is based on a constant relative volatility assumption calculate as an average from the data set at 1 atm. Here a geometrial mean is used due to the volatility of the data set.\n",
    "- The second function is based on VLE data collected from a system at a pressure of 1 atm."
   ]
  },
  {
   "cell_type": "code",
   "execution_count": 2,
   "metadata": {},
   "outputs": [
    {
     "data": {
      "text/plain": [
       "array([0.52922059, 0.56570296, 0.79192729])"
      ]
     },
     "execution_count": 2,
     "metadata": {},
     "output_type": "execute_result"
    }
   ],
   "source": [
    "def rel_vol(xi):\n",
    "    \n",
    "    xi = np.asarray(xi)\n",
    "    x= np.asarray([ 0.019, 0.0721, 0.0966, 0.1238, 0.1661, 0.2337, 0.2608, \n",
    "              0.3273, 0.3965, 0.5079, 0.5198, 0.5732, 0.6763, 0.7472, 0.8943])\n",
    "    y = np.asarray([ 0.170, 0.3891, 0.4375, 0.4704, 0.5089, 0.5445, 0.5580, \n",
    "              0.5826, 0.6122, 0.6564, 0.6599, 0.6841, 0.7385, 0.7815, 0.8943])\n",
    "    \n",
    "    αi = (y*(1-x))/(x*(1-y))\n",
    "#     α = np.average(αi)\n",
    "    α = gmean(αi)\n",
    "    xi = (α*xi)/(1+(α-1)*xi)\n",
    "    \n",
    "    return xi\n",
    "\n",
    "rel_vol([0.27,0.3,0.556])"
   ]
  },
  {
   "cell_type": "code",
   "execution_count": 3,
   "metadata": {},
   "outputs": [
    {
     "data": {
      "text/plain": [
       "array([0.56140331, 0.57250105, 0.67630524])"
      ]
     },
     "execution_count": 3,
     "metadata": {},
     "output_type": "execute_result"
    }
   ],
   "source": [
    "def vle_data(xi):\n",
    "    \n",
    "    x_data = [0, 0.019, 0.0721, 0.0966, 0.1238, 0.1661, 0.2337, 0.2608, \n",
    "              0.3273, 0.3965, 0.5079, 0.5198, 0.5732, 0.6763, 0.7472, 0.8943, 1]\n",
    "    y_data = [0, 0.170, 0.3891, 0.4375, 0.4704, 0.5089, 0.5445, 0.5580, \n",
    "              0.5826, 0.6122, 0.6564, 0.6599, 0.6841, 0.7385, 0.7815, 0.8943, 1]\n",
    "    \n",
    "    x = np.interp(xi,x_data, y_data)\n",
    "    return x\n",
    "\n",
    "vle_data([0.27,0.3,0.556])"
   ]
  },
  {
   "cell_type": "markdown",
   "metadata": {},
   "source": [
    "# Vectorized Equations #\n",
    "\n",
    "$\\frac{dx_i}{dt} = \\left(\\frac{1}{M_i}\\right)\\left(V(y_{i+1}-y_{i}) + L_1(x_{i-1}-x_{i}) + Fx_F \\right)$\n",
    "\n",
    "A vector is utilied for the following variables:\n",
    "- $y_{i+1}$\n",
    "- $y_{i}$\n",
    "- $x_{i}$\n",
    "- $x_{i-1}$\n",
    "- $L_1$\n",
    "- $F$"
   ]
  },
  {
   "cell_type": "markdown",
   "metadata": {},
   "source": [
    "## Feed vector function\n",
    "- This function creates 4 vectors for the flow.\n",
    "- The first two vectors are the liquid flows.\n",
    "- The third vector is the feed vector.\n",
    "- The fourth vector contains the reflux and the boilup."
   ]
  },
  {
   "cell_type": "code",
   "execution_count": 345,
   "metadata": {},
   "outputs": [],
   "source": [
    "def feed_vector(plates,feedplate,feed):\n",
    "    \n",
    "    L1 = R_r*D\n",
    "    V = L1 + D\n",
    "    L2 = F + L1\n",
    "    \n",
    "    R = V - L1\n",
    "    BU = L2 - V\n",
    "    \n",
    "    feed_vec1 = np.zeros(plates)\n",
    "    feed_vec2 = np.zeros(plates)\n",
    "    flow_vec_top = np.zeros(plates)\n",
    "    flow_vec_bot = np.zeros(plates)\n",
    "    \n",
    "    flow_vec_top[0:feedplate] = L1\n",
    "    flow_vec_top[feedplate:] = L2\n",
    "    \n",
    "    flow_vec_bot[0:feedplate-1] = L1\n",
    "    flow_vec_bot[feedplate-1:] = L2\n",
    "    \n",
    "    feed_vec1[feedplate-1] = feed\n",
    "    feed_vec2[0] = R\n",
    "    feed_vec2[-1] = BU\n",
    "    \n",
    "    return np.asarray([flow_vec_top,flow_vec_bot,feed_vec1,feed_vec2])\n",
    "\n"
   ]
  },
  {
   "cell_type": "code",
   "execution_count": 346,
   "metadata": {},
   "outputs": [
    {
     "data": {
      "text/plain": [
       "array([[0.3, 0.3, 0.3, 0.3, 1.3, 1.3, 1.3, 1.3, 1.3, 1.3, 1.3, 1.3],\n",
       "       [0.3, 0.3, 0.3, 1.3, 1.3, 1.3, 1.3, 1.3, 1.3, 1.3, 1.3, 1.3],\n",
       "       [0. , 0. , 0. , 1. , 0. , 0. , 0. , 0. , 0. , 0. , 0. , 0. ],\n",
       "       [0.5, 0. , 0. , 0. , 0. , 0. , 0. , 0. , 0. , 0. , 0. , 0.5]])"
      ]
     },
     "execution_count": 346,
     "metadata": {},
     "output_type": "execute_result"
    }
   ],
   "source": [
    "feed_vector(12,4,1)"
   ]
  },
  {
   "cell_type": "markdown",
   "metadata": {},
   "source": []
  },
  {
   "cell_type": "code",
   "execution_count": 347,
   "metadata": {},
   "outputs": [],
   "source": [
    "def comp_vector(xi,yi):\n",
    "    \n",
    "    xi = np.asarray(xi)\n",
    "    yi = np.asarray(yi)\n",
    "    \n",
    "    xi1 = np.copy(xi)\n",
    "    xi1 = np.roll(xi1, 1)\n",
    "    xi1[0] = 0\n",
    "    \n",
    "    xi2 = np.copy(xi)\n",
    "    xi2[-1] = 0\n",
    "    \n",
    "    yi1 = np.copy(yi)\n",
    "    yi1 = np.roll(yi1, -1)\n",
    "    yi1[-1] = 0\n",
    "    \n",
    "    yi2 = np.copy(yi)\n",
    "    yi2[0] = 0\n",
    "    \n",
    "    \n",
    "    return np.asarray([xi1,xi2]),np.asarray([yi1,yi2])"
   ]
  },
  {
   "cell_type": "markdown",
   "metadata": {},
   "source": []
  },
  {
   "cell_type": "code",
   "execution_count": 348,
   "metadata": {},
   "outputs": [],
   "source": [
    "def holdup_vector(plates,feedplate, m_cond,m_tray,m_rebl):\n",
    "    holdup_vec = np.zeros(plates)\n",
    "    \n",
    "    holdup_vec[0] = m_cond\n",
    "    holdup_vec[-1] = m_rebl\n",
    "    holdup_vec[1:plates-1] = m_tray\n",
    "    \n",
    "    return holdup_vec"
   ]
  },
  {
   "cell_type": "code",
   "execution_count": 349,
   "metadata": {},
   "outputs": [
    {
     "data": {
      "text/plain": [
       "array([0.15, 0.2 , 0.2 , 0.2 , 0.2 , 0.2 , 0.2 , 0.2 , 0.2 , 0.2 , 0.2 ,\n",
       "       0.45])"
      ]
     },
     "execution_count": 349,
     "metadata": {},
     "output_type": "execute_result"
    }
   ],
   "source": [
    "holdup_vector(12,4, 0.15, 0.2,0.45)"
   ]
  },
  {
   "cell_type": "markdown",
   "metadata": {},
   "source": [
    "## Heat capacity function \n",
    "- This function calculates the heat capacity of the liquid holdup on each plate\n",
    "- The heat capacity is used to calculate the temperature on the plate."
   ]
  },
  {
   "cell_type": "code",
   "execution_count": 350,
   "metadata": {},
   "outputs": [],
   "source": [
    "def Cp(xi):\n",
    "    CPi = []\n",
    "    \n",
    "    for i in range(len(xi)):\n",
    "        CPi.append(CP.PropsSI('CPMOLAR','Q',0,'P',101325,f'Ethanol[{xi[i]}]&Water[{1-xi[i]}]'))\n",
    "    return np.asarray(CPi)"
   ]
  },
  {
   "cell_type": "code",
   "execution_count": 351,
   "metadata": {},
   "outputs": [
    {
     "data": {
      "text/plain": [
       "array([117.45980637, 122.1498239 , 126.25094095])"
      ]
     },
     "execution_count": 351,
     "metadata": {},
     "output_type": "execute_result"
    }
   ],
   "source": [
    "Cp([0.5,0.6,0.7])"
   ]
  },
  {
   "cell_type": "markdown",
   "metadata": {},
   "source": [
    "## Ethalpy function \n",
    "- Vectors corrosponding to the flow vectors are calculated and shaped correctly.\n",
    "- This function calculates liquid and vapour enthalpy.\n",
    "- The pressure is currently assumed to be costant and set equal to 101.325 kPa."
   ]
  },
  {
   "cell_type": "code",
   "execution_count": 352,
   "metadata": {},
   "outputs": [],
   "source": [
    "def H(xi,yi,Ti):\n",
    "    Hi_L = []\n",
    "    Hi_V = []\n",
    "    \n",
    "    for i in range(len(xi)):\n",
    "    \n",
    "        Hi_L.append(CP.PropsSI('HMOLAR','Q',0,'P',80000,f'Ethanol[{xi[i]}]&Water[{1-xi[i]}]'))\n",
    "        Hi_V.append(CP.PropsSI('HMOLAR','Q',1,'P',80000,f'Ethanol[{yi[i]}]&Water[{1-yi[i]}]'))\n",
    "        \n",
    "    Hi_L = np.asarray(Hi_L)\n",
    "    Hi_V = np.asarray(Hi_V)\n",
    "    \n",
    "    Hi_L1 = np.copy(Hi_L)\n",
    "    Hi_L1 = np.roll(Hi_L1, 1)\n",
    "    Hi_L1[0] = 0\n",
    "    \n",
    "    Hi_L2 = np.copy(Hi_L)\n",
    "    Hi_L2[-1] = 0\n",
    "    \n",
    "    Hi_V1 = np.copy(Hi_V)\n",
    "    Hi_V1 = np.roll(Hi_V1, -1)\n",
    "    Hi_V1[-1] = 0\n",
    "    \n",
    "    Hi_V2 = np.copy(Hi_V)\n",
    "    Hi_V2[0] = 0\n",
    "    \n",
    "    return [Hi_L,Hi_L1,Hi_L2,Hi_V,Hi_V1,Hi_V2]"
   ]
  },
  {
   "cell_type": "code",
   "execution_count": 353,
   "metadata": {},
   "outputs": [
    {
     "data": {
      "text/plain": [
       "[array([2031.32592521, 1342.39086076,  645.01506552]),\n",
       " array([   0.        , 2031.32592521, 1342.39086076]),\n",
       " array([2031.32592521, 1342.39086076,    0.        ]),\n",
       " array([43377.28594169, 42361.23927819, 41404.40402709]),\n",
       " array([42361.23927819, 41404.40402709,     0.        ]),\n",
       " array([    0.        , 42361.23927819, 41404.40402709])]"
      ]
     },
     "execution_count": 353,
     "metadata": {},
     "output_type": "execute_result"
    }
   ],
   "source": [
    "H([0.6,0.7,0.8],[0.5,0.6,0.7],[400,400,400])"
   ]
  },
  {
   "cell_type": "markdown",
   "metadata": {},
   "source": [
    "## Reboiler and Condenser Duty"
   ]
  },
  {
   "cell_type": "code",
   "execution_count": 121,
   "metadata": {},
   "outputs": [
    {
     "data": {
      "text/plain": [
       "array([-2394.,     0.,     0.,     0.,     0.,     0.,     0.,     0.,\n",
       "           0.,     0.,     0.,   798.])"
      ]
     },
     "execution_count": 121,
     "metadata": {},
     "output_type": "execute_result"
    }
   ],
   "source": [
    "def duty(plates,feedplate,Qcond,Qrebl):\n",
    "    duty_vector = np.zeros(plates)\n",
    "    duty_vector[0] = Qcond\n",
    "\n",
    "    duty_vector[-1] = Qrebl\n",
    "    \n",
    "    return duty_vector\n",
    "\n",
    "duty(12,4,-2394,798)"
   ]
  },
  {
   "cell_type": "markdown",
   "metadata": {},
   "source": [
    "## Vectozied model of the column"
   ]
  },
  {
   "cell_type": "code",
   "execution_count": 286,
   "metadata": {},
   "outputs": [],
   "source": [
    "def mass_DE(t,var):\n",
    "    \n",
    "    # values for compositon and temperature is fed as a 1-D array\n",
    "    x,T = np.reshape(var,(2,-1))\n",
    "    \n",
    "    xi = np.asarray(x)\n",
    "    Ti = np.asarray(T)\n",
    "    \n",
    "    L1 = R_r*D\n",
    "    V = L1 + D\n",
    "    L2 = F + L1\n",
    "    \n",
    "    R = V - L1\n",
    "    BU = L2 - V\n",
    "    \n",
    "    yi = vle_data(xi) # change to vle_data() for interpolation of vapour liquid equilibrium\n",
    "    \n",
    "    \n",
    "    if t<15:\n",
    "        feedplate = 4\n",
    "    else:\n",
    "        feedplate = 4 # change this to vary which plate is fed on\n",
    "    \n",
    "    flow1, flow2, feed1, feed2 = feed_vector(plates,feedplate, F)\n",
    "    \n",
    "    x1, y1 = comp_vector(xi,yi)\n",
    "    holdup_vec = holdup_vector(plates,feedplate, m_cond,m_tray,m_rebl)\n",
    "\n",
    "    \n",
    "    # component mass balance \n",
    "    dxdt = 1/holdup_vec * (V*(y1[0] - y1[1]) + flow1*x1[0] - flow2*x1[1] + feed1*xF  - feed2*xi)\n",
    "    \n",
    "#     HL,HL1, HL2, HV, HV1, HV2 = H(xi,yi,Ti)\n",
    "#     CPi = Cp(xi)\n",
    "    duty_vector = duty(plates,feedplate,0,0)\n",
    "    \n",
    "    \n",
    "    # energy balance\n",
    "    dTdt = np.zeros(len(Ti)) \n",
    "#     dTdt = 1/(holdup_vec*CPi)*( V*(HV1 - HV2) + flow1*HL1 - flow2*HL2 + feed1*HL - feed2*HL + duty_vector)\n",
    "    didt = np.concatenate([dxdt, dTdt])\n",
    "#     print(dTdt + Ti)\n",
    "    return didt"
   ]
  },
  {
   "cell_type": "code",
   "execution_count": 287,
   "metadata": {},
   "outputs": [],
   "source": [
    "# plates is the number of total plates + 2 (for the reboiler and condenser)\n",
    "# feedplate is the plate number the feed occurs on\n",
    "# x_initial is an array with the initial column states\n",
    "\n",
    "plates = 12\n",
    "feedplate = 4"
   ]
  },
  {
   "cell_type": "markdown",
   "metadata": {},
   "source": [
    "## Inputs to calculate intial state"
   ]
  },
  {
   "cell_type": "markdown",
   "metadata": {},
   "source": [
    "### Input variables\n",
    "\n",
    "1. $F_3$ - Feed flow rate on plate 3\n",
    "2. $F_7$ - Feed flow rate on plate 7\n",
    "3. $x_F$ - Feed liquid composition\n",
    "4. $Rr$ - Reflux ratio\n",
    "5. $D_F$ - Distillate to feed ratio\n",
    "\n",
    "### Parameters\n",
    "\n",
    "1. $\\alpha$ - Relative volatility\n",
    "2. $m_{tray}$ - holdup on each tray\n",
    "2. $m_{cond}$ - holdup in the total condenser\n",
    "2. $m_{rebl}$ - holdup in the partial reboiler"
   ]
  },
  {
   "cell_type": "code",
   "execution_count": 288,
   "metadata": {},
   "outputs": [
    {
     "name": "stdout",
     "output_type": "stream",
     "text": [
      "[0.1 0.1 0.1 0.1 0.1 0.1 0.1 0.1 0.1 0.1 0.1 0.1]\n",
      "[303. 303. 303. 303. 303. 303. 303. 303. 303. 303. 303. 303.]\n"
     ]
    }
   ],
   "source": [
    "init_comp = np.array([0.1, 0.1, 0.1, 0.1, 0.1, 0.1, 0.1, 0.1, 0.1, 0.1, 0.1, 0.1])\n",
    "init_temp = np.array([303,303,303,303,303,303,303,303,303,303,303,303])\n",
    "\n",
    "init = np.concatenate([init_comp,init_temp])\n",
    "\n",
    "x,T = np.reshape(init,(2,-1))\n",
    "print(x)\n",
    "print(T)"
   ]
  },
  {
   "cell_type": "code",
   "execution_count": 335,
   "metadata": {},
   "outputs": [],
   "source": [
    "init_comp = np.array([0.1, 0.1, 0.1, 0.1, 0.1, 0.1, 0.1, 0.1, 0.1, 0.1, 0.1, 0.1])\n",
    "init_temp = np.array([303,303,303,303,303,303,303,303,303,303,303,303])\n",
    "\n",
    "init = np.concatenate([init_comp,init_temp])\n",
    "\n",
    "F = 1 # Feed on plate 3\n",
    "D =0.5\n",
    "xF = 0.4 # mole fraction in feed\n",
    "R_r = 0.6 # reflux ratio\n",
    "m_cond = 0.15 # holdup in condenser\n",
    "m_tray = 0.2 # holdup on each tray\n",
    "m_rebl = 0.45 # holdup in reboiler\n",
    "α = 1.6 # relative volatility\n",
    "\n"
   ]
  },
  {
   "cell_type": "code",
   "execution_count": 336,
   "metadata": {},
   "outputs": [
    {
     "data": {
      "text/plain": [
       "array([ 1.82193333,  0.        ,  0.        ,  1.5       ,  0.        ,\n",
       "        0.        ,  0.        ,  0.        ,  0.        ,  0.        ,\n",
       "        0.        , -0.60731111,  0.        ,  0.        ,  0.        ,\n",
       "        0.        ,  0.        ,  0.        ,  0.        ,  0.        ,\n",
       "        0.        ,  0.        ,  0.        ,  0.        ])"
      ]
     },
     "execution_count": 336,
     "metadata": {},
     "output_type": "execute_result"
    }
   ],
   "source": [
    "mass_DE(0,init)"
   ]
  },
  {
   "cell_type": "code",
   "execution_count": 337,
   "metadata": {},
   "outputs": [],
   "source": [
    "tspan = (0,15)\n",
    "t = np.linspace( *tspan, 100)\n",
    "initial_run = scipy.integrate.solve_ivp(mass_DE, tspan, init, t_eval=t)"
   ]
  },
  {
   "cell_type": "code",
   "execution_count": 338,
   "metadata": {},
   "outputs": [],
   "source": [
    "x = initial_run.y\n"
   ]
  },
  {
   "cell_type": "code",
   "execution_count": 339,
   "metadata": {},
   "outputs": [
    {
     "name": "stdout",
     "output_type": "stream",
     "text": [
      "0.6938273147675492 0.10125437772935994\n"
     ]
    },
    {
     "data": {
      "image/png": "[encoded data removed]",
      "text/plain": [
       "<Figure size 432x288 with 1 Axes>"
      ]
     },
     "metadata": {
      "needs_background": "light"
     },
     "output_type": "display_data"
    }
   ],
   "source": [
    "plt.figure(1)\n",
    "plt.title(\"Initial steady state calculation\")\n",
    "\n",
    "for i in range(0,12) :\n",
    "    plt.plot(t,initial_run.y[i], label=\"x{}\".format(i))\n",
    "    \n",
    "plt.xlabel(\"Time [min]\")\n",
    "plt.ylabel(\"Composition [$x_{eth}$]\")\n",
    "plt.legend(loc = \"upper right\")\n",
    "plt.savefig(\"Basic_distillation_column_V3.svg\")\n",
    "print(initial_run.y[0,-1],initial_run.y[11,-1])"
   ]
  },
  {
   "cell_type": "markdown",
   "metadata": {},
   "source": [
    "# Consistency plot of model\n",
    "\n",
    "The idea to assume CMO and constant hold up creates a scenario where mass is \"created\" to fulfill both the criterias. The plot below will show that there accumulation occuring in the column increases yet the mass balance decreases to zero. These two are thus contradictory because the mass balance should produce the exact same accumulation.\n",
    "\n",
    "The mass balance is calculated as follows:\n",
    "\n",
    "$M_{t}\\frac{dx_t}{dt} = x_FF -x_BB - x_DD $\n",
    "\n",
    "And the accumulation is calculated as follows:\n",
    "\n",
    "$M_{t}\\frac{dx_t}{dt} = \\sum{M_i\\frac{dx_i}{dt}}$\n",
    "\n",
    "where \n",
    "- $M_t$ is the total mass accumulated in the column\n",
    "- $x_t$ is the mole fraction of the mass in the column\n",
    "- $M_i$ is the total mass accumulated on each tray $i$."
   ]
  },
  {
   "cell_type": "code",
   "execution_count": 340,
   "metadata": {},
   "outputs": [],
   "source": [
    "L1 = R_r*D\n",
    "V = L1 + D\n",
    "L2 = F + L1\n",
    "\n",
    "\n",
    "holdup_vec = holdup_vector(plates,feedplate, m_cond,m_tray,m_rebl)\n",
    "\n",
    "moles_inside_column_at_zero = x[0:12,0]*holdup_vec\n",
    "\n",
    "moles_inside_column = (x[0,:]*m_cond + x[1,:]*m_tray + x[2,:]*m_tray + x[3,:]*m_tray + x[4,:]*m_tray + x[5,:]*m_tray\n",
    "                      + x[6,:]*m_tray+ x[7,:]*m_tray+ x[8,:]*m_tray+ x[9,:]*m_tray+ x[10,:]*m_tray+ x[11,:]*m_rebl -\n",
    "                      np.sum(moles_inside_column_at_zero)) \n",
    "\n",
    "\n",
    "# moles_inside_column_at_zero = (x0s[0]*m_cond+x1s[0]*m_tray+x2s[0]*m_tray+x3s[0]*m_tray+x4s[0]*m_tray+x5s[0]*m_tray+x6s[0]*m_tray+\n",
    "#                        x7s[0]*m_tray+x8s[0]*m_tray+x9s[0]*m_tray+x10s[0]*m_tray+x11s[0]*m_rebl)\n",
    "\n",
    "# This calculated the accumulation insie the column through summing the accumulation on each plate\n",
    "# moles_inside_column = (x0s*m_cond+x1s*m_tray+x2s*m_tray+x3s*m_tray+x4s*m_tray+x5s*m_tray+x6s*m_tray+\n",
    "#                        x7s*m_tray+x8s*m_tray+x9s*m_tray+x10s*m_tray+x11s*m_rebl) - moles_inside_column_at_zero\n",
    "\n",
    "\n",
    "\n",
    "# integral = []\n",
    "# for i in range(1,len(t)+1):\n",
    "#     dMtxtdt = xF*F3 - (D)*(x0s[0:i])- (L3-V)*x11s[0:i]\n",
    "#     integral.append(np.trapz(dMtxtdt,t[0:i]))\n",
    "\n",
    "\n",
    "\n",
    "# plt.figure(1)\n",
    "# plt.title(\"Consistency Plot\")\n",
    "# plt.xlabel(\"Time\")\n",
    "# plt.ylabel(\"Accumulation of mass\")\n",
    "# plt.plot(t,integral, label = \"Mole balance\")\n",
    "# plt.plot(t,moles_inside_column, label = \"Diff equations\")\n",
    "# plt.legend(loc=\"best\")\n",
    "# plt.savefig(\"consistency_plot.png\")\n",
    "# plt.figure(2)\n",
    "# plt.plot(t,abs(moles_inside_column-integral), label = \"Error\")\n",
    "# plt.xlabel(\"Time\")\n",
    "# plt.ylabel(\"Error\")\n",
    "# plt.savefig(\"consistency_plot_error.png\")"
   ]
  },
  {
   "cell_type": "code",
   "execution_count": 341,
   "metadata": {},
   "outputs": [
    {
     "ename": "ValueError",
     "evalue": "operands could not be broadcast together with shapes (20,) (10,) ",
     "output_type": "error",
     "traceback": [
      "\u001b[1;31m---------------------------------------------------------------------------\u001b[0m",
      "\u001b[1;31mValueError\u001b[0m                                Traceback (most recent call last)",
      "\u001b[1;32m<ipython-input-341-4ce1a6686857>\u001b[0m in \u001b[0;36m<module>\u001b[1;34m\u001b[0m\n\u001b[0;32m      8\u001b[0m \u001b[0mtspan\u001b[0m \u001b[1;33m=\u001b[0m \u001b[1;33m(\u001b[0m\u001b[1;36m0\u001b[0m\u001b[1;33m,\u001b[0m \u001b[1;36m50\u001b[0m\u001b[1;33m)\u001b[0m\u001b[1;33m\u001b[0m\u001b[1;33m\u001b[0m\u001b[0m\n\u001b[0;32m      9\u001b[0m \u001b[0mt\u001b[0m \u001b[1;33m=\u001b[0m \u001b[0mnp\u001b[0m\u001b[1;33m.\u001b[0m\u001b[0mlinspace\u001b[0m\u001b[1;33m(\u001b[0m \u001b[1;33m*\u001b[0m\u001b[0mtspan\u001b[0m\u001b[1;33m,\u001b[0m \u001b[1;36m100\u001b[0m\u001b[1;33m)\u001b[0m\u001b[1;33m\u001b[0m\u001b[1;33m\u001b[0m\u001b[0m\n\u001b[1;32m---> 10\u001b[1;33m \u001b[0minitial_run\u001b[0m \u001b[1;33m=\u001b[0m \u001b[0mscipy\u001b[0m\u001b[1;33m.\u001b[0m\u001b[0mintegrate\u001b[0m\u001b[1;33m.\u001b[0m\u001b[0msolve_ivp\u001b[0m\u001b[1;33m(\u001b[0m\u001b[0mmass_DE\u001b[0m\u001b[1;33m,\u001b[0m \u001b[0mtspan\u001b[0m\u001b[1;33m,\u001b[0m \u001b[0minit\u001b[0m\u001b[1;33m,\u001b[0m \u001b[0mt_eval\u001b[0m\u001b[1;33m=\u001b[0m\u001b[0mt\u001b[0m\u001b[1;33m)\u001b[0m\u001b[1;33m\u001b[0m\u001b[1;33m\u001b[0m\u001b[0m\n\u001b[0m\u001b[0;32m     11\u001b[0m \u001b[1;33m\u001b[0m\u001b[0m\n\u001b[0;32m     12\u001b[0m \u001b[0mx\u001b[0m \u001b[1;33m=\u001b[0m \u001b[0minitial_run\u001b[0m\u001b[1;33m.\u001b[0m\u001b[0my\u001b[0m\u001b[1;33m\u001b[0m\u001b[1;33m\u001b[0m\u001b[0m\n",
      "\u001b[1;32m~\\Anaconda3\\lib\\site-packages\\scipy\\integrate\\_ivp\\ivp.py\u001b[0m in \u001b[0;36msolve_ivp\u001b[1;34m(fun, t_span, y0, method, t_eval, dense_output, events, vectorized, **options)\u001b[0m\n\u001b[0;32m    454\u001b[0m         \u001b[0mmethod\u001b[0m \u001b[1;33m=\u001b[0m \u001b[0mMETHODS\u001b[0m\u001b[1;33m[\u001b[0m\u001b[0mmethod\u001b[0m\u001b[1;33m]\u001b[0m\u001b[1;33m\u001b[0m\u001b[1;33m\u001b[0m\u001b[0m\n\u001b[0;32m    455\u001b[0m \u001b[1;33m\u001b[0m\u001b[0m\n\u001b[1;32m--> 456\u001b[1;33m     \u001b[0msolver\u001b[0m \u001b[1;33m=\u001b[0m \u001b[0mmethod\u001b[0m\u001b[1;33m(\u001b[0m\u001b[0mfun\u001b[0m\u001b[1;33m,\u001b[0m \u001b[0mt0\u001b[0m\u001b[1;33m,\u001b[0m \u001b[0my0\u001b[0m\u001b[1;33m,\u001b[0m \u001b[0mtf\u001b[0m\u001b[1;33m,\u001b[0m \u001b[0mvectorized\u001b[0m\u001b[1;33m=\u001b[0m\u001b[0mvectorized\u001b[0m\u001b[1;33m,\u001b[0m \u001b[1;33m**\u001b[0m\u001b[0moptions\u001b[0m\u001b[1;33m)\u001b[0m\u001b[1;33m\u001b[0m\u001b[1;33m\u001b[0m\u001b[0m\n\u001b[0m\u001b[0;32m    457\u001b[0m \u001b[1;33m\u001b[0m\u001b[0m\n\u001b[0;32m    458\u001b[0m     \u001b[1;32mif\u001b[0m \u001b[0mt_eval\u001b[0m \u001b[1;32mis\u001b[0m \u001b[1;32mNone\u001b[0m\u001b[1;33m:\u001b[0m\u001b[1;33m\u001b[0m\u001b[1;33m\u001b[0m\u001b[0m\n",
      "\u001b[1;32m~\\Anaconda3\\lib\\site-packages\\scipy\\integrate\\_ivp\\rk.py\u001b[0m in \u001b[0;36m__init__\u001b[1;34m(self, fun, t0, y0, t_bound, max_step, rtol, atol, vectorized, first_step, **extraneous)\u001b[0m\n\u001b[0;32m     98\u001b[0m         \u001b[0mself\u001b[0m\u001b[1;33m.\u001b[0m\u001b[0mmax_step\u001b[0m \u001b[1;33m=\u001b[0m \u001b[0mvalidate_max_step\u001b[0m\u001b[1;33m(\u001b[0m\u001b[0mmax_step\u001b[0m\u001b[1;33m)\u001b[0m\u001b[1;33m\u001b[0m\u001b[1;33m\u001b[0m\u001b[0m\n\u001b[0;32m     99\u001b[0m         \u001b[0mself\u001b[0m\u001b[1;33m.\u001b[0m\u001b[0mrtol\u001b[0m\u001b[1;33m,\u001b[0m \u001b[0mself\u001b[0m\u001b[1;33m.\u001b[0m\u001b[0matol\u001b[0m \u001b[1;33m=\u001b[0m \u001b[0mvalidate_tol\u001b[0m\u001b[1;33m(\u001b[0m\u001b[0mrtol\u001b[0m\u001b[1;33m,\u001b[0m \u001b[0matol\u001b[0m\u001b[1;33m,\u001b[0m \u001b[0mself\u001b[0m\u001b[1;33m.\u001b[0m\u001b[0mn\u001b[0m\u001b[1;33m)\u001b[0m\u001b[1;33m\u001b[0m\u001b[1;33m\u001b[0m\u001b[0m\n\u001b[1;32m--> 100\u001b[1;33m         \u001b[0mself\u001b[0m\u001b[1;33m.\u001b[0m\u001b[0mf\u001b[0m \u001b[1;33m=\u001b[0m \u001b[0mself\u001b[0m\u001b[1;33m.\u001b[0m\u001b[0mfun\u001b[0m\u001b[1;33m(\u001b[0m\u001b[0mself\u001b[0m\u001b[1;33m.\u001b[0m\u001b[0mt\u001b[0m\u001b[1;33m,\u001b[0m \u001b[0mself\u001b[0m\u001b[1;33m.\u001b[0m\u001b[0my\u001b[0m\u001b[1;33m)\u001b[0m\u001b[1;33m\u001b[0m\u001b[1;33m\u001b[0m\u001b[0m\n\u001b[0m\u001b[0;32m    101\u001b[0m         \u001b[1;32mif\u001b[0m \u001b[0mfirst_step\u001b[0m \u001b[1;32mis\u001b[0m \u001b[1;32mNone\u001b[0m\u001b[1;33m:\u001b[0m\u001b[1;33m\u001b[0m\u001b[1;33m\u001b[0m\u001b[0m\n\u001b[0;32m    102\u001b[0m             self.h_abs = select_initial_step(\n",
      "\u001b[1;32m~\\Anaconda3\\lib\\site-packages\\scipy\\integrate\\_ivp\\base.py\u001b[0m in \u001b[0;36mfun\u001b[1;34m(t, y)\u001b[0m\n\u001b[0;32m    137\u001b[0m         \u001b[1;32mdef\u001b[0m \u001b[0mfun\u001b[0m\u001b[1;33m(\u001b[0m\u001b[0mt\u001b[0m\u001b[1;33m,\u001b[0m \u001b[0my\u001b[0m\u001b[1;33m)\u001b[0m\u001b[1;33m:\u001b[0m\u001b[1;33m\u001b[0m\u001b[1;33m\u001b[0m\u001b[0m\n\u001b[0;32m    138\u001b[0m             \u001b[0mself\u001b[0m\u001b[1;33m.\u001b[0m\u001b[0mnfev\u001b[0m \u001b[1;33m+=\u001b[0m \u001b[1;36m1\u001b[0m\u001b[1;33m\u001b[0m\u001b[1;33m\u001b[0m\u001b[0m\n\u001b[1;32m--> 139\u001b[1;33m             \u001b[1;32mreturn\u001b[0m \u001b[0mself\u001b[0m\u001b[1;33m.\u001b[0m\u001b[0mfun_single\u001b[0m\u001b[1;33m(\u001b[0m\u001b[0mt\u001b[0m\u001b[1;33m,\u001b[0m \u001b[0my\u001b[0m\u001b[1;33m)\u001b[0m\u001b[1;33m\u001b[0m\u001b[1;33m\u001b[0m\u001b[0m\n\u001b[0m\u001b[0;32m    140\u001b[0m \u001b[1;33m\u001b[0m\u001b[0m\n\u001b[0;32m    141\u001b[0m         \u001b[0mself\u001b[0m\u001b[1;33m.\u001b[0m\u001b[0mfun\u001b[0m \u001b[1;33m=\u001b[0m \u001b[0mfun\u001b[0m\u001b[1;33m\u001b[0m\u001b[1;33m\u001b[0m\u001b[0m\n",
      "\u001b[1;32m~\\Anaconda3\\lib\\site-packages\\scipy\\integrate\\_ivp\\base.py\u001b[0m in \u001b[0;36mfun_wrapped\u001b[1;34m(t, y)\u001b[0m\n\u001b[0;32m     19\u001b[0m \u001b[1;33m\u001b[0m\u001b[0m\n\u001b[0;32m     20\u001b[0m     \u001b[1;32mdef\u001b[0m \u001b[0mfun_wrapped\u001b[0m\u001b[1;33m(\u001b[0m\u001b[0mt\u001b[0m\u001b[1;33m,\u001b[0m \u001b[0my\u001b[0m\u001b[1;33m)\u001b[0m\u001b[1;33m:\u001b[0m\u001b[1;33m\u001b[0m\u001b[1;33m\u001b[0m\u001b[0m\n\u001b[1;32m---> 21\u001b[1;33m         \u001b[1;32mreturn\u001b[0m \u001b[0mnp\u001b[0m\u001b[1;33m.\u001b[0m\u001b[0masarray\u001b[0m\u001b[1;33m(\u001b[0m\u001b[0mfun\u001b[0m\u001b[1;33m(\u001b[0m\u001b[0mt\u001b[0m\u001b[1;33m,\u001b[0m \u001b[0my\u001b[0m\u001b[1;33m)\u001b[0m\u001b[1;33m,\u001b[0m \u001b[0mdtype\u001b[0m\u001b[1;33m=\u001b[0m\u001b[0mdtype\u001b[0m\u001b[1;33m)\u001b[0m\u001b[1;33m\u001b[0m\u001b[1;33m\u001b[0m\u001b[0m\n\u001b[0m\u001b[0;32m     22\u001b[0m \u001b[1;33m\u001b[0m\u001b[0m\n\u001b[0;32m     23\u001b[0m     \u001b[1;32mreturn\u001b[0m \u001b[0mfun_wrapped\u001b[0m\u001b[1;33m,\u001b[0m \u001b[0my0\u001b[0m\u001b[1;33m\u001b[0m\u001b[1;33m\u001b[0m\u001b[0m\n",
      "\u001b[1;32m<ipython-input-286-aff2621223f3>\u001b[0m in \u001b[0;36mmass_DE\u001b[1;34m(t, var)\u001b[0m\n\u001b[0;32m     29\u001b[0m \u001b[1;33m\u001b[0m\u001b[0m\n\u001b[0;32m     30\u001b[0m     \u001b[1;31m# component mass balance\u001b[0m\u001b[1;33m\u001b[0m\u001b[1;33m\u001b[0m\u001b[1;33m\u001b[0m\u001b[0m\n\u001b[1;32m---> 31\u001b[1;33m     \u001b[0mdxdt\u001b[0m \u001b[1;33m=\u001b[0m \u001b[1;36m1\u001b[0m\u001b[1;33m/\u001b[0m\u001b[0mholdup_vec\u001b[0m \u001b[1;33m*\u001b[0m \u001b[1;33m(\u001b[0m\u001b[0mV\u001b[0m\u001b[1;33m*\u001b[0m\u001b[1;33m(\u001b[0m\u001b[0my1\u001b[0m\u001b[1;33m[\u001b[0m\u001b[1;36m0\u001b[0m\u001b[1;33m]\u001b[0m \u001b[1;33m-\u001b[0m \u001b[0my1\u001b[0m\u001b[1;33m[\u001b[0m\u001b[1;36m1\u001b[0m\u001b[1;33m]\u001b[0m\u001b[1;33m)\u001b[0m \u001b[1;33m+\u001b[0m \u001b[0mflow1\u001b[0m\u001b[1;33m*\u001b[0m\u001b[0mx1\u001b[0m\u001b[1;33m[\u001b[0m\u001b[1;36m0\u001b[0m\u001b[1;33m]\u001b[0m \u001b[1;33m-\u001b[0m \u001b[0mflow2\u001b[0m\u001b[1;33m*\u001b[0m\u001b[0mx1\u001b[0m\u001b[1;33m[\u001b[0m\u001b[1;36m1\u001b[0m\u001b[1;33m]\u001b[0m \u001b[1;33m+\u001b[0m \u001b[0mfeed1\u001b[0m\u001b[1;33m*\u001b[0m\u001b[0mxF\u001b[0m  \u001b[1;33m-\u001b[0m \u001b[0mfeed2\u001b[0m\u001b[1;33m*\u001b[0m\u001b[0mxi\u001b[0m\u001b[1;33m)\u001b[0m\u001b[1;33m\u001b[0m\u001b[1;33m\u001b[0m\u001b[0m\n\u001b[0m\u001b[0;32m     32\u001b[0m \u001b[1;33m\u001b[0m\u001b[0m\n\u001b[0;32m     33\u001b[0m \u001b[1;31m#     HL,HL1, HL2, HV, HV1, HV2 = H(xi,yi,Ti)\u001b[0m\u001b[1;33m\u001b[0m\u001b[1;33m\u001b[0m\u001b[1;33m\u001b[0m\u001b[0m\n",
      "\u001b[1;31mValueError\u001b[0m: operands could not be broadcast together with shapes (20,) (10,) "
     ]
    }
   ],
   "source": [
    "# Now lets ee if we can use the vector version for a different setup...\n",
    "\n",
    "plates = 20\n",
    "feedplate = 9\n",
    "\n",
    "init = [0.1,0.1,0.1,0.1,0.1,0.1,0.1,0.1,0.1,0.1,0.1,0.1,0.1,0.1,0.1,0.1,0.1,0.1,0.1,0.1]\n",
    "\n",
    "tspan = (0, 50)\n",
    "t = np.linspace( *tspan, 100)\n",
    "initial_run = scipy.integrate.solve_ivp(mass_DE, tspan, init, t_eval=t)\n",
    "\n",
    "x = initial_run.y\n",
    "\n",
    "for i in x:\n",
    "    plt.plot(t,i)\n"
   ]
  },
  {
   "cell_type": "code",
   "execution_count": null,
   "metadata": {},
   "outputs": [],
   "source": []
  }
 ],
 "metadata": {
  "kernelspec": {
   "display_name": "Python 3",
   "language": "python",
   "name": "python3"
  },
  "language_info": {
   "codemirror_mode": {
    "name": "ipython",
    "version": 3
   },
   "file_extension": ".py",
   "mimetype": "text/x-python",
   "name": "python",
   "nbconvert_exporter": "python",
   "pygments_lexer": "ipython3",
   "version": "3.7.3"
  }
 },
 "nbformat": 4,
 "nbformat_minor": 2
}
