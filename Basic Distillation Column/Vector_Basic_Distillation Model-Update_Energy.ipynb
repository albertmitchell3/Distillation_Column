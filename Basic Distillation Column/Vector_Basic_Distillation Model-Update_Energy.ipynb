{
 "cells": [
  {
   "cell_type": "code",
   "execution_count": 1,
   "metadata": {},
   "outputs": [],
   "source": [
    "import numpy as np\n",
    "import sympy\n",
    "from matplotlib import pyplot as plt\n",
    "import scipy\n",
    "import scipy.optimize\n",
    "import scipy.integrate\n",
    "import CoolProp.CoolProp as CP\n",
    "from scipy.stats.mstats import gmean"
   ]
  },
  {
   "cell_type": "markdown",
   "metadata": {},
   "source": [
    "## Assumptions:\n",
    "\n",
    "1. Constant liquid hold up on each plate \n",
    "2. Constant liquid flow in each of the three sections of the column\n",
    "3. Constant vapour flow in the column\n",
    "4. No vapour holdup in the column\n",
    "5. Constant hold up in reboiler and condenser\n",
    "6. Constant relative volatility"
   ]
  },
  {
   "cell_type": "markdown",
   "metadata": {},
   "source": [
    "## The functions below are used for the VLE data\n",
    "\n",
    "- The first function is based on a constant relative volatility assumption calculate as an average from the data set at 1 atm. Here a geometrial mean is used due to the volatility of the data set.\n",
    "- The second function is based on VLE data collected from a system at a pressure of 1 atm."
   ]
  },
  {
   "cell_type": "code",
   "execution_count": 2,
   "metadata": {},
   "outputs": [
    {
     "data": {
      "text/plain": [
       "array([0.52922059, 0.56570296, 0.79192729])"
      ]
     },
     "execution_count": 2,
     "metadata": {},
     "output_type": "execute_result"
    }
   ],
   "source": [
    "def rel_vol(xi):\n",
    "    \n",
    "    xi = np.asarray(xi)\n",
    "    x= np.asarray([ 0.019, 0.0721, 0.0966, 0.1238, 0.1661, 0.2337, 0.2608, \n",
    "              0.3273, 0.3965, 0.5079, 0.5198, 0.5732, 0.6763, 0.7472, 0.8943])\n",
    "    y = np.asarray([ 0.170, 0.3891, 0.4375, 0.4704, 0.5089, 0.5445, 0.5580, \n",
    "              0.5826, 0.6122, 0.6564, 0.6599, 0.6841, 0.7385, 0.7815, 0.8943])\n",
    "    \n",
    "    αi = (y*(1-x))/(x*(1-y))\n",
    "#     α = np.average(αi)\n",
    "    α = gmean(αi)\n",
    "    xi = (α*xi)/(1+(α-1)*xi)\n",
    "    \n",
    "    return xi\n",
    "\n",
    "rel_vol([0.27,0.3,0.556])"
   ]
  },
  {
   "cell_type": "code",
   "execution_count": 3,
   "metadata": {},
   "outputs": [
    {
     "data": {
      "text/plain": [
       "array([0.56140331, 0.57250105, 0.67630524])"
      ]
     },
     "execution_count": 3,
     "metadata": {},
     "output_type": "execute_result"
    }
   ],
   "source": [
    "def vle_data(xi):\n",
    "    \n",
    "    x_data = [0, 0.019, 0.0721, 0.0966, 0.1238, 0.1661, 0.2337, 0.2608, \n",
    "              0.3273, 0.3965, 0.5079, 0.5198, 0.5732, 0.6763, 0.7472, 0.8943, 1]\n",
    "    y_data = [0, 0.170, 0.3891, 0.4375, 0.4704, 0.5089, 0.5445, 0.5580, \n",
    "              0.5826, 0.6122, 0.6564, 0.6599, 0.6841, 0.7385, 0.7815, 0.8943, 1]\n",
    "    \n",
    "    x = np.interp(xi,x_data, y_data)\n",
    "    return x\n",
    "\n",
    "vle_data([0.27,0.3,0.556])"
   ]
  },
  {
   "cell_type": "markdown",
   "metadata": {},
   "source": [
    "# Vectorized Equations #\n",
    "\n",
    "$\\frac{dx_i}{dt} = \\left(\\frac{1}{M_i}\\right)\\left(V(y_{i+1}-y_{i}) + L_1(x_{i-1}-x_{i}) + Fx_F \\right)$\n",
    "\n",
    "A vector is utilied for the following variables:\n",
    "- $y_{i+1}$\n",
    "- $y_{i}$\n",
    "- $x_{i}$\n",
    "- $x_{i-1}$\n",
    "- $L_1$\n",
    "- $F$"
   ]
  },
  {
   "cell_type": "markdown",
   "metadata": {},
   "source": [
    "## Feed vector function\n",
    "- This function creates 4 vectors for the flow.\n",
    "- The first two vectors are the liquid flows.\n",
    "- The third vector is the feed vector.\n",
    "- The fourth vector contains the reflux and the boilup."
   ]
  },
  {
   "cell_type": "code",
   "execution_count": 4,
   "metadata": {},
   "outputs": [
    {
     "ename": "NameError",
     "evalue": "name 'R_r' is not defined",
     "output_type": "error",
     "traceback": [
      "\u001b[1;31m---------------------------------------------------------------------------\u001b[0m",
      "\u001b[1;31mNameError\u001b[0m                                 Traceback (most recent call last)",
      "\u001b[1;32m<ipython-input-4-22f2f410f333>\u001b[0m in \u001b[0;36m<module>\u001b[1;34m\u001b[0m\n\u001b[0;32m     25\u001b[0m     \u001b[1;32mreturn\u001b[0m \u001b[0mnp\u001b[0m\u001b[1;33m.\u001b[0m\u001b[0masarray\u001b[0m\u001b[1;33m(\u001b[0m\u001b[1;33m[\u001b[0m\u001b[0mflow_vec_top\u001b[0m\u001b[1;33m,\u001b[0m\u001b[0mflow_vec_bot\u001b[0m\u001b[1;33m,\u001b[0m\u001b[0mfeed_vec1\u001b[0m\u001b[1;33m,\u001b[0m\u001b[0mfeed_vec2\u001b[0m\u001b[1;33m]\u001b[0m\u001b[1;33m)\u001b[0m\u001b[1;33m\u001b[0m\u001b[1;33m\u001b[0m\u001b[0m\n\u001b[0;32m     26\u001b[0m \u001b[1;33m\u001b[0m\u001b[0m\n\u001b[1;32m---> 27\u001b[1;33m \u001b[0mfeed_vector\u001b[0m\u001b[1;33m(\u001b[0m\u001b[1;36m12\u001b[0m\u001b[1;33m,\u001b[0m\u001b[1;36m4\u001b[0m\u001b[1;33m,\u001b[0m\u001b[1;36m1\u001b[0m\u001b[1;33m)\u001b[0m\u001b[1;33m\u001b[0m\u001b[1;33m\u001b[0m\u001b[0m\n\u001b[0m",
      "\u001b[1;32m<ipython-input-4-22f2f410f333>\u001b[0m in \u001b[0;36mfeed_vector\u001b[1;34m(plates, feedplate, feed)\u001b[0m\n\u001b[0;32m      1\u001b[0m \u001b[1;32mdef\u001b[0m \u001b[0mfeed_vector\u001b[0m\u001b[1;33m(\u001b[0m\u001b[0mplates\u001b[0m\u001b[1;33m,\u001b[0m\u001b[0mfeedplate\u001b[0m\u001b[1;33m,\u001b[0m\u001b[0mfeed\u001b[0m\u001b[1;33m)\u001b[0m\u001b[1;33m:\u001b[0m\u001b[1;33m\u001b[0m\u001b[1;33m\u001b[0m\u001b[0m\n\u001b[0;32m      2\u001b[0m \u001b[1;33m\u001b[0m\u001b[0m\n\u001b[1;32m----> 3\u001b[1;33m     \u001b[0mL1\u001b[0m \u001b[1;33m=\u001b[0m \u001b[0mR_r\u001b[0m\u001b[1;33m*\u001b[0m\u001b[0mD\u001b[0m\u001b[1;33m\u001b[0m\u001b[1;33m\u001b[0m\u001b[0m\n\u001b[0m\u001b[0;32m      4\u001b[0m     \u001b[0mV\u001b[0m \u001b[1;33m=\u001b[0m \u001b[0mL1\u001b[0m \u001b[1;33m+\u001b[0m \u001b[0mD\u001b[0m\u001b[1;33m\u001b[0m\u001b[1;33m\u001b[0m\u001b[0m\n\u001b[0;32m      5\u001b[0m     \u001b[0mL2\u001b[0m \u001b[1;33m=\u001b[0m \u001b[0mF\u001b[0m \u001b[1;33m+\u001b[0m \u001b[0mL1\u001b[0m\u001b[1;33m\u001b[0m\u001b[1;33m\u001b[0m\u001b[0m\n",
      "\u001b[1;31mNameError\u001b[0m: name 'R_r' is not defined"
     ]
    }
   ],
   "source": [
    "def feed_vector(plates,feedplate,feed):\n",
    "    \n",
    "    L1 = R_r*D\n",
    "    V = L1 + D\n",
    "    L2 = F + L1\n",
    "    \n",
    "    R = V - L1\n",
    "    BU = L2 - V\n",
    "    \n",
    "    feed_vec1 = np.zeros(plates)\n",
    "    feed_vec2 = np.zeros(plates)\n",
    "    flow_vec_top = np.zeros(plates)\n",
    "    flow_vec_bot = np.zeros(plates)\n",
    "    \n",
    "    flow_vec_top[0:feedplate] = L1\n",
    "    flow_vec_top[feedplate:] = L2\n",
    "    \n",
    "    flow_vec_bot[0:feedplate-1] = L1\n",
    "    flow_vec_bot[feedplate-1:] = L2\n",
    "    \n",
    "    feed_vec1[feedplate-1] = feed\n",
    "    feed_vec2[0] = R\n",
    "    feed_vec2[-1] = BU\n",
    "    \n",
    "    return np.asarray([flow_vec_top,flow_vec_bot,feed_vec1,feed_vec2])\n",
    "\n",
    "feed_vector(12,4,1)"
   ]
  },
  {
   "cell_type": "markdown",
   "metadata": {},
   "source": []
  },
  {
   "cell_type": "code",
   "execution_count": 5,
   "metadata": {},
   "outputs": [],
   "source": [
    "def comp_vector(xi,yi):\n",
    "    \n",
    "    xi = np.asarray(xi)\n",
    "    yi = np.asarray(yi)\n",
    "    \n",
    "    xi1 = np.copy(xi)\n",
    "    xi1 = np.roll(xi1, 1)\n",
    "    xi1[0] = 0\n",
    "    \n",
    "    xi2 = np.copy(xi)\n",
    "    xi2[-1] = 0\n",
    "    \n",
    "    yi1 = np.copy(yi)\n",
    "    yi1 = np.roll(yi1, -1)\n",
    "    yi1[-1] = 0\n",
    "    \n",
    "    yi2 = np.copy(yi)\n",
    "    yi2[0] = 0\n",
    "    \n",
    "    \n",
    "    return np.asarray([xi1,xi2]),np.asarray([yi1,yi2])"
   ]
  },
  {
   "cell_type": "code",
   "execution_count": 6,
   "metadata": {},
   "outputs": [
    {
     "ename": "TypeError",
     "evalue": "comp_vector() missing 1 required positional argument: 'yi'",
     "output_type": "error",
     "traceback": [
      "\u001b[1;31m---------------------------------------------------------------------------\u001b[0m",
      "\u001b[1;31mTypeError\u001b[0m                                 Traceback (most recent call last)",
      "\u001b[1;32m<ipython-input-6-5cbb2fcbacf3>\u001b[0m in \u001b[0;36m<module>\u001b[1;34m\u001b[0m\n\u001b[1;32m----> 1\u001b[1;33m \u001b[0mcomp_vector\u001b[0m\u001b[1;33m(\u001b[0m\u001b[1;33m[\u001b[0m\u001b[1;36m0.1\u001b[0m\u001b[1;33m,\u001b[0m \u001b[1;36m0.1\u001b[0m\u001b[1;33m,\u001b[0m \u001b[1;36m0.1\u001b[0m\u001b[1;33m,\u001b[0m \u001b[1;36m0.1\u001b[0m\u001b[1;33m,\u001b[0m \u001b[1;36m0.1\u001b[0m\u001b[1;33m,\u001b[0m \u001b[1;36m0.1\u001b[0m\u001b[1;33m,\u001b[0m \u001b[1;36m0.1\u001b[0m\u001b[1;33m,\u001b[0m \u001b[1;36m0.1\u001b[0m\u001b[1;33m,\u001b[0m \u001b[1;36m0.1\u001b[0m\u001b[1;33m,\u001b[0m \u001b[1;36m0.1\u001b[0m\u001b[1;33m,\u001b[0m \u001b[1;36m0.1\u001b[0m\u001b[1;33m,\u001b[0m \u001b[1;36m0.1\u001b[0m\u001b[1;33m]\u001b[0m\u001b[1;33m)\u001b[0m\u001b[1;33m\u001b[0m\u001b[1;33m\u001b[0m\u001b[0m\n\u001b[0m",
      "\u001b[1;31mTypeError\u001b[0m: comp_vector() missing 1 required positional argument: 'yi'"
     ]
    }
   ],
   "source": [
    "comp_vector([0.1, 0.1, 0.1, 0.1, 0.1, 0.1, 0.1, 0.1, 0.1, 0.1, 0.1, 0.1])"
   ]
  },
  {
   "cell_type": "markdown",
   "metadata": {},
   "source": []
  },
  {
   "cell_type": "code",
   "execution_count": 7,
   "metadata": {},
   "outputs": [],
   "source": [
    "def holdup_vector(plates,feedplate, m_cond,m_tray,m_rebl):\n",
    "    holdup_vec = np.zeros(plates)\n",
    "    \n",
    "    holdup_vec[0] = m_cond\n",
    "    holdup_vec[-1] = m_rebl\n",
    "    holdup_vec[1:plates-1] = m_tray\n",
    "    \n",
    "    return holdup_vec"
   ]
  },
  {
   "cell_type": "code",
   "execution_count": 8,
   "metadata": {},
   "outputs": [
    {
     "data": {
      "text/plain": [
       "array([0.15, 0.2 , 0.2 , 0.2 , 0.2 , 0.2 , 0.2 , 0.2 , 0.2 , 0.2 , 0.2 ,\n",
       "       0.45])"
      ]
     },
     "execution_count": 8,
     "metadata": {},
     "output_type": "execute_result"
    }
   ],
   "source": [
    "holdup_vector(12,4, 0.15, 0.2,0.45)"
   ]
  },
  {
   "cell_type": "markdown",
   "metadata": {},
   "source": [
    "## Heat capacity function \n",
    "- This function calculates the heat capacity of the liquid holdup on each plate\n",
    "- The heat capacity is used to calculate the temperature on the plate."
   ]
  },
  {
   "cell_type": "code",
   "execution_count": 9,
   "metadata": {},
   "outputs": [],
   "source": [
    "def Cp(xi):\n",
    "    CPi = []\n",
    "    \n",
    "    for i in range(len(xi)):\n",
    "        CPi.append(CP.PropsSI('CPMOLAR','Q',0,'P',101325,f'Ethanol[{xi[i]}]&Water[{1-xi[i]}]'))\n",
    "    return np.asarray(CPi)"
   ]
  },
  {
   "cell_type": "code",
   "execution_count": 10,
   "metadata": {},
   "outputs": [
    {
     "data": {
      "text/plain": [
       "array([117.45980637, 122.1498239 , 126.25094095])"
      ]
     },
     "execution_count": 10,
     "metadata": {},
     "output_type": "execute_result"
    }
   ],
   "source": [
    "Cp([0.5,0.6,0.7])"
   ]
  },
  {
   "cell_type": "markdown",
   "metadata": {},
   "source": [
    "## Ethalpy function \n",
    "- Vectors corrosponding to the flow vectors are calculated and shaped correctly.\n",
    "- This function calculates liquid and vapour enthalpy.\n",
    "- The pressure is currently assumed to be costant and set equal to 101.325 kPa."
   ]
  },
  {
   "cell_type": "code",
   "execution_count": 11,
   "metadata": {},
   "outputs": [],
   "source": [
    "def H(xi,yi,Ti):\n",
    "    Hi_L = []\n",
    "    Hi_V = []\n",
    "    \n",
    "    for i in range(len(xi)):\n",
    "    \n",
    "        Hi_L.append(CP.PropsSI('HMOLAR','Q',0,'P',101325,f'Ethanol[{xi[i]}]&Water[{1-xi[i]}]'))\n",
    "        Hi_V.append(CP.PropsSI('HMOLAR','Q',0,'P',101325,f'Ethanol[{xi[i]}]&Water[{1-xi[i]}]'))\n",
    "        \n",
    "    Hi_L = np.asarray(Hi_L)\n",
    "    Hi_V = np.asarray(Hi_V)\n",
    "    \n",
    "    Hi_L1 = np.copy(Hi_L)\n",
    "    Hi_L1 = np.roll(Hi_L1, 1)\n",
    "    Hi_L1[0] = 0\n",
    "    \n",
    "    Hi_L2 = np.copy(Hi_L)\n",
    "    Hi_L2[-1] = 0\n",
    "    \n",
    "    Hi_V1 = np.copy(Hi_V)\n",
    "    Hi_V1 = np.roll(Hi_V1, -1)\n",
    "    Hi_V1[-1] = 0\n",
    "    \n",
    "    Hi_V2 = np.copy(Hi_V)\n",
    "    Hi_V2[0] = 0\n",
    "    \n",
    "    return [Hi_L,Hi_L1,Hi_L2,Hi_V,Hi_V1,Hi_V2]"
   ]
  },
  {
   "cell_type": "code",
   "execution_count": 12,
   "metadata": {},
   "outputs": [
    {
     "data": {
      "text/plain": [
       "[array([2745.1411304 , 2077.85447   , 1399.61294788]),\n",
       " array([   0.       , 2745.1411304, 2077.85447  ]),\n",
       " array([2745.1411304, 2077.85447  ,    0.       ]),\n",
       " array([2745.1411304 , 2077.85447   , 1399.61294788]),\n",
       " array([2077.85447   , 1399.61294788,    0.        ]),\n",
       " array([   0.        , 2077.85447   , 1399.61294788])]"
      ]
     },
     "execution_count": 12,
     "metadata": {},
     "output_type": "execute_result"
    }
   ],
   "source": [
    "H([0.6,0.7,0.8],[0.5,0.6,0.7],[400,400,400])"
   ]
  },
  {
   "cell_type": "markdown",
   "metadata": {},
   "source": [
    "## Reboiler and Condenser Duty"
   ]
  },
  {
   "cell_type": "code",
   "execution_count": 82,
   "metadata": {},
   "outputs": [
    {
     "data": {
      "text/plain": [
       "array([-1000.,     0.,     0.,     0.,     0.,     0.,     0.,     0.,\n",
       "           0.,     0.,     0.,  2000.])"
      ]
     },
     "execution_count": 82,
     "metadata": {},
     "output_type": "execute_result"
    }
   ],
   "source": [
    "def duty(plates,Qcond,Qrebl):\n",
    "    duty_vector = np.zeros(plates)\n",
    "    duty_vector[0] = Qcond\n",
    "    duty_vector[-1] = Qrebl\n",
    "    \n",
    "    return duty_vector\n",
    "\n",
    "duty(12,-1000,2000)"
   ]
  },
  {
   "cell_type": "markdown",
   "metadata": {},
   "source": [
    "## Vectozied model of the column"
   ]
  },
  {
   "cell_type": "code",
   "execution_count": 106,
   "metadata": {},
   "outputs": [],
   "source": [
    "def mass_DE(t,var):\n",
    "\n",
    "    x,T = np.reshape(var,(2,-1))\n",
    "    \n",
    "    xi = np.asarray(x)\n",
    "    Ti = np.asarray(T)\n",
    "    \n",
    "    L1 = R_r*D\n",
    "    V = L1 + D\n",
    "    L2 = F + L1\n",
    "    \n",
    "    R = V - L1\n",
    "    BU = L2 - V\n",
    "    \n",
    "    yi = rel_vol(xi) # change to vle_data() for interpolation of vapour liquid equilibrium\n",
    "    \n",
    "    \n",
    "    if t<15:\n",
    "        feedplate = 4\n",
    "    else:\n",
    "        feedplate = 4 # change this to vary which plate is fed on\n",
    "    \n",
    "    flow1, flow2, feed1, feed2 = feed_vector(plates,feedplate, F)\n",
    "    \n",
    "    x1, y1 = comp_vector(xi,yi)\n",
    "    holdup_vec = holdup_vector(plates,feedplate, m_cond,m_tray,m_rebl)\n",
    "\n",
    "    # component mass balance \n",
    "    dxdt = 1/holdup_vec * (V*(y1[0] - y1[1]) + flow1*x1[0] - flow2*x1[1] + feed1*xF  - feed2*xi)\n",
    "    \n",
    "    HL,HL1, HL2, HV, HV1, HV2 = H(xi,yi,Ti)\n",
    "    CPi = Cp(xi)\n",
    "    duty_vector = duty(plates,-100,200)\n",
    "    \n",
    "    # energy balance\n",
    "    #dTdt = np.zeros(len(Ti)) \n",
    "    dTdt = 1/(holdup_vec*CPi)*( V*(HV1 - HV2) + flow1*HL1 - flow2*HL2 + feed1*HL - feed2*HL + duty_vector )\n",
    "    didt = np.concatenate([dxdt, dTdt])\n",
    "    print(dTdt)\n",
    "    return didt"
   ]
  },
  {
   "cell_type": "code",
   "execution_count": 107,
   "metadata": {},
   "outputs": [],
   "source": [
    "# plates is the number of total plates + 2 (for the reboiler and condenser)\n",
    "# feedplate is the plate number the feed occurs on\n",
    "# x_initial is an array with the initial column states\n",
    "\n",
    "plates = 12\n",
    "feedplate = 4"
   ]
  },
  {
   "cell_type": "markdown",
   "metadata": {},
   "source": [
    "## Inputs to calculate intial state"
   ]
  },
  {
   "cell_type": "markdown",
   "metadata": {},
   "source": [
    "### Input variables\n",
    "\n",
    "1. $F_3$ - Feed flow rate on plate 3\n",
    "2. $F_7$ - Feed flow rate on plate 7\n",
    "3. $x_F$ - Feed liquid composition\n",
    "4. $Rr$ - Reflux ratio\n",
    "5. $D_F$ - Distillate to feed ratio\n",
    "\n",
    "### Parameters\n",
    "\n",
    "1. $\\alpha$ - Relative volatility\n",
    "2. $m_{tray}$ - holdup on each tray\n",
    "2. $m_{cond}$ - holdup in the total condenser\n",
    "2. $m_{rebl}$ - holdup in the partial reboiler"
   ]
  },
  {
   "cell_type": "code",
   "execution_count": 108,
   "metadata": {},
   "outputs": [
    {
     "name": "stdout",
     "output_type": "stream",
     "text": [
      "[0.1 0.1 0.1 0.1 0.1 0.1 0.1 0.1 0.1 0.1 0.1 0.1]\n",
      "[303. 303. 303. 303. 303. 303. 303. 303. 303. 303. 303. 303.]\n"
     ]
    }
   ],
   "source": [
    "init_comp = np.array([0.1, 0.1, 0.1, 0.1, 0.1, 0.1, 0.1, 0.1, 0.1, 0.1, 0.1, 0.1])\n",
    "init_temp = np.array([303,303,303,303,303,303,303,303,303,303,303,303])\n",
    "\n",
    "init = np.concatenate([init_comp,init_temp])\n",
    "\n",
    "x,T = np.reshape(init,(2,-1))\n",
    "print(x)\n",
    "print(T)"
   ]
  },
  {
   "cell_type": "code",
   "execution_count": 109,
   "metadata": {},
   "outputs": [],
   "source": [
    "init_comp = np.array([0.1, 0.1, 0.1, 0.1, 0.1, 0.1, 0.1, 0.1, 0.1, 0.1, 0.1, 0.1])\n",
    "init_temp = np.array([303,303,303,303,303,303,303,303,303,303,303,303])\n",
    "\n",
    "init = np.concatenate([init_comp,init_temp])\n",
    "\n",
    "F = 1 # Feed on plate 3\n",
    "D =0.5\n",
    "xF = 0.25 # mole fraction in feed\n",
    "R_r = 0.6 # reflux ratio\n",
    "m_cond = 0.15 # holdup in condenser\n",
    "m_tray = 0.2 # holdup on each tray\n",
    "m_rebl = 0.45 # holdup in reboiler\n",
    "α = 1.6 # relative volatility\n",
    "\n"
   ]
  },
  {
   "cell_type": "code",
   "execution_count": 110,
   "metadata": {},
   "outputs": [
    {
     "name": "stdout",
     "output_type": "stream",
     "text": [
      "[-7.43043949  0.          0.          0.          0.          0.\n",
      "  0.          0.          0.          0.          0.          4.95362632]\n"
     ]
    },
    {
     "data": {
      "text/plain": [
       "array([ 0.81306836,  0.        ,  0.        ,  0.75      ,  0.        ,\n",
       "        0.        ,  0.        ,  0.        ,  0.        ,  0.        ,\n",
       "        0.        , -0.27102279, -7.43043949,  0.        ,  0.        ,\n",
       "        0.        ,  0.        ,  0.        ,  0.        ,  0.        ,\n",
       "        0.        ,  0.        ,  0.        ,  4.95362632])"
      ]
     },
     "execution_count": 110,
     "metadata": {},
     "output_type": "execute_result"
    }
   ],
   "source": [
    "mass_DE(0,init)"
   ]
  },
  {
   "cell_type": "code",
   "execution_count": null,
   "metadata": {},
   "outputs": [
    {
     "name": "stdout",
     "output_type": "stream",
     "text": [
      "[-7.43043949  0.          0.          0.          0.          0.\n",
      "  0.          0.          0.          0.          0.          4.95362632]\n",
      "[-5.57023926 -0.51611259 -1.27053755  1.73974462 -2.06462353  0.\n",
      "  0.          0.          0.          0.          0.46510631  4.62473145]\n",
      "[-3.14224957 -1.19676335 -2.94903166  4.01593227 -4.79217644  0.\n",
      "  0.          0.          0.          0.          1.09818416  4.17541995]\n",
      "[-1.42027782 -1.91265403 -3.52468799  4.96608039 -5.74384666 -0.36324472\n",
      "  0.          0.          0.          0.10498018  1.31712755  3.89967012]\n",
      "[  6.18294879  -3.95573943  -8.7657567   12.08583879 -14.74679824\n",
      "   0.05215509  -0.42630391   0.           0.15916385  -0.0399437\n",
      "   3.43246931   2.25118709]\n",
      "[ 6.97944270e+00 -2.16465420e+00 -1.37343294e+01  1.75556319e+01\n",
      " -2.37577126e+01  3.79859830e+00 -1.27231786e+00  2.13131408e-02\n",
      "  4.80484198e-01 -1.15644671e+00  5.42167630e+00  1.56178039e+00]\n",
      "[  8.08992329  -2.47223634 -14.39747437  18.55382736 -25.21872257\n",
      "   4.10407562  -1.57601447   0.04362069   0.59343829  -1.24523089\n",
      "   5.74113589   1.2663884 ]\n",
      "[ 8.71662330e+00 -5.95567574e+00 -7.48705879e+00  1.12001697e+01\n",
      " -1.24524939e+01 -2.13961309e+00 -2.14211537e-01 -1.20803291e-02\n",
      "  7.77748642e-02  6.06689699e-01  2.94900378e+00  1.96524624e+00]\n",
      "[ 11.71050967  -7.31517628  -8.21733211  12.59956028 -13.78941502\n",
      "  -2.91049183  -0.36386647  -0.01974477   0.1302145    0.82480398\n",
      "   3.28928508   1.33177574]\n",
      "[ 12.78448205  -7.85095308  -8.16852144  12.78910354 -13.81056116\n",
      "  -3.3062384   -0.48482657  -0.03005761   0.17156897   0.93009291\n",
      "   3.24635051   1.12127915]\n",
      "[ 18.18461197  -9.84445376  -9.71202505  15.57374129 -16.87215591\n",
      "  -4.21371827  -1.01192     -0.1078798    0.32228543   1.06417259\n",
      "   4.02376482  -0.25462218]\n",
      "[ 19.60227972  -9.24239667 -12.87415718  19.13160555 -22.44830157\n",
      "  -2.52720354  -1.10632925  -0.15409837   0.32973844   0.37232101\n",
      "   5.78888624  -0.98429613]\n",
      "[ 20.28236398  -9.30625849 -13.20737634  19.70557197 -23.37264884\n",
      "  -2.22273321  -1.40499813  -0.17546665   0.44790989   0.19860852\n",
      "   6.01413574  -1.25134313]\n",
      "[ 19.41085914 -10.85370185  -8.28314314  14.36858243 -14.61570659\n",
      "  -5.48341054  -1.28579621  -0.13482302   0.41265663   1.4692009\n",
      "   3.17621591  -0.39801794]\n",
      "[ 21.30084635 -11.63464186  -8.11602281  14.60974915 -14.57746433\n",
      "  -6.10133748  -1.62267075  -0.1876081    0.50663781   1.59901621\n",
      "   3.01862924  -0.87758411]\n",
      "[ 21.96975599 -11.81760506  -7.92327329  14.53585466 -14.37012205\n",
      "  -6.30048963  -1.78993734  -0.22749894   0.53948128   1.60692829\n",
      "   2.84111152  -1.02606307]\n",
      "[ 25.9395415  -12.90378199  -7.85922006  15.16611972 -14.69668979\n",
      "  -7.15890525  -2.43019102  -0.41611719   0.57801081   1.59093112\n",
      "   2.67199207  -2.09037223]\n",
      "[ 27.70435408 -13.30877413  -9.29182742  16.94187763 -17.10288588\n",
      "  -7.00577316  -2.29501468  -0.4315914    0.41055679   1.38516845\n",
      "   3.92456788  -2.77895488]\n",
      "[ 28.32445659 -13.24055045  -9.45299433  17.22197217 -17.57338871\n",
      "  -6.82752244  -2.45389743  -0.48477988   0.41888899   1.15462222\n",
      "   4.09182115  -3.01075797]\n",
      "[ 26.56642881 -12.92544768  -6.95368842  14.28553165 -13.36884341\n",
      "  -7.48176685  -2.79368384  -0.52088243   0.65266411   1.59918059\n",
      "   1.78971008  -2.12312928]\n",
      "[ 28.10638323 -13.12815073  -6.6012419   14.11026801 -12.98623935\n",
      "  -7.73943242  -3.14673511  -0.65112959   0.66090136   1.49496063\n",
      "   1.35246139  -2.4791524 ]\n",
      "[ 28.74786088 -13.08446389  -6.42983819  13.95517809 -12.75805588\n",
      "  -7.7803357   -3.27159843  -0.72953173   0.61177029   1.38389263\n",
      "   1.10581076  -2.56964354]\n",
      "[ 32.65563981 -13.42244351  -5.97818096  13.77366981 -12.30343354\n",
      "  -8.06766346  -3.92419603  -1.09609549   0.41285439   0.93280748\n",
      "   0.41713037  -3.38874543]\n",
      "[ 34.4477157  -14.18349631  -6.60693969  14.763097   -13.49280343\n",
      "  -8.13309016  -4.12747302  -1.12910188   0.43504738   0.87938197\n",
      "   1.46540946  -4.14918508]\n",
      "[ 35.29532551 -14.10383822  -6.7456337   14.95619971 -13.86458454\n",
      "  -7.88946091  -4.2595504   -1.21161219   0.35921011   0.49125685\n",
      "   1.75197682  -4.38706755]\n",
      "[ 33.47093368 -13.01712559  -5.44311391  13.07869896 -11.41311411\n",
      "  -8.06083705  -4.04205584  -1.27490341   0.20657612   0.65967124\n",
      "  -0.52797922  -3.26409855]\n",
      "[ 3.51770988e+01 -1.29258444e+01 -5.16533600e+00  1.27929793e+01\n",
      " -1.10394371e+01 -8.01898231e+00 -4.28250752e+00 -1.48622894e+00\n",
      "  2.37740857e-02  2.66989623e-01 -1.06335585e+00 -3.46671892e+00]\n",
      "[ 35.96806043 -12.8247473   -5.05013573  12.62888656 -10.82929893\n",
      "  -7.99115591  -4.34201654  -1.60125526  -0.14236717   0.08075466\n",
      "  -1.33768771  -3.48923384]\n",
      "[ 40.28404735 -12.75509636  -4.68298432  12.29167828 -10.52414334\n",
      "  -7.52501435  -5.03976419  -2.2137659   -0.37291564  -1.27164377\n",
      "  -1.94393047  -4.03195778]\n",
      "[ 4.16488991e+01 -1.32564313e+01 -5.08045420e+00  1.31728850e+01\n",
      " -1.20803620e+01 -6.48900053e+00 -6.02354925e+00 -2.51238363e+00\n",
      "  8.84441489e-01 -2.76479112e+00 -2.00772398e-02 -4.97520023e+00]\n",
      "[ 42.64228539 -13.16779415  -5.30761863  13.54311959 -12.98869905\n",
      "  -5.53935474  -6.54451848  -2.87825877   1.59998123  -4.38391831\n",
      "   1.29456847  -5.36427146]\n",
      "[ 41.58825127 -12.40635092  -4.3131986   11.60868968  -9.45235654\n",
      "  -7.91887392  -4.74136607  -2.320676    -1.40387947  -0.95356377\n",
      "  -3.43100217  -3.6574939 ]\n",
      "[ 43.13282153 -12.2738902   -4.19705863  11.44287917  -9.33337204\n",
      "  -7.66358544  -4.92091628  -2.63279645  -1.47893934  -1.71572549\n",
      "  -3.59754851  -3.73155908]\n",
      "[ 43.83921335 -12.20356593  -4.12193989  11.31155548  -9.14117774\n",
      "  -7.67838658  -4.9494919   -2.69695618  -1.78884397  -1.73167205\n",
      "  -3.94189155  -3.68349336]\n",
      "[ 47.42251943 -11.8729052   -4.15127176  11.48964599 -10.11968219\n",
      "  -6.02424168  -5.63607275  -4.73746763   0.96443967  -7.38526432\n",
      "  -0.99816191  -4.38703228]\n",
      "[ 48.15060506 -11.68603972  -5.06659127  13.33936333 -14.62893334\n",
      "  -1.86064688  -6.6730937   -9.73861529  12.13466535 -22.72296331\n",
      "  11.26838814  -6.76147309]\n",
      "[ 48.8300677  -11.41846764  -5.61435885  14.39543969 -17.3171275\n",
      "   0.57077664  -6.61690447 -14.38433382  21.00549664 -35.53485515\n",
      "  20.79909851  -8.39256679]\n",
      "[ 48.68137458 -11.81986462  -3.62056222  10.46436274  -7.89176693\n",
      "  -7.69469349  -5.59001452  -2.16541953  -5.41324851  -0.14242723\n",
      "  -7.67015203  -3.12309671]\n",
      "[ 42.61783075 -12.31544208  -4.23546105  11.49755361  -9.37256258\n",
      "  -7.74795913  -4.86196185  -2.52955219  -1.45485928  -1.45964452\n",
      "  -3.54125553  -3.70650649]\n",
      "[ 43.1043799  -12.26890099  -4.18899624  11.42041647  -9.27329893\n",
      "  -7.72642082  -4.89477341  -2.5931609   -1.60056033  -1.55162565\n",
      "  -3.71142606  -3.69363169]\n",
      "[ 45.54918524 -12.0508193   -4.07629852  11.2788941   -9.33944026\n",
      "  -7.12312742  -5.21121459  -3.39692688  -1.11745337  -3.57002734\n",
      "  -3.26859066  -3.88837268]\n",
      "[ 46.00216364 -11.9844544   -4.27948877  11.70043475 -10.40694567\n",
      "  -6.06601294  -5.51264086  -4.60956418   1.47390919  -7.16079828\n",
      "  -0.48046178  -4.4495019 ]\n",
      "[ 46.50839641 -11.90861527  -4.32458803  11.794971   -10.71872599\n",
      "  -5.68522487  -5.54607869  -5.31290856   2.60557584  -8.93280486\n",
      "   0.70087456  -4.66688009]\n",
      "[ 46.46302503 -11.97889023  -3.90657819  10.9637355   -8.74094584\n",
      "  -7.46083876  -5.18450025  -3.07645761  -2.4399899   -2.44518175\n",
      "  -4.69371803  -3.62977989]\n",
      "[ 47.45710099 -11.89202027  -3.83209071  10.84175171  -8.60522024\n",
      "  -7.37932425  -5.23583784  -3.31931098  -2.54951136  -2.8943704\n",
      "  -4.8484309   -3.61768572]\n",
      "[ 47.91589128 -11.84414098  -3.79545561  10.78017258  -8.52803393\n",
      "  -7.35129323  -5.2792753   -3.38288258  -2.70575522  -2.98776511\n",
      "  -5.00094483  -3.58666178]\n",
      "[ 50.22673066 -11.63912878  -3.64824429  10.55302036  -8.2948977\n",
      "  -7.18384075  -5.24963605  -4.38494918  -2.31065963  -4.81387976\n",
      "  -4.7303794   -3.62576441]\n",
      "[ 50.68750436 -11.63134496  -3.68785168  10.65062684  -8.51879561\n",
      "  -7.13005733  -4.67503321  -6.09062052   0.29572607  -8.06519385\n",
      "  -2.40737542  -4.0542051 ]\n",
      "[ 51.16169062 -11.57486195  -3.68108476  10.64144259  -8.52764367\n",
      "  -7.16093611  -4.31282213  -7.11299387   1.59988358  -9.87847483\n",
      "  -1.24440319  -4.23764696]\n"
     ]
    }
   ],
   "source": [
    "tspan = (0,50)\n",
    "t = np.linspace( *tspan, 100)\n",
    "initial_run = scipy.integrate.solve_ivp(mass_DE, tspan, init, t_eval=t)"
   ]
  },
  {
   "cell_type": "code",
   "execution_count": null,
   "metadata": {},
   "outputs": [],
   "source": [
    "x = initial_run.y"
   ]
  },
  {
   "cell_type": "code",
   "execution_count": null,
   "metadata": {},
   "outputs": [],
   "source": [
    "plt.figure(1)\n",
    "plt.title(\"Initial steady state calculation\")\n",
    "\n",
    "for i in range(0,12) :\n",
    "    plt.plot(t,initial_run.y[i], label=\"x{}\".format(i))\n",
    "    \n",
    "plt.xlabel(\"Time [min]\")\n",
    "plt.ylabel(\"Composition [$x_{eth}$]\")\n",
    "plt.legend(loc = \"upper right\")\n",
    "plt.savefig(\"Basic_distillation_column_V3.svg\")\n",
    "print(initial_run.y[0,-1],initial_run.y[11,-1])"
   ]
  },
  {
   "cell_type": "markdown",
   "metadata": {},
   "source": [
    "# Consistency plot of model\n",
    "\n",
    "The idea to assume CMO and constant hold up creates a scenario where mass is \"created\" to fulfill both the criterias. The plot below will show that there accumulation occuring in the column increases yet the mass balance decreases to zero. These two are thus contradictory because the mass balance should produce the exact same accumulation.\n",
    "\n",
    "The mass balance is calculated as follows:\n",
    "\n",
    "$M_{t}\\frac{dx_t}{dt} = x_FF -x_BB - x_DD $\n",
    "\n",
    "And the accumulation is calculated as follows:\n",
    "\n",
    "$M_{t}\\frac{dx_t}{dt} = \\sum{M_i\\frac{dx_i}{dt}}$\n",
    "\n",
    "where \n",
    "- $M_t$ is the total mass accumulated in the column\n",
    "- $x_t$ is the mole fraction of the mass in the column\n",
    "- $M_i$ is the total mass accumulated on each tray $i$."
   ]
  },
  {
   "cell_type": "code",
   "execution_count": 80,
   "metadata": {},
   "outputs": [
    {
     "name": "stdout",
     "output_type": "stream",
     "text": [
      "[0.15 0.2  0.2  0.2  0.2  0.2  0.2  0.2  0.2  0.2  0.2  0.45]\n"
     ]
    },
    {
     "ename": "NameError",
     "evalue": "name 'x0s' is not defined",
     "output_type": "error",
     "traceback": [
      "\u001b[1;31m---------------------------------------------------------------------------\u001b[0m",
      "\u001b[1;31mNameError\u001b[0m                                 Traceback (most recent call last)",
      "\u001b[1;32m<ipython-input-80-fb78ab52999e>\u001b[0m in \u001b[0;36m<module>\u001b[1;34m\u001b[0m\n\u001b[0;32m     15\u001b[0m \u001b[1;33m\u001b[0m\u001b[0m\n\u001b[0;32m     16\u001b[0m \u001b[1;31m# This calculates the accumlation in the column through the mass balance\u001b[0m\u001b[1;33m\u001b[0m\u001b[1;33m\u001b[0m\u001b[1;33m\u001b[0m\u001b[0m\n\u001b[1;32m---> 17\u001b[1;33m \u001b[0mmole_balance\u001b[0m \u001b[1;33m=\u001b[0m \u001b[0mxF\u001b[0m\u001b[1;33m*\u001b[0m\u001b[0mF\u001b[0m \u001b[1;33m-\u001b[0m \u001b[1;33m(\u001b[0m\u001b[0mD\u001b[0m\u001b[1;33m)\u001b[0m\u001b[1;33m*\u001b[0m\u001b[1;33m(\u001b[0m\u001b[0mx0s\u001b[0m\u001b[1;33m)\u001b[0m\u001b[1;33m-\u001b[0m \u001b[1;33m(\u001b[0m\u001b[0mL2\u001b[0m\u001b[1;33m-\u001b[0m\u001b[0mV\u001b[0m\u001b[1;33m)\u001b[0m\u001b[1;33m*\u001b[0m\u001b[0mx11s\u001b[0m \u001b[1;33m-\u001b[0m \u001b[1;36m0.1\u001b[0m\u001b[1;33m*\u001b[0m\u001b[1;36m10\u001b[0m\u001b[1;33m*\u001b[0m\u001b[0mm_tray\u001b[0m \u001b[1;33m-\u001b[0m \u001b[1;36m0.1\u001b[0m\u001b[1;33m*\u001b[0m\u001b[0mm_cond\u001b[0m \u001b[1;33m-\u001b[0m \u001b[1;36m0.1\u001b[0m\u001b[1;33m*\u001b[0m\u001b[0mm_rebl\u001b[0m\u001b[1;33m\u001b[0m\u001b[1;33m\u001b[0m\u001b[0m\n\u001b[0m\u001b[0;32m     18\u001b[0m \u001b[0mdiff\u001b[0m \u001b[1;33m=\u001b[0m \u001b[0mmoles_inside_column\u001b[0m \u001b[1;33m-\u001b[0m \u001b[0mmole_balance\u001b[0m\u001b[1;33m\u001b[0m\u001b[1;33m\u001b[0m\u001b[0m\n\u001b[0;32m     19\u001b[0m \u001b[1;33m\u001b[0m\u001b[0m\n",
      "\u001b[1;31mNameError\u001b[0m: name 'x0s' is not defined"
     ]
    }
   ],
   "source": [
    "L1 = R_r*D\n",
    "V = L1 + D\n",
    "L2 = F + L1\n",
    "\n",
    "holdup_vec = holdup_vector(plates,feedplate, m_cond,m_tray,m_rebl)\n",
    "\n",
    "\n",
    "# moles_inside_column_at_zero = holdup_vec*x[:,0]\n",
    "print(holdup_vec)\n",
    "\n",
    "# This calculated the accumulation insie the column through summing the accumulation on each plate\n",
    "\n",
    "\n",
    "# moles_inside_column =x.dot(holdup_vec.T)\n",
    "\n",
    "# This calculates the accumlation in the column through the mass balance\n",
    "mole_balance = xF*F - (D)*(x0s)- (L2-V)*x11s - 0.1*10*m_tray - 0.1*m_cond - 0.1*m_rebl\n",
    "diff = moles_inside_column - mole_balance\n",
    "\n",
    "integral = []\n",
    "for i in range(1,len(t)+1):\n",
    "    dMtxtdt = xF*F - (D)*(x0s[0:i])- (L2-V)*x11s[0:i]\n",
    "    integral.append(np.trapz(dMtxtdt,t[0:i]))\n",
    "\n",
    "plt.figure(1)\n",
    "plt.title(\"Consistency Plot\")\n",
    "plt.xlabel(\"Time\")\n",
    "plt.ylabel(\"Accumulation of mass\")\n",
    "plt.plot(t,integral, label = \"Mole balance\")\n",
    "plt.plot(t,moles_inside_column, label = \"Diff equations\")\n",
    "plt.legend(loc=\"best\")\n",
    "plt.savefig(\"consistency_plot.png\")\n",
    "plt.figure(2)\n",
    "plt.plot(t,abs(moles_inside_column-integral), label = \"Error\")\n",
    "plt.xlabel(\"Time\")\n",
    "plt.ylabel(\"Error\")\n",
    "plt.savefig(\"consistency_plot_error.png\")"
   ]
  },
  {
   "cell_type": "code",
   "execution_count": null,
   "metadata": {},
   "outputs": [],
   "source": [
    "# Now lets ee if we can use the vector version for a different setup...\n",
    "\n",
    "plates = 20\n",
    "feedplate = 9\n",
    "\n",
    "init = [0.1,0.1,0.1,0.1,0.1,0.1,0.1,0.1,0.1,0.1,0.1,0.1,0.1,0.1,0.1,0.1,0.1,0.1,0.1,0.1]\n",
    "\n",
    "tspan = (0, 50)\n",
    "t = np.linspace( *tspan, 100)\n",
    "initial_run = scipy.integrate.solve_ivp(mass_DE, tspan, init, t_eval=t)\n",
    "\n",
    "x = initial_run.y\n",
    "\n",
    "for i in x:\n",
    "    plt.plot(t,i)\n"
   ]
  },
  {
   "cell_type": "code",
   "execution_count": null,
   "metadata": {},
   "outputs": [],
   "source": [
    "import CoolProp.CoolProp as CP\n",
    "\n",
    "comp = [0.1,0.15,0.3,0.5]\n",
    "\n",
    "for i in comp:\n",
    "    \n",
    "    print(CP.PropsSI('CPMOLAR','T',400,'P',101325,f'Water[{i}]&Ethanol[{1-i}]'))"
   ]
  },
  {
   "cell_type": "code",
   "execution_count": null,
   "metadata": {},
   "outputs": [],
   "source": []
  }
 ],
 "metadata": {
  "kernelspec": {
   "display_name": "Python 3",
   "language": "python",
   "name": "python3"
  },
  "language_info": {
   "codemirror_mode": {
    "name": "ipython",
    "version": 3
   },
   "file_extension": ".py",
   "mimetype": "text/x-python",
   "name": "python",
   "nbconvert_exporter": "python",
   "pygments_lexer": "ipython3",
   "version": "3.7.3"
  }
 },
 "nbformat": 4,
 "nbformat_minor": 2
}
