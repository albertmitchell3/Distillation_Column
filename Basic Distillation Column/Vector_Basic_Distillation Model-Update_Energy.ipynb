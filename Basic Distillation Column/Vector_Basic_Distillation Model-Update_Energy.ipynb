{
 "cells": [
  {
   "cell_type": "markdown",
   "metadata": {},
   "source": [
    "# Vector Distillation Column\n",
    "\n",
    "Contains the following elements:\n",
    "\n",
    "- Mass Balance\n",
    "- Energy Balance\n",
    "- VLE with constant relative volatily\n",
    "- VLE interpolated from literature data\n",
    "- VLE calculated with NRTL activity model and modified Raoults law"
   ]
  },
  {
   "cell_type": "code",
   "execution_count": 412,
   "metadata": {},
   "outputs": [],
   "source": [
    "import numpy as np\n",
    "import sympy\n",
    "from matplotlib import pyplot as plt\n",
    "import scipy\n",
    "import scipy.optimize\n",
    "import scipy.integrate\n",
    "import CoolProp.CoolProp as CP\n",
    "from scipy.stats.mstats import gmean\n",
    "from thermo.vapor_pressure import Antoine"
   ]
  },
  {
   "cell_type": "markdown",
   "metadata": {},
   "source": [
    "## Assumptions:\n",
    "\n",
    "1. Constant liquid hold up on each plate \n",
    "2. Constant liquid flow in each of the three sections of the column\n",
    "3. Constant vapour flow in the column\n",
    "4. No vapour holdup in the column\n",
    "5. Constant hold up in reboiler and condenser\n",
    "6. Constant relative volatility"
   ]
  },
  {
   "cell_type": "markdown",
   "metadata": {},
   "source": [
    "## The functions below are used for the VLE data\n",
    "\n",
    "- The first function is based on a constant relative volatility assumption calculate as an average from the data set at 1 atm. Here a geometrial mean is used due to the volatility of the data set.\n",
    "- The second function is based on VLE data collected from a system at a pressure of 1 atm."
   ]
  },
  {
   "cell_type": "code",
   "execution_count": 413,
   "metadata": {},
   "outputs": [
    {
     "data": {
      "text/plain": [
       "array([0.52922059, 0.56570296, 0.79192729])"
      ]
     },
     "execution_count": 413,
     "metadata": {},
     "output_type": "execute_result"
    }
   ],
   "source": [
    "def rel_vol(xi):\n",
    "    \n",
    "    xi = np.asarray(xi)\n",
    "    x= np.asarray([ 0.019, 0.0721, 0.0966, 0.1238, 0.1661, 0.2337, 0.2608, \n",
    "              0.3273, 0.3965, 0.5079, 0.5198, 0.5732, 0.6763, 0.7472, 0.8943])\n",
    "    y = np.asarray([ 0.170, 0.3891, 0.4375, 0.4704, 0.5089, 0.5445, 0.5580, \n",
    "              0.5826, 0.6122, 0.6564, 0.6599, 0.6841, 0.7385, 0.7815, 0.8943])\n",
    "    \n",
    "    αi = (y*(1-x))/(x*(1-y))\n",
    "    α = gmean(αi)\n",
    "    xi = (α*xi)/(1+(α-1)*xi)\n",
    "    \n",
    "    return xi\n",
    "\n",
    "rel_vol([0.27,0.3,0.556])"
   ]
  },
  {
   "cell_type": "code",
   "execution_count": 414,
   "metadata": {},
   "outputs": [
    {
     "data": {
      "text/plain": [
       "(array([0.56140331, 0.57250105, 0.67630524]),\n",
       " array([82.18932331, 81.82842105, 79.42883895]))"
      ]
     },
     "execution_count": 414,
     "metadata": {},
     "output_type": "execute_result"
    }
   ],
   "source": [
    "def vle_data(xi):\n",
    "    \n",
    "    x_data = [0, 0.019, 0.0721, 0.0966, 0.1238, 0.1661, 0.2337, 0.2608, \n",
    "              0.3273, 0.3965, 0.5079, 0.5198, 0.5732, 0.6763, 0.7472, 0.8943, 1]\n",
    "    y_data = [0, 0.170, 0.3891, 0.4375, 0.4704, 0.5089, 0.5445, 0.5580, \n",
    "              0.5826, 0.6122, 0.6564, 0.6599, 0.6841, 0.7385, 0.7815, 0.8943, 1]\n",
    "    T_data = [100,95.5,89,86.7,85.3,84.1,82.7,82.3,81.5,80.7,79.8,79.7,79.3,\n",
    "             78.74,78.41,78.15,78.30]\n",
    "    x = np.interp(xi,x_data, y_data)\n",
    "    T = np.interp(xi,x_data,T_data)\n",
    "    return x,T\n",
    "\n",
    "vle_data([0.27,0.3,0.556])"
   ]
  },
  {
   "cell_type": "code",
   "execution_count": 415,
   "metadata": {},
   "outputs": [],
   "source": [
    "# thermo.vapor_pressure.Antoine(T, A, B, C, base=10.0)[source]\n",
    "Pt = 101.325\n",
    "\n",
    "A = np.array([5.24677, 4.6543])\n",
    "B = np.array([1598.673, 1435.264])\n",
    "C = np.array([-46.424, -64.848])\n",
    "    \n",
    "\n"
   ]
  },
  {
   "cell_type": "code",
   "execution_count": 416,
   "metadata": {},
   "outputs": [],
   "source": [
    "def Psat(T):\n",
    "    return 10**(A-B/(T+C))*100"
   ]
  },
  {
   "cell_type": "code",
   "execution_count": 417,
   "metadata": {},
   "outputs": [
    {
     "data": {
      "text/plain": [
       "5"
      ]
     },
     "execution_count": 417,
     "metadata": {},
     "output_type": "execute_result"
    }
   ],
   "source": [
    "def τfunc(T):\n",
    "    τ12 = -0.801 + 246.2/T\n",
    "    τ21 = 3.458 -586.1/T\n",
    "    return [τ12+0.25,τ21-0.82]\n",
    "5"
   ]
  },
  {
   "cell_type": "code",
   "execution_count": 418,
   "metadata": {},
   "outputs": [],
   "source": [
    "def Gamma(T,x1):\n",
    "    x2 = 1 - x1\n",
    "    τ12,τ21 = τfunc(T)\n",
    "    G12 = np.exp(0.5*τ12)\n",
    "    G21 = np.exp(0.01*τ21)\n",
    "    gam1 = np.exp(x2**2 * (τ21*(G21/(x1+x2*G21))**2 + G12*τ12/(x2+x1*G12)**2) )\n",
    "    gam2 = np.exp(x1**2 * (τ12*(G12/(x2+x1*G12))**2 + G21*τ21/(x1+x2*G21)**2) )\n",
    "    return [gam1,gam2]\n"
   ]
  },
  {
   "cell_type": "code",
   "execution_count": 419,
   "metadata": {},
   "outputs": [
    {
     "data": {
      "text/plain": [
       "[<matplotlib.lines.Line2D at 0x236f4e28ac8>]"
      ]
     },
     "execution_count": 419,
     "metadata": {},
     "output_type": "execute_result"
    },
    {
     "data": {
      "image/png": "[encoded data removed]",
      "text/plain": [
       "<Figure size 432x288 with 1 Axes>"
      ]
     },
     "metadata": {
      "needs_background": "light"
     },
     "output_type": "display_data"
    },
    {
     "data": {
      "image/png": "[encoded data removed]",
      "text/plain": [
       "<Figure size 432x288 with 1 Axes>"
      ]
     },
     "metadata": {
      "needs_background": "light"
     },
     "output_type": "display_data"
    }
   ],
   "source": [
    "z = np.linspace(0.001,0.999,1000)\n",
    "P= 101.325\n",
    "x = []\n",
    "t = []\n",
    "\n",
    "def func(var):\n",
    "    T,x1 = var\n",
    "    eq1 = y1*Pt - x1*(Psat(T)[0])*(Gamma(T,x1)[0])\n",
    "    eq2 = Pt - x1*(Psat(T)[0])*(Gamma(T,x1)[0]) - (1-x1)*(Psat(T)[1])*(Gamma(T,x1)[1])\n",
    "    return eq1,eq2\n",
    "\n",
    "for i in range(len(z)):\n",
    "    y1 = z[i]\n",
    "    sol = scipy.optimize.fsolve(func,[350,1])\n",
    "    x.append(sol[1])\n",
    "    t.append(sol[0])\n",
    "\n",
    "x_data = [0, 0.019, 0.0721, 0.0966, 0.1238, 0.1661, 0.2337, 0.2608, \n",
    "              0.3273, 0.3965, 0.5079, 0.5198, 0.5732, 0.6763, 0.7472, 0.8943, 1]\n",
    "y_data = [0, 0.170, 0.3891, 0.4375, 0.4704, 0.5089, 0.5445, 0.5580, \n",
    "          0.5826, 0.6122, 0.6564, 0.6599, 0.6841, 0.7385, 0.7815, 0.8943, 1]\n",
    "T_data = [100,95.5,89,86.7,85.3,84.1,82.7,82.3,81.5,80.7,79.8,79.7,79.3,\n",
    "         78.74,78.41,78.15,78.30]    \n",
    "    \n",
    "    \n",
    "t = np.asarray(t)\n",
    "plt.figure(1)\n",
    "plt.plot(z,t-273.15)\n",
    "plt.plot(x,t-273.15)\n",
    "plt.plot(x_data,T_data,\"ro\")\n",
    "plt.plot(y_data,T_data,\"bo\")\n",
    "\n",
    "plt.figure(2)\n",
    "plt.plot(x,z)\n",
    "plt.plot(x_data,y_data, \"ro\")\n",
    "plt.plot([0,1],[0,1])"
   ]
  },
  {
   "cell_type": "markdown",
   "metadata": {},
   "source": [
    "# Vectorized Equations #\n",
    "\n",
    "$\\frac{dx_i}{dt} = \\left(\\frac{1}{M_i}\\right)\\left(V(y_{i+1}-y_{i}) + L_1(x_{i-1}-x_{i}) + Fx_F \\right)$\n",
    "\n",
    "A vector is utilied for the following variables:\n",
    "- $y_{i+1}$\n",
    "- $y_{i}$\n",
    "- $x_{i}$\n",
    "- $x_{i-1}$\n",
    "- $L_1$\n",
    "- $F$"
   ]
  },
  {
   "cell_type": "markdown",
   "metadata": {},
   "source": [
    "## Feed vector function\n",
    "- This function creates 4 vectors for the flow.\n",
    "- The first two vectors are the liquid flows.\n",
    "- The third vector is the feed vector.\n",
    "- The fourth vector contains the reflux and the boilup."
   ]
  },
  {
   "cell_type": "code",
   "execution_count": 420,
   "metadata": {},
   "outputs": [],
   "source": [
    "def feed_vector(plates,feedplate,feed):\n",
    "    \n",
    "    L1 = R_r*D\n",
    "    V = L1 + D\n",
    "    L2 = F + L1\n",
    "    \n",
    "    R = V - L1\n",
    "    BU = L2 - V\n",
    "    \n",
    "    feed_vec1 = np.zeros(plates)\n",
    "    feed_vec2 = np.zeros(plates)\n",
    "    flow_vec_top = np.zeros(plates)\n",
    "    flow_vec_bot = np.zeros(plates)\n",
    "    \n",
    "    flow_vec_top[0:feedplate] = L1\n",
    "    flow_vec_top[feedplate:] = L2\n",
    "    \n",
    "    flow_vec_bot[0:feedplate-1] = L1\n",
    "    flow_vec_bot[feedplate-1:] = L2\n",
    "    \n",
    "    feed_vec1[feedplate-1] = feed\n",
    "    feed_vec2[0] = R\n",
    "    feed_vec2[-1] = BU\n",
    "    \n",
    "    return np.asarray([flow_vec_top,flow_vec_bot,feed_vec1,feed_vec2])\n",
    "\n"
   ]
  },
  {
   "cell_type": "code",
   "execution_count": 421,
   "metadata": {},
   "outputs": [
    {
     "data": {
      "text/plain": [
       "array([[0.3, 0.3, 0.3, 0.3, 1.3, 1.3, 1.3, 1.3, 1.3, 1.3, 1.3, 1.3],\n",
       "       [0.3, 0.3, 0.3, 1.3, 1.3, 1.3, 1.3, 1.3, 1.3, 1.3, 1.3, 1.3],\n",
       "       [0. , 0. , 0. , 1. , 0. , 0. , 0. , 0. , 0. , 0. , 0. , 0. ],\n",
       "       [0.5, 0. , 0. , 0. , 0. , 0. , 0. , 0. , 0. , 0. , 0. , 0.5]])"
      ]
     },
     "execution_count": 421,
     "metadata": {},
     "output_type": "execute_result"
    }
   ],
   "source": [
    "feed_vector(12,4,1)"
   ]
  },
  {
   "cell_type": "markdown",
   "metadata": {},
   "source": [
    "## Composition vector function\n",
    "- This function calculates the 4 different composition vectors needed to complete the mass balance from the following equation:\n",
    "$\\frac{dx_i}{dt} = \\left(\\frac{1}{M_i}\\right)\\left(V(y_{i+1}-y_{i}) + L_1(x_{i-1}-x_{i}) + Fx_F \\right)$"
   ]
  },
  {
   "cell_type": "code",
   "execution_count": 422,
   "metadata": {},
   "outputs": [],
   "source": [
    "def comp_vector(xi,yi):\n",
    "    \n",
    "    xi = np.asarray(xi)\n",
    "    yi = np.asarray(yi)\n",
    "    \n",
    "    xi1 = np.copy(xi)\n",
    "    xi1 = np.roll(xi1, 1)\n",
    "    xi1[0] = 0\n",
    "    \n",
    "    xi2 = np.copy(xi)\n",
    "    xi2[-1] = 0\n",
    "    \n",
    "    yi1 = np.copy(yi)\n",
    "    yi1 = np.roll(yi1, -1)\n",
    "    yi1[-1] = 0\n",
    "    \n",
    "    yi2 = np.copy(yi)\n",
    "    yi2[0] = 0\n",
    "    \n",
    "    \n",
    "    return np.asarray([xi1,xi2]),np.asarray([yi1,yi2])"
   ]
  },
  {
   "cell_type": "markdown",
   "metadata": {},
   "source": []
  },
  {
   "cell_type": "code",
   "execution_count": 423,
   "metadata": {},
   "outputs": [],
   "source": [
    "def holdup_vector(plates, m_cond,m_tray,m_rebl):\n",
    "    holdup_vec = np.zeros(plates)\n",
    "    \n",
    "    holdup_vec[0] = m_cond\n",
    "    holdup_vec[-1] = m_rebl\n",
    "    holdup_vec[1:plates-1] = m_tray\n",
    "    \n",
    "    return holdup_vec"
   ]
  },
  {
   "cell_type": "code",
   "execution_count": 427,
   "metadata": {},
   "outputs": [
    {
     "data": {
      "text/plain": [
       "array([0.15, 0.2 , 0.2 , 0.2 , 0.2 , 0.2 , 0.2 , 0.2 , 0.2 , 0.2 , 0.2 ,\n",
       "       0.45])"
      ]
     },
     "execution_count": 427,
     "metadata": {},
     "output_type": "execute_result"
    }
   ],
   "source": [
    "holdup_vector(12, 0.15, 0.2,0.45)"
   ]
  },
  {
   "cell_type": "markdown",
   "metadata": {},
   "source": [
    "## Heat capacity function \n",
    "- This function calculates the heat capacity of the liquid holdup on each plate\n",
    "- The heat capacity is used to calculate the temperature on the plate."
   ]
  },
  {
   "cell_type": "code",
   "execution_count": 428,
   "metadata": {},
   "outputs": [],
   "source": [
    "def Cp(xi):\n",
    "    CPi = []\n",
    "    \n",
    "    for i in range(len(xi)):\n",
    "        CPi.append(CP.PropsSI('CPMOLAR','Q',0,'P',101325,f'Ethanol[{xi[i]}]&Water[{1-xi[i]}]'))\n",
    "    return np.asarray(CPi)"
   ]
  },
  {
   "cell_type": "code",
   "execution_count": 429,
   "metadata": {},
   "outputs": [
    {
     "data": {
      "text/plain": [
       "array([117.45980637, 122.1498239 , 126.25094095])"
      ]
     },
     "execution_count": 429,
     "metadata": {},
     "output_type": "execute_result"
    }
   ],
   "source": [
    "Cp([0.5,0.6,0.7])"
   ]
  },
  {
   "cell_type": "markdown",
   "metadata": {},
   "source": [
    "## Ethalpy function \n",
    "- Vectors corrosponding to the flow vectors are calculated and shaped correctly.\n",
    "- This function calculates liquid and vapour enthalpy.\n",
    "- The pressure is currently assumed to be costant and set equal to 101.325 kPa."
   ]
  },
  {
   "cell_type": "code",
   "execution_count": 430,
   "metadata": {},
   "outputs": [],
   "source": [
    "def H(xi,yi,Ti):\n",
    "    Hi_L = []\n",
    "    Hi_V = []\n",
    "    Ti = np.asarray(Ti)+273\n",
    "    \n",
    "    for i in range(len(xi)):\n",
    "        y = round(yi[i],5)\n",
    "        Hi_L.append(CP.PropsSI('HMOLAR','P',101325,'Q',0,f'Ethanol[{xi[i]}]&Water[{1-xi[i]}]'))\n",
    "        Hi_V.append(CP.PropsSI('HMOLAR','P',101325,'Q',1,f'Ethanol[{y}]&Water[{1-y}]'))\n",
    "        \n",
    "    Hi_L = np.asarray(Hi_L)\n",
    "    Hi_V = np.asarray(Hi_V)\n",
    "    \n",
    "    Hi_L1 = np.copy(Hi_L)\n",
    "    Hi_L1 = np.roll(Hi_L1, 1)\n",
    "    Hi_L1[0] = 0\n",
    "    \n",
    "    Hi_L2 = np.copy(Hi_L)\n",
    "    Hi_L2[-1] = 0\n",
    "    \n",
    "    Hi_V1 = np.copy(Hi_V)\n",
    "    Hi_V1 = np.roll(Hi_V1, -1)\n",
    "    Hi_V1[-1] = 0\n",
    "    \n",
    "    Hi_V2 = np.copy(Hi_V)\n",
    "    Hi_V2[0] = 0\n",
    "    \n",
    "    Hi_F = np.zeros(plates)\n",
    "    Hi_F[feedplate-1] = CP.PropsSI('HMOLAR','P',101325,'Q',0,f'Ethanol[{xF}]&Water[{1-xF}]')\n",
    "    \n",
    "    return [Hi_L,Hi_L1,Hi_L2,Hi_V,Hi_V1,Hi_V2,Hi_F]"
   ]
  },
  {
   "cell_type": "code",
   "execution_count": 431,
   "metadata": {},
   "outputs": [
    {
     "data": {
      "text/plain": [
       "[array([2745.1411304 , 2077.85447   , 1399.61294788]),\n",
       " array([   0.       , 2745.1411304, 2077.85447  ]),\n",
       " array([2745.1411304, 2077.85447  ,    0.       ]),\n",
       " array([44321.96614537, 42642.71156039, 41702.05289461]),\n",
       " array([42642.71156039, 41702.05289461,     0.        ]),\n",
       " array([    0.        , 42642.71156039, 41702.05289461]),\n",
       " array([   0.        ,    0.        ,    0.        , 3411.51605004,\n",
       "           0.        ,    0.        ,    0.        ,    0.        ,\n",
       "           0.        ,    0.        ,    0.        ,    0.        ])]"
      ]
     },
     "execution_count": 431,
     "metadata": {},
     "output_type": "execute_result"
    }
   ],
   "source": [
    "H([0.6,0.7,0.8],[0.432419,0.6,0.7],[400,400,400])"
   ]
  },
  {
   "cell_type": "markdown",
   "metadata": {},
   "source": [
    "## Reboiler and Condenser Duty"
   ]
  },
  {
   "cell_type": "code",
   "execution_count": 432,
   "metadata": {},
   "outputs": [],
   "source": [
    "def cond_duty(M,Tout):\n",
    "    cp_w = CP.PropsSI('CPMASS','P',101325,'T',298,'Water')\n",
    "    \n",
    "    Qcond = M*cp_w*(Tout - 25)\n",
    "    \n",
    "    return Qcond"
   ]
  },
  {
   "cell_type": "code",
   "execution_count": 433,
   "metadata": {},
   "outputs": [
    {
     "data": {
      "text/plain": [
       "-2090688.60359374"
      ]
     },
     "execution_count": 433,
     "metadata": {},
     "output_type": "execute_result"
    }
   ],
   "source": [
    "cond_duty(50,35)"
   ]
  },
  {
   "cell_type": "code",
   "execution_count": 434,
   "metadata": {},
   "outputs": [],
   "source": [
    "def rebl_duty(M,Tout):\n",
    "    cp_w = CP.PropsSI('CPMASS','P',500000,'T',400,'Water')\n",
    "    \n",
    "    Qcond = M*cp_w*(Tout - 126)\n",
    "    \n",
    "    return Qcond"
   ]
  },
  {
   "cell_type": "code",
   "execution_count": 435,
   "metadata": {},
   "outputs": [
    {
     "data": {
      "text/plain": [
       "140409.38199926657"
      ]
     },
     "execution_count": 435,
     "metadata": {},
     "output_type": "execute_result"
    }
   ],
   "source": [
    "rebl_duty(0.5,60)"
   ]
  },
  {
   "cell_type": "code",
   "execution_count": 436,
   "metadata": {},
   "outputs": [
    {
     "data": {
      "text/plain": [
       "array([-2394.,     0.,     0.,     0.,     0.,     0.,     0.,     0.,\n",
       "           0.,     0.,     0.,   798.])"
      ]
     },
     "execution_count": 436,
     "metadata": {},
     "output_type": "execute_result"
    }
   ],
   "source": [
    "def duty(plates,feedplate,Qcond,Qrebl):\n",
    "    duty_vector = np.zeros(plates)\n",
    "    duty_vector[0] = Qcond\n",
    "\n",
    "    duty_vector[-1] = Qrebl\n",
    "    \n",
    "    return duty_vector\n",
    "\n",
    "duty(12,4,-2394,798)"
   ]
  },
  {
   "cell_type": "markdown",
   "metadata": {},
   "source": [
    "## Vectozied model of the column"
   ]
  },
  {
   "cell_type": "code",
   "execution_count": 535,
   "metadata": {},
   "outputs": [],
   "source": [
    "def mass_DE(t,var):\n",
    "    \n",
    "    # values for compositon and temperature is fed as a 1-D array and reshaped\n",
    "    x,T = np.reshape(var,(2,-1))\n",
    "    \n",
    "    xi = np.asarray(x)\n",
    "    Ti = np.asarray(T)\n",
    "    \n",
    "    L1 = R_r*D\n",
    "    V = L1 + D\n",
    "    L2 = F + L1\n",
    "    \n",
    "    R = V - L1\n",
    "    BU = L2 - V\n",
    "    \n",
    "    yi,T_fake = vle_data(xi) # change to vle_data() for interpolation of vapour liquid equilibrium\n",
    "    \n",
    "    \n",
    "    if t<15:\n",
    "        feedplate = 4\n",
    "    else:\n",
    "        feedplate = 4 # change this to vary which plate is fed on\n",
    "    \n",
    "    flow1, flow2, feed1, feed2 = feed_vector(plates,feedplate, F)\n",
    "    \n",
    "    x1, y1 = comp_vector(xi,yi)\n",
    "    holdup_vec = holdup_vector(plates, m_cond,m_tray,m_rebl)\n",
    "\n",
    "    # component mass balance \n",
    "    \n",
    "    dxdt = 1/holdup_vec * (V*(y1[0] - y1[1]) + flow1*x1[0] - flow2*x1[1] + feed1*xF  - feed2*xi)\n",
    "    \n",
    "    \n",
    "    HL,HL1, HL2, HV, HV1, HV2, Hi_F = H(xi,yi,T_fake)\n",
    "    CPi = Cp(xi)\n",
    "    \n",
    "    duty_vector = duty(plates,feedplate,-cond_duty(0.03,28),rebl_duty(0.8,100))\n",
    "#     duty_vector = duty(plates,feedplate,0,0)\n",
    "    \n",
    "\n",
    "#      Energy balance with coolprops\n",
    "\n",
    "#     additional = np.asarray([-1665.947864,0,0,4.39515094,0,0,0,0,0,0,0,672.7897017])\n",
    "    \n",
    "#     dTdt = 1/(holdup_vec*CPi)*( V*(HV1 - HV2) + flow1*HL1 - flow2*HL2 + feed1*HL - feed2*HL ) + additional\n",
    "    \n",
    "    \n",
    "    \n",
    "    dTdt = 1/(holdup_vec*CPi)*( V*(HV1 - HV2) + flow1*HL1 - flow2*HL2 + feed1*HL - feed2*HL + F*Hi_F + duty_vector ) \n",
    "    \n",
    "#     dTdt = np.zeros(len(Ti))  # Unhash this to just use mass balance\n",
    "\n",
    "    didt = np.concatenate([dxdt, dTdt])\n",
    "\n",
    "    return didt"
   ]
  },
  {
   "cell_type": "code",
   "execution_count": 536,
   "metadata": {},
   "outputs": [],
   "source": [
    "# plates is the number of total plates + 2 (for the reboiler and condenser)\n",
    "# feedplate is the plate number the feed occurs on\n",
    "# x_initial is an array with the initial column states\n",
    "\n",
    "plates = 12\n",
    "feedplate = 4"
   ]
  },
  {
   "cell_type": "markdown",
   "metadata": {},
   "source": [
    "## Inputs to calculate intial state"
   ]
  },
  {
   "cell_type": "markdown",
   "metadata": {},
   "source": [
    "### Input variables\n",
    "\n",
    "1. $F_3$ - Feed flow rate on plate 3\n",
    "2. $F_7$ - Feed flow rate on plate 7\n",
    "3. $x_F$ - Feed liquid composition\n",
    "4. $Rr$ - Reflux ratio\n",
    "5. $D_F$ - Distillate to feed ratio\n",
    "\n",
    "### Parameters\n",
    "\n",
    "1. $\\alpha$ - Relative volatility\n",
    "2. $m_{tray}$ - holdup on each tray\n",
    "2. $m_{cond}$ - holdup in the total condenser\n",
    "2. $m_{rebl}$ - holdup in the partial reboiler"
   ]
  },
  {
   "cell_type": "code",
   "execution_count": 537,
   "metadata": {},
   "outputs": [
    {
     "name": "stdout",
     "output_type": "stream",
     "text": [
      "[0.1 0.1 0.1 0.1 0.1 0.1 0.1 0.1 0.1 0.1 0.1 0.1]\n",
      "[303. 303. 303. 303. 303. 303. 303. 303. 303. 303. 303. 303.]\n"
     ]
    }
   ],
   "source": [
    "init_comp = np.array([0.1, 0.1, 0.1, 0.1, 0.1, 0.1, 0.1, 0.1, 0.1, 0.1, 0.1, 0.1])\n",
    "init_temp = np.array([303,303,303,303,303,303,303,303,303,303,303,303])\n",
    "\n",
    "\n",
    "init = np.concatenate([init_comp,init_temp])\n",
    "\n",
    "x,T = np.reshape(init,(2,-1))\n",
    "print(x)\n",
    "print(T)"
   ]
  },
  {
   "cell_type": "code",
   "execution_count": 538,
   "metadata": {},
   "outputs": [
    {
     "name": "stdout",
     "output_type": "stream",
     "text": [
      "[78.56768238 78.99918348 79.34223483 79.73537294 79.73538924 79.73551664\n",
      " 79.73608765 79.73965084 79.7580963  79.84510034 80.189864   81.98897732]\n"
     ]
    }
   ],
   "source": [
    "x_init = np.array([0.71332218, 0.62858247, 0.56756165, 0.51559062, 0.51558868, 0.51557352,\n",
    "        0.51550557, 0.51508155, 0.51288654, 0.50231758, 0.4596435,  0.28665376])\n",
    "_,T_init = vle_data(x_init)\n",
    "print(T_init)\n",
    "T_init = T_init + 273\n",
    "\n",
    "init = np.concatenate([x_init,T_init])"
   ]
  },
  {
   "cell_type": "code",
   "execution_count": 539,
   "metadata": {},
   "outputs": [],
   "source": [
    "F = 1 # Feed on plate 3\n",
    "D =0.5\n",
    "xF = 0.5 # mole fraction in feed\n",
    "R_r = 0.6 # reflux ratio\n",
    "m_cond = 0.15 # holdup in condenser\n",
    "m_tray = 0.2 # holdup on each tray\n",
    "m_rebl = 0.45 # holdup in reboiler"
   ]
  },
  {
   "cell_type": "code",
   "execution_count": 540,
   "metadata": {},
   "outputs": [
    {
     "data": {
      "text/plain": [
       "array([-2.01745879e-08,  3.09174580e-08, -1.52551223e-07,  1.16264706e-06,\n",
       "       -5.22529412e-06,  1.85988235e-05, -5.71720588e-05,  1.73765294e-04,\n",
       "       -4.58664101e-04,  9.71333860e-04, -1.37607317e-03,  3.52249230e-04,\n",
       "        1.68574088e+03,  2.48297790e+00,  1.97445075e+00,  1.39881576e+02,\n",
       "       -7.11521580e-04,  7.57769565e-04,  1.61475051e-02,  4.67344010e-02,\n",
       "        3.60053044e-01,  1.53480733e+00,  7.52473436e+00,  1.18868969e+03])"
      ]
     },
     "execution_count": 540,
     "metadata": {},
     "output_type": "execute_result"
    }
   ],
   "source": [
    "mass_DE(0,init)"
   ]
  },
  {
   "cell_type": "code",
   "execution_count": 541,
   "metadata": {},
   "outputs": [],
   "source": [
    "# %%debug\n",
    "tspan = (0,15)\n",
    "t = np.linspace( *tspan, 100)\n",
    "initial_run = scipy.integrate.solve_ivp(mass_DE, tspan, init, t_eval=t)"
   ]
  },
  {
   "cell_type": "code",
   "execution_count": 542,
   "metadata": {},
   "outputs": [],
   "source": [
    "x = initial_run.y"
   ]
  },
  {
   "cell_type": "code",
   "execution_count": 543,
   "metadata": {},
   "outputs": [
    {
     "name": "stdout",
     "output_type": "stream",
     "text": [
      "0.7133221786598027 0.28661654342425474\n"
     ]
    },
    {
     "data": {
      "image/png": "[encoded data removed]",
      "text/plain": [
       "<Figure size 432x288 with 1 Axes>"
      ]
     },
     "metadata": {
      "needs_background": "light"
     },
     "output_type": "display_data"
    }
   ],
   "source": [
    "plt.figure(1)\n",
    "plt.title(\"Initial steady state calculation\")\n",
    "\n",
    "for i in range(12,24) :\n",
    "    plt.plot(t,initial_run.y[i]-273, label=\"x{}\".format(i))\n",
    "    \n",
    "plt.xlabel(\"Time [min]\")\n",
    "plt.ylabel(\"Composition [$x_{eth}$]\")\n",
    "plt.legend(loc = \"upper right\")\n",
    "plt.savefig(\"Basic_distillation_column_V3.svg\")\n",
    "print(initial_run.y[0,-1],initial_run.y[11,-1])"
   ]
  },
  {
   "cell_type": "markdown",
   "metadata": {},
   "source": [
    "# Consistency plot of model\n",
    "\n",
    "The idea to assume CMO and constant hold up creates a scenario where mass is \"created\" to fulfill both the criterias. The plot below will show that there accumulation occuring in the column increases yet the mass balance decreases to zero. These two are thus contradictory because the mass balance should produce the exact same accumulation.\n",
    "\n",
    "The mass balance is calculated as follows:\n",
    "\n",
    "$M_{t}\\frac{dx_t}{dt} = x_FF -x_BB - x_DD $\n",
    "\n",
    "And the accumulation is calculated as follows:\n",
    "\n",
    "$M_{t}\\frac{dx_t}{dt} = \\sum{M_i\\frac{dx_i}{dt}}$\n",
    "\n",
    "where \n",
    "- $M_t$ is the total mass accumulated in the column\n",
    "- $x_t$ is the mole fraction of the mass in the column\n",
    "- $M_i$ is the total mass accumulated on each tray $i$."
   ]
  },
  {
   "cell_type": "code",
   "execution_count": null,
   "metadata": {},
   "outputs": [],
   "source": [
    "L1 = R_r*D\n",
    "V = L1 + D\n",
    "L2 = F + L1\n",
    "\n",
    "\n",
    "holdup_vec = holdup_vector(plates,feedplate, m_cond,m_tray,m_rebl)\n",
    "\n",
    "moles_inside_column_at_zero = x[0:12,0]*holdup_vec\n",
    "\n",
    "moles_inside_column = (x[0,:]*m_cond + x[1,:]*m_tray + x[2,:]*m_tray + x[3,:]*m_tray + x[4,:]*m_tray + x[5,:]*m_tray\n",
    "                      + x[6,:]*m_tray+ x[7,:]*m_tray+ x[8,:]*m_tray+ x[9,:]*m_tray+ x[10,:]*m_tray+ x[11,:]*m_rebl -\n",
    "                      np.sum(moles_inside_column_at_zero)) \n",
    "\n",
    "\n",
    "# moles_inside_column_at_zero = (x0s[0]*m_cond+x1s[0]*m_tray+x2s[0]*m_tray+x3s[0]*m_tray+x4s[0]*m_tray+x5s[0]*m_tray+x6s[0]*m_tray+\n",
    "#                        x7s[0]*m_tray+x8s[0]*m_tray+x9s[0]*m_tray+x10s[0]*m_tray+x11s[0]*m_rebl)\n",
    "\n",
    "# This calculated the accumulation insie the column through summing the accumulation on each plate\n",
    "# moles_inside_column = (x0s*m_cond+x1s*m_tray+x2s*m_tray+x3s*m_tray+x4s*m_tray+x5s*m_tray+x6s*m_tray+\n",
    "#                        x7s*m_tray+x8s*m_tray+x9s*m_tray+x10s*m_tray+x11s*m_rebl) - moles_inside_column_at_zero\n",
    "\n",
    "\n",
    "\n",
    "# integral = []\n",
    "# for i in range(1,len(t)+1):\n",
    "#     dMtxtdt = xF*F3 - (D)*(x0s[0:i])- (L3-V)*x11s[0:i]\n",
    "#     integral.append(np.trapz(dMtxtdt,t[0:i]))\n",
    "\n",
    "\n",
    "\n",
    "# plt.figure(1)\n",
    "# plt.title(\"Consistency Plot\")\n",
    "# plt.xlabel(\"Time\")\n",
    "# plt.ylabel(\"Accumulation of mass\")\n",
    "# plt.plot(t,integral, label = \"Mole balance\")\n",
    "# plt.plot(t,moles_inside_column, label = \"Diff equations\")\n",
    "# plt.legend(loc=\"best\")\n",
    "# plt.savefig(\"consistency_plot.png\")\n",
    "# plt.figure(2)\n",
    "# plt.plot(t,abs(moles_inside_column-integral), label = \"Error\")\n",
    "# plt.xlabel(\"Time\")\n",
    "# plt.ylabel(\"Error\")\n",
    "# plt.savefig(\"consistency_plot_error.png\")"
   ]
  },
  {
   "cell_type": "code",
   "execution_count": null,
   "metadata": {},
   "outputs": [],
   "source": [
    "# Now lets ee if we can use the vector version for a different setup...\n",
    "\n",
    "plates = 20\n",
    "feedplate = 9\n",
    "\n",
    "init = [0.1,0.1,0.1,0.1,0.1,0.1,0.1,0.1,0.1,0.1,0.1,0.1,0.1,0.1,0.1,0.1,0.1,0.1,0.1,0.1]\n",
    "\n",
    "tspan = (0, 50)\n",
    "t = np.linspace( *tspan, 100)\n",
    "initial_run = scipy.integrate.solve_ivp(mass_DE, tspan, init, t_eval=t)\n",
    "\n",
    "x = initial_run.y\n",
    "\n",
    "for i in x:\n",
    "    plt.plot(t,i)\n"
   ]
  },
  {
   "cell_type": "code",
   "execution_count": null,
   "metadata": {},
   "outputs": [],
   "source": [
    "import CoolProp.CoolProp as CP\n",
    "import matplotlib.pyplot as plt\n",
    "\n",
    "HEOS = CP.AbstractState('HEOS', 'Ethanol&Water')\n",
    "\n",
    "for x0 in [0.02, 0.2, 0.4, 0.6, 0.8, 0.98]:\n",
    "    HEOS.set_mole_fractions([x0, 1 - x0])\n",
    "    try:\n",
    "        HEOS.build_phase_envelope(\"dummy\")\n",
    "        PE = HEOS.get_phase_envelope_data()\n",
    "        PELabel = 'Methane, x = ' + str(x0)\n",
    "        plt.plot(PE.T, PE.p, '-', label=PELabel)\n",
    "    except ValueError as VE:\n",
    "        print(VE)\n",
    "\n",
    "plt.xlabel('Temperature [K]')\n",
    "plt.ylabel('Pressure [Pa]')\n",
    "plt.yscale('log')\n",
    "plt.title('Phase Envelope for Methane/Ethane Mixtures')\n",
    "plt.legend(loc='lower right', shadow=True)\n",
    "plt.savefig('methane-ethane.pdf')\n",
    "plt.savefig('methane-ethane.png')\n",
    "plt.show()"
   ]
  },
  {
   "cell_type": "code",
   "execution_count": null,
   "metadata": {},
   "outputs": [],
   "source": [
    "SRK = CP.AbstractState('HEOS','Ethanol&Water')"
   ]
  },
  {
   "cell_type": "code",
   "execution_count": null,
   "metadata": {},
   "outputs": [],
   "source": [
    "import CoolProp.CoolProp as CP\n",
    "import matplotlib.pyplot as plt\n",
    "\n",
    "# Increase the starting pressure a bit, behavior at very low pressure is problematic\n",
    "CP.set_config_double(CP.PHASE_ENVELOPE_STARTING_PRESSURE_PA, 1e4)\n",
    "\n",
    "SRK = CP.AbstractState('HEOS','Water&Ethanol')\n",
    "SRK.set_mole_fractions([0.5, 1 - 0.5])\n",
    "for kij, c in zip([0.0, 0.1],['r','b']):\n",
    "\n",
    "    # Set the interaction parameter\n",
    "    SRK.set_binary_interaction_double(0, 1, \"kij\", kij)\n",
    "\n",
    "    # Some VLE calculations\n",
    "    for p in [1e5, 1e6]:\n",
    "        SRK.update(CP.PQ_INPUTS, p, 0)\n",
    "        plt.plot(SRK.T(), SRK.p(), '<', color = c)\n",
    "\n",
    "        SRK.update(CP.PQ_INPUTS, p, 1)\n",
    "        plt.plot(SRK.T(), SRK.p(), '>', color = c)\n",
    "\n",
    "    # Phase envelope\n",
    "    SRK.build_phase_envelope(\"\")\n",
    "    PE = SRK.get_phase_envelope_data()\n",
    "    plt.plot(PE.T, PE.p, '-', label = '$k_{ij} = $' + str(kij), color = c)\n",
    "\n",
    "    # Critical point\n",
    "    pts = SRK.all_critical_points()\n",
    "    for pt in pts:\n",
    "      plt.plot(pt.T, pt.p, '*', color = c)\n",
    "\n",
    "# A phase envelope calculated with SRK transformations in a multi-fluid model\n",
    "HEOS = CP.AbstractState('HEOS','Water-SRK&Ethanol-SRK')\n",
    "HEOS.set_mole_fractions([0.5, 0.5])\n",
    "HEOS.build_phase_envelope(\"none\")\n",
    "PE = HEOS.get_phase_envelope_data()\n",
    "plt.plot(PE.T, PE.p, '-', label = 'SRK with transformations in multi-fluid', color = 'g')\n",
    "\n",
    "plt.xlabel('Temperature [K]')\n",
    "plt.ylabel('Pressure [Pa]')\n",
    "plt.yscale('log')\n",
    "plt.legend(loc='best')\n",
    "plt.tight_layout()\n",
    "plt.show()"
   ]
  },
  {
   "cell_type": "code",
   "execution_count": null,
   "metadata": {},
   "outputs": [],
   "source": []
  }
 ],
 "metadata": {
  "kernelspec": {
   "display_name": "Python 3",
   "language": "python",
   "name": "python3"
  },
  "language_info": {
   "codemirror_mode": {
    "name": "ipython",
    "version": 3
   },
   "file_extension": ".py",
   "mimetype": "text/x-python",
   "name": "python",
   "nbconvert_exporter": "python",
   "pygments_lexer": "ipython3",
   "version": "3.7.3"
  }
 },
 "nbformat": 4,
 "nbformat_minor": 2
}
