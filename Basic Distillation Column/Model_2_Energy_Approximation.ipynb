{
 "cells": [
  {
   "cell_type": "markdown",
   "metadata": {},
   "source": [
    "# Vector Distillation Column\n",
    "\n",
    "Contains the following elements:\n",
    "\n",
    "- Mass Balance\n",
    "- Energy Balance\n",
    "- VLE with constant relative volatily\n",
    "- VLE interpolated from literature data\n",
    "- VLE calculated with NRTL activity model and modified Raoults law"
   ]
  },
  {
   "cell_type": "code",
   "execution_count": 1,
   "metadata": {},
   "outputs": [],
   "source": [
    "import numpy as np\n",
    "import sympy\n",
    "from matplotlib import pyplot as plt\n",
    "import scipy\n",
    "import scipy.optimize\n",
    "import scipy.integrate\n",
    "import CoolProp.CoolProp as CP\n",
    "from scipy.stats.mstats import gmean\n",
    "from thermo.vapor_pressure import Antoine\n",
    "import pylab"
   ]
  },
  {
   "cell_type": "markdown",
   "metadata": {},
   "source": [
    "## Assumptions:\n",
    "\n",
    "1. Constant liquid hold up on each plate \n",
    "2. Constant liquid flow in each of the three sections of the column\n",
    "3. Constant vapour flow in the column\n",
    "4. No vapour holdup in the column\n",
    "5. Constant hold up in reboiler and condenser\n",
    "6. Constant relative volatility"
   ]
  },
  {
   "cell_type": "markdown",
   "metadata": {},
   "source": [
    "## The functions below are used for the VLE data\n",
    "\n",
    "- The first function is based on a constant relative volatility assumption calculate as an average from the data set at 1 atm. Here a geometrial mean is used due to the volatility of the data set.\n",
    "- The second function is based on VLE data collected from a system at a pressure of 1 atm."
   ]
  },
  {
   "cell_type": "code",
   "execution_count": null,
   "metadata": {},
   "outputs": [],
   "source": [
    "def rel_vol(xi):\n",
    "    \n",
    "    xi = np.asarray(xi)\n",
    "    x= np.asarray([ 0.019, 0.0721, 0.0966, 0.1238, 0.1661, 0.2337, 0.2608, \n",
    "              0.3273, 0.3965, 0.5079, 0.5198, 0.5732, 0.6763, 0.7472, 0.8943])\n",
    "    y = np.asarray([ 0.170, 0.3891, 0.4375, 0.4704, 0.5089, 0.5445, 0.5580, \n",
    "              0.5826, 0.6122, 0.6564, 0.6599, 0.6841, 0.7385, 0.7815, 0.8943])\n",
    "    \n",
    "    αi = (y*(1-x))/(x*(1-y))\n",
    "    α = gmean(αi)\n",
    "    xi = (α*xi)/(1+(α-1)*xi)\n",
    "    \n",
    "    return xi\n",
    "\n",
    "rel_vol([0.27,0.3,0.556])"
   ]
  },
  {
   "cell_type": "markdown",
   "metadata": {},
   "source": [
    "Data sourced from :\n",
    "http://unifac.ddbst.de/en/EED/VLE/VLE%20Ethanol%3BWater.php\n",
    "\n",
    "x_data = [0,0.016,0.0315,0.06,0.0855,0.1465,0.206,0.236,0.3495,0.4675,0.4875,0.58,\n",
    "              0.6525,0.7,0.7175,0.789,0.842,0.8749,0.8967,0.9485,0.9727]\n",
    "    \n",
    "y_data = [0,0.147,0.2505,0.3765,0.43,0.5005,0.5415,0.56,0.5945,0.641,0.6425,0.689,0.725,0.7495\n",
    "        ,0.768,0.8111,0.8488,0.8768,0.8973,0.944,0.9692]\n"
   ]
  },
  {
   "cell_type": "code",
   "execution_count": 15,
   "metadata": {},
   "outputs": [
    {
     "data": {
      "text/plain": [
       "array([0.56140331, 0.57250105, 0.67630524])"
      ]
     },
     "execution_count": 15,
     "metadata": {},
     "output_type": "execute_result"
    }
   ],
   "source": [
    "def vle_data(xi):\n",
    "    \n",
    "#     x_data = [0,0.016,0.0315,0.06,0.0855,0.1465,0.206,0.236,0.3495,0.4675,0.4875,0.58,\n",
    "#               0.6525,0.7,0.7175,0.789,0.842,0.8749,0.8967,0.9485,0.9727]\n",
    "    \n",
    "#     y_data = [0,0.147,0.2505,0.3765,0.43,0.5005,0.5415,0.56,0.5945,0.641,0.6425,0.689,0.725,0.7495\n",
    "#         ,0.768,0.8111,0.8488,0.8768,0.8973,0.944,0.9692]\n",
    "#      x = np.interp(xi,x_data, y_data)\n",
    "    x_data = [0, 0.019, 0.0721, 0.0966, 0.1238, 0.1661, 0.2337, 0.2608, \n",
    "              0.3273, 0.3965, 0.5079, 0.5198, 0.5732, 0.6763, 0.7472, 0.8943, 1]\n",
    "    y_data = [0, 0.170, 0.3891, 0.4375, 0.4704, 0.5089, 0.5445, 0.5580, \n",
    "              0.5826, 0.6122, 0.6564, 0.6599, 0.6841, 0.7385, 0.7815, 0.8943, 1]\n",
    "    T_data = [100,95.5,89,86.7,85.3,84.1,82.7,82.3,81.5,80.7,79.8,79.7,79.3,\n",
    "             78.74,78.41,78.15,78.30]\n",
    "    x = np.interp(xi,x_data, y_data)\n",
    "    T = np.interp(xi,x_data,T_data)\n",
    "   \n",
    "    return x\n",
    "\n",
    "vle_data([0.27,0.3,0.556])\n"
   ]
  },
  {
   "cell_type": "code",
   "execution_count": null,
   "metadata": {},
   "outputs": [],
   "source": [
    "# thermo.vapor_pressure.Antoine(T, A, B, C, base=10.0)[source]\n",
    "Pt = 101.325\n",
    "\n",
    "A = np.array([5.24677, 4.6543])\n",
    "B = np.array([1598.673, 1435.264])\n",
    "C = np.array([-46.424, -64.848])\n",
    "    \n",
    "\n"
   ]
  },
  {
   "cell_type": "code",
   "execution_count": null,
   "metadata": {},
   "outputs": [],
   "source": [
    "def Psat(T):\n",
    "    return 10**(A-B/(T+C))*100"
   ]
  },
  {
   "cell_type": "code",
   "execution_count": null,
   "metadata": {},
   "outputs": [],
   "source": [
    "def τfunc(T):\n",
    "    τ12 = -0.801 + 246.2/T\n",
    "    τ21 = 3.458 -586.1/T\n",
    "    return [τ12+0.25,τ21-0.82]\n",
    "5"
   ]
  },
  {
   "cell_type": "code",
   "execution_count": null,
   "metadata": {},
   "outputs": [],
   "source": [
    "def Gamma(T,x1):\n",
    "    x2 = 1 - x1\n",
    "    τ12,τ21 = τfunc(T)\n",
    "    G12 = np.exp(0.5*τ12)\n",
    "    G21 = np.exp(0.01*τ21)\n",
    "    gam1 = np.exp(x2**2 * (τ21*(G21/(x1+x2*G21))**2 + G12*τ12/(x2+x1*G12)**2) )\n",
    "    gam2 = np.exp(x1**2 * (τ12*(G12/(x2+x1*G12))**2 + G21*τ21/(x1+x2*G21)**2) )\n",
    "    return [gam1,gam2]\n"
   ]
  },
  {
   "cell_type": "code",
   "execution_count": null,
   "metadata": {},
   "outputs": [],
   "source": [
    "z = np.linspace(0.001,0.999,1000)\n",
    "P= 101.325\n",
    "x = []\n",
    "t = []\n",
    "\n",
    "def func(var):\n",
    "    T,x1 = var\n",
    "    eq1 = y1*Pt - x1*(Psat(T)[0])*(Gamma(T,x1)[0])\n",
    "    eq2 = Pt - x1*(Psat(T)[0])*(Gamma(T,x1)[0]) - (1-x1)*(Psat(T)[1])*(Gamma(T,x1)[1])\n",
    "    return eq1,eq2\n",
    "\n",
    "for i in range(len(z)):\n",
    "    y1 = z[i]\n",
    "    sol = scipy.optimize.fsolve(func,[350,1])\n",
    "    x.append(sol[1])\n",
    "    t.append(sol[0])\n",
    "\n",
    "x_data = [0, 0.019, 0.0721, 0.0966, 0.1238, 0.1661, 0.2337, 0.2608, \n",
    "              0.3273, 0.3965, 0.5079, 0.5198, 0.5732, 0.6763, 0.7472, 0.8943, 1]\n",
    "y_data = [0, 0.170, 0.3891, 0.4375, 0.4704, 0.5089, 0.5445, 0.5580, \n",
    "          0.5826, 0.6122, 0.6564, 0.6599, 0.6841, 0.7385, 0.7815, 0.8943, 1]\n",
    "T_data = [100,95.5,89,86.7,85.3,84.1,82.7,82.3,81.5,80.7,79.8,79.7,79.3,\n",
    "         78.74,78.41,78.15,78.30]    \n",
    "    \n",
    "    \n",
    "t = np.asarray(t)\n",
    "plt.figure(1)\n",
    "plt.plot(z,t-273.15)\n",
    "plt.plot(x,t-273.15)\n",
    "plt.plot(x_data,T_data,\"ro\")\n",
    "plt.plot(y_data,T_data,\"bo\")\n",
    "\n",
    "plt.figure(2)\n",
    "plt.plot(x,z)\n",
    "plt.plot(x_data,y_data, \"ro\")\n",
    "plt.plot([0,1],[0,1])"
   ]
  },
  {
   "cell_type": "markdown",
   "metadata": {},
   "source": [
    "# Vectorized Equations #\n",
    "\n",
    "$\\frac{dx_i}{dt} = \\left(\\frac{1}{M_i}\\right)\\left(V(y_{i+1}-y_{i}) + L_1(x_{i-1}-x_{i}) + Fx_F \\right)$\n",
    "\n",
    "A vector is utilied for the following variables:\n",
    "- $y_{i+1}$\n",
    "- $y_{i}$\n",
    "- $x_{i}$\n",
    "- $x_{i-1}$\n",
    "- $L_1$\n",
    "- $F$"
   ]
  },
  {
   "cell_type": "markdown",
   "metadata": {},
   "source": [
    "## Feed vector function\n",
    "- This function creates 4 vectors for the flow.\n",
    "- The first two vectors are the liquid flows.\n",
    "- The third vector is the feed vector.\n",
    "- The fourth vector contains the reflux and the boilup."
   ]
  },
  {
   "cell_type": "code",
   "execution_count": 16,
   "metadata": {},
   "outputs": [],
   "source": [
    "def feed_vector(plates,feedplate,feed):\n",
    "    \n",
    "    L1 = R_r*D\n",
    "    V = L1 + D\n",
    "    L2 = F + L1\n",
    "    \n",
    "    R = V - L1\n",
    "    BU = L2 - V\n",
    "    \n",
    "    feed_vec1 = np.zeros(plates)\n",
    "    feed_vec2 = np.zeros(plates)\n",
    "    flow_vec_top = np.zeros(plates)\n",
    "    flow_vec_bot = np.zeros(plates)\n",
    "    \n",
    "    flow_vec_top[0:feedplate] = L1\n",
    "    flow_vec_top[feedplate:] = L2\n",
    "    \n",
    "    flow_vec_bot[0:feedplate-1] = L1\n",
    "    flow_vec_bot[feedplate-1:] = L2\n",
    "    \n",
    "    feed_vec1[feedplate-1] = feed\n",
    "    feed_vec2[0] = R\n",
    "    feed_vec2[-1] = BU\n",
    "    \n",
    "    return np.asarray([flow_vec_top,flow_vec_bot,feed_vec1,feed_vec2])\n",
    "\n"
   ]
  },
  {
   "cell_type": "code",
   "execution_count": 17,
   "metadata": {},
   "outputs": [
    {
     "ename": "NameError",
     "evalue": "name 'R_r' is not defined",
     "output_type": "error",
     "traceback": [
      "\u001b[1;31m---------------------------------------------------------------------------\u001b[0m",
      "\u001b[1;31mNameError\u001b[0m                                 Traceback (most recent call last)",
      "\u001b[1;32m<ipython-input-17-9f45c6c943b2>\u001b[0m in \u001b[0;36m<module>\u001b[1;34m\u001b[0m\n\u001b[1;32m----> 1\u001b[1;33m \u001b[0mfeed_vector\u001b[0m\u001b[1;33m(\u001b[0m\u001b[1;36m12\u001b[0m\u001b[1;33m,\u001b[0m\u001b[1;36m4\u001b[0m\u001b[1;33m,\u001b[0m\u001b[1;36m1\u001b[0m\u001b[1;33m)\u001b[0m\u001b[1;33m\u001b[0m\u001b[1;33m\u001b[0m\u001b[0m\n\u001b[0m",
      "\u001b[1;32m<ipython-input-16-abb0c1454944>\u001b[0m in \u001b[0;36mfeed_vector\u001b[1;34m(plates, feedplate, feed)\u001b[0m\n\u001b[0;32m      1\u001b[0m \u001b[1;32mdef\u001b[0m \u001b[0mfeed_vector\u001b[0m\u001b[1;33m(\u001b[0m\u001b[0mplates\u001b[0m\u001b[1;33m,\u001b[0m\u001b[0mfeedplate\u001b[0m\u001b[1;33m,\u001b[0m\u001b[0mfeed\u001b[0m\u001b[1;33m)\u001b[0m\u001b[1;33m:\u001b[0m\u001b[1;33m\u001b[0m\u001b[1;33m\u001b[0m\u001b[0m\n\u001b[0;32m      2\u001b[0m \u001b[1;33m\u001b[0m\u001b[0m\n\u001b[1;32m----> 3\u001b[1;33m     \u001b[0mL1\u001b[0m \u001b[1;33m=\u001b[0m \u001b[0mR_r\u001b[0m\u001b[1;33m*\u001b[0m\u001b[0mD\u001b[0m\u001b[1;33m\u001b[0m\u001b[1;33m\u001b[0m\u001b[0m\n\u001b[0m\u001b[0;32m      4\u001b[0m     \u001b[0mV\u001b[0m \u001b[1;33m=\u001b[0m \u001b[0mL1\u001b[0m \u001b[1;33m+\u001b[0m \u001b[0mD\u001b[0m\u001b[1;33m\u001b[0m\u001b[1;33m\u001b[0m\u001b[0m\n\u001b[0;32m      5\u001b[0m     \u001b[0mL2\u001b[0m \u001b[1;33m=\u001b[0m \u001b[0mF\u001b[0m \u001b[1;33m+\u001b[0m \u001b[0mL1\u001b[0m\u001b[1;33m\u001b[0m\u001b[1;33m\u001b[0m\u001b[0m\n",
      "\u001b[1;31mNameError\u001b[0m: name 'R_r' is not defined"
     ]
    }
   ],
   "source": [
    "feed_vector(12,4,1)"
   ]
  },
  {
   "cell_type": "markdown",
   "metadata": {},
   "source": [
    "## Composition vector function\n",
    "- This function calculates the 4 different composition vectors needed to complete the mass balance from the following equation:\n",
    "$\\frac{dx_i}{dt} = \\left(\\frac{1}{M_i}\\right)\\left(V(y_{i+1}-y_{i}) + L_1(x_{i-1}-x_{i}) + Fx_F \\right)$"
   ]
  },
  {
   "cell_type": "code",
   "execution_count": 18,
   "metadata": {},
   "outputs": [],
   "source": [
    "def comp_vector(xi,yi):\n",
    "    \n",
    "    xi = np.asarray(xi)\n",
    "    yi = np.asarray(yi)\n",
    "    \n",
    "    xi1 = np.copy(xi)\n",
    "    xi1 = np.roll(xi1, 1)\n",
    "    xi1[0] = 0\n",
    "    \n",
    "    xi2 = np.copy(xi)\n",
    "    xi2[-1] = 0\n",
    "    \n",
    "    yi1 = np.copy(yi)\n",
    "    yi1 = np.roll(yi1, -1)\n",
    "    yi1[-1] = 0\n",
    "    \n",
    "    yi2 = np.copy(yi)\n",
    "    yi2[0] = 0\n",
    "    \n",
    "    \n",
    "    return np.asarray([xi1,xi2]),np.asarray([yi1,yi2])"
   ]
  },
  {
   "cell_type": "markdown",
   "metadata": {},
   "source": []
  },
  {
   "cell_type": "code",
   "execution_count": 19,
   "metadata": {},
   "outputs": [],
   "source": [
    "def holdup_vector(plates, m_cond,m_tray,m_rebl):\n",
    "    holdup_vec = np.zeros(plates)\n",
    "    \n",
    "    holdup_vec[0] = m_cond\n",
    "    holdup_vec[-1] = m_rebl\n",
    "    holdup_vec[1:plates-1] = m_tray\n",
    "    \n",
    "    return holdup_vec"
   ]
  },
  {
   "cell_type": "code",
   "execution_count": 20,
   "metadata": {},
   "outputs": [
    {
     "data": {
      "text/plain": [
       "array([0.15, 0.2 , 0.2 , 0.2 , 0.2 , 0.2 , 0.2 , 0.2 , 0.2 , 0.2 , 0.2 ,\n",
       "       0.45])"
      ]
     },
     "execution_count": 20,
     "metadata": {},
     "output_type": "execute_result"
    }
   ],
   "source": [
    "holdup_vector(12, 0.15, 0.2,0.45)"
   ]
  },
  {
   "cell_type": "markdown",
   "metadata": {},
   "source": [
    "## Heat capacity function \n",
    "- This function calculates the heat capacity of the liquid holdup on each plate\n",
    "- The heat capacity is used to calculate the temperature on the plate."
   ]
  },
  {
   "cell_type": "code",
   "execution_count": 21,
   "metadata": {},
   "outputs": [],
   "source": [
    "def Cp(xi):\n",
    "    CPi = []\n",
    "    \n",
    "    for i in range(len(xi)):\n",
    "        CPi.append(CP.PropsSI('CPMOLAR','Q',0,'P',101325,f'Ethanol[{xi[i]}]&Water[{1-xi[i]}]'))\n",
    "    return np.asarray(CPi)"
   ]
  },
  {
   "cell_type": "code",
   "execution_count": 22,
   "metadata": {},
   "outputs": [
    {
     "data": {
      "text/plain": [
       "array([117.45980637, 122.1498239 , 126.25094095])"
      ]
     },
     "execution_count": 22,
     "metadata": {},
     "output_type": "execute_result"
    }
   ],
   "source": [
    "Cp([0.5,0.6,0.7])"
   ]
  },
  {
   "cell_type": "markdown",
   "metadata": {},
   "source": [
    "## Ethalpy function \n",
    "- Vectors corrosponding to the flow vectors are calculated and shaped correctly.\n",
    "- This function calculates liquid and vapour enthalpy.\n",
    "- The pressure is currently assumed to be costant and set equal to 101.325 kPa."
   ]
  },
  {
   "cell_type": "code",
   "execution_count": 271,
   "metadata": {},
   "outputs": [
    {
     "name": "stdout",
     "output_type": "stream",
     "text": [
      "[-6795.76505219  6811.32037477]\n",
      "[-9450.87444706 48380.82285373]\n"
     ]
    },
    {
     "data": {
      "image/png": "[encoded data removed]",
      "text/plain": [
       "<Figure size 432x288 with 1 Axes>"
      ]
     },
     "metadata": {
      "needs_background": "light"
     },
     "output_type": "display_data"
    }
   ],
   "source": [
    "xi = np.linspace(0.01,0.99,100)\n",
    "yi = np.linspace(0.01,0.99,100)\n",
    "# yi = vle_data(xi)\n",
    "H_l = []\n",
    "H_v = []\n",
    "\n",
    "for i in range(len(xi)):\n",
    "        x1 = round(xi[i],5)\n",
    "        x2 = round(1-x1,5)\n",
    "        H_l.append(CP.PropsSI('HMOLAR','P',101325,'Q',0,f'Ethanol[{x1}]&Water[{x2}]'))\n",
    "        \n",
    "\n",
    "\n",
    "for i in range(len(xi)):\n",
    "        y1 = round(yi[i],1)\n",
    "        y2 = round(1-y1,1)\n",
    "        H_v.append(CP.PropsSI('HMOLAR','P',101325,'Q',1,f'Ethanol[{y1}]&Water[{y2}]'))\n",
    "        \n",
    "plt.plot(xi,H_l,\"x\")        \n",
    "plt.plot(yi,H_v,\"X\")\n",
    "plt.xlim([0,1])\n",
    "plt.ylim([0,50000])\n",
    "H_l = np.asarray(H_l)\n",
    "H_v = np.asarray(H_v)\n",
    "\n",
    "plt.plot(xi,liquid_enthalpy(xi))\n",
    "plt.plot(yi,vapour_enthalpy(yi))\n",
    "\n",
    "model_l = np.polyfit(xi, H_l, 1)\n",
    "model_v = np.polyfit(yi, H_v, 1)\n",
    "print(model_l)\n",
    "print(model_v)"
   ]
  },
  {
   "cell_type": "code",
   "execution_count": 272,
   "metadata": {},
   "outputs": [
    {
     "data": {
      "text/plain": [
       "[<matplotlib.lines.Line2D at 0x262a981e400>]"
      ]
     },
     "execution_count": 272,
     "metadata": {},
     "output_type": "execute_result"
    },
    {
     "data": {
      "image/png": "[encoded data removed]",
      "text/plain": [
       "<Figure size 432x288 with 1 Axes>"
      ]
     },
     "metadata": {
      "needs_background": "light"
     },
     "output_type": "display_data"
    }
   ],
   "source": [
    "def liquid_enthalpy(xi):\n",
    "    xi = np.asarray(xi)\n",
    "    HL = -6795.76505219*xi + 6811.32037477\n",
    "    return HL\n",
    "\n",
    "def vapour_enthalpy(yi):\n",
    "    yi = np.asarray(yi)\n",
    "    HV = -9272.62083371 *yi + 48236.06928559\n",
    "    return HV\n",
    "\n",
    "plt.plot(xi,liquid_enthalpy(xi))\n",
    "plt.plot(yi,vapour_enthalpy(yi))"
   ]
  },
  {
   "cell_type": "code",
   "execution_count": 273,
   "metadata": {},
   "outputs": [],
   "source": [
    "def H(xi,yi):\n",
    "    Hi_L = liquid_enthalpy(xi)\n",
    "    Hi_V = vapour_enthalpy(yi)\n",
    "    \n",
    "    Hi_L1 = np.copy(Hi_L)\n",
    "    Hi_L1 = np.roll(Hi_L1, 1)\n",
    "    Hi_L1[0] = 0\n",
    "    \n",
    "    Hi_L2 = np.copy(Hi_L)\n",
    "    Hi_L2[-1] = 0\n",
    "    \n",
    "    Hi_V1 = np.copy(Hi_V)\n",
    "    Hi_V1 = np.roll(Hi_V1, -1)\n",
    "    Hi_V1[-1] = 0\n",
    "    \n",
    "    Hi_V2 = np.copy(Hi_V)\n",
    "    Hi_V2[0] = 0\n",
    "    \n",
    "    Hi_F = np.zeros(plates)\n",
    "    Hi_F[feedplate-1] = 130#CP.PropsSI('HMOLAR','P',500000,'Q',0,f'Ethanol[{xF}]&Water[{1-xF}]')\n",
    "    \n",
    "    return [Hi_L,Hi_L1,Hi_L2,Hi_V,Hi_V1,Hi_V2,Hi_F]"
   ]
  },
  {
   "cell_type": "code",
   "execution_count": 274,
   "metadata": {},
   "outputs": [
    {
     "data": {
      "text/plain": [
       "[array([2733.86134346, 2054.28483824, 1374.70833302]),\n",
       " array([   0.        , 2733.86134346, 2054.28483824]),\n",
       " array([2733.86134346, 2054.28483824,    0.        ]),\n",
       " array([44226.4118573 , 42672.49678536, 41745.23470199]),\n",
       " array([42672.49678536, 41745.23470199,     0.        ]),\n",
       " array([    0.        , 42672.49678536, 41745.23470199]),\n",
       " array([  0.,   0.,   0., 130.,   0.,   0.,   0.,   0.,   0.,   0.,   0.,\n",
       "          0.])]"
      ]
     },
     "execution_count": 274,
     "metadata": {},
     "output_type": "execute_result"
    }
   ],
   "source": [
    "H([0.6,0.7,0.8],[0.432419,0.6,0.7])"
   ]
  },
  {
   "cell_type": "markdown",
   "metadata": {},
   "source": [
    "## Reboiler and Condenser Duty"
   ]
  },
  {
   "cell_type": "code",
   "execution_count": 275,
   "metadata": {},
   "outputs": [],
   "source": [
    "def cond_duty(M,Tout):\n",
    "    cp_w = CP.PropsSI('CPMASS','P',101325,'T',298,'Water')\n",
    "    \n",
    "    Qcond = -M*cp_w*(Tout - 25)\n",
    "    \n",
    "    return Qcond"
   ]
  },
  {
   "cell_type": "code",
   "execution_count": 276,
   "metadata": {},
   "outputs": [
    {
     "data": {
      "text/plain": [
       "-104534.43017968701"
      ]
     },
     "execution_count": 276,
     "metadata": {},
     "output_type": "execute_result"
    }
   ],
   "source": [
    "cond_duty(5,30)"
   ]
  },
  {
   "cell_type": "code",
   "execution_count": 277,
   "metadata": {},
   "outputs": [],
   "source": [
    "def rebl_duty(M,Tout):\n",
    "    cp_w = CP.PropsSI('CPMASS','P',500000,'T',400,'Water')\n",
    "    \n",
    "    Qcond = -M*cp_w*(Tout - 126)\n",
    "    \n",
    "    return Qcond"
   ]
  },
  {
   "cell_type": "code",
   "execution_count": 278,
   "metadata": {},
   "outputs": [
    {
     "data": {
      "text/plain": [
       "110625.57369639185"
      ]
     },
     "execution_count": 278,
     "metadata": {},
     "output_type": "execute_result"
    }
   ],
   "source": [
    "rebl_duty(1,100)"
   ]
  },
  {
   "cell_type": "code",
   "execution_count": 279,
   "metadata": {},
   "outputs": [
    {
     "data": {
      "text/plain": [
       "array([-2394.,     0.,     0.,     0.,     0.,     0.,     0.,     0.,\n",
       "           0.,     0.,     0.,   798.])"
      ]
     },
     "execution_count": 279,
     "metadata": {},
     "output_type": "execute_result"
    }
   ],
   "source": [
    "def duty(plates,feedplate,Qcond,Qrebl):\n",
    "    duty_vector = np.zeros(plates)\n",
    "    duty_vector[0] = Qcond\n",
    "\n",
    "    duty_vector[-1] = Qrebl\n",
    "    \n",
    "    return duty_vector\n",
    "\n",
    "duty(12,4,-2394,798)"
   ]
  },
  {
   "cell_type": "markdown",
   "metadata": {},
   "source": [
    "## Vectozied model of the column"
   ]
  },
  {
   "cell_type": "code",
   "execution_count": 298,
   "metadata": {},
   "outputs": [],
   "source": [
    "def mass_DE(t,var):\n",
    "    \n",
    "    # values for compositon and temperature is fed as a 1-D array and reshaped\n",
    "    x,T = np.reshape(var,(2,-1))\n",
    "    \n",
    "    xi = np.asarray(x)\n",
    "    Ti = np.asarray(T)\n",
    "    \n",
    "    L1 = R_r*D\n",
    "    V = L1 + D\n",
    "    L2 = F + L1\n",
    "    \n",
    "    R = V - L1\n",
    "    BU = L2 - V\n",
    "    \n",
    "    yi = vle_data(xi) # change to vle_data() for interpolation of vapour liquid equilibrium\n",
    "    \n",
    "    \n",
    "    if t<15:\n",
    "        feedplate = 4\n",
    "    else:\n",
    "        feedplate = 4 # change this to vary which plate is fed on\n",
    "    \n",
    "    flow1, flow2, feed1, feed2 = feed_vector(plates,feedplate, F)\n",
    "    \n",
    "    x1, y1 = comp_vector(xi,yi)\n",
    "    holdup_vec = holdup_vector(plates, m_cond,m_tray,m_rebl)\n",
    "\n",
    "    # component mass balance \n",
    "    \n",
    "    dxdt = 1/holdup_vec * (V*(y1[0] - y1[1]) + flow1*x1[0] - flow2*x1[1] + feed1*xF  - feed2*xi)\n",
    "    \n",
    "    \n",
    "    HL,HL1, HL2, HV, HV1, HV2, Hi_F = H(xi,yi)\n",
    "#     CPi = Cp(xi)\n",
    "    \n",
    "    duty_vector = duty(plates,feedplate,cond_duty(2.53,28),rebl_duty(0.295,100))\n",
    "#     duty_vector = duty(plates,feedplate,0,0)\n",
    "    \n",
    "\n",
    "#      Energy balance with coolprops\n",
    "\n",
    "    \n",
    "    dTdt = 1/(holdup_vec*14.0800)*( V*(HV1 - HV2) + flow1*HL1 - flow2*HL2 + feed1*HL - feed2*HL + F*Hi_F + duty_vector ) \n",
    "    \n",
    "#     dTdt = np.zeros(len(Ti))  # Unhash this to just use mass balance\n",
    "\n",
    "    didt = np.concatenate([dxdt, dTdt])\n",
    "\n",
    "    return didt"
   ]
  },
  {
   "cell_type": "code",
   "execution_count": 299,
   "metadata": {},
   "outputs": [],
   "source": [
    "# plates is the number of total plates + 2 (for the reboiler and condenser)\n",
    "# feedplate is the plate number the feed occurs on\n",
    "# x_initial is an array with the initial column states\n",
    "\n",
    "plates = 12\n",
    "feedplate = 4"
   ]
  },
  {
   "cell_type": "markdown",
   "metadata": {},
   "source": [
    "## Inputs to calculate intial state"
   ]
  },
  {
   "cell_type": "markdown",
   "metadata": {},
   "source": [
    "### Input variables\n",
    "\n",
    "1. $F_3$ - Feed flow rate on plate 3\n",
    "2. $F_7$ - Feed flow rate on plate 7\n",
    "3. $x_F$ - Feed liquid composition\n",
    "4. $Rr$ - Reflux ratio\n",
    "5. $D_F$ - Distillate to feed ratio\n",
    "\n",
    "### Parameters\n",
    "\n",
    "1. $\\alpha$ - Relative volatility\n",
    "2. $m_{tray}$ - holdup on each tray\n",
    "2. $m_{cond}$ - holdup in the total condenser\n",
    "2. $m_{rebl}$ - holdup in the partial reboiler"
   ]
  },
  {
   "cell_type": "code",
   "execution_count": 300,
   "metadata": {},
   "outputs": [
    {
     "name": "stdout",
     "output_type": "stream",
     "text": [
      "[0.1 0.1 0.1 0.1 0.1 0.1 0.1 0.1 0.1 0.1 0.1 0.1]\n",
      "[303. 303. 303. 303. 303. 303. 303. 303. 303. 303. 303. 303.]\n"
     ]
    }
   ],
   "source": [
    "init_comp = np.array([0.1, 0.1, 0.1, 0.1, 0.1, 0.1, 0.1, 0.1, 0.1, 0.1, 0.1, 0.1])\n",
    "init_temp = np.array([303,303,303,303,303,303,303,303,303,303,303,303])\n",
    "\n",
    "\n",
    "init = np.concatenate([init_comp,init_temp])\n",
    "\n",
    "x,T = np.reshape(init,(2,-1))\n",
    "print(x)\n",
    "print(T)"
   ]
  },
  {
   "cell_type": "code",
   "execution_count": 301,
   "metadata": {},
   "outputs": [],
   "source": [
    "init = np.concatenate([init_comp,init_temp])"
   ]
  },
  {
   "cell_type": "code",
   "execution_count": 326,
   "metadata": {},
   "outputs": [],
   "source": [
    "F = 1 # Feed on plate 3\n",
    "D =0.5\n",
    "xF = 0.5 # mole fraction in feed\n",
    "R_r = 0.6 # reflux ratio\n",
    "m_cond = 0.15 # holdup in condenser\n",
    "m_tray = 0.2 # holdup on each tray\n",
    "m_rebl = 0.45 # holdup in reboiler"
   ]
  },
  {
   "cell_type": "code",
   "execution_count": 327,
   "metadata": {},
   "outputs": [
    {
     "data": {
      "text/plain": [
       "array([ 1.82193333e+00,  0.00000000e+00,  0.00000000e+00,  2.00000000e+00,\n",
       "        0.00000000e+00,  0.00000000e+00,  0.00000000e+00,  0.00000000e+00,\n",
       "        0.00000000e+00,  0.00000000e+00,  0.00000000e+00, -6.07311111e-01,\n",
       "       -6.29316706e+02,  0.00000000e+00,  0.00000000e+00,  4.61647727e+01,\n",
       "        0.00000000e+00,  0.00000000e+00,  0.00000000e+00,  0.00000000e+00,\n",
       "        0.00000000e+00,  0.00000000e+00,  0.00000000e+00,  3.51484868e+02])"
      ]
     },
     "execution_count": 327,
     "metadata": {},
     "output_type": "execute_result"
    }
   ],
   "source": [
    "mass_DE(0,init)"
   ]
  },
  {
   "cell_type": "code",
   "execution_count": 328,
   "metadata": {},
   "outputs": [],
   "source": [
    "# %%debug\n",
    "tspan = (0,15)\n",
    "t = np.linspace( *tspan, 100)\n",
    "initial_run = scipy.integrate.solve_ivp(mass_DE, tspan, init, t_eval=t)"
   ]
  },
  {
   "cell_type": "code",
   "execution_count": 329,
   "metadata": {},
   "outputs": [],
   "source": [
    "x = initial_run.y"
   ]
  },
  {
   "cell_type": "code",
   "execution_count": 330,
   "metadata": {},
   "outputs": [
    {
     "name": "stdout",
     "output_type": "stream",
     "text": [
      "0.7133221490412427 0.2866951017967895\n"
     ]
    },
    {
     "data": {
      "image/png": "[encoded data removed]",
      "text/plain": [
       "<Figure size 432x288 with 1 Axes>"
      ]
     },
     "metadata": {
      "needs_background": "light"
     },
     "output_type": "display_data"
    },
    {
     "data": {
      "image/png": "[encoded data removed]",
      "text/plain": [
       "<Figure size 432x288 with 1 Axes>"
      ]
     },
     "metadata": {
      "needs_background": "light"
     },
     "output_type": "display_data"
    }
   ],
   "source": [
    "plt.figure(1)\n",
    "plt.title(\"Initial steady state calculation\")\n",
    "\n",
    "\n",
    "for i in range(0,12) :\n",
    "    plt.plot(t,initial_run.y[i], label=\"x{}\".format(i))\n",
    "\n",
    "plt.figure(2)\n",
    "    \n",
    "for i in range(12,24) :\n",
    "    plt.plot(t,initial_run.y[i]-273, label=\"x{}\".format(i))\n",
    "    \n",
    "plt.xlabel(\"Time [min]\")\n",
    "# plt.ylabel(\"Composition [$x_{eth}$]\")\n",
    "# plt.ylim([0,1000])\n",
    "plt.legend(loc = \"upper right\")\n",
    "plt.savefig(\"Basic_distillation_column_V3.svg\")\n",
    "print(initial_run.y[0,-1],initial_run.y[11,-1])"
   ]
  },
  {
   "cell_type": "code",
   "execution_count": 331,
   "metadata": {},
   "outputs": [
    {
     "data": {
      "text/plain": [
       "array([ 197.83676379,  346.47138596,  217.04662884,  781.84917133,\n",
       "        146.22855759,  190.01360582,  343.6587038 ,  515.05382533,\n",
       "        548.62122245,  638.66944693, 1057.89297922,  871.26644311])"
      ]
     },
     "execution_count": 331,
     "metadata": {},
     "output_type": "execute_result"
    }
   ],
   "source": [
    "initial_run.y[12:24,-1]"
   ]
  },
  {
   "cell_type": "code",
   "execution_count": 333,
   "metadata": {},
   "outputs": [
    {
     "data": {
      "text/plain": [
       "array([0.76095349, 0.71332216, 0.68154477, 0.65866201, 0.65866109,\n",
       "       0.65865806, 0.6586338 , 0.65852319, 0.65783882, 0.65426765,\n",
       "       0.63713646, 0.56757924])"
      ]
     },
     "execution_count": 333,
     "metadata": {},
     "output_type": "execute_result"
    }
   ],
   "source": [
    "sol  = initial_run.y\n",
    "sol_x = sol[0:12,-1]\n",
    "sol_H = sol[12:24,-1]\n",
    "\n",
    "sol_y = vle_data(sol_x)\n",
    "\n",
    "HV = []\n",
    "\n",
    "for i in range(len(sol_x)):\n",
    "    yi = sol_y[i]\n",
    "    HV.append(CP.PropsSI('HMOLAR','P',101325,'Q',1,f'Ethanol[{yi}]&Water[{1-yi}]'))\n",
    "sol_y"
   ]
  },
  {
   "cell_type": "code",
   "execution_count": 336,
   "metadata": {},
   "outputs": [
    {
     "data": {
      "text/plain": [
       "(0.3, 0.8)"
      ]
     },
     "execution_count": 336,
     "metadata": {},
     "output_type": "execute_result"
    },
    {
     "data": {
      "image/png": "[encoded data removed]",
      "text/plain": [
       "<Figure size 432x288 with 1 Axes>"
      ]
     },
     "metadata": {
      "needs_background": "light"
     },
     "output_type": "display_data"
    }
   ],
   "source": [
    "plt.plot(sol_x,sol_H,\"o\")\n",
    "plt.plot(sol_y,HV,\"o\")\n",
    "\n",
    "xi = np.linspace(0.01,0.99,100)\n",
    "yi = np.linspace(0.01,0.99,100)\n",
    "\n",
    "plt.plot(xi,liquid_enthalpy(xi))\n",
    "plt.plot(yi,vapour_enthalpy(yi))\n",
    "plt.ylim(-1000,50000)\n",
    "plt.xlim(0.3,0.8)"
   ]
  },
  {
   "cell_type": "code",
   "execution_count": null,
   "metadata": {},
   "outputs": [],
   "source": []
  }
 ],
 "metadata": {
  "kernelspec": {
   "display_name": "Python 3",
   "language": "python",
   "name": "python3"
  },
  "language_info": {
   "codemirror_mode": {
    "name": "ipython",
    "version": 3
   },
   "file_extension": ".py",
   "mimetype": "text/x-python",
   "name": "python",
   "nbconvert_exporter": "python",
   "pygments_lexer": "ipython3",
   "version": "3.7.3"
  }
 },
 "nbformat": 4,
 "nbformat_minor": 2
}
