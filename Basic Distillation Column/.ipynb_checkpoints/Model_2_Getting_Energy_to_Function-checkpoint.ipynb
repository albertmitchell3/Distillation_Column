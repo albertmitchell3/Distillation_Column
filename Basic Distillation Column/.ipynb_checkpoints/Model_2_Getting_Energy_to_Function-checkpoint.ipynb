{
 "cells": [
  {
   "cell_type": "markdown",
   "metadata": {},
   "source": [
    "# Establishing steady state and then getting energy balances to function"
   ]
  },
  {
   "cell_type": "code",
   "execution_count": 1,
   "metadata": {},
   "outputs": [],
   "source": [
    "import numpy as np\n",
    "import sympy\n",
    "from matplotlib import pyplot as plt\n",
    "import scipy\n",
    "import scipy.optimize\n",
    "import scipy.integrate\n",
    "import CoolProp\n",
    "import CoolProp.CoolProp as CP\n",
    "import pandas as pd"
   ]
  },
  {
   "cell_type": "code",
   "execution_count": 2,
   "metadata": {},
   "outputs": [],
   "source": [
    "def vle_data(xi):\n",
    "    \n",
    "    x_data = [0, 0.019, 0.0721, 0.0966, 0.1238, 0.1661, 0.2337, 0.2608, \n",
    "              0.3273, 0.3965, 0.5079, 0.5198, 0.5732, 0.6763, 0.7472, 0.8943, 1]\n",
    "    y_data = [0, 0.170, 0.3891, 0.4375, 0.4704, 0.5089, 0.5445, 0.5580, \n",
    "              0.5826, 0.6122, 0.6564, 0.6599, 0.6841, 0.7385, 0.7815, 0.8943, 1]\n",
    "    T_data = [100,95.5,89,86.7,85.3,84.1,82.7,82.3,81.5,80.7,79.8,79.7,79.3,\n",
    "             78.74,78.41,78.15,78.30]\n",
    "    x = np.interp(xi,x_data, y_data)\n",
    "    T = np.interp(xi,x_data,T_data)\n",
    "    return x,T"
   ]
  },
  {
   "cell_type": "code",
   "execution_count": 3,
   "metadata": {},
   "outputs": [],
   "source": [
    "def feed_vector(plates,feedplate,feed):\n",
    "    \n",
    "    L1 = R_r*D\n",
    "    V = L1 + D\n",
    "    L2 = F + L1\n",
    "    \n",
    "    R = V - L1\n",
    "    BU = L2 - V\n",
    "    \n",
    "    feed_vec1 = np.zeros(plates)\n",
    "    feed_vec2 = np.zeros(plates)\n",
    "    flow_vec_top = np.zeros(plates)\n",
    "    flow_vec_bot = np.zeros(plates)\n",
    "    \n",
    "    flow_vec_top[0:feedplate] = L1\n",
    "    flow_vec_top[feedplate:] = L2\n",
    "    \n",
    "    flow_vec_bot[0:feedplate-1] = L1\n",
    "    flow_vec_bot[feedplate-1:] = L2\n",
    "    \n",
    "    feed_vec1[feedplate-1] = feed\n",
    "    feed_vec2[0] = R\n",
    "    feed_vec2[-1] = BU\n",
    "    \n",
    "    return np.asarray([flow_vec_top,flow_vec_bot,feed_vec1,feed_vec2])\n",
    "# feed_vector(12,4,1)"
   ]
  },
  {
   "cell_type": "code",
   "execution_count": 4,
   "metadata": {},
   "outputs": [],
   "source": [
    "def comp_vector(xi,yi):\n",
    "    \n",
    "    xi = np.asarray(xi)\n",
    "    yi = np.asarray(yi)\n",
    "    \n",
    "    xi1 = np.copy(xi)\n",
    "    xi1 = np.roll(xi1, 1)\n",
    "    xi1[0] = 0\n",
    "    \n",
    "    xi2 = np.copy(xi)\n",
    "    xi2[-1] = 0\n",
    "    \n",
    "    yi1 = np.copy(yi)\n",
    "    yi1 = np.roll(yi1, -1)\n",
    "    yi1[-1] = 0\n",
    "    \n",
    "    yi2 = np.copy(yi)\n",
    "    yi2[0] = 0\n",
    "    \n",
    "    \n",
    "    return np.asarray([xi1,xi2]),np.asarray([yi1,yi2])"
   ]
  },
  {
   "cell_type": "code",
   "execution_count": 5,
   "metadata": {},
   "outputs": [],
   "source": [
    "def holdup_vector(plates, m_cond,m_tray,m_rebl):\n",
    "    holdup_vec = np.zeros(plates)\n",
    "    \n",
    "    holdup_vec[0] = m_cond\n",
    "    holdup_vec[-1] = m_rebl\n",
    "    holdup_vec[1:plates-1] = m_tray\n",
    "    \n",
    "    return holdup_vec"
   ]
  },
  {
   "cell_type": "code",
   "execution_count": 6,
   "metadata": {},
   "outputs": [],
   "source": [
    "def mass_DE(t, x):\n",
    "    \n",
    "    xi = np.asarray(x)\n",
    "    yi,_ = vle_data(xi)\n",
    "    \n",
    "    L1 = R_r*D\n",
    "    V = L1 + D\n",
    "    L2 = F + L1\n",
    "    \n",
    "    Dist = V - L1\n",
    "    Bottom = L2 - V\n",
    "    \n",
    "    if t<15:\n",
    "        feedplate = 4\n",
    "    else:\n",
    "        feedplate = 4\n",
    "    \n",
    "    flow1, flow2, feed1, feed2 = feed_vector(plates,feedplate, F)\n",
    "    x1, y1 = comp_vector(xi,yi)\n",
    "    holdup_vec = holdup_vector(plates, m_cond,m_tray,m_rebl)\n",
    "    \n",
    "    dxdt = 1/holdup_vec * (V*(y1[0] - y1[1]) + flow1*x1[0] - flow2*x1[1] + feed1*xF  - feed2*xi)\n",
    "                     \n",
    "    return dxdt"
   ]
  },
  {
   "cell_type": "markdown",
   "metadata": {},
   "source": [
    "## Establishing an initial steady state vector "
   ]
  },
  {
   "cell_type": "code",
   "execution_count": 7,
   "metadata": {},
   "outputs": [],
   "source": [
    "init = [0.1, 0.1, 0.1, 0.1, 0.1, 0.1, 0.1, 0.1, 0.1, 0.1, 0.1, 0.1]\n",
    "# init = [0.71332218, 0.62858247, 0.56756165, 0.51559062, 0.51558868, 0.51557352,\n",
    "#         0.51550557, 0.51508155, 0.51288654, 0.50231758, 0.4596435,  0.28665376]\n",
    "\n",
    "plates = 12\n",
    "feedplate = 4\n",
    "\n",
    "F = 1 # Feed on plate 3\n",
    "D =0.5\n",
    "xF = 0.5 # mole fraction in feed\n",
    "R_r = 10 # reflux ratio\n",
    "m_cond = 0.15 # holdup in condenser\n",
    "m_tray = 0.2 # holdup on each tray\n",
    "m_rebl = 0.45 # holdup in reboiler"
   ]
  },
  {
   "cell_type": "code",
   "execution_count": 8,
   "metadata": {},
   "outputs": [],
   "source": [
    "tspan = (0,50)\n",
    "t = np.linspace( *tspan, 100)\n",
    "initial_run = scipy.integrate.solve_ivp(mass_DE, tspan, init, t_eval=t)"
   ]
  },
  {
   "cell_type": "code",
   "execution_count": 9,
   "metadata": {},
   "outputs": [],
   "source": [
    "x = initial_run.y"
   ]
  },
  {
   "cell_type": "code",
   "execution_count": 10,
   "metadata": {
    "scrolled": true
   },
   "outputs": [
    {
     "name": "stdout",
     "output_type": "stream",
     "text": [
      "[0.81021724 0.78461551 0.75434827 0.71072083 0.70871871 0.70477968\n",
      " 0.6981517  0.68567944 0.66195058 0.61228895 0.49379769 0.18978498]\n"
     ]
    },
    {
     "data": {
      "image/png": "[encoded data removed]",
      "text/plain": [
       "<Figure size 432x288 with 1 Axes>"
      ]
     },
     "metadata": {
      "needs_background": "light"
     },
     "output_type": "display_data"
    }
   ],
   "source": [
    "plt.figure(1)\n",
    "plt.title(\"Initial steady state calculation\")\n",
    "\n",
    "for i in range(len(initial_run.y)) :\n",
    "    plt.plot(t,initial_run.y[i], label=\"x{}\".format(i))\n",
    "    \n",
    "plt.xlabel(\"Time [min]\")\n",
    "plt.ylabel(\"Composition [$x_{eth}$]\")\n",
    "plt.legend(loc = \"upper right\")\n",
    "\n",
    "plt.savefig(\"Basic_distillation_column_V3.svg\")\n",
    "print(x[:,-1])"
   ]
  },
  {
   "cell_type": "code",
   "execution_count": 11,
   "metadata": {},
   "outputs": [
    {
     "data": {
      "text/html": [
       "<div>\n",
       "<style scoped>\n",
       "    .dataframe tbody tr th:only-of-type {\n",
       "        vertical-align: middle;\n",
       "    }\n",
       "\n",
       "    .dataframe tbody tr th {\n",
       "        vertical-align: top;\n",
       "    }\n",
       "\n",
       "    .dataframe thead th {\n",
       "        text-align: right;\n",
       "    }\n",
       "</style>\n",
       "<table border=\"1\" class=\"dataframe\">\n",
       "  <thead>\n",
       "    <tr style=\"text-align: right;\">\n",
       "      <th></th>\n",
       "      <th>x_ss</th>\n",
       "      <th>y_ss</th>\n",
       "      <th>T_ss</th>\n",
       "    </tr>\n",
       "  </thead>\n",
       "  <tbody>\n",
       "    <tr>\n",
       "      <th>0</th>\n",
       "      <td>0.810217</td>\n",
       "      <td>0.829823</td>\n",
       "      <td>78.298617</td>\n",
       "    </tr>\n",
       "    <tr>\n",
       "      <th>1</th>\n",
       "      <td>0.784616</td>\n",
       "      <td>0.810191</td>\n",
       "      <td>78.343868</td>\n",
       "    </tr>\n",
       "    <tr>\n",
       "      <th>2</th>\n",
       "      <td>0.754348</td>\n",
       "      <td>0.786981</td>\n",
       "      <td>78.397365</td>\n",
       "    </tr>\n",
       "    <tr>\n",
       "      <th>3</th>\n",
       "      <td>0.710721</td>\n",
       "      <td>0.759376</td>\n",
       "      <td>78.579790</td>\n",
       "    </tr>\n",
       "    <tr>\n",
       "      <th>4</th>\n",
       "      <td>0.708719</td>\n",
       "      <td>0.758162</td>\n",
       "      <td>78.589109</td>\n",
       "    </tr>\n",
       "    <tr>\n",
       "      <th>5</th>\n",
       "      <td>0.704780</td>\n",
       "      <td>0.755773</td>\n",
       "      <td>78.607443</td>\n",
       "    </tr>\n",
       "    <tr>\n",
       "      <th>6</th>\n",
       "      <td>0.698152</td>\n",
       "      <td>0.751753</td>\n",
       "      <td>78.638293</td>\n",
       "    </tr>\n",
       "    <tr>\n",
       "      <th>7</th>\n",
       "      <td>0.685679</td>\n",
       "      <td>0.744189</td>\n",
       "      <td>78.696344</td>\n",
       "    </tr>\n",
       "    <tr>\n",
       "      <th>8</th>\n",
       "      <td>0.661951</td>\n",
       "      <td>0.730929</td>\n",
       "      <td>78.817941</td>\n",
       "    </tr>\n",
       "    <tr>\n",
       "      <th>9</th>\n",
       "      <td>0.612289</td>\n",
       "      <td>0.704725</td>\n",
       "      <td>79.087684</td>\n",
       "    </tr>\n",
       "    <tr>\n",
       "      <th>10</th>\n",
       "      <td>0.493798</td>\n",
       "      <td>0.650805</td>\n",
       "      <td>79.913932</td>\n",
       "    </tr>\n",
       "    <tr>\n",
       "      <th>11</th>\n",
       "      <td>0.189785</td>\n",
       "      <td>0.521373</td>\n",
       "      <td>83.609483</td>\n",
       "    </tr>\n",
       "  </tbody>\n",
       "</table>\n",
       "</div>"
      ],
      "text/plain": [
       "        x_ss      y_ss       T_ss\n",
       "0   0.810217  0.829823  78.298617\n",
       "1   0.784616  0.810191  78.343868\n",
       "2   0.754348  0.786981  78.397365\n",
       "3   0.710721  0.759376  78.579790\n",
       "4   0.708719  0.758162  78.589109\n",
       "5   0.704780  0.755773  78.607443\n",
       "6   0.698152  0.751753  78.638293\n",
       "7   0.685679  0.744189  78.696344\n",
       "8   0.661951  0.730929  78.817941\n",
       "9   0.612289  0.704725  79.087684\n",
       "10  0.493798  0.650805  79.913932\n",
       "11  0.189785  0.521373  83.609483"
      ]
     },
     "execution_count": 11,
     "metadata": {},
     "output_type": "execute_result"
    }
   ],
   "source": [
    "x_ss = [0.81021724 ,0.78461551 ,0.75434827, 0.71072083 ,0.70871871 ,0.70477968,\n",
    "        0.6981517,  0.68567944 ,0.66195058 ,0.61228895 ,0.49379769, 0.18978498]\n",
    "y_ss,T_ss = vle_data(x_ss)\n",
    "steady_state = pd.DataFrame({'x_ss':x_ss, 'y_ss':y_ss, 'T_ss':T_ss})\n",
    "steady_state"
   ]
  },
  {
   "cell_type": "markdown",
   "metadata": {},
   "source": [
    "## Adding energy balance functions "
   ]
  },
  {
   "cell_type": "code",
   "execution_count": 12,
   "metadata": {},
   "outputs": [],
   "source": [
    "def H(xi,yi,Ti):\n",
    "    Hi_L = []\n",
    "    Hi_V = []\n",
    "    Ti = np.asarray(Ti)\n",
    "    \n",
    "    for i in range(len(xi)):\n",
    "        y = round(yi[i],5)\n",
    "        Hi_L.append(CP.PropsSI('HMOLAR','P',101325,'Q',0,f'Ethanol[{xi[i]}]&Water[{1-xi[i]}]'))\n",
    "        Hi_V.append(CP.PropsSI('HMOLAR','P',101325,'Q',1,f'Ethanol[{y}]&Water[{1-y}]'))\n",
    "        \n",
    "    Hi_L = np.asarray(Hi_L)\n",
    "    Hi_V = np.asarray(Hi_V)\n",
    "    \n",
    "    Hi_L1 = np.copy(Hi_L)\n",
    "    Hi_L1 = np.roll(Hi_L1, 1)\n",
    "    Hi_L1[0] = 0\n",
    "    \n",
    "    Hi_L2 = np.copy(Hi_L)\n",
    "    Hi_L2[-1] = 0\n",
    "    \n",
    "    Hi_V1 = np.copy(Hi_V)\n",
    "    Hi_V1 = np.roll(Hi_V1, -1)\n",
    "    Hi_V1[-1] = 0\n",
    "    \n",
    "    Hi_V2 = np.copy(Hi_V)\n",
    "    Hi_V2[0] = 0\n",
    "    \n",
    "    Hi_F = np.zeros(plates)\n",
    "    Hi_F[feedplate-1] = CP.PropsSI('HMOLAR','P',101325,'Q',0,f'Ethanol[{xF}]&Water[{1-xF}]')\n",
    "    \n",
    "    return [Hi_L,Hi_L1,Hi_L2,Hi_V,Hi_V1,Hi_V2,Hi_F]"
   ]
  },
  {
   "cell_type": "code",
   "execution_count": 13,
   "metadata": {},
   "outputs": [
    {
     "data": {
      "text/plain": [
       "216705.91250745376"
      ]
     },
     "execution_count": 13,
     "metadata": {},
     "output_type": "execute_result"
    }
   ],
   "source": [
    "def cond_duty(M,Tout):\n",
    "    cp_w = CP.PropsSI('CPMASS','P',101325,'T',298,'Water')\n",
    "    \n",
    "    Qcond = M*cp_w*(Tout - 25)\n",
    "    \n",
    "    return Qcond\n",
    "cond_duty(10.36528884,30)"
   ]
  },
  {
   "cell_type": "code",
   "execution_count": 14,
   "metadata": {},
   "outputs": [
    {
     "data": {
      "text/plain": [
       "110625.57369639185"
      ]
     },
     "execution_count": 14,
     "metadata": {},
     "output_type": "execute_result"
    }
   ],
   "source": [
    "def rebl_duty(M,Tout):\n",
    "    cp_w = CP.PropsSI('CPMASS','P',500000,'T',400,'Water')\n",
    "    \n",
    "    Qcond = -M*cp_w*(Tout - 126)\n",
    "    \n",
    "    return Qcond\n",
    "rebl_duty(1,100)"
   ]
  },
  {
   "cell_type": "code",
   "execution_count": 15,
   "metadata": {},
   "outputs": [],
   "source": [
    "def duty(plates,feedplate,Qcond,Qrebl):\n",
    "    duty_vector = np.zeros(plates)\n",
    "    duty_vector[0] = Qcond\n",
    "\n",
    "    duty_vector[-1] = Qrebl\n",
    "    \n",
    "    return duty_vector"
   ]
  },
  {
   "cell_type": "code",
   "execution_count": 16,
   "metadata": {},
   "outputs": [],
   "source": [
    "def Cp(xi):\n",
    "    CPi = []\n",
    "    \n",
    "    for i in range(len(xi)):\n",
    "        CPi.append(CP.PropsSI('CPMOLAR','Q',0,'P',101325,f'Ethanol[{xi[i]}]&Water[{1-xi[i]}]'))\n",
    "    return np.asarray(CPi)"
   ]
  },
  {
   "cell_type": "markdown",
   "metadata": {},
   "source": [
    "## Vectorized model with energy balance"
   ]
  },
  {
   "cell_type": "code",
   "execution_count": 17,
   "metadata": {},
   "outputs": [],
   "source": [
    "def mass_DE(t,var):\n",
    "    \n",
    "    # values for compositon and temperature is fed as a 1-D array and reshaped\n",
    "    x,T = np.reshape(var,(2,-1))\n",
    "    \n",
    "    xi = np.asarray(x)\n",
    "    Ti = np.asarray(T)\n",
    "    \n",
    "    L1 = R_r*D\n",
    "    V = L1 + D\n",
    "    L2 = F + L1\n",
    "    \n",
    "    R = V - L1\n",
    "    BU = L2 - V\n",
    "    \n",
    "    yi,T_fake = vle_data(xi) # change to vle_data() for interpolation of vapour liquid equilibrium\n",
    "    \n",
    "    \n",
    "    if t<15:\n",
    "        feedplate = 4\n",
    "    else:\n",
    "        feedplate = 4 # change this to vary which plate is fed on\n",
    "    \n",
    "    flow1, flow2, feed1, feed2 = feed_vector(plates,feedplate, F)\n",
    "    \n",
    "    x1, y1 = comp_vector(xi,yi)\n",
    "    holdup_vec = holdup_vector(plates, m_cond,m_tray,m_rebl)\n",
    "\n",
    "    # component mass balance \n",
    "    \n",
    "    dxdt = 1/holdup_vec * (V*(y1[0] - y1[1]) + flow1*x1[0] - flow2*x1[1] + feed1*xF  - feed2*xi)\n",
    "    \n",
    "    \n",
    "    HL,HL1, HL2, HV, HV1, HV2, Hi_F = H(xi,yi,Ti)\n",
    "    CPi = Cp(xi)\n",
    "    \n",
    "    duty_vector = duty(plates,feedplate,-cond_duty(10.07916,30),rebl_duty(2.01,100))\n",
    "\n",
    "#      Energy balance with coolprops  \n",
    "    \n",
    "    dTdt = 1/(holdup_vec*CPi)*( V*(HV1 - HV2) + flow1*HL1 - flow2*HL2 + feed1*HL - feed2*HL + F*Hi_F + duty_vector ) \n",
    "    \n",
    "#     dTdt = np.zeros(len(Ti))  # Unhash this to just use mass balance\n",
    "\n",
    "    didt = np.concatenate([dxdt, dTdt])\n",
    "\n",
    "    return didt"
   ]
  },
  {
   "cell_type": "markdown",
   "metadata": {},
   "source": [
    "## Use steady state values as initial condition"
   ]
  },
  {
   "cell_type": "code",
   "execution_count": 18,
   "metadata": {},
   "outputs": [
    {
     "data": {
      "text/plain": [
       "array([8.10217240e-01, 7.84615510e-01, 7.54348270e-01, 7.10720830e-01,\n",
       "       7.08718710e-01, 7.04779680e-01, 6.98151700e-01, 6.85679440e-01,\n",
       "       6.61950580e-01, 6.12288950e-01, 4.93797690e-01, 1.89784980e-01,\n",
       "       3.51298617e+02, 3.51343868e+02, 3.51397365e+02, 3.51579790e+02,\n",
       "       3.51589109e+02, 3.51607443e+02, 3.51638293e+02, 3.51696344e+02,\n",
       "       3.51817941e+02, 3.52087684e+02, 3.52913932e+02, 3.56609483e+02])"
      ]
     },
     "execution_count": 18,
     "metadata": {},
     "output_type": "execute_result"
    }
   ],
   "source": [
    "init = np.concatenate([x_ss,T_ss+273])\n",
    "init"
   ]
  },
  {
   "cell_type": "code",
   "execution_count": 19,
   "metadata": {},
   "outputs": [
    {
     "data": {
      "text/plain": [
       "array([-9.56293587e-04,  1.77691091e-03, -2.47447055e-03,  3.68965113e-03,\n",
       "       -5.63319795e-03,  7.62666375e-03, -9.17819450e-03,  9.52082879e-03,\n",
       "       -8.73360330e-03,  7.03887926e-03, -4.62828078e-03,  7.58437081e-04,\n",
       "        3.06527824e+02,  8.69474252e+00,  1.14899284e+01,  7.88463652e+01,\n",
       "        1.37869003e+00,  1.42571075e+00,  3.98380704e+00,  5.82729553e+00,\n",
       "        1.37373356e+01,  3.04820368e+01,  9.66099225e+01,  3.40375003e+01])"
      ]
     },
     "execution_count": 19,
     "metadata": {},
     "output_type": "execute_result"
    }
   ],
   "source": [
    "mass_DE(0,init)"
   ]
  },
  {
   "cell_type": "code",
   "execution_count": 20,
   "metadata": {},
   "outputs": [],
   "source": [
    "tspan = (0,15)\n",
    "t = np.linspace( *tspan, 100)\n",
    "initial_run = scipy.integrate.solve_ivp(mass_DE, tspan, init, t_eval=t)"
   ]
  },
  {
   "cell_type": "code",
   "execution_count": 21,
   "metadata": {},
   "outputs": [
    {
     "name": "stdout",
     "output_type": "stream",
     "text": [
      "[8.10217240e-01 7.84615510e-01 7.54348270e-01 7.10720830e-01\n",
      " 7.08718710e-01 7.04779680e-01 6.98151700e-01 6.85679440e-01\n",
      " 6.61950580e-01 6.12288950e-01 4.93797690e-01 1.89784980e-01\n",
      " 3.51298617e+02 3.51343868e+02 3.51397365e+02 3.51579790e+02\n",
      " 3.51589109e+02 3.51607443e+02 3.51638293e+02 3.51696344e+02\n",
      " 3.51817941e+02 3.52087684e+02 3.52913932e+02 3.56609483e+02]\n"
     ]
    },
    {
     "data": {
      "image/png": "[encoded data removed]",
      "text/plain": [
       "<Figure size 432x288 with 1 Axes>"
      ]
     },
     "metadata": {
      "needs_background": "light"
     },
     "output_type": "display_data"
    },
    {
     "data": {
      "image/png": "[encoded data removed]",
      "text/plain": [
       "<Figure size 432x288 with 1 Axes>"
      ]
     },
     "metadata": {
      "needs_background": "light"
     },
     "output_type": "display_data"
    }
   ],
   "source": [
    "plt.figure(1)\n",
    "plt.title(\"Initial steady state calculation\")\n",
    "\n",
    "plt.figure(1)\n",
    "for i in range(0,12) :\n",
    "    plt.plot(t,initial_run.y[i], label=\"x{}\".format(i))\n",
    "\n",
    "plt.figure(2)\n",
    "for i in range(12,24) :\n",
    "    plt.plot(t,initial_run.y[i]-273, label=\"x{}\".format(i))\n",
    "    \n",
    "plt.xlabel(\"Time [min]\")\n",
    "plt.ylabel(\"Enthalpy [$kJ/time$]\")\n",
    "plt.legend(loc = \"upper right\")\n",
    "\n",
    "print(initial_run.y[:,0])"
   ]
  },
  {
   "cell_type": "markdown",
   "metadata": {},
   "source": [
    "## Now instead of trying to \"balance\" the temperatures lets just try the energy balance as it normally is "
   ]
  },
  {
   "cell_type": "code",
   "execution_count": 162,
   "metadata": {},
   "outputs": [],
   "source": [
    "def H(xi,yi):\n",
    "    Hi_L = []\n",
    "    Hi_V = []\n",
    "    \n",
    "    for i in range(len(xi)):\n",
    "        y1 = round(yi[i],4)\n",
    "        y2= round(1 - y1,4)\n",
    "        Hi_L.append(CP.PropsSI('HMOLAR','P',101325,'Q',0,f'Ethanol[{xi[i]}]&Water[{1-xi[i]}]'))\n",
    "        Hi_V.append(CP.PropsSI('HMOLAR','P',101325,'Q',1,f'Ethanol[{y1}]&Water[{y2}]'))\n",
    "        \n",
    "    Hi_L = np.asarray(Hi_L)\n",
    "    Hi_V = np.asarray(Hi_V)\n",
    "    \n",
    "    Hi_L1 = np.copy(Hi_L)\n",
    "    Hi_L1 = np.roll(Hi_L1, 1)\n",
    "    Hi_L1[0] = 0\n",
    "    \n",
    "    Hi_L2 = np.copy(Hi_L)\n",
    "    Hi_L2[-1] = 0\n",
    "    \n",
    "    Hi_V1 = np.copy(Hi_V)\n",
    "    Hi_V1 = np.roll(Hi_V1, -1)\n",
    "    Hi_V1[-1] = 0\n",
    "    \n",
    "    Hi_V2 = np.copy(Hi_V)\n",
    "    Hi_V2[0] = 0\n",
    "    \n",
    "    Hi_F = np.zeros(plates)\n",
    "    Hi_F[feedplate-1] = CP.PropsSI('HMOLAR','P',101325,'Q',0,f'Ethanol[{xF}]&Water[{1-xF}]')\n",
    "    \n",
    "    return [Hi_L,Hi_L1,Hi_L2,Hi_V,Hi_V1,Hi_V2,Hi_F]"
   ]
  },
  {
   "cell_type": "code",
   "execution_count": 163,
   "metadata": {},
   "outputs": [],
   "source": [
    "def mass_DE(t,var):\n",
    "    \n",
    "    # values for compositon and temperature is fed as a 1-D array and reshaped\n",
    "    x,Hi = np.reshape(var,(2,-1))\n",
    "    \n",
    "    xi = np.asarray(x)\n",
    "    Hi = np.asarray(Hi)\n",
    "    \n",
    "    L1 = R_r*D\n",
    "    V = L1 + D\n",
    "    L2 = F + L1\n",
    "    \n",
    "    R = V - L1\n",
    "    BU = L2 - V\n",
    "    \n",
    "    yi,T_fake = vle_data(xi) # change to vle_data() for interpolation of vapour liquid equilibrium\n",
    "    \n",
    "    \n",
    "    if t<15:\n",
    "        feedplate = 4\n",
    "    else:\n",
    "        feedplate = 4 # change this to vary which plate is fed on\n",
    "    \n",
    "    flow1, flow2, feed1, feed2 = feed_vector(plates,feedplate, F)\n",
    "    \n",
    "    x1, y1 = comp_vector(xi,yi)\n",
    "    holdup_vec = holdup_vector(plates, m_cond,m_tray,m_rebl)\n",
    "\n",
    "    # component mass balance \n",
    "    \n",
    "    dxdt = (1/holdup_vec) * (V*(y1[0] - y1[1]) + flow1*x1[0] - flow2*x1[1] + feed1*xF  - feed2*xi)\n",
    "    \n",
    "    HL,HL1, HL2, HV, HV1, HV2, Hi_F = H(xi,yi)\n",
    "    CPi = Cp(xi)\n",
    "    \n",
    "    duty_vector = duty(plates,feedplate,-cond_duty(10.36528884,30),rebl_duty(2.01,100))\n",
    "#     duty_vector = duty(plates,feedplate,0,0)\n",
    "\n",
    "#      Energy balance with coolprops  \n",
    "    \n",
    "#   Instead of doing the balance for the temperature on each plate\n",
    "\n",
    "    dHdt = 1/holdup_vec*( V*(HV1 - HV2) + flow1*HL1 - flow2*HL2  - feed2*HL + F*Hi_F + duty_vector ) \n",
    "\n",
    "#  print(dHdt)\n",
    "#     print(HL)\n",
    "#     print(HV1)\n",
    "#     print(HV2)\n",
    "#     print(HL1)\n",
    "#     print(HL2)\n",
    "#     print(L1)\n",
    "#     print(L2)\n",
    "#     print(V)\n",
    "#     print(D)\n",
    "\n",
    "    \n",
    "#     dTdt = np.zeros(len(Ti))  # Unhash this to just use mass balance\n",
    "    didt = np.concatenate([dxdt, dHdt])\n",
    "\n",
    "    return didt"
   ]
  },
  {
   "cell_type": "markdown",
   "metadata": {},
   "source": [
    "## Get the initial conditions of the enthalpy from the steady state conditions"
   ]
  },
  {
   "cell_type": "code",
   "execution_count": 164,
   "metadata": {},
   "outputs": [],
   "source": [
    "x_ss =[0.81021724 ,0.78461551 ,0.75434827, 0.71072083 ,0.70871871 ,0.70477968,\n",
    "        0.6981517,  0.68567944 ,0.66195058 ,0.61228895 ,0.49379769, 0.18978498]\n",
    "# x_ss = [0.5,0.5,0.15,0.15,0.15,0.15,0.15,0.15,0.15,0.15,0.15,0.15]\n",
    "Hi_ss = [0,0,0,0,0,0,0,0,0,0,0,0]\n",
    "\n",
    "Hi_ss = []\n",
    "y_ss,T_ss = vle_data(x_ss)\n",
    "T_ss = T_ss + 273\n",
    "\n",
    "for i in range(len(x_ss)):\n",
    "    Hi_ss.append(CP.PropsSI('HMOLAR','T',T_ss[i],'Q',0,f'Ethanol[{x_ss[i]}]&Water[{1-x_ss[i]}]'))"
   ]
  },
  {
   "cell_type": "code",
   "execution_count": 165,
   "metadata": {},
   "outputs": [],
   "source": [
    "init = np.concatenate([x_ss,Hi_ss])"
   ]
  },
  {
   "cell_type": "code",
   "execution_count": 166,
   "metadata": {},
   "outputs": [
    {
     "data": {
      "text/plain": [
       "array([-3.03721165e+00,  1.12156021e+03,  1.47336624e+03, -4.77311790e+01,\n",
       "        1.76925222e+02,  1.75390389e+02,  5.12371717e+02,  7.42280664e+02,\n",
       "        1.71398511e+03,  3.73224631e+03,  1.13095520e+04,  3.35989935e+03])"
      ]
     },
     "execution_count": 166,
     "metadata": {},
     "output_type": "execute_result"
    }
   ],
   "source": [
    "mass_DE(0,init)[12:24]"
   ]
  },
  {
   "cell_type": "code",
   "execution_count": 167,
   "metadata": {},
   "outputs": [],
   "source": [
    "tspan = (0,15)\n",
    "t = np.linspace( *tspan, 100)\n",
    "initial_run = scipy.integrate.solve_ivp(mass_DE, tspan, init, t_eval=t)"
   ]
  },
  {
   "cell_type": "code",
   "execution_count": 22,
   "metadata": {},
   "outputs": [
    {
     "name": "stdout",
     "output_type": "stream",
     "text": [
      "[8.10234893e-01 7.84584390e-01 7.54393199e-01 7.10655667e-01\n",
      " 7.08820352e-01 7.04644572e-01 6.98316793e-01 6.85510420e-01\n",
      " 6.62107368e-01 6.12163658e-01 4.93879982e-01 1.89769855e-01\n",
      " 4.94831064e+03 4.83382916e+02 5.21655113e+02 1.53731099e+03\n",
      " 3.67175407e+02 3.79934543e+02 4.03441720e+02 4.47714285e+02\n",
      " 5.50382932e+02 8.15376657e+02 1.79802874e+03 8.68008308e+02]\n"
     ]
    },
    {
     "data": {
      "image/png": "[encoded data removed]",
      "text/plain": [
       "<Figure size 432x288 with 1 Axes>"
      ]
     },
     "metadata": {
      "needs_background": "light"
     },
     "output_type": "display_data"
    },
    {
     "data": {
      "image/png": "[encoded data removed]",
      "text/plain": [
       "<Figure size 432x288 with 1 Axes>"
      ]
     },
     "metadata": {
      "needs_background": "light"
     },
     "output_type": "display_data"
    }
   ],
   "source": [
    "plt.figure(1)\n",
    "plt.title(\"Initial steady state calculation\")\n",
    "\n",
    "plt.figure(1)\n",
    "for i in range(0,12) :\n",
    "    plt.plot(t,initial_run.y[i], label= f\"x{i}\")\n",
    "    \n",
    "plt.xlabel(\"Time [min]\")\n",
    "plt.ylabel(\"Composition\")\n",
    "plt.legend(loc = \"upper right\")\n",
    "\n",
    "    \n",
    "plt.figure(2)\n",
    "for i in range(13,23) :\n",
    "    plt.plot(t,initial_run.y[i]/1000, label=f\"H{i-12}\")\n",
    "    \n",
    "plt.xlabel(\"Time [min]\")\n",
    "plt.ylabel(\"Enthalpy [$kJ/time$]\")\n",
    "plt.legend(loc = \"upper right\")\n",
    "\n",
    "print(initial_run.y[:,-1])"
   ]
  },
  {
   "cell_type": "code",
   "execution_count": 23,
   "metadata": {},
   "outputs": [
    {
     "data": {
      "text/plain": [
       "[<matplotlib.lines.Line2D at 0x27d5b381668>]"
      ]
     },
     "execution_count": 23,
     "metadata": {},
     "output_type": "execute_result"
    },
    {
     "data": {
      "image/png": "[encoded data removed]",
      "text/plain": [
       "<Figure size 432x288 with 1 Axes>"
      ]
     },
     "metadata": {
      "needs_background": "light"
     },
     "output_type": "display_data"
    }
   ],
   "source": [
    "x = np.linspace(0.1,0.81,100)\n",
    "\n",
    "y,T = vle_data(x)\n",
    "T = T +273\n",
    "\n",
    "\n",
    "plt.plot(y,T)\n",
    "plt.plot(x,T)"
   ]
  },
  {
   "cell_type": "code",
   "execution_count": 24,
   "metadata": {},
   "outputs": [],
   "source": [
    "Hi_L = []\n",
    "Hi_V = []\n",
    "\n",
    "for i in range(len(x)):\n",
    "    yi = round(y[i],4)\n",
    "    Hi_L.append(CP.PropsSI('HMOLAR','P',101325,'Q',0,f'Ethanol[{x[i]}]&Water[{1-x[i]}]'))\n",
    "    Hi_V.append(CP.PropsSI('HMOLAR','P',101325,'Q',1,f'Ethanol[{yi}]&Water[{1-yi}]'))"
   ]
  },
  {
   "cell_type": "code",
   "execution_count": null,
   "metadata": {},
   "outputs": [],
   "source": []
  },
  {
   "cell_type": "code",
   "execution_count": 35,
   "metadata": {},
   "outputs": [
    {
     "data": {
      "text/plain": [
       "array([0.82983675, 0.8101673 , 0.78701593, 0.7593363 , 0.7582232 ,\n",
       "       0.75569064, 0.75185292, 0.74408601, 0.73101136, 0.7046589 ,\n",
       "       0.6508373 , 0.52136519])"
      ]
     },
     "execution_count": 35,
     "metadata": {},
     "output_type": "execute_result"
    }
   ],
   "source": [
    "sol  = initial_run.y\n",
    "sol_x = sol[0:12,-1]\n",
    "sol_H = sol[12:24,-1]\n",
    "\n",
    "sol_y,_ = vle_data(sol_x)\n",
    "\n",
    "HV = []\n",
    "\n",
    "for i in range(len(sol_x)):\n",
    "    yi = sol_y[i]\n",
    "    HV.append(CP.PropsSI('HMOLAR','P',101325,'Q',1,f'Ethanol[{yi}]&Water[{1-yi}]'))\n",
    "sol_y"
   ]
  },
  {
   "cell_type": "code",
   "execution_count": 36,
   "metadata": {},
   "outputs": [
    {
     "data": {
      "text/plain": [
       "(0.3, 0.8)"
      ]
     },
     "execution_count": 36,
     "metadata": {},
     "output_type": "execute_result"
    },
    {
     "data": {
      "image/png": "[encoded data removed]",
      "text/plain": [
       "<Figure size 432x288 with 1 Axes>"
      ]
     },
     "metadata": {
      "needs_background": "light"
     },
     "output_type": "display_data"
    }
   ],
   "source": [
    "plt.plot(sol_x,sol_H,\"o\")\n",
    "plt.plot(sol_y,HV,\"o\")\n",
    "\n",
    "\n",
    "plt.plot(y,Hi_V)\n",
    "plt.plot(x,Hi_L)\n",
    "plt.ylim(-3000,60000)\n",
    "plt.xlim(0.3,0.8)"
   ]
  },
  {
   "cell_type": "code",
   "execution_count": null,
   "metadata": {},
   "outputs": [],
   "source": []
  }
 ],
 "metadata": {
  "kernelspec": {
   "display_name": "Python 3",
   "language": "python",
   "name": "python3"
  },
  "language_info": {
   "codemirror_mode": {
    "name": "ipython",
    "version": 3
   },
   "file_extension": ".py",
   "mimetype": "text/x-python",
   "name": "python",
   "nbconvert_exporter": "python",
   "pygments_lexer": "ipython3",
   "version": "3.7.3"
  }
 },
 "nbformat": 4,
 "nbformat_minor": 4
}
