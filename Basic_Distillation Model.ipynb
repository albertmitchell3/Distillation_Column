{
 "cells": [
  {
   "cell_type": "code",
   "execution_count": 4,
   "metadata": {},
   "outputs": [],
   "source": [
    "import numpy as np\n",
    "import sympy\n",
    "from matplotlib import pyplot as plt\n",
    "import scipy\n",
    "import scipy.optimize\n",
    "import scipy.integrate\n"
   ]
  },
  {
   "cell_type": "code",
   "execution_count": null,
   "metadata": {},
   "outputs": [],
   "source": [
    "# Inputs \n",
    "\n",
    "L0 = 1 # Reflux flow rate\n",
    "F  = 2 # Feed flow rate \n",
    "D = 1\n",
    "xf = 0.4 # Feed composition\n",
    "α = 1.4 # Relative volatility"
   ]
  },
  {
   "cell_type": "code",
   "execution_count": null,
   "metadata": {},
   "outputs": [],
   "source": [
    "L1 = 1\n",
    "L2 = 0\n",
    "L3 = 1\n",
    "V0 = 0\n",
    "V1 = 1\n",
    "V2 = 0\n",
    "V3 = 1\n",
    "x3 = 0.3\n",
    "x0 = 0.5"
   ]
  },
  {
   "cell_type": "code",
   "execution_count": null,
   "metadata": {},
   "outputs": [],
   "source": [
    "def model(t,var):\n",
    "    \n",
    "    M1,M2,Mc,Mb, x1M1, x2M2, xdMc, xbMb = var\n",
    "    \n",
    "    x1 = x1M1/M1\n",
    "    x2 = x2M2/M2\n",
    "    xd = xdMc/Mc\n",
    "    xb = xbMb/Mb\n",
    "    B = F - D\n",
    "    \n",
    "    \n",
    "    dM1dt   = V2 + L0 - V1 -L1 + F\n",
    "    dM2dt   = V3 + L1 - V2 - L2\n",
    "    dMcdt   = V0 - L0 - D\n",
    "    dMbdt   = L3 - B - V3\n",
    "    \n",
    "    y0 = (α*x0)/(1+(α-1)*x0)\n",
    "    y1 = (α*x1)/(1+(α-1)*x1)\n",
    "    y2 = (α*x2)/(1+(α-1)*x2)\n",
    "    y3 = (α*x3)/(1+(α-1)*x3)\n",
    "\n",
    "    dx1M1dt = y2*V2 + x0*L0 - y1*V1 - x1*L1 + xf*F\n",
    "    dx2M2dt = y3*V3 + x1*L1 - y2*V2 - x2*L2\n",
    "    dxdMcdt = y0*V0 - x0*L0 - xd*D\n",
    "    dxbMbdt = x3*L3 - xb*B - y3*V3\n",
    "    \n",
    "    \n",
    "    return [dM1dt, dM2dt, dMcdt, dMbdt, dx1M1dt, dx2M2dt, dxdMcdt, dxbMbdt]"
   ]
  },
  {
   "cell_type": "code",
   "execution_count": null,
   "metadata": {},
   "outputs": [],
   "source": [
    "tspan = (0, 500)\n",
    "t = np.linspace( *tspan, 100)\n",
    "init = [8,2,5,5,0,0,0,0.]"
   ]
  },
  {
   "cell_type": "code",
   "execution_count": null,
   "metadata": {},
   "outputs": [],
   "source": [
    "r = scipy.integrate.solve_ivp(model, tspan, init, t_eval=t)"
   ]
  },
  {
   "cell_type": "code",
   "execution_count": null,
   "metadata": {},
   "outputs": [],
   "source": [
    " M1,M2,Mc,Mb, x1M1, x2M2, xdMc, xbMb = r.y"
   ]
  },
  {
   "cell_type": "code",
   "execution_count": null,
   "metadata": {},
   "outputs": [],
   "source": [
    "plt.figure(1)\n",
    "plt.plot(t, x1M1/M1,label = \"x1\")\n",
    "plt.plot(t, x2M2/M2,label = \"x2\")\n",
    "plt.plot(t, xdMc/Mc,label = \"xd\")\n",
    "plt.plot(t, xbMb/Mb,label = \"xb\")\n",
    "plt.legend()\n",
    "\n",
    "plt.figure(2)\n",
    "plt.plot(t, M1,label = \"x1\")\n",
    "plt.plot(t, M2,label = \"x2\")\n",
    "plt.plot(t, Mc,label = \"xd\")\n",
    "plt.plot(t, Mb,label = \"xb\")\n",
    "plt.legend()"
   ]
  },
  {
   "cell_type": "markdown",
   "metadata": {},
   "source": [
    "Assumptions:\n",
    "\n",
    "1. Constant liquid hold up on each plate \n",
    "2. Constant liquid and vapor flow in each of the three sections of the column\n",
    "3. Constant hold up in reboiler and condenser"
   ]
  },
  {
   "cell_type": "code",
   "execution_count": 60,
   "metadata": {},
   "outputs": [],
   "source": [
    "def mod(t,var):\n",
    "    \n",
    "    x0,x1,x2,x3,x4,x5,x6,x7,x8,x9,x10,x11 = var\n",
    "    \n",
    "    D = 0.4*(F3+F7)\n",
    "    L1 = reflux*D\n",
    "    V = L1 + D\n",
    "    L2 = F3 + L1\n",
    "    L3 = F7 + L2\n",
    "    \n",
    "    y1 = (α*x1)/(1+(α-1)*x1)\n",
    "    y2 = (α*x2)/(1+(α-1)*x2)\n",
    "    y3 = (α*x3)/(1+(α-1)*x3)\n",
    "    y4 = (α*x4)/(1+(α-1)*x4)\n",
    "    y5 = (α*x5)/(1+(α-1)*x5)\n",
    "    y6 = (α*x6)/(1+(α-1)*x6)\n",
    "    y7 = (α*x7)/(1+(α-1)*x7)\n",
    "    y8 = (α*x8)/(1+(α-1)*x8)\n",
    "    y9 = (α*x9)/(1+(α-1)*x9)\n",
    "    y10 = (α*x10)/(1+(α-1)*x10)\n",
    "    y11 = (α*x11)/(1+(α-1)*x11)\n",
    "    \n",
    "    dx0dt = (1/m_cond)*(y1*V - x0*(D+L1))\n",
    "    \n",
    "    dx1dt = (1/m_tray)*(y2*V - x0*L1 -y1*V - x1*L1)\n",
    "    dx2dt = (1/m_tray)*(V*(y3-y2) + L1*(x1-x2))\n",
    "    \n",
    "    dx3dt = (1/m_tray)*(V*(y4-y3) + L1*x2 - L2*x3 + xF*F3)\n",
    "    \n",
    "    dx4dt = (1/m_tray)*(V*(y4-y3) + L2*(x3-x4))\n",
    "    dx5dt = (1/m_tray)*(V*(y5-y4) + L2*(x4-x5))\n",
    "    dx6dt = (1/m_tray)*(V*(y6-y5) + L2*(x5-x6))\n",
    "    \n",
    "    dx7dt = (1/m_tray)*(V*(y8-y7) + L2*x6 - L3*x7 + xF*F7)\n",
    "    \n",
    "    dx8dt = (1/m_tray)*(V*(y9-y8) + L3*(x7-x8))\n",
    "    dx9dt = (1/m_tray)*(V*(y10-y9) + L3*(x8-x9))\n",
    "    dx10dt = (1/m_tray)*(V*(y11-y10) + L3*(x9-x10))\n",
    "    \n",
    "    dx11dt = (1/m_rebl)*(L3*x10 - x11*L3 - V*y11)\n",
    "    \n",
    "    return [dx0dt, dx1dt, dx2dt, dx3dt, dx4dt, dx5dt, dx6dt, dx7dt, dx8dt, dx9dt, dx10dt, dx11dt]"
   ]
  },
  {
   "cell_type": "code",
   "execution_count": 63,
   "metadata": {},
   "outputs": [],
   "source": [
    "init =[0.1, 0.1, 0.1, 0.1, 0.1, 0.1, 0.1, 0.1, 0.1, 0.1, 0.1, 0.1]\n",
    "\n",
    "F3 = 30 # Feed on plate 3\n",
    "F7 = 20 # Feed on Plate 7\n",
    "xF = 0.4 # mole fraction in feed\n",
    "reflux = 1 # reflux ratio\n",
    "m_cond = 0.2 # holdup in condenser\n",
    "m_tray = 0.4 # holdup on each tray\n",
    "m_rebl = 0.5 # holdup in reboiler\n",
    "α = 1.6 # relative volatility"
   ]
  },
  {
   "cell_type": "code",
   "execution_count": null,
   "metadata": {},
   "outputs": [],
   "source": [
    "tspan = (0, 500)\n",
    "t = np.linspace( *tspan, 100)\n",
    "\n",
    "r = scipy.integrate.solve_ivp(mod, tspan, init, t_eval=t)"
   ]
  },
  {
   "cell_type": "code",
   "execution_count": null,
   "metadata": {},
   "outputs": [],
   "source": [
    "x0,x1,x2,x3,x4,x5,x6,x7,x8,x9,x10,x11 = r.y"
   ]
  },
  {
   "cell_type": "code",
   "execution_count": null,
   "metadata": {},
   "outputs": [],
   "source": [
    "plt.plot(t,x0, label = \"xD\")\n",
    "plt.plot(t,x1, label = \"x1\")\n",
    "plt.plot(t,x2, label = \"x2\")\n",
    "plt.plot(t,x3, label = \"x3\")\n",
    "plt.plot(t,x4, label = \"x4\")\n",
    "plt.plot(t,x5, label = \"x5\")\n",
    "plt.plot(t,x6, label = \"x6\")\n",
    "plt.plot(t,x7, label = \"x7\")\n",
    "plt.plot(t,x8, label = \"x8\")\n",
    "plt.plot(t,x9, label = \"x9\")\n",
    "plt.plot(t,x10, label = \"x10\")\n",
    "plt.plot(t,x11, label = \"xB\")\n",
    "plt.legend()"
   ]
  },
  {
   "cell_type": "code",
   "execution_count": null,
   "metadata": {},
   "outputs": [],
   "source": []
  }
 ],
 "metadata": {
  "kernelspec": {
   "display_name": "Python 3",
   "language": "python",
   "name": "python3"
  },
  "language_info": {
   "codemirror_mode": {
    "name": "ipython",
    "version": 3
   },
   "file_extension": ".py",
   "mimetype": "text/x-python",
   "name": "python",
   "nbconvert_exporter": "python",
   "pygments_lexer": "ipython3",
   "version": "3.7.3"
  }
 },
 "nbformat": 4,
 "nbformat_minor": 2
}
