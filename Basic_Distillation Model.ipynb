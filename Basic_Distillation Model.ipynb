{
 "cells": [
  {
   "cell_type": "code",
   "execution_count": 1,
   "metadata": {},
   "outputs": [],
   "source": [
    "import numpy as np\n",
    "import sympy\n",
    "from matplotlib import pyplot as plt\n",
    "import scipy\n",
    "import scipy.optimize\n",
    "import scipy.integrate"
   ]
  },
  {
   "cell_type": "markdown",
   "metadata": {},
   "source": [
    "## Assumptions:\n",
    "\n",
    "1. Constant liquid hold up on each plate \n",
    "2. Constant liquid flow in each of the three sections of the column\n",
    "3. Constant vapour flow in the column\n",
    "4. No vapour holdup in the column\n",
    "5. Constant hold up in reboiler and condenser\n",
    "6. Constant relative volatility"
   ]
  },
  {
   "cell_type": "code",
   "execution_count": 2,
   "metadata": {},
   "outputs": [],
   "source": [
    "def vol(xi):\n",
    "    return (α*xi)/(1+(α-1)*xi)"
   ]
  },
  {
   "cell_type": "code",
   "execution_count": 8,
   "metadata": {},
   "outputs": [],
   "source": [
    "def mod(t,var):\n",
    "    \n",
    "    x0,x1,x2,x3,x4,x5,x6,x7,x8,x9,x10,x11 = var\n",
    "    \n",
    "    D = D_F_ratio*(F3+F7)\n",
    "    L1 = reflux*D\n",
    "    V = L1 + D\n",
    "    L2 = F3 + L1\n",
    "    L3 = F7 + L2\n",
    "\n",
    "    \n",
    "    y0 = vol(x0)\n",
    "    y1 = vol(x1)\n",
    "    y2 = vol(x2)\n",
    "    y3 = vol(x3)\n",
    "    y4 = vol(x4)\n",
    "    y5 = vol(x5)\n",
    "    y6 = vol(x6)\n",
    "    y7 = vol(x7)\n",
    "    y8 = vol(x8)\n",
    "    y9 = vol(x9)\n",
    "    y10 = vol(x10)\n",
    "    y11 = vol(x11)\n",
    "    \n",
    "    # Condenser composition\n",
    "    dx0dt = (1/m_cond)*(y1*V - V*x0)\n",
    "    \n",
    "    dx1dt = (1/m_tray)*(V*(y2-y1) + L1*(x0-x1))\n",
    "    dx2dt = (1/m_tray)*(V*(y3-y2) + L1*(x1-x2))\n",
    "    \n",
    "    # Feed plate 3\n",
    "    dx3dt = (1/m_tray)*(V*(y4-y3) + L1*x2 - L2*x3 + xF*F3)\n",
    "    \n",
    "    dx4dt = (1/m_tray)*(V*(y5-y4) + L2*(x3-x4))\n",
    "    dx5dt = (1/m_tray)*(V*(y6-y5) + L2*(x4-x5))\n",
    "    dx6dt = (1/m_tray)*(V*(y7-y6) + L2*(x5-x6))\n",
    "    \n",
    "    # Feed plate 7\n",
    "    dx7dt = (1/m_tray)*(V*(y8-y7) + L2*x6 - L3*x7 + xF*F7)\n",
    "    \n",
    "    dx8dt = (1/m_tray)*(V*(y9-y8) + L3*(x7-x8))\n",
    "    dx9dt = (1/m_tray)*(V*(y10-y9) + L3*(x8-x9))\n",
    "    dx10dt = (1/m_tray)*(V*(y11-y10) + L3*(x9-x10))\n",
    "    \n",
    "    # Reboiler composition\n",
    "    dx11dt = (1/m_rebl)*(L3*x10 - x11*(L3 - V) - V*y11)\n",
    "    \n",
    "    \n",
    "    return [dx0dt, dx1dt, dx2dt, dx3dt, dx4dt, dx5dt, dx6dt, dx7dt, dx8dt, dx9dt, dx10dt, dx11dt]"
   ]
  },
  {
   "cell_type": "markdown",
   "metadata": {},
   "source": [
    "## Inputs to calculate intial state"
   ]
  },
  {
   "cell_type": "markdown",
   "metadata": {},
   "source": [
    "### Input variables\n",
    "\n",
    "1. $F_3$ - Feed flow rate on plate 3\n",
    "2. $F_7$ - Feed flow rate on plate 7\n",
    "3. $x_F$ - Feed liquid composition\n",
    "4. $Rr$ - Reflux ratio\n",
    "5. $D_F$ - Distillate to feed ratio\n",
    "\n",
    "### Parameters\n",
    "\n",
    "1. $\\alpha$ - Relative volatility\n",
    "2. $m_{tray}$ - holdup on each tray\n",
    "2. $m_{cond}$ - holdup in the total condenser\n",
    "2. $m_{rebl}$ - holdup in the partial reboiler"
   ]
  },
  {
   "cell_type": "code",
   "execution_count": 9,
   "metadata": {},
   "outputs": [],
   "source": [
    "init = [0.1, 0.1, 0.1, 0.1, 0.1, 0.1, 0.1, 0.1, 0.1, 0.1, 0.1, 0.1]\n",
    "\n",
    "F3 = 1 # Feed on plate 3\n",
    "F7 = 0 # Feed on Plate 7\n",
    "xF = 0.25 # mole fraction in feed\n",
    "reflux = 0.6 # reflux ratio\n",
    "m_cond = 0.15 # holdup in condenser\n",
    "m_tray = 0.2 # holdup on each tray\n",
    "m_rebl = 0.45 # holdup in reboiler\n",
    "α = 1.6 # relative volatility\n",
    "D_F_ratio = 0.4 # Feed to distillate ratio"
   ]
  },
  {
   "cell_type": "code",
   "execution_count": 10,
   "metadata": {},
   "outputs": [],
   "source": [
    "tspan = (0, 100)\n",
    "t = np.linspace( *tspan, 100)\n",
    "initial_run = scipy.integrate.solve_ivp(mod, tspan, init, t_eval=t)"
   ]
  },
  {
   "cell_type": "code",
   "execution_count": 11,
   "metadata": {},
   "outputs": [],
   "source": [
    "x0s,x1s,x2s,x3s,x4s,x5s,x6s,x7s,x8s,x9s,x10s,x11s = initial_run.y\n",
    "xi = [x0s[-1],x1s[-1],x2s[-1],x3s[-1],x4s[-1],x5s[-1],x6s[-1],x7s[-1],x8s[-1],x9s[-1],x10s[-1],x11s[-1]]"
   ]
  },
  {
   "cell_type": "code",
   "execution_count": 12,
   "metadata": {},
   "outputs": [
    {
     "name": "stdout",
     "output_type": "stream",
     "text": [
      "0.4018525049306228 0.14875710665950495\n"
     ]
    },
    {
     "data": {
      "image/png": "[encoded data removed]",
      "text/plain": [
       "<Figure size 432x288 with 1 Axes>"
      ]
     },
     "metadata": {
      "needs_background": "light"
     },
     "output_type": "display_data"
    }
   ],
   "source": [
    "plt.figure(1)\n",
    "plt.title(\"Initial steady state calculation\")\n",
    "plt.plot(t,x0s, label = \"xD\")\n",
    "plt.plot(t,x1s, label = \"x1\")\n",
    "plt.plot(t,x2s, label = \"x2\")\n",
    "plt.plot(t,x3s, label = \"x3\")\n",
    "plt.plot(t,x4s, label = \"x4\")\n",
    "plt.plot(t,x5s, label = \"x5\")\n",
    "plt.plot(t,x6s, label = \"x6\")\n",
    "plt.plot(t,x7s, label = \"x7\")\n",
    "plt.plot(t,x8s, label = \"x8\")\n",
    "plt.plot(t,x9s, label = \"x9\")\n",
    "plt.plot(t,x10s, label = \"x10\")\n",
    "plt.plot(t,x11s, label = \"xB\")\n",
    "plt.xlabel(\"Time [min]\")\n",
    "plt.ylabel(\"Composition [$x_{eth}$]\")\n",
    "plt.legend(loc = \"upper right\")\n",
    "print(x0s[-1],x11s[-1])"
   ]
  },
  {
   "cell_type": "markdown",
   "metadata": {},
   "source": [
    "# Consistency plot of model\n",
    "\n",
    "The idea to assume CMO and constant hold up creates a scenario where mass is \"created\" to fulfill both the criterias. The plot below will show that there accumulation occuring in the column increases yet the mass balance decreases to zero. These two are thus contradictory because the mass balance should produce the exact same accumulation.\n",
    "\n",
    "The mass balance is calculated as follows:\n",
    "\n",
    "$M_{t}\\frac{dx_t}{dt} = x_FF -x_BB - x_DD$\n",
    "\n",
    "And the accumulation is calculated as follows:\n",
    "\n",
    "$M_{t}\\frac{dx_t}{dt} = \\sum{M_i\\frac{dx_i}{dt}}$\n",
    "\n",
    "where \n",
    "- $M_t$ is the total mass accumulated in the column\n",
    "- $x_t$ is the mole fraction of the mass in the column\n",
    "- $M_i$ is the total mass accumulated on each tray $i$."
   ]
  },
  {
   "cell_type": "code",
   "execution_count": null,
   "metadata": {},
   "outputs": [],
   "source": [
    "D = D_F_ratio*(F3+F7)\n",
    "L1 = reflux*D\n",
    "V = L1 + D\n",
    "L2 = F3 + L1\n",
    "L3 = F7 + L2\n",
    "\n",
    "moles_inside_column_at_zero = (x0s[0]*m_cond+x1s[0]*m_tray+x2s[0]*m_tray+x3s[0]*m_tray+x4s[0]*m_tray+x5s[0]*m_tray+x6s[0]*m_tray+\n",
    "                       x7s[0]*m_tray+x8s[0]*m_tray+x9s[0]*m_tray+x10s[0]*m_tray+x11s[0]*m_rebl)\n",
    "\n",
    "# This calculated the accumulation insie the column through summing the accumulation on each plate\n",
    "moles_inside_column = (x0s*m_cond+x1s*m_tray+x2s*m_tray+x3s*m_tray+x4s*m_tray+x5s*m_tray+x6s*m_tray+\n",
    "                       x7s*m_tray+x8s*m_tray+x9s*m_tray+x10s*m_tray+x11s*m_rebl) - moles_inside_column_at_zero\n",
    "\n",
    "# This calculates the accumlation in the column through the mass balance\n",
    "mole_balance = xF*F3 - (D)*(x0s)- (L3-V)*x11s - 0.1*10*m_tray - 0.1*m_cond - 0.1*m_rebl\n",
    "diff = moles_inside_column - mole_balance\n",
    "\n",
    "integral = []\n",
    "for i in range(1,len(t)+1):\n",
    "    dMtxtdt = xF*F3 - (D)*(x0s[0:i])- (L3-V)*x11s[0:i]\n",
    "    integral.append(np.trapz(dMtxtdt,t[0:i]))\n",
    "\n",
    "plt.figure(1)\n",
    "plt.title(\"Consistency Plot\")\n",
    "plt.xlabel(\"Time\")\n",
    "plt.ylabel(\"Accumulation of mass\")\n",
    "plt.plot(t,integral, label = \"Mole balance\")\n",
    "plt.plot(t,moles_inside_column, label = \"Diff equations\")\n",
    "plt.legend(loc=\"best\")\n",
    "plt.savefig(\"consistency_plot.png\")\n",
    "plt.figure(2)\n",
    "plt.plot(t,moles_inside_column-integral, label = \"Error\")\n",
    "plt.savefig(\"consistency_plot_error.png\")"
   ]
  },
  {
   "cell_type": "markdown",
   "metadata": {},
   "source": [
    "## Reflux ratio step\n",
    "\n",
    "The reflux ratio is stepped with a factor of 2."
   ]
  },
  {
   "cell_type": "code",
   "execution_count": null,
   "metadata": {},
   "outputs": [],
   "source": [
    "tspan = (0, 10)\n",
    "t = np.linspace( *tspan, 10000)\n",
    "reflux = 0.8*3 \n",
    "reflux_step = scipy.integrate.solve_ivp(mod, tspan, xi, t_eval=t)\n",
    "x0,x1,x2,x3,x4,x5,x6,x7,x8,x9,x10,x11 = reflux_step.y"
   ]
  },
  {
   "cell_type": "code",
   "execution_count": null,
   "metadata": {},
   "outputs": [],
   "source": [
    "xi = [x0[-1],x1[-1],x2[-1],x3[-1],x4[-1],x5[-1],x6[-1],x7[-1],x8[-1],x9[-1],x10[-1],x11[-1]]"
   ]
  },
  {
   "cell_type": "code",
   "execution_count": null,
   "metadata": {},
   "outputs": [],
   "source": [
    "plt.figure(2)\n",
    "plt.title(\"Reflux step test\")\n",
    "plt.plot(t,x0, label = \"xD\")\n",
    "plt.plot(t,x1, label = \"x1\")\n",
    "plt.plot(t,x2, label = \"x2\")\n",
    "plt.plot(t,x3, label = \"x3\")\n",
    "plt.plot(t,x4, label = \"x4\")\n",
    "plt.plot(t,x5, label = \"x5\")\n",
    "plt.plot(t,x6, label = \"x6\")\n",
    "plt.plot(t,x7, label = \"x7\")\n",
    "plt.plot(t,x8, label = \"x8\")\n",
    "plt.plot(t,x9, label = \"x9\")\n",
    "plt.plot(t,x10, label = \"x10\")\n",
    "plt.plot(t,x11, label = \"xB\")\n",
    "plt.xlabel(\"Time [min]\")\n",
    "plt.ylabel(\"Composition [$x_{eth}$]\")\n",
    "plt.legend(loc = \"upper right\")\n",
    "plt.savefig('Feed_step2.svg')"
   ]
  },
  {
   "cell_type": "markdown",
   "metadata": {},
   "source": [
    "## Feed flow rate step\n",
    "\n",
    "The feed rate on plate 3 is stepped with a factor of 20."
   ]
  },
  {
   "cell_type": "code",
   "execution_count": null,
   "metadata": {},
   "outputs": [],
   "source": [
    "tspan = (0, 10)\n",
    "t = np.linspace( *tspan, 10000)\n",
    "reflux = 0.8\n",
    "F3 = F3*3\n",
    "feed_step = scipy.integrate.solve_ivp(mod, tspan, xi, t_eval=t)\n",
    "x0,x1,x2,x3,x4,x5,x6,x7,x8,x9,x10,x11 = feed_step.y"
   ]
  },
  {
   "cell_type": "code",
   "execution_count": null,
   "metadata": {},
   "outputs": [],
   "source": [
    "plt.figure(3)\n",
    "plt.title(\"Feed flow rate step\")\n",
    "plt.plot(t,x0, label = \"xD\")\n",
    "plt.plot(t,x1, label = \"x1\")\n",
    "plt.plot(t,x2, label = \"x2\")\n",
    "plt.plot(t,x3, label = \"x3\")\n",
    "plt.plot(t,x4, label = \"x4\")\n",
    "plt.plot(t,x5, label = \"x5\")\n",
    "plt.plot(t,x6, label = \"x6\")\n",
    "plt.plot(t,x7, label = \"x7\")\n",
    "plt.plot(t,x8, label = \"x8\")\n",
    "plt.plot(t,x9, label = \"x9\")\n",
    "plt.plot(t,x10, label = \"x10\")\n",
    "plt.plot(t,x11, label = \"xB\")\n",
    "plt.xlabel(\"Time [min]\")\n",
    "plt.ylabel(\"Composition [$x_{eth}$]\")\n",
    "plt.legend(loc = \"upper right\")\n",
    "plt.savefig('Feed_step2.svg')"
   ]
  },
  {
   "cell_type": "markdown",
   "metadata": {},
   "source": [
    "## Feed compositon step\n",
    "\n",
    "The feed on plate 3 is stepped by a factor of 2."
   ]
  },
  {
   "cell_type": "code",
   "execution_count": null,
   "metadata": {},
   "outputs": [],
   "source": [
    "tspan = (0, 10)\n",
    "t = np.linspace( *tspan, 100)\n",
    "F3 = 1\n",
    "xF = xF*2\n",
    "composition_step = scipy.integrate.solve_ivp(mod, tspan, xi, t_eval=t)\n",
    "x0,x1,x2,x3,x4,x5,x6,x7,x8,x9,x10,x11 = composition_step.y"
   ]
  },
  {
   "cell_type": "code",
   "execution_count": null,
   "metadata": {},
   "outputs": [],
   "source": [
    "plt.figure('twxt')\n",
    "plt.title(\"Feed composition step\")\n",
    "plt.plot(t,x0, label = \"xD\")\n",
    "plt.plot(t,x1, label = \"x1\")\n",
    "plt.plot(t,x2, label = \"x2\")\n",
    "plt.plot(t,x3, label = \"x3\")\n",
    "plt.plot(t,x4, label = \"x4\")\n",
    "plt.plot(t,x5, label = \"x5\")\n",
    "plt.plot(t,x6, label = \"x6\")\n",
    "plt.plot(t,x7, label = \"x7\")\n",
    "plt.plot(t,x8, label = \"x8\")\n",
    "plt.plot(t,x9, label = \"x9\")\n",
    "plt.plot(t,x10, label = \"x10\")\n",
    "plt.plot(t,x11, label = \"xB\")\n",
    "plt.xlabel(\"Time [min]\")\n",
    "plt.ylabel(\"Composition [$x_{eth}$]\")\n",
    "plt.legend(loc = \"upper right\")"
   ]
  },
  {
   "cell_type": "markdown",
   "metadata": {},
   "source": [
    "## Distillate to feed ratio step\n",
    "\n",
    "The distillate to feed ratio is stepped by a factor of 2."
   ]
  },
  {
   "cell_type": "code",
   "execution_count": null,
   "metadata": {},
   "outputs": [],
   "source": [
    "tspan = (0, 10)\n",
    "t = np.linspace( *tspan, 100)\n",
    "xF = 0.25\n",
    "D_F_ratio = D_F_ratio*0.8\n",
    "d_f_ratio_step = scipy.integrate.solve_ivp(mod, tspan, xi, t_eval=t)\n",
    "x0,x1,x2,x3,x4,x5,x6,x7,x8,x9,x10,x11 = d_f_ratio_step.y"
   ]
  },
  {
   "cell_type": "code",
   "execution_count": null,
   "metadata": {},
   "outputs": [],
   "source": [
    "plt.figure('Distillate_feed_step')\n",
    "plt.title(\"Distillate to feed ratio step\")\n",
    "plt.plot(t,x0, label = \"xD\")\n",
    "plt.plot(t,x1, label = \"x1\")\n",
    "plt.plot(t,x2, label = \"x2\")\n",
    "plt.plot(t,x3, label = \"x3\")\n",
    "plt.plot(t,x4, label = \"x4\")\n",
    "plt.plot(t,x5, label = \"x5\")\n",
    "plt.plot(t,x6, label = \"x6\")\n",
    "plt.plot(t,x7, label = \"x7\")\n",
    "plt.plot(t,x8, label = \"x8\")\n",
    "plt.plot(t,x9, label = \"x9\")\n",
    "plt.plot(t,x10, label = \"x10\")\n",
    "plt.plot(t,x11, label = \"xB\")\n",
    "plt.xlabel(\"Time [min]\")\n",
    "plt.ylabel(\"Composition [$x_{eth}$]\")\n",
    "plt.legend(loc = \"upper right\")"
   ]
  },
  {
   "cell_type": "code",
   "execution_count": null,
   "metadata": {},
   "outputs": [],
   "source": []
  }
 ],
 "metadata": {
  "kernelspec": {
   "display_name": "Python 3",
   "language": "python",
   "name": "python3"
  },
  "language_info": {
   "codemirror_mode": {
    "name": "ipython",
    "version": 3
   },
   "file_extension": ".py",
   "mimetype": "text/x-python",
   "name": "python",
   "nbconvert_exporter": "python",
   "pygments_lexer": "ipython3",
   "version": "3.7.3"
  }
 },
 "nbformat": 4,
 "nbformat_minor": 2
}
