{
 "cells": [
  {
   "cell_type": "code",
   "execution_count": 1,
   "metadata": {},
   "outputs": [],
   "source": [
    "import numpy as np\n",
    "import sympy\n",
    "from matplotlib import pyplot as plt\n",
    "import scipy\n",
    "import scipy.optimize\n",
    "import scipy.integrate\n"
   ]
  },
  {
   "cell_type": "markdown",
   "metadata": {},
   "source": [
    "Assumptions:\n",
    "\n",
    "1. Constant liquid hold up on each plate \n",
    "2. Constant liquid and vapor flow in each of the three sections of the column\n",
    "3. Constant hold up in reboiler and condenser"
   ]
  },
  {
   "cell_type": "code",
   "execution_count": 27,
   "metadata": {},
   "outputs": [],
   "source": [
    "def mod(t,var):\n",
    "    \n",
    "    x0,x1,x2,x3,x4,x5,x6,x7,x8,x9,x10,x11 = var\n",
    "    \n",
    "    D = 0.5*(F3+F7)\n",
    "    L1 = reflux*D\n",
    "    V = L1 + D\n",
    "    L2 = F3 + L1\n",
    "    L3 = F7 + L2\n",
    "    \n",
    "    y0 = (α*x0)/(1+(α-1)*x0)\n",
    "    y1 = (α*x1)/(1+(α-1)*x1)\n",
    "    y2 = (α*x2)/(1+(α-1)*x2)\n",
    "    y3 = (α*x3)/(1+(α-1)*x3)\n",
    "    y4 = (α*x4)/(1+(α-1)*x4)\n",
    "    y5 = (α*x5)/(1+(α-1)*x5)\n",
    "    y6 = (α*x6)/(1+(α-1)*x6)\n",
    "    y7 = (α*x7)/(1+(α-1)*x7)\n",
    "    y8 = (α*x8)/(1+(α-1)*x8)\n",
    "    y9 = (α*x9)/(1+(α-1)*x9)\n",
    "    y10 = (α*x10)/(1+(α-1)*x10)\n",
    "    y11 = (α*x11)/(1+(α-1)*x11)\n",
    "    \n",
    "    dx0dt = (1/m_cond)*(y1*V - V*x0)\n",
    "    \n",
    "    dx1dt = (1/m_tray)*(V*(y2-y1) + L1*(x0-x1))\n",
    "    dx2dt = (1/m_tray)*(V*(y3-y2) + L1*(x1-x2))\n",
    "    \n",
    "    dx3dt = (1/m_tray)*(V*(y4-y3) + L1*x2 - L2*x3 + xF*F3)\n",
    "    \n",
    "    dx4dt = (1/m_tray)*(V*(y4-y3) + L2*(x3-x4))\n",
    "    dx5dt = (1/m_tray)*(V*(y5-y4) + L2*(x4-x5))\n",
    "    dx6dt = (1/m_tray)*(V*(y6-y5) + L2*(x5-x6))\n",
    "    \n",
    "    dx7dt = (1/m_tray)*(V*(y8-y7) + L2*x6 - L3*x7 + xF*F7)\n",
    "    \n",
    "    dx8dt = (1/m_tray)*(V*(y9-y8) + L3*(x7-x8))\n",
    "    dx9dt = (1/m_tray)*(V*(y10-y9) + L3*(x8-x9))\n",
    "    dx10dt = (1/m_tray)*(V*(y11-y10) + L3*(x9-x10))\n",
    "    \n",
    "    dx11dt = (1/m_rebl)*(L3*x10 - x11*(F3+F7-D) - V*y11)\n",
    "    \n",
    "    return [dx0dt, dx1dt, dx2dt, dx3dt, dx4dt, dx5dt, dx6dt, dx7dt, dx8dt, dx9dt, dx10dt, dx11dt]"
   ]
  },
  {
   "cell_type": "code",
   "execution_count": 28,
   "metadata": {},
   "outputs": [],
   "source": [
    "init =[0.1, 0.1, 0.1, 0.1, 0.1, 0.1, 0.1, 0.1, 0.1, 0.1, 0.1, 0.1]\n",
    "\n",
    "F3 = 10/60 # Feed on plate 3\n",
    "F7 = 30/60 # Feed on Plate 7\n",
    "xF = 0.4 # mole fraction in feed\n",
    "reflux = 0.8 # reflux ratio\n",
    "m_cond = 0.15 # holdup in condenser\n",
    "m_tray = 0.2 # holdup on each tray\n",
    "m_rebl = 0.15 # holdup in reboiler\n",
    "α = 1.5 # relative volatility"
   ]
  },
  {
   "cell_type": "code",
   "execution_count": null,
   "metadata": {},
   "outputs": [],
   "source": [
    "tspan = (0, 15)\n",
    "t = np.linspace( *tspan, 100)\n",
    "\n",
    "r = scipy.integrate.solve_ivp(mod, tspan, init, t_eval=t)"
   ]
  },
  {
   "cell_type": "code",
   "execution_count": null,
   "metadata": {},
   "outputs": [],
   "source": [
    "x0,x1,x2,x3,x4,x5,x6,x7,x8,x9,x10,x11 = r.y"
   ]
  },
  {
   "cell_type": "code",
   "execution_count": null,
   "metadata": {},
   "outputs": [],
   "source": [
    "plt.plot(t,x0, label = \"xD\")\n",
    "plt.plot(t,x1, label = \"x1\")\n",
    "plt.plot(t,x2, label = \"x2\")\n",
    "plt.plot(t,x3, label = \"x3\")\n",
    "plt.plot(t,x4, label = \"x4\")\n",
    "plt.plot(t,x5, label = \"x5\")\n",
    "plt.plot(t,x6, label = \"x6\")\n",
    "plt.plot(t,x7, label = \"x7\")\n",
    "plt.plot(t,x8, label = \"x8\")\n",
    "plt.plot(t,x9, label = \"x9\")\n",
    "plt.plot(t,x10, label = \"x10\")\n",
    "plt.plot(t,x11, label = \"xB\")\n",
    "plt.xlabel(\"Time [min]\")\n",
    "plt.ylabel(\"Composition [$x_{eth}$]\")\n",
    "plt.legend(loc = \"upper right\")"
   ]
  },
  {
   "cell_type": "code",
   "execution_count": null,
   "metadata": {},
   "outputs": [],
   "source": []
  }
 ],
 "metadata": {
  "kernelspec": {
   "display_name": "Python 3",
   "language": "python",
   "name": "python3"
  },
  "language_info": {
   "codemirror_mode": {
    "name": "ipython",
    "version": 3
   },
   "file_extension": ".py",
   "mimetype": "text/x-python",
   "name": "python",
   "nbconvert_exporter": "python",
   "pygments_lexer": "ipython3",
   "version": "3.7.3"
  }
 },
 "nbformat": 4,
 "nbformat_minor": 2
}
