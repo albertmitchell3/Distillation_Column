{
 "cells": [
  {
   "cell_type": "code",
   "execution_count": null,
   "metadata": {},
   "outputs": [],
   "source": [
    "pip install gekko"
   ]
  },
  {
   "cell_type": "code",
   "execution_count": 4,
   "metadata": {},
   "outputs": [],
   "source": [
    "import numpy as np\n",
    "import sympy\n",
    "from matplotlib import pyplot as plt\n",
    "import scipy\n",
    "import scipy.optimize\n",
    "import scipy.integrate\n"
   ]
  },
  {
   "cell_type": "code",
   "execution_count": 11,
   "metadata": {},
   "outputs": [],
   "source": [
    "# Inputs \n",
    "\n",
    "L0 = 1 # Reflux flow rate\n",
    "F  = 2 # Feed flow rate \n",
    "D = 1\n",
    "xf = 0.4 # Feed composition\n",
    "α = 1.4 # Relative volatility"
   ]
  },
  {
   "cell_type": "code",
   "execution_count": 12,
   "metadata": {},
   "outputs": [],
   "source": [
    "L1 = 1\n",
    "L2 = 0\n",
    "L3 = 1\n",
    "V0 = 0\n",
    "V1 = 1\n",
    "V2 = 0\n",
    "V3 = 1\n",
    "x3 = 0.3\n",
    "x0 = 0.5"
   ]
  },
  {
   "cell_type": "code",
   "execution_count": 13,
   "metadata": {},
   "outputs": [],
   "source": [
    "def model(t,var):\n",
    "    \n",
    "    M1,M2,Mc,Mb, x1M1, x2M2, xdMc, xbMb = var\n",
    "    \n",
    "    x1 = x1M1/M1\n",
    "    x2 = x2M2/M2\n",
    "    xd = xdMc/Mc\n",
    "    xb = xbMb/Mb\n",
    "    B = F - D\n",
    "    \n",
    "    \n",
    "    dM1dt   = V2 + L0 - V1 -L1 + F\n",
    "    dM2dt   = V3 + L1 - V2 - L2\n",
    "    dMcdt   = V0 - L0 - D\n",
    "    dMbdt   = L3 - B - V3\n",
    "    \n",
    "    y0 = (α*x0)/(1+(α-1)*x0)\n",
    "    y1 = (α*x1)/(1+(α-1)*x1)\n",
    "    y2 = (α*x2)/(1+(α-1)*x2)\n",
    "    y3 = (α*x3)/(1+(α-1)*x3)\n",
    "\n",
    "    dx1M1dt = y2*V2 + x0*L0 - y1*V1 - x1*L1 + xf*F\n",
    "    dx2M2dt = y3*V3 + x1*L1 - y2*V2 - x2*L2\n",
    "    dxdMcdt = y0*V0 - x0*L0 - xd*D\n",
    "    dxbMbdt = x3*L3 - xb*B - y3*V3\n",
    "    \n",
    "    \n",
    "    return [dM1dt, dM2dt, dMcdt, dMbdt, dx1M1dt, dx2M2dt, dxdMcdt, dxbMbdt]"
   ]
  },
  {
   "cell_type": "code",
   "execution_count": 14,
   "metadata": {},
   "outputs": [],
   "source": [
    "tspan = (0, 500)\n",
    "t = np.linspace( *tspan, 100)\n",
    "init = [8,2,5,5,0,0,0,0.]"
   ]
  },
  {
   "cell_type": "code",
   "execution_count": 15,
   "metadata": {},
   "outputs": [],
   "source": [
    "r = scipy.integrate.solve_ivp(model, tspan, init, t_eval=t)"
   ]
  },
  {
   "cell_type": "code",
   "execution_count": 16,
   "metadata": {},
   "outputs": [],
   "source": [
    " M1,M2,Mc,Mb, x1M1, x2M2, xdMc, xbMb = r.y"
   ]
  },
  {
   "cell_type": "code",
   "execution_count": 17,
   "metadata": {},
   "outputs": [
    {
     "data": {
      "text/plain": [
       "<matplotlib.legend.Legend at 0x19b55a5ec18>"
      ]
     },
     "execution_count": 17,
     "metadata": {},
     "output_type": "execute_result"
    },
    {
     "data": {
      "image/png": "[encoded data removed]",
      "text/plain": [
       "<Figure size 432x288 with 1 Axes>"
      ]
     },
     "metadata": {
      "needs_background": "light"
     },
     "output_type": "display_data"
    }
   ],
   "source": [
    "plt.plot(t, x1M1/M1,label = \"x1\")\n",
    "plt.plot(t, x2M2/M2,label = \"x2\")\n",
    "plt.plot(t, xdMc/Mc,label = \"xd\")\n",
    "plt.plot(t, xbMb/Mb,label = \"xb\")\n",
    "plt.legend()"
   ]
  },
  {
   "cell_type": "markdown",
   "metadata": {},
   "source": [
    "Assumptions:\n",
    "\n",
    "1. Constant liquid hold up on each plate \n",
    "2. Constant liquid and vapor flow in each of the three sections of the column\n",
    "3. Constant hold up in reboiler and condenser"
   ]
  },
  {
   "cell_type": "code",
   "execution_count": null,
   "metadata": {},
   "outputs": [],
   "source": []
  }
 ],
 "metadata": {
  "kernelspec": {
   "display_name": "Python 3",
   "language": "python",
   "name": "python3"
  },
  "language_info": {
   "codemirror_mode": {
    "name": "ipython",
    "version": 3
   },
   "file_extension": ".py",
   "mimetype": "text/x-python",
   "name": "python",
   "nbconvert_exporter": "python",
   "pygments_lexer": "ipython3",
   "version": "3.7.3"
  }
 },
 "nbformat": 4,
 "nbformat_minor": 2
}
