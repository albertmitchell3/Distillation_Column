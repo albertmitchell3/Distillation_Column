{
 "cells": [
  {
   "cell_type": "markdown",
   "metadata": {},
   "source": [
    "# Simplified three plate column"
   ]
  },
  {
   "cell_type": "code",
   "execution_count": 5,
   "metadata": {},
   "outputs": [],
   "source": [
    "import numpy\n",
    "from scipy.optimize import fsolve\n",
    "from matplotlib import pyplot as plt\n",
    "import scipy.optimize\n",
    "import scipy.integrate"
   ]
  },
  {
   "cell_type": "code",
   "execution_count": 14,
   "metadata": {},
   "outputs": [],
   "source": [
    "init = [0.1,0.1,0.1,0.1,0.1,0.25,0.25,0.25,0.25,0.25,0] # initial conditions\n",
    "α = 1.5\n",
    "\n",
    "F = 1\n",
    "xF = 0.5\n",
    "D = 0.5*F\n",
    "reflux = 0.8\n",
    "V = F\n",
    "\n",
    "# M_star = 0.1 # nominal holdup \n",
    "# τ = 5\n",
    "# Ltop = 0.3\n",
    "# Lbot = 0.4"
   ]
  },
  {
   "cell_type": "code",
   "execution_count": 53,
   "metadata": {},
   "outputs": [],
   "source": [
    "def model(t,var):\n",
    "    xc,x1,x2,x3,xr,Mc,M1,M2,M3,Mr,B = var\n",
    "    \n",
    "    y1 = x1*α/(1+(α-1)*x1)\n",
    "    xC = y1\n",
    "    y2 = x2*α/(1+(α-1)*x2)\n",
    "    y3 = x3*α/(1+(α-1)*x3)\n",
    "    y4 = xr*α/(1+(α-1)*xr)\n",
    "\n",
    "#     L0 = reflux*D\n",
    "#     L1 = Ltop + (M1 - M_star)/τ\n",
    "#     L2 = Ltop - Lbot + F +(M2 - M_star)/τ\n",
    "#     L3 = Lbot + (M3 - M_star)/τ\n",
    "\n",
    "    L0 = reflux*D\n",
    "    L1 = L0  # assuming flow in top section is constant\n",
    "    L2 = L0 + F # assuming flow in bottom section is constant\n",
    "    L3 = L0 + F\n",
    "    \n",
    "    V1 = L0 + D \n",
    "    V2 = V1\n",
    "    V3 = V1\n",
    "    V4 = V1\n",
    "    \n",
    "    B = L3-V4 # Calculates the bottom flow\n",
    "\n",
    "    dMcdt = V1 - L0 - D\n",
    "    dxcMcdt = y1*V1 - xc*(L0 + D)\n",
    "    dxcdt = 1/Mc*(dxcMcdt - xc*dMcdt)\n",
    "\n",
    "    dM1dt = V2 - V1 + L0 - L1\n",
    "    dx1M1dt = y2*V2 - y1*V1 + xc*L0 - x1*L1\n",
    "    dx1dt = 1/M1*(dx1M1dt - x1*dM1dt)\n",
    "\n",
    "    dM2dt = V3 - V2 + L1 - L2 + F\n",
    "    dx2M2dt = y3*V3 - y2*V2 + x1*L1 - x2*L2 + xF*F\n",
    "    dx2dt = 1/M2*(dx2M2dt - x2*dM2dt)\n",
    "\n",
    "    dM3dt = V4 - V3 + L2 - L3\n",
    "    dx3M3dt = y4*V4 - y3*V3 + x2*L2 - x3*L3\n",
    "    dx3dt = 1/M3*(dx3M3dt - x3*dM3dt)\n",
    "\n",
    "    dMrdt = L3 - V4 - B\n",
    "    dxrMrdt = x3*L3 - y4*V4 - xr*B\n",
    "    dxrdt = 1/Mr*(dxrMrdt - xr*dMrdt)\n",
    "    \n",
    "\n",
    "    return [dxcdt,dx2dt,dx2dt,dx3dt,dxrdt,dMcdt,dM1dt,dM2dt,dM3dt,dMrdt,B]\n"
   ]
  },
  {
   "cell_type": "code",
   "execution_count": 54,
   "metadata": {},
   "outputs": [],
   "source": [
    "tspan = (0, 100)\n",
    "t = numpy.linspace( *tspan, 100)\n",
    "initial_run = scipy.integrate.solve_ivp(model, tspan, init, t_eval=t)"
   ]
  },
  {
   "cell_type": "code",
   "execution_count": 55,
   "metadata": {},
   "outputs": [],
   "source": [
    "xc,x1,x2,x3,xr,Mc,M1,M2,M3,Mr,B = initial_run.y"
   ]
  },
  {
   "cell_type": "code",
   "execution_count": 56,
   "metadata": {},
   "outputs": [
    {
     "data": {
      "text/plain": [
       "<matplotlib.legend.Legend at 0x19289b72710>"
      ]
     },
     "execution_count": 56,
     "metadata": {},
     "output_type": "execute_result"
    },
    {
     "data": {
      "image/png": "[encoded data removed]",
      "text/plain": [
       "<Figure size 432x288 with 1 Axes>"
      ]
     },
     "metadata": {
      "needs_background": "light"
     },
     "output_type": "display_data"
    }
   ],
   "source": [
    "plt.plot(t,xc,label = \"xD\")\n",
    "plt.plot(t,xr,label = \"xB\")\n",
    "plt.legend()"
   ]
  },
  {
   "cell_type": "code",
   "execution_count": 52,
   "metadata": {},
   "outputs": [
    {
     "data": {
      "text/plain": [
       "<matplotlib.legend.Legend at 0x19289b09470>"
      ]
     },
     "execution_count": 52,
     "metadata": {},
     "output_type": "execute_result"
    },
    {
     "data": {
      "image/png": "[encoded data removed]",
      "text/plain": [
       "<Figure size 432x288 with 1 Axes>"
      ]
     },
     "metadata": {
      "needs_background": "light"
     },
     "output_type": "display_data"
    }
   ],
   "source": [
    "accum = xF*F - xr*B - xc*D\n",
    "accum1 = xc*Mc+x1*M1+x2*M2+x3*M3+xr*Mr\n",
    "plt.plot(t,accum,label = \"mass balance\")\n",
    "plt.plot(t,accum1,label = \"accumulation\")\n",
    "plt.legend()\n"
   ]
  },
  {
   "cell_type": "code",
   "execution_count": null,
   "metadata": {},
   "outputs": [],
   "source": []
  }
 ],
 "metadata": {
  "kernelspec": {
   "display_name": "Python 3",
   "language": "python",
   "name": "python3"
  },
  "language_info": {
   "codemirror_mode": {
    "name": "ipython",
    "version": 3
   },
   "file_extension": ".py",
   "mimetype": "text/x-python",
   "name": "python",
   "nbconvert_exporter": "python",
   "pygments_lexer": "ipython3",
   "version": "3.7.3"
  }
 },
 "nbformat": 4,
 "nbformat_minor": 2
}
