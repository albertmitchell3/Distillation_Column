{
 "cells": [
  {
   "cell_type": "code",
   "execution_count": 2,
   "metadata": {},
   "outputs": [],
   "source": [
    "import numpy as np\n",
    "import sympy\n",
    "from matplotlib import pyplot as plt\n",
    "import scipy\n",
    "import scipy.optimize\n",
    "import scipy.integrate\n",
    "import CoolProp.CoolProp as CP\n",
    "from scipy.stats.mstats import gmean\n",
    "from thermo.vapor_pressure import Antoine\n",
    "import pylab"
   ]
  },
  {
   "cell_type": "code",
   "execution_count": 5,
   "metadata": {},
   "outputs": [],
   "source": [
    "F = 1\n",
    "xF = 0.5\n",
    "L0 = 2.706\n",
    "V = 3.206\n",
    "m0_0 = 0.5\n",
    "m0_1 = 0.5\n",
    "m0_2 = 0.5\n",
    "τ = 0.063\n",
    "α = 1.5"
   ]
  },
  {
   "cell_type": "code",
   "execution_count": 17,
   "metadata": {},
   "outputs": [],
   "source": [
    "x0 = x1 = x2 = 0.1\n",
    "L0_0 = 2.706\n",
    "L0_1 = 2.706\n",
    "m0 = m1 = m2 = 0.1\n",
    "D =B = 0.5"
   ]
  },
  {
   "cell_type": "code",
   "execution_count": 19,
   "metadata": {},
   "outputs": [],
   "source": [
    "y1 = α*x1/(1+(α-1)*x1)\n",
    "y2 = α*x2/(1+(α-1)*x2)\n",
    "\n",
    "V1 = V2 = V\n",
    "L0 = L0_0 + (m0 - m0_0)/τ\n",
    "L1 = L0_1 + (m1 - m0_1)/τ \n",
    "\n",
    "\n",
    "dm0dt = V1 - L0 - D\n",
    "dm0x0dt = y1*V1 - x0*L0 - D*x0\n",
    "dx0dt = 1/m0*(dm0x0dt - x0*dm0dt)\n",
    "\n",
    "dm1dt = V2 - V1 + L0 - L1 + F\n",
    "dm1x1dt = y2*V2 - y1*V1 + x0*L0 - x1*L1 + xF*F\n",
    "dx1dt = 1/m1*(dm1x1dt - x1*dm1dt)\n",
    "\n",
    "dm2dt = L1 - V2 - B\n",
    "dm2x2dt = x1*L1 - y2*V2 - x2*B\n",
    "dx2dt = 1/m2*(dm2x2dt - x2*dm2dt)"
   ]
  },
  {
   "cell_type": "code",
   "execution_count": null,
   "metadata": {},
   "outputs": [],
   "source": []
  }
 ],
 "metadata": {
  "kernelspec": {
   "display_name": "Python 3",
   "language": "python",
   "name": "python3"
  },
  "language_info": {
   "codemirror_mode": {
    "name": "ipython",
    "version": 3
   },
   "file_extension": ".py",
   "mimetype": "text/x-python",
   "name": "python",
   "nbconvert_exporter": "python",
   "pygments_lexer": "ipython3",
   "version": "3.7.3"
  }
 },
 "nbformat": 4,
 "nbformat_minor": 4
}
