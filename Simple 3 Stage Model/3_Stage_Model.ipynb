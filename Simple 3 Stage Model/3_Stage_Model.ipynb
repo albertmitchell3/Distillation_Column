{
 "cells": [
  {
   "cell_type": "code",
   "execution_count": 217,
   "metadata": {},
   "outputs": [],
   "source": [
    "import numpy as np\n",
    "import sympy\n",
    "from matplotlib import pyplot as plt\n",
    "import scipy\n",
    "import scipy.optimize\n",
    "import scipy.integrate\n",
    "from scipy.stats.mstats import gmean"
   ]
  },
  {
   "cell_type": "markdown",
   "metadata": {},
   "source": [
    "## Assumptions:\n",
    "\n",
    "1. Constant liquid hold up on each plate \n",
    "2. Constant liquid flow in each of the three sections of the column\n",
    "3. Constant vapour flow in the column\n",
    "4. No vapour holdup in the column\n",
    "5. Constant hold up in reboiler and condenser\n",
    "6. Constant relative volatility"
   ]
  },
  {
   "cell_type": "code",
   "execution_count": 218,
   "metadata": {},
   "outputs": [],
   "source": [
    "def vol(xi):\n",
    "    \n",
    "    x= np.asarray([ 0.019, 0.0721, 0.0966, 0.1238, 0.1661, 0.2337, 0.2608, \n",
    "              0.3273, 0.3965, 0.5079, 0.5198, 0.5732, 0.6763, 0.7472, 0.8943])\n",
    "    y = np.asarray([ 0.170, 0.3891, 0.4375, 0.4704, 0.5089, 0.5445, 0.5580, \n",
    "              0.5826, 0.6122, 0.6564, 0.6599, 0.6841, 0.7385, 0.7815, 0.8943])\n",
    "    \n",
    "    αi = (y*(1-x))/(x*(1-y))\n",
    "#     α = np.average(αi)\n",
    "    α = gmean(αi)\n",
    "    yi = (α*xi)/(1+(α-1)*xi)\n",
    "    \n",
    "    return yi"
   ]
  },
  {
   "cell_type": "code",
   "execution_count": 219,
   "metadata": {},
   "outputs": [],
   "source": [
    "def liquid_enthalpy(xi):\n",
    "    HL = -6795.76505219*xi + 6811.32037477\n",
    "    return HL\n",
    "\n",
    "def vapour_enthalpy(yi):\n",
    "    HV = -9272.62083371 *yi + 48236.06928559\n",
    "    return HV"
   ]
  },
  {
   "cell_type": "code",
   "execution_count": 220,
   "metadata": {},
   "outputs": [],
   "source": [
    "def cond_duty(V,xi,yi):\n",
    "    Hl = liquid_enthalpy(xi)\n",
    "    Hv = vapour_enthalpy(yi)\n",
    "    \n",
    "    λ =  Hv - Hl\n",
    "    \n",
    "    Qcond = -V*λ\n",
    "    \n",
    "    return Qcond"
   ]
  },
  {
   "cell_type": "code",
   "execution_count": 221,
   "metadata": {},
   "outputs": [],
   "source": [
    "def rebl_duty(V,xi,yi):\n",
    "    Hl = liquid_enthalpy(xi)\n",
    "    Hv = vapour_enthalpy(yi)\n",
    "    \n",
    "    λ =  Hv - Hl\n",
    "    \n",
    "    Qrebl = V*λ\n",
    "    \n",
    "    return Qrebl"
   ]
  },
  {
   "cell_type": "code",
   "execution_count": 222,
   "metadata": {},
   "outputs": [],
   "source": [
    "def mod(t,var):\n",
    "    \n",
    "    x0,x1,x2 = var\n",
    "    \n",
    "    L0 = R_r*D\n",
    "    V = L0 + D \n",
    "    L1 = L0 + F\n",
    "    B = F-D\n",
    "\n",
    "    y1 = vol(x1)\n",
    "    y2 = vol(x2)\n",
    "    \n",
    "    # Condenser composition\n",
    "    dx0dt = (1/m_cond)*(y1*V - (L0+D)*x0)\n",
    "    \n",
    "    # Feed plate 3\n",
    "    dx1dt = (1/m_tray)*(V*(y2-y1) + L0*x0 - L1*x1 + xF*F)\n",
    "\n",
    "    # Reboiler composition\n",
    "    dx2dt = (1/m_rebl)*(- V*y2 + L1*x1 - x2*B)\n",
    "    \n",
    "    return [dx0dt, dx1dt, dx2dt]"
   ]
  },
  {
   "cell_type": "code",
   "execution_count": 243,
   "metadata": {},
   "outputs": [],
   "source": [
    "def mod_e(t,var):\n",
    "    \n",
    "    x0,x1,x2,h0,h1,h2 = var\n",
    "    \n",
    "    L0 = R_r*D\n",
    "    V = L0 + D \n",
    "    L1 = L0 + F\n",
    "    B = F - D\n",
    "\n",
    "    y0 = vol(x1)\n",
    "    y1 = vol(x1)\n",
    "    y2 = vol(x2)\n",
    "    \n",
    "    H1 = vapour_enthalpy(y1)\n",
    "    H2 = vapour_enthalpy(y2)\n",
    "    hf = liquid_enthalpy(xF)\n",
    "    \n",
    "    # Condenser composition\n",
    "    dx0dt = (1/m_cond)*(y1*V - (L0+D)*x0)\n",
    "    dh0dt = (1/m_cond)*(H1*V - (L0+D)*h0 + cond_duty(V,x0,x0))\n",
    "    \n",
    "    # Feed plate 3\n",
    "    dx1dt = (1/m_tray)*(V*(y2-y1) + L0*x0 - L1*x1 + xF*F )\n",
    "    dh1dt = (1/m_tray)*(V*(H2-H1) + L0*h0 - L1*H1 + hf*F)\n",
    "\n",
    "    # Reboiler composition\n",
    "    dx2dt = (1/m_rebl)*(- V*y2 + L1*x1 - x2*B)\n",
    "    dh2dt = (1/m_rebl)*(- V*H2 + L1*h1 - h2*B + rebl_duty(V,x2,y2))\n",
    "    \n",
    "    return [dx0dt, dx1dt, dx2dt, dh0dt, dh1dt, dh2dt]"
   ]
  },
  {
   "cell_type": "markdown",
   "metadata": {},
   "source": [
    "## Inputs to calculate intial state"
   ]
  },
  {
   "cell_type": "markdown",
   "metadata": {},
   "source": [
    "### Input variables\n",
    "\n",
    "1. $F_3$ - Feed flow rate on plate 3\n",
    "2. $F_7$ - Feed flow rate on plate 7\n",
    "3. $x_F$ - Feed liquid composition\n",
    "4. $Rr$ - Reflux ratio\n",
    "5. $D_F$ - Distillate to feed ratio\n",
    "\n",
    "### Parameters\n",
    "\n",
    "1. $\\alpha$ - Relative volatility\n",
    "2. $m_{tray}$ - holdup on each tray\n",
    "2. $m_{cond}$ - holdup in the total condenser\n",
    "2. $m_{rebl}$ - holdup in the partial reboiler"
   ]
  },
  {
   "cell_type": "code",
   "execution_count": 244,
   "metadata": {},
   "outputs": [
    {
     "name": "stdout",
     "output_type": "stream",
     "text": [
      "6131.743869551\n"
     ]
    }
   ],
   "source": [
    "init = [0.1, 0.1, 0.1, liquid_enthalpy(0.1), liquid_enthalpy(0.1), liquid_enthalpy(0.1) ]\n",
    "# init = [0.1, 0.1, 0.1]\n",
    "# init = [0.4239734327966502, 0.1946105255501814, 0.07625329798664819]\n",
    "# init = [0.4239734327966502, 0.1946105255501814, 0.07625329798664819,\n",
    "#         liquid_enthalpy(0.4239734327966502), liquid_enthalpy(0.1946105255501814), liquid_enthalpy(0.07625329798664819) ]\n",
    "print(liquid_enthalpy(0.1))\n",
    "F = 1 # Feed on plate 3\n",
    "D = 0.5\n",
    "xF = 0.25 # mole fraction in feed\n",
    "R_r = 20 # reflux ratio\n",
    "\n",
    "m_cond = 0.15 # holdup in condenser\n",
    "m_tray = 0.2 # holdup on each tray\n",
    "m_rebl = 0.45 # holdup in reboiler\n",
    "mt = 0.15+0.2+0.45"
   ]
  },
  {
   "cell_type": "code",
   "execution_count": 240,
   "metadata": {},
   "outputs": [],
   "source": [
    "tspan = (0, 15)\n",
    "t = np.linspace( *tspan, 100)\n",
    "initial_run = scipy.integrate.solve_ivp(mod_e, tspan, init, t_eval=t)"
   ]
  },
  {
   "cell_type": "code",
   "execution_count": 241,
   "metadata": {},
   "outputs": [],
   "source": [
    "# x0,x1,x2 = initial_run.y\n",
    "x0,x1,x2,h0,h1,h2 = initial_run.y"
   ]
  },
  {
   "cell_type": "code",
   "execution_count": 242,
   "metadata": {},
   "outputs": [
    {
     "name": "stdout",
     "output_type": "stream",
     "text": [
      "0.4238181231906696 0.1947944928575707 0.0762221096598738\n"
     ]
    },
    {
     "data": {
      "image/png": "[encoded data removed]",
      "text/plain": [
       "<Figure size 432x288 with 1 Axes>"
      ]
     },
     "metadata": {
      "needs_background": "light"
     },
     "output_type": "display_data"
    },
    {
     "data": {
      "image/png": "[encoded data removed]",
      "text/plain": [
       "<Figure size 432x288 with 1 Axes>"
      ]
     },
     "metadata": {
      "needs_background": "light"
     },
     "output_type": "display_data"
    }
   ],
   "source": [
    "plt.figure(1)\n",
    "plt.title(\"Basic Distillation Column V1\")\n",
    "plt.plot(t,x0, label = \"xD\")\n",
    "plt.plot(t,x1, label = \"x1\")\n",
    "# plt.plot(t,x2, label = \"xB\")\n",
    "plt.xlabel(\"Time [$min$]\")\n",
    "plt.ylabel(\"Composition [$x_{eth}$]\")\n",
    "plt.legend(loc = \"upper right\")\n",
    "# plt.savefig(\"Basic_distillation_column_V1.svg\")\n",
    "\n",
    "plt.figure(2)\n",
    "plt.plot(t,h0, label = \"xD\")\n",
    "plt.plot(t,h1, label = \"x1\")\n",
    "plt.plot(t,h2, label = \"xB\")\n",
    "plt.legend()\n",
    "print(x0[-1], x1[-1],x2[-1])\n",
    "# 0.4221781484681993 0.07790814682274913 rr 10\n",
    "# 0.40610461779466533 0.09398329954517895 rr 0.6"
   ]
  },
  {
   "cell_type": "code",
   "execution_count": null,
   "metadata": {},
   "outputs": [],
   "source": [
    "init = [0.1, 0.1, 0.1,0]\n",
    "\n",
    "F = 1 # Feed on plate 3\n",
    "D = 0.5\n",
    "xF = 0.5 # mole fraction in feed\n",
    "R_r = 0.6 # reflux ratio\n",
    "\n",
    "m_cond = 0.15 # holdup in condenser\n",
    "m_tray = 0.2 # holdup on each tray\n",
    "m_rebl = 0.45 # holdup in reboiler\n",
    "mt = 0.15+0.2+0.45\n",
    "\n",
    "tspan = (0, 15)\n",
    "t = np.linspace( *tspan, 100)\n",
    "initial_run = scipy.integrate.solve_ivp(mod, tspan, init, t_eval=t)\n",
    "\n",
    "x0,x1,x2,B = initial_run.y\n",
    "\n",
    "plt.figure(1)\n",
    "plt.title(\"Basic Distillation Column V1\")\n",
    "plt.plot(t,x0, label = \"xD\")\n",
    "plt.plot(t,x1, label = \"x1\")\n",
    "plt.plot(t,x2, label = \"xB\")\n",
    "# plt.plot(t,xt, label = \"xt\")\n",
    "plt.xlabel(\"Time [$min$]\")\n",
    "plt.ylabel(\"Composition [$x_{eth}$]\")\n",
    "plt.legend(loc = \"upper right\")\n",
    "print(x0[-1],x2[-1])\n",
    "\n",
    "# 0.5834075415038531 0.12830397916296193\n",
    "# 0.5915477977815078 0.11334777740140549\n",
    "# 0.5934497927845376 0.10998832135621528"
   ]
  },
  {
   "cell_type": "markdown",
   "metadata": {},
   "source": [
    "# Consistency plot of model\n",
    "\n",
    "The idea to assume CMO and constant hold up creates a scenario where mass is \"created\" to fulfill both the criterias. The plot below will show that there accumulation occuring in the column increases yet the mass balance decreases to zero. These two are thus contradictory because the mass balance should produce the exact same accumulation.\n",
    "\n",
    "The mass balance is calculated as follows:\n",
    "\n",
    "$M_{t}\\frac{dx_t}{dt} = x_FF -x_BB - x_DD$\n",
    "\n",
    "And the accumulation is calculated as follows:\n",
    "\n",
    "$M_{t}\\frac{dx_t}{dt} = \\sum{M_i\\frac{dx_i}{dt}}$\n",
    "\n",
    "where \n",
    "- $M_t$ is the total mass accumulated in the column\n",
    "- $x_t$ is the mole fraction of the mass in the column\n",
    "- $M_i$ is the total mass accumulated on each tray $i$."
   ]
  },
  {
   "cell_type": "code",
   "execution_count": null,
   "metadata": {},
   "outputs": [],
   "source": [
    "L1 = R_r*D\n",
    "V = L1 + D\n",
    "L2 = F3 + L1\n",
    "L3 = F7 + L2\n",
    "\n",
    "moles_inside_column_at_zero = (x0s[0]*m_cond+x1s[0]*m_tray+x2s[0]*m_tray+x3s[0]*m_tray+x4s[0]*m_tray+x5s[0]*m_tray+x6s[0]*m_tray+\n",
    "                       x7s[0]*m_tray+x8s[0]*m_tray+x9s[0]*m_tray+x10s[0]*m_tray+x11s[0]*m_rebl)\n",
    "\n",
    "# This calculated the accumulation insie the column through summing the accumulation on each plate\n",
    "moles_inside_column = (x0s*m_cond+x1s*m_tray+x2s*m_tray+x3s*m_tray+x4s*m_tray+x5s*m_tray+x6s*m_tray+\n",
    "                       x7s*m_tray+x8s*m_tray+x9s*m_tray+x10s*m_tray+x11s*m_rebl) - moles_inside_column_at_zero\n",
    "\n",
    "\n",
    "integral = []\n",
    "for i in range(1,len(t)+1):\n",
    "    dMtxtdt = xF*F3 - (D)*(x0s[0:i])- (L3-V)*x11s[0:i]\n",
    "    integral.append(np.trapz(dMtxtdt,t[0:i]))\n",
    "\n",
    "plt.figure(1)\n",
    "plt.subplot(2,1,1)\n",
    "plt.title(\"Consistency Plot\")\n",
    "plt.xlabel(\"Time\")\n",
    "plt.ylabel(\"Accumulation of mass\")\n",
    "plt.plot(t,integral, label = \"Mole balance\")\n",
    "plt.plot(t,moles_inside_column, label = \"Diff equations\")\n",
    "# plt.ylim(0,0.3)\n",
    "plt.legend(loc=\"best\")\n",
    "plt.subplot(2,1,2)\n",
    "plt.plot(t,abs(moles_inside_column-integral), label = \"Error\")\n",
    "# plt.ylim(0,0.0003)\n",
    "plt.xlabel(\"Time [$min$]\")\n",
    "plt.ylabel(\"Absolute error\")\n",
    "plt.savefig(\"consistency_plot_error_V1.svg\")"
   ]
  },
  {
   "cell_type": "markdown",
   "metadata": {},
   "source": [
    "## Reflux ratio step\n",
    "\n",
    "The reflux ratio is stepped with a factor of 2."
   ]
  },
  {
   "cell_type": "code",
   "execution_count": null,
   "metadata": {},
   "outputs": [],
   "source": [
    "tspan = (0, 10)\n",
    "t = np.linspace( *tspan, 10000)\n",
    "R_r = 0.8*3 \n",
    "reflux_step = scipy.integrate.solve_ivp(mod, tspan, xi, t_eval=t)\n",
    "x0,x1,x2,x3,x4,x5,x6,x7,x8,x9,x10,x11 = reflux_step.y"
   ]
  },
  {
   "cell_type": "code",
   "execution_count": null,
   "metadata": {},
   "outputs": [],
   "source": [
    "xi = [x0[-1],x1[-1],x2[-1],x3[-1],x4[-1],x5[-1],x6[-1],x7[-1],x8[-1],x9[-1],x10[-1],x11[-1]]"
   ]
  },
  {
   "cell_type": "code",
   "execution_count": null,
   "metadata": {},
   "outputs": [],
   "source": [
    "plt.figure(2)\n",
    "plt.title(\"Reflux step test\")\n",
    "plt.plot(t,x0, label = \"xD\")\n",
    "plt.plot(t,x1, label = \"x1\")\n",
    "plt.plot(t,x2, label = \"x2\")\n",
    "plt.plot(t,x3, label = \"x3\")\n",
    "plt.plot(t,x4, label = \"x4\")\n",
    "plt.plot(t,x5, label = \"x5\")\n",
    "plt.plot(t,x6, label = \"x6\")\n",
    "plt.plot(t,x7, label = \"x7\")\n",
    "plt.plot(t,x8, label = \"x8\")\n",
    "plt.plot(t,x9, label = \"x9\")\n",
    "plt.plot(t,x10, label = \"x10\")\n",
    "plt.plot(t,x11, label = \"xB\")\n",
    "plt.xlabel(\"Time [min]\")\n",
    "plt.ylabel(\"Composition [$x_{eth}$]\")\n",
    "plt.legend(loc = \"upper right\")\n",
    "plt.savefig('Feed_step2.svg')"
   ]
  },
  {
   "cell_type": "markdown",
   "metadata": {},
   "source": [
    "## Feed flow rate step\n",
    "\n",
    "The feed rate on plate 3 is stepped with a factor of 20."
   ]
  },
  {
   "cell_type": "code",
   "execution_count": null,
   "metadata": {},
   "outputs": [],
   "source": [
    "tspan = (0, 10)\n",
    "t = np.linspace( *tspan, 10000)\n",
    "R_r = 0.8\n",
    "F3 = F3*3\n",
    "feed_step = scipy.integrate.solve_ivp(mod, tspan, xi, t_eval=t)\n",
    "x0,x1,x2,x3,x4,x5,x6,x7,x8,x9,x10,x11 = feed_step.y"
   ]
  },
  {
   "cell_type": "code",
   "execution_count": null,
   "metadata": {},
   "outputs": [],
   "source": [
    "plt.figure(3)\n",
    "plt.title(\"Feed flow rate step\")\n",
    "plt.plot(t,x0, label = \"xD\")\n",
    "plt.plot(t,x1, label = \"x1\")\n",
    "plt.plot(t,x2, label = \"x2\")\n",
    "plt.plot(t,x3, label = \"x3\")\n",
    "plt.plot(t,x4, label = \"x4\")\n",
    "plt.plot(t,x5, label = \"x5\")\n",
    "plt.plot(t,x6, label = \"x6\")\n",
    "plt.plot(t,x7, label = \"x7\")\n",
    "plt.plot(t,x8, label = \"x8\")\n",
    "plt.plot(t,x9, label = \"x9\")\n",
    "plt.plot(t,x10, label = \"x10\")\n",
    "plt.plot(t,x11, label = \"xB\")\n",
    "plt.xlabel(\"Time [min]\")\n",
    "plt.ylabel(\"Composition [$x_{eth}$]\")\n",
    "plt.legend(loc = \"upper right\")\n",
    "plt.savefig('Feed_step2.svg')"
   ]
  },
  {
   "cell_type": "markdown",
   "metadata": {},
   "source": [
    "## Feed compositon step\n",
    "\n",
    "The feed on plate 3 is stepped by a factor of 2."
   ]
  },
  {
   "cell_type": "code",
   "execution_count": null,
   "metadata": {},
   "outputs": [],
   "source": [
    "tspan = (0, 10)\n",
    "t = np.linspace( *tspan, 100)\n",
    "F3 = 1\n",
    "xF = xF*2\n",
    "composition_step = scipy.integrate.solve_ivp(mod, tspan, xi, t_eval=t)\n",
    "x0,x1,x2,x3,x4,x5,x6,x7,x8,x9,x10,x11 = composition_step.y"
   ]
  },
  {
   "cell_type": "code",
   "execution_count": null,
   "metadata": {},
   "outputs": [],
   "source": [
    "plt.figure('twxt')\n",
    "plt.title(\"Feed composition step\")\n",
    "plt.plot(t,x0, label = \"xD\")\n",
    "plt.plot(t,x1, label = \"x1\")\n",
    "plt.plot(t,x2, label = \"x2\")\n",
    "plt.plot(t,x3, label = \"x3\")\n",
    "plt.plot(t,x4, label = \"x4\")\n",
    "plt.plot(t,x5, label = \"x5\")\n",
    "plt.plot(t,x6, label = \"x6\")\n",
    "plt.plot(t,x7, label = \"x7\")\n",
    "plt.plot(t,x8, label = \"x8\")\n",
    "plt.plot(t,x9, label = \"x9\")\n",
    "plt.plot(t,x10, label = \"x10\")\n",
    "plt.plot(t,x11, label = \"xB\")\n",
    "plt.xlabel(\"Time [min]\")\n",
    "plt.ylabel(\"Composition [$x_{eth}$]\")\n",
    "plt.legend(loc = \"upper right\")"
   ]
  },
  {
   "cell_type": "markdown",
   "metadata": {},
   "source": [
    "## Distillate to feed ratio step\n",
    "\n",
    "The distillate to feed ratio is stepped by a factor of 2."
   ]
  },
  {
   "cell_type": "code",
   "execution_count": null,
   "metadata": {},
   "outputs": [],
   "source": [
    "tspan = (0, 10)\n",
    "t = np.linspace( *tspan, 100)\n",
    "xF = 0.25\n",
    "D = D*1.1\n",
    "d_f_ratio_step = scipy.integrate.solve_ivp(mod, tspan, xi, t_eval=t)\n",
    "x0,x1,x2,x3,x4,x5,x6,x7,x8,x9,x10,x11 = d_f_ratio_step.y"
   ]
  },
  {
   "cell_type": "code",
   "execution_count": null,
   "metadata": {},
   "outputs": [],
   "source": [
    "plt.figure('Distillate_feed_step')\n",
    "plt.title(\"Distillate to feed ratio step\")\n",
    "plt.plot(t,x0, label = \"xD\")\n",
    "plt.plot(t,x1, label = \"x1\")\n",
    "plt.plot(t,x2, label = \"x2\")\n",
    "plt.plot(t,x3, label = \"x3\")\n",
    "plt.plot(t,x4, label = \"x4\")\n",
    "plt.plot(t,x5, label = \"x5\")\n",
    "plt.plot(t,x6, label = \"x6\")\n",
    "plt.plot(t,x7, label = \"x7\")\n",
    "plt.plot(t,x8, label = \"x8\")\n",
    "plt.plot(t,x9, label = \"x9\")\n",
    "plt.plot(t,x10, label = \"x10\")\n",
    "plt.plot(t,x11, label = \"xB\")\n",
    "plt.xlabel(\"Time [min]\")\n",
    "plt.ylabel(\"Composition [$x_{eth}$]\")\n",
    "plt.legend(loc = \"upper right\")"
   ]
  },
  {
   "cell_type": "code",
   "execution_count": null,
   "metadata": {},
   "outputs": [],
   "source": []
  }
 ],
 "metadata": {
  "kernelspec": {
   "display_name": "Python 3",
   "language": "python",
   "name": "python3"
  },
  "language_info": {
   "codemirror_mode": {
    "name": "ipython",
    "version": 3
   },
   "file_extension": ".py",
   "mimetype": "text/x-python",
   "name": "python",
   "nbconvert_exporter": "python",
   "pygments_lexer": "ipython3",
   "version": "3.7.3"
  }
 },
 "nbformat": 4,
 "nbformat_minor": 2
}
