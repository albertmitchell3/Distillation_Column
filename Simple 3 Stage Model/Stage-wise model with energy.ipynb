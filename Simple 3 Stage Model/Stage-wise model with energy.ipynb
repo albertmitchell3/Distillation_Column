{
 "cells": [
  {
   "cell_type": "code",
   "execution_count": 1,
   "metadata": {},
   "outputs": [],
   "source": [
    "import numpy as np\n",
    "import sympy\n",
    "from matplotlib import pyplot as plt\n",
    "import scipy\n",
    "import scipy.optimize\n",
    "import scipy.integrate\n",
    "import CoolProp.CoolProp as CP"
   ]
  },
  {
   "cell_type": "code",
   "execution_count": null,
   "metadata": {},
   "outputs": [],
   "source": [
    "def model_I(t,var):\n",
    "    \n",
    "    \n",
    "    # component balances\n",
    "    dM1x1_1dt = V2*y2_1 - D*y1_1 - L1*x1_1\n",
    "    dM1x1_2dt = V2*y2_2 - D*y1_2 - L1*x1_2\n",
    "    \n",
    "    # total mass on blance\n",
    "    dM1dt = dM1x1_1dt + dM1x1_2dt\n",
    "    \n",
    "    # compositions\n",
    "    x1_1 = dM1x1_1/dM1dt\n",
    "    x1_2 = dM1x1_2/dM1dt\n",
    "    \n",
    "    #energy balance\n",
    "    dM1h1dt = V2*H2 - D*HD - L1*h1\n",
    "    \n",
    "    #calculate actual liquid in equilibrium with vapor \n",
    "    x1_1_star = y1_1/K1_1\n",
    "    \n",
    "    #murphree efficiency\n",
    "    E1_1 = (x1_1 - x2_1)/(x1_1_star - x2_1) \n",
    "    \n",
    "    #vapor flow rate \n",
    "    V1 = L2*(h2 - h1 - β1)/(H1 - h1 - β3)\n",
    "    \n",
    "    \n",
    "    dM2x2_1dt = V3*y3_1 - V2*y2_1 + L1*x1_1 - L2*x2_1 + F*xF_1\n",
    "    dM2x2_2dt = V3*y3_2 - V2*y2_2 + L1*x1_2 - L2*x2_2 + F*xF_2\n",
    "    \n",
    "    dM2dt = dM2x2_1dt + dM2x2_2dt\n",
    "    \n",
    "    x2_1 = dM2x2_1/dM2dt\n",
    "    x2_2 = dM2x2_2/dM2dt\n",
    "    \n",
    "    dM2h2dt = V3*H3 - V2*H2 + L1*h1 - L2*h2 + F*hf\n",
    "    \n",
    "    dM3x3_1dt = - V3*y3_1 + L2*x2_1 - B*x3_1\n",
    "    dM3x3_2dt = - V3*y3_2 + L2*x2_2 - B*x3_2\n",
    "    \n",
    "    dM3dt = dM3x3_1dt + dM3x3_2dt\n",
    "    \n",
    "    x3_1 = dM3x3_1/dM3dt\n",
    "    x3_2 = dM3x3_2/dM3dt\n",
    "    \n",
    "    dM2h3dt = - V3*H3 + L2*h2 - B*hB\n",
    "    \n",
    "    "
   ]
  }
 ],
 "metadata": {
  "kernelspec": {
   "display_name": "Python 3",
   "language": "python",
   "name": "python3"
  },
  "language_info": {
   "codemirror_mode": {
    "name": "ipython",
    "version": 3
   },
   "file_extension": ".py",
   "mimetype": "text/x-python",
   "name": "python",
   "nbconvert_exporter": "python",
   "pygments_lexer": "ipython3",
   "version": "3.7.3"
  }
 },
 "nbformat": 4,
 "nbformat_minor": 4
}
