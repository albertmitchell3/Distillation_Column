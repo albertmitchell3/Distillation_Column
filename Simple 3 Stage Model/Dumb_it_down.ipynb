{
 "cells": [
  {
   "cell_type": "markdown",
   "metadata": {},
   "source": [
    "# Simplified three plate column"
   ]
  },
  {
   "cell_type": "code",
   "execution_count": 2,
   "metadata": {},
   "outputs": [],
   "source": [
    "import numpy\n",
    "from scipy.optimize import fsolve\n",
    "from matplotlib import pyplot as plt\n",
    "import scipy.optimize\n",
    "import scipy.integrate"
   ]
  },
  {
   "cell_type": "code",
   "execution_count": 3,
   "metadata": {},
   "outputs": [],
   "source": [
    "\n",
    "α = 1.5\n",
    "\n",
    "F = 10\n",
    "xF = 0.25\n",
    "D = 0.3*F\n",
    "reflux = 0.9\n",
    "\n",
    "Mc = 0.25\n",
    "Mr = 0.25\n",
    "\n",
    "init = [0.1,0.1,0.1,0.1,0.1,0.1,1,1,1,3]\n",
    "# M_star = 0.1 # nominal holdup \n",
    "# τ = 5\n",
    "# Ltop = 0.3\n",
    "# Lbot = 0.4"
   ]
  },
  {
   "cell_type": "code",
   "execution_count": 4,
   "metadata": {},
   "outputs": [],
   "source": [
    "def model(t,var):\n",
    "    xc,x1,x2,x3,xr,xt,M1,M2,M3,Mt = var\n",
    "    \n",
    "    y1 = x1*α/(1+(α-1)*x1)\n",
    "    y2 = x2*α/(1+(α-1)*x2)\n",
    "    y3 = x3*α/(1+(α-1)*x3)\n",
    "    y4 = xr*α/(1+(α-1)*xr)\n",
    "\n",
    "    L0 = reflux*D\n",
    "    L1 = L0   # assuming flow in top section is constant\n",
    "    L2 = L0 + F # assuming flow in bottom section is constant\n",
    "    L3 = L0 + F\n",
    "    \n",
    "    V1 = F\n",
    "    V2 = V1\n",
    "    V3 = V1\n",
    "    V4 = V1\n",
    "    \n",
    "    B = L3 - V4\n",
    "    \n",
    "    dxcdt = 1/Mc*(y1*V1 - xc*(L0 + D))\n",
    "\n",
    "    dM1dt = V2 - V1 + L0 - L1\n",
    "    \n",
    "    dx1M1dt = y2*V2 - y1*V1 + xc*L0 - x1*L1\n",
    "    dx1dt = 1/M1*(dx1M1dt - x1*dM1dt)\n",
    "\n",
    "    dM2dt = V3 - V2 + L1 - L2 + F\n",
    "    dx2M2dt = y3*V3 - y2*V2 + x1*L1 - x2*L2 + xF*F\n",
    "    dx2dt = 1/M2*(dx2M2dt - x2*dM2dt)\n",
    "\n",
    "    dM3dt = V4 - V3 + L2 - L3\n",
    "    dx3M3dt = y4*V4 - y3*V3 + x2*L2 - x3*L3\n",
    "    dx3dt = 1/M3*(dx3M3dt - x3*dM3dt)\n",
    "\n",
    "    dxrdt = 1/Mr*(x3*L3 - y4*V4 - xr*B)\n",
    "    \n",
    "    dMtdt = F - (B+D)\n",
    "    dMtxtdt = xF*F - (xr*B + xc*D)\n",
    "    dxtdt = 1/Mt*(dMtxtdt - xt*dMtdt)\n",
    "    \n",
    "\n",
    "    return [dxcdt,dx2dt,dx2dt,dx3dt,dxrdt,dxtdt,dM1dt,dM2dt,dM3dt,dMtdt]\n"
   ]
  },
  {
   "cell_type": "code",
   "execution_count": 7,
   "metadata": {},
   "outputs": [
    {
     "name": "stdout",
     "output_type": "stream",
     "text": [
      "0.47622949807096193 0.19898086232021825 0.19898086232021825 0.15857505323288293 0.11962682585319853 0.17293738960667562 1.0 1.0 1.0 45.99999999999999\n"
     ]
    }
   ],
   "source": [
    "xci,x1i,x2i,x3i,xri,xti,M1i,M2i,M3i,Mti = scipy.integrate.solve_ivp(model,tspan,init).y\n",
    "print(xci[-1],x1i[-1],x2i[-1],x3i[-1],xri[-1],xti[-1],M1i[-1],M2i[-1],M3i[-1],Mti[-1])\n"
   ]
  },
  {
   "cell_type": "code",
   "execution_count": 8,
   "metadata": {},
   "outputs": [],
   "source": [
    "tspan = (0, 10)\n",
    "t = numpy.linspace( *tspan, 100)\n",
    "initial_run = scipy.integrate.solve_ivp(model, tspan, init, t_eval=t)"
   ]
  },
  {
   "cell_type": "code",
   "execution_count": 9,
   "metadata": {},
   "outputs": [
    {
     "data": {
      "text/plain": [
       "array([0.1       , 0.34027734, 0.41212363, 0.43968576, 0.45427723,\n",
       "       0.46289963, 0.46807417, 0.47123463, 0.47318313, 0.47435261,\n",
       "       0.47510263, 0.47552846, 0.47578591, 0.4759779 , 0.47606393,\n",
       "       0.4761434 , 0.47617515, 0.4761782 , 0.47622062, 0.47621747,\n",
       "       0.4762258 , 0.47623434, 0.47621756, 0.47623975, 0.47623598,\n",
       "       0.47622633, 0.47624047, 0.47622856, 0.47623727, 0.47624093,\n",
       "       0.4762236 , 0.47623953, 0.47623696, 0.47623186, 0.47624205,\n",
       "       0.47622563, 0.47623583, 0.47624343, 0.47622683, 0.47624006,\n",
       "       0.47623053, 0.4762306 , 0.47624711, 0.47622442, 0.47624749,\n",
       "       0.47623425, 0.47621407, 0.47624321, 0.47622945, 0.47623788,\n",
       "       0.4762383 , 0.47621826, 0.47624268, 0.47623542, 0.47622953,\n",
       "       0.4762405 , 0.47622622, 0.4762392 , 0.47623999, 0.47622429,\n",
       "       0.47624005, 0.47623487, 0.47623389, 0.47624184, 0.47622475,\n",
       "       0.47623702, 0.47624212, 0.47622845, 0.4762406 , 0.47622901,\n",
       "       0.47623213, 0.4762467 , 0.47622538, 0.47623656, 0.47623462,\n",
       "       0.47622669, 0.476248  , 0.47622711, 0.4762334 , 0.47623604,\n",
       "       0.47621541, 0.47624338, 0.47623312, 0.47623321, 0.47623958,\n",
       "       0.47622294, 0.47624094, 0.47623845, 0.47622595, 0.47624024,\n",
       "       0.47623213, 0.47623619, 0.4762413 , 0.4762242 , 0.47623813,\n",
       "       0.47624031, 0.47623055, 0.47624098, 0.47622742, 0.4762295 ])"
      ]
     },
     "execution_count": 9,
     "metadata": {},
     "output_type": "execute_result"
    }
   ],
   "source": [
    "xc,x1,x2,x3,xr,xt,M1,M2,M3,Mt = initial_run.y\n",
    "xc"
   ]
  },
  {
   "cell_type": "code",
   "execution_count": 10,
   "metadata": {},
   "outputs": [
    {
     "data": {
      "text/plain": [
       "<matplotlib.legend.Legend at 0x1f5e91807f0>"
      ]
     },
     "execution_count": 10,
     "metadata": {},
     "output_type": "execute_result"
    },
    {
     "data": {
      "image/png": "[encoded data removed]",
      "text/plain": [
       "<Figure size 432x288 with 1 Axes>"
      ]
     },
     "metadata": {
      "needs_background": "light"
     },
     "output_type": "display_data"
    }
   ],
   "source": [
    "plt.plot(t,xc,label = \"xD\")\n",
    "plt.plot(t,xr,label = \"xB\")\n",
    "plt.legend()"
   ]
  },
  {
   "cell_type": "code",
   "execution_count": 11,
   "metadata": {},
   "outputs": [
    {
     "data": {
      "text/plain": [
       "0.7055008588543595"
      ]
     },
     "execution_count": 11,
     "metadata": {},
     "output_type": "execute_result"
    },
    {
     "data": {
      "image/png": "[encoded data removed]",
      "text/plain": [
       "<Figure size 432x288 with 1 Axes>"
      ]
     },
     "metadata": {
      "needs_background": "light"
     },
     "output_type": "display_data"
    }
   ],
   "source": [
    "L0 = reflux*D\n",
    "L1 = L0   # assuming flow in top section is constant\n",
    "L2 = L0 + F # assuming flow in bottom section is constant\n",
    "L3 = L0 + F\n",
    "\n",
    "V1 = F\n",
    "V2 = V1\n",
    "V3 = V1\n",
    "V4 = V1\n",
    "\n",
    "accum = xF*F - xr*(L3-V4) - xc*D \n",
    "accum1 = (xc*Mc+x1*M1+x2*M2+x3*M3+xr*Mr)\n",
    "plt.plot(t,accum,label = \"mass balance\")\n",
    "plt.plot(t,accum1,label = \"accumulation\")\n",
    "plt.legend()\n",
    "accum1[-1]\n"
   ]
  },
  {
   "cell_type": "code",
   "execution_count": 20,
   "metadata": {},
   "outputs": [
    {
     "data": {
      "text/plain": [
       "6.161092096320438"
      ]
     },
     "execution_count": 20,
     "metadata": {},
     "output_type": "execute_result"
    }
   ],
   "source": [
    "L0 = reflux*D\n",
    "L1 = L0  # assuming flow in top section is constant\n",
    "L2 = L0 + F # assuming flow in bottom section is constant\n",
    "L3 = L0 + F\n",
    "\n",
    "V1 = F\n",
    "V2 = V1\n",
    "V3 = V1\n",
    "V4 = V1\n",
    "B = L3 - V4\n",
    "\n",
    "dMtxtdt = xF*F - (xr*B + xc*D)\n",
    "numpy.trapz(dMtxtdt,t)-0.1*15"
   ]
  },
  {
   "cell_type": "code",
   "execution_count": 21,
   "metadata": {},
   "outputs": [],
   "source": [
    "integral = []\n",
    "for i in range(1,len(t)+1):\n",
    "    dMtxtdt = xF*F - (xr[0:i]*B + xc[0:i]*D)\n",
    "    integral.append(numpy.trapz(dMtxtdt,t[0:i])-0.1*3)"
   ]
  },
  {
   "cell_type": "code",
   "execution_count": 22,
   "metadata": {},
   "outputs": [
    {
     "data": {
      "text/plain": [
       "<matplotlib.legend.Legend at 0x1496d25c668>"
      ]
     },
     "execution_count": 22,
     "metadata": {},
     "output_type": "execute_result"
    },
    {
     "data": {
      "image/png": "[encoded data removed]",
      "text/plain": [
       "<Figure size 432x288 with 1 Axes>"
      ]
     },
     "metadata": {
      "needs_background": "light"
     },
     "output_type": "display_data"
    }
   ],
   "source": [
    "accum = xF*F - xr*(reflux*D + D) - xc*D \n",
    "# accum1 = (xc*Mc+x1*M1+x2*M2+x3*M3+xr*Mr)\n",
    "plt.plot(t,integral,label = \"mass balance\")\n",
    "plt.plot(t,accum1,label = \"accumulation\")\n",
    "plt.legend()\n"
   ]
  },
  {
   "cell_type": "code",
   "execution_count": null,
   "metadata": {},
   "outputs": [],
   "source": []
  }
 ],
 "metadata": {
  "kernelspec": {
   "display_name": "Python 3",
   "language": "python",
   "name": "python3"
  },
  "language_info": {
   "codemirror_mode": {
    "name": "ipython",
    "version": 3
   },
   "file_extension": ".py",
   "mimetype": "text/x-python",
   "name": "python",
   "nbconvert_exporter": "python",
   "pygments_lexer": "ipython3",
   "version": "3.7.3"
  }
 },
 "nbformat": 4,
 "nbformat_minor": 2
}
