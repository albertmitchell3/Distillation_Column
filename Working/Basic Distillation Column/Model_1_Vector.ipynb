{
 "cells": [
  {
   "cell_type": "code",
   "execution_count": 1,
   "metadata": {},
   "outputs": [],
   "source": [
    "import numpy as np\n",
    "import sympy\n",
    "from matplotlib import pyplot as plt\n",
    "import scipy\n",
    "import scipy.optimize\n",
    "import scipy.integrate\n",
    "import CoolProp\n",
    "import CoolProp.CoolProp as CP\n",
    "import pandas as pd\n",
    "from scipy.stats.mstats import gmean"
   ]
  },
  {
   "cell_type": "markdown",
   "metadata": {},
   "source": [
    "## Assumptions:\n",
    "\n",
    "1. Constant liquid hold up on each plate \n",
    "2. Constant liquid flow in each of the three sections of the column\n",
    "3. Constant vapour flow in the column\n",
    "4. No vapour holdup in the column\n",
    "5. Constant hold up in reboiler and condenser\n",
    "6. Constant relative volatility"
   ]
  },
  {
   "cell_type": "code",
   "execution_count": 2,
   "metadata": {},
   "outputs": [],
   "source": [
    "def rel_vol(xi):\n",
    "    \n",
    "    xi = np.asarray(xi)\n",
    "    x= np.asarray([ 0.019, 0.0721, 0.0966, 0.1238, 0.1661, 0.2337, 0.2608, \n",
    "              0.3273, 0.3965, 0.5079, 0.5198, 0.5732, 0.6763, 0.7472, 0.8943])\n",
    "    y = np.asarray([ 0.170, 0.3891, 0.4375, 0.4704, 0.5089, 0.5445, 0.5580, \n",
    "              0.5826, 0.6122, 0.6564, 0.6599, 0.6841, 0.7385, 0.7815, 0.8943])\n",
    "    \n",
    "    αi = (y*(1-x))/(x*(1-y))\n",
    "    α = gmean(αi)\n",
    "    xi = (α*xi)/(1+(α-1)*xi)\n",
    "    \n",
    "    return xi"
   ]
  },
  {
   "cell_type": "code",
   "execution_count": 3,
   "metadata": {},
   "outputs": [],
   "source": [
    "def vle_data(xi):\n",
    "    \n",
    "    x_data = [0, 0.019, 0.0721, 0.0966, 0.1238, 0.1661, 0.2337, 0.2608, \n",
    "              0.3273, 0.3965, 0.5079, 0.5198, 0.5732, 0.6763, 0.7472, 0.8943, 1]\n",
    "    y_data = [0, 0.170, 0.3891, 0.4375, 0.4704, 0.5089, 0.5445, 0.5580, \n",
    "              0.5826, 0.6122, 0.6564, 0.6599, 0.6841, 0.7385, 0.7815, 0.8943, 1]\n",
    "    T_data = [100,95.5,89,86.7,85.3,84.1,82.7,82.3,81.5,80.7,79.8,79.7,79.3,\n",
    "             78.74,78.41,78.15,78.30]\n",
    "    x = np.interp(xi,x_data, y_data)\n",
    "    T = np.interp(xi,x_data,T_data)\n",
    "    return x,T"
   ]
  },
  {
   "cell_type": "code",
   "execution_count": 13,
   "metadata": {},
   "outputs": [],
   "source": [
    "def feed_vector(plates,feedplate,feed,reflux,boilup):\n",
    "    \n",
    "    L1 = R_r*D\n",
    "    V = L1 + D\n",
    "    L2 = F + L1\n",
    "    \n",
    "    R = V - L1\n",
    "    BU = L2 - V\n",
    "    \n",
    "    feed_vec1 = np.zeros(plates)\n",
    "    feed_vec2 = np.zeros(plates)\n",
    "    flow_vec_top = np.zeros(plates)\n",
    "    flow_vec_bot = np.zeros(plates)\n",
    "    \n",
    "    flow_vec_top[0:feedplate] = L1\n",
    "    flow_vec_top[feedplate:] = L2\n",
    "    \n",
    "    flow_vec_bot[0:feedplate-1] = L1\n",
    "    flow_vec_bot[feedplate-1:] = L2\n",
    "    \n",
    "    feed_vec1[feedplate-1] = feed\n",
    "    feed_vec2[0] = R\n",
    "    feed_vec2[-1] = BU\n",
    "    \n",
    "    return np.asarray([flow_vec_top,flow_vec_bot,feed_vec1,feed_vec2])"
   ]
  },
  {
   "cell_type": "code",
   "execution_count": 14,
   "metadata": {},
   "outputs": [
    {
     "data": {
      "text/plain": [
       "array([[0.3, 0.3, 0.3, 0.3, 1.3, 1.3, 1.3, 1.3, 1.3, 1.3, 1.3, 1.3],\n",
       "       [0.3, 0.3, 0.3, 1.3, 1.3, 1.3, 1.3, 1.3, 1.3, 1.3, 1.3, 1.3],\n",
       "       [0. , 0. , 0. , 1. , 0. , 0. , 0. , 0. , 0. , 0. , 0. , 0. ],\n",
       "       [0.5, 0. , 0. , 0. , 0. , 0. , 0. , 0. , 0. , 0. , 0. , 0.5]])"
      ]
     },
     "execution_count": 14,
     "metadata": {},
     "output_type": "execute_result"
    }
   ],
   "source": [
    "feed_vector(12,4,1,2,3)"
   ]
  },
  {
   "cell_type": "code",
   "execution_count": 15,
   "metadata": {},
   "outputs": [],
   "source": [
    "def comp_vector(xi,yi):\n",
    "    \n",
    "    xi = np.asarray(xi)\n",
    "    yi = np.asarray(yi)\n",
    "    \n",
    "    xi1 = np.copy(xi)\n",
    "    xi1 = np.roll(xi1, 1)\n",
    "    xi1[0] = 0\n",
    "    \n",
    "    xi2 = np.copy(xi)\n",
    "    xi2[-1] = 0\n",
    "    \n",
    "    yi1 = np.copy(yi)\n",
    "    yi1 = np.roll(yi1, -1)\n",
    "    yi1[-1] = 0\n",
    "    \n",
    "    yi2 = np.copy(yi)\n",
    "    yi2[0] = 0\n",
    "    \n",
    "    \n",
    "    return np.asarray([xi1,xi2]),np.asarray([yi1,yi2])"
   ]
  },
  {
   "cell_type": "code",
   "execution_count": 16,
   "metadata": {},
   "outputs": [
    {
     "ename": "TypeError",
     "evalue": "comp_vector() missing 1 required positional argument: 'yi'",
     "output_type": "error",
     "traceback": [
      "\u001b[1;31m---------------------------------------------------------------------------\u001b[0m",
      "\u001b[1;31mTypeError\u001b[0m                                 Traceback (most recent call last)",
      "\u001b[1;32m<ipython-input-16-5cbb2fcbacf3>\u001b[0m in \u001b[0;36m<module>\u001b[1;34m\u001b[0m\n\u001b[1;32m----> 1\u001b[1;33m \u001b[0mcomp_vector\u001b[0m\u001b[1;33m(\u001b[0m\u001b[1;33m[\u001b[0m\u001b[1;36m0.1\u001b[0m\u001b[1;33m,\u001b[0m \u001b[1;36m0.1\u001b[0m\u001b[1;33m,\u001b[0m \u001b[1;36m0.1\u001b[0m\u001b[1;33m,\u001b[0m \u001b[1;36m0.1\u001b[0m\u001b[1;33m,\u001b[0m \u001b[1;36m0.1\u001b[0m\u001b[1;33m,\u001b[0m \u001b[1;36m0.1\u001b[0m\u001b[1;33m,\u001b[0m \u001b[1;36m0.1\u001b[0m\u001b[1;33m,\u001b[0m \u001b[1;36m0.1\u001b[0m\u001b[1;33m,\u001b[0m \u001b[1;36m0.1\u001b[0m\u001b[1;33m,\u001b[0m \u001b[1;36m0.1\u001b[0m\u001b[1;33m,\u001b[0m \u001b[1;36m0.1\u001b[0m\u001b[1;33m,\u001b[0m \u001b[1;36m0.1\u001b[0m\u001b[1;33m]\u001b[0m\u001b[1;33m)\u001b[0m\u001b[1;33m\u001b[0m\u001b[1;33m\u001b[0m\u001b[0m\n\u001b[0m",
      "\u001b[1;31mTypeError\u001b[0m: comp_vector() missing 1 required positional argument: 'yi'"
     ]
    }
   ],
   "source": [
    "comp_vector([0.1, 0.1, 0.1, 0.1, 0.1, 0.1, 0.1, 0.1, 0.1, 0.1, 0.1, 0.1])"
   ]
  },
  {
   "cell_type": "code",
   "execution_count": 17,
   "metadata": {},
   "outputs": [],
   "source": [
    "def holdup_vector(plates,feedplate, m_cond,m_tray,m_rebl):\n",
    "    holdup_vec = np.zeros(plates)\n",
    "    \n",
    "    holdup_vec[0] = m_cond\n",
    "    holdup_vec[-1] = m_rebl\n",
    "    holdup_vec[1:plates-1] = m_tray\n",
    "    \n",
    "    return holdup_vec"
   ]
  },
  {
   "cell_type": "code",
   "execution_count": 18,
   "metadata": {},
   "outputs": [
    {
     "data": {
      "text/plain": [
       "array([0.15, 0.2 , 0.2 , 0.2 , 0.2 , 0.2 , 0.2 , 0.2 , 0.2 , 0.2 , 0.2 ,\n",
       "       0.45])"
      ]
     },
     "execution_count": 18,
     "metadata": {},
     "output_type": "execute_result"
    }
   ],
   "source": [
    "holdup_vector(12,4, 0.15, 0.2,0.45)"
   ]
  },
  {
   "cell_type": "code",
   "execution_count": 95,
   "metadata": {},
   "outputs": [],
   "source": [
    "def mass_DE(t, x):\n",
    "    \n",
    "    xi = np.asarray(x)\n",
    "    yi,_ = vle_data(xi)\n",
    "#     yi = rel_vol(xi)\n",
    "    \n",
    "    if t<12:\n",
    "        R_r = 0.6\n",
    "    else:\n",
    "        R_r = 1\n",
    "    \n",
    "    if t<10:\n",
    "        xF = 0.5\n",
    "    else:\n",
    "        xF = 0.38\n",
    "    \n",
    "    L1 = R_r*D\n",
    "    V = L1 + D\n",
    "    L2 = F + L1\n",
    "    \n",
    "    R = V - L1\n",
    "    BU = L2 - V\n",
    "    \n",
    "    \n",
    "    \n",
    "    flow1, flow2, feed1, feed2 = feed_vector(plates,feedplate, F, R, BU)\n",
    "    x1, y1 = comp_vector(xi,yi)\n",
    "    holdup_vec = holdup_vector(plates,feedplate, m_cond,m_tray,m_rebl)\n",
    "    \n",
    "    dxdt = 1/holdup_vec * (V*(y1[0] - y1[1]) + flow1*x1[0] - flow2*x1[1] + feed1*xF  - feed2*xi)\n",
    "                     \n",
    "    return dxdt"
   ]
  },
  {
   "cell_type": "code",
   "execution_count": 96,
   "metadata": {},
   "outputs": [],
   "source": [
    "# plates is the number of total plates + 2 (for the reboiler and condenser)\n",
    "# feedplate is the plate number the feed occurs on\n",
    "# x_initial is an array with the initial column states\n",
    "\n",
    "plates = 12\n",
    "feedplate = 4"
   ]
  },
  {
   "cell_type": "markdown",
   "metadata": {},
   "source": [
    "## Inputs to calculate intial state"
   ]
  },
  {
   "cell_type": "markdown",
   "metadata": {},
   "source": [
    "### Input variables\n",
    "\n",
    "1. $F_3$ - Feed flow rate on plate 3\n",
    "2. $F_7$ - Feed flow rate on plate 7\n",
    "3. $x_F$ - Feed liquid composition\n",
    "4. $Rr$ - Reflux ratio\n",
    "5. $D_F$ - Distillate to feed ratio\n",
    "\n",
    "### Parameters\n",
    "\n",
    "1. $\\alpha$ - Relative volatility\n",
    "2. $m_{tray}$ - holdup on each tray\n",
    "2. $m_{cond}$ - holdup in the total condenser\n",
    "2. $m_{rebl}$ - holdup in the partial reboiler"
   ]
  },
  {
   "cell_type": "code",
   "execution_count": 97,
   "metadata": {},
   "outputs": [],
   "source": [
    "init = np.array([0.1, 0.1, 0.1, 0.1, 0.1, 0.1, 0.1, 0.1, 0.1, 0.1, 0.1, 0.1])\n",
    "\n",
    "F = 1 # Feed on plate 3\n",
    "D =0.5\n",
    "xF = 0.5 # mole fraction in feed\n",
    "R_r = 0.6 # reflux ratio\n",
    "m_cond = 0.15 # holdup in condenser\n",
    "m_tray = 0.2 # holdup on each tray\n",
    "m_rebl = 0.45 # holdup in reboiler"
   ]
  },
  {
   "cell_type": "code",
   "execution_count": 98,
   "metadata": {},
   "outputs": [
    {
     "data": {
      "text/plain": [
       "array([ 1.82193333,  0.        ,  0.        ,  2.        ,  0.        ,\n",
       "        0.        ,  0.        ,  0.        ,  0.        ,  0.        ,\n",
       "        0.        , -0.60731111])"
      ]
     },
     "execution_count": 98,
     "metadata": {},
     "output_type": "execute_result"
    }
   ],
   "source": [
    "mass_DE(0,init)"
   ]
  },
  {
   "cell_type": "code",
   "execution_count": 99,
   "metadata": {},
   "outputs": [],
   "source": [
    "tspan = (0,50)\n",
    "t = np.linspace( *tspan, 100)\n",
    "initial_run = scipy.integrate.solve_ivp(mass_DE, tspan, init, t_eval=t)"
   ]
  },
  {
   "cell_type": "code",
   "execution_count": 100,
   "metadata": {},
   "outputs": [
    {
     "name": "stdout",
     "output_type": "stream",
     "text": [
      "[[1.00000000e-01 4.93464493e-01 5.88721628e-01 ... 7.59999974e-01\n",
      "  7.59999972e-01 7.59999974e-01]\n",
      " [1.00000000e-01 2.49612556e-01 3.95943737e-01 ... 3.86681007e-01\n",
      "  3.86681047e-01 3.86681012e-01]\n",
      " [1.00000000e-01 2.39553969e-01 3.60516008e-01 ... 1.51931894e-01\n",
      "  1.51931180e-01 1.51931778e-01]\n",
      " ...\n",
      " [1.00000000e-01 7.91789683e-03 1.48234697e-03 ... 7.10946655e-07\n",
      "  9.61979948e-07 7.23411659e-07]\n",
      " [1.00000000e-01 2.83247574e-03 2.66600460e-04 ... 2.74155548e-07\n",
      "  1.47098460e-07 2.69797027e-07]\n",
      " [1.00000000e-01 1.15965106e-03 4.73728120e-05 ... 2.74584162e-08\n",
      "  2.88418765e-08 2.79046185e-08]]\n"
     ]
    }
   ],
   "source": [
    "x = initial_run.y\n",
    "# xi = [x0s[-1],x1s[-1],x2s[-1],x3s[-1],x4s[-1],x5s[-1],x6s[-1],x7s[-1],x8s[-1],x9s[-1],x10s[-1],x11s[-1]]\n",
    "print(x)"
   ]
  },
  {
   "cell_type": "code",
   "execution_count": 101,
   "metadata": {},
   "outputs": [
    {
     "data": {
      "image/png": "[encoded data removed]",
      "text/plain": [
       "<Figure size 432x288 with 1 Axes>"
      ]
     },
     "metadata": {
      "needs_background": "light"
     },
     "output_type": "display_data"
    }
   ],
   "source": [
    "pd.DataFrame(x)\n",
    "\n",
    "plt.figure(1)\n",
    "plt.title(\"Initial steady state calculation\")\n",
    "\n",
    "for i in range(len(initial_run.y)) :\n",
    "    plt.plot(t,initial_run.y[i], label=\"x{}\".format(i))\n",
    "    \n",
    "plt.xlabel(\"Time [min]\")\n",
    "plt.ylabel(\"Composition [$x_{eth}$]\")\n",
    "plt.legend(loc = \"upper right\")\n",
    "\n",
    "plt.savefig(\"Basic_distillation_column_V3.svg\")\n",
    "\n",
    "\n",
    "a = np.c_[ x.T, initial_run.t ]     \n",
    "df = pd.DataFrame(a,  columns=['x0', 'x1', 'x2', 'x3', 'x4', 'x5', 'x6', 'x7', 'x8', 'x9', 'x10', 'x11', 'Time'])\n",
    "# df.to_csv(\"model_1_vle.csv\")"
   ]
  },
  {
   "cell_type": "code",
   "execution_count": 102,
   "metadata": {},
   "outputs": [
    {
     "data": {
      "text/plain": [
       "(array([-0.2,  0. ,  0.2,  0.4,  0.6,  0.8,  1. ]),\n",
       " <a list of 7 Text yticklabel objects>)"
      ]
     },
     "execution_count": 102,
     "metadata": {},
     "output_type": "execute_result"
    },
    {
     "data": {
      "image/png": "[encoded data removed]",
      "text/plain": [
       "<Figure size 432x288 with 1 Axes>"
      ]
     },
     "metadata": {
      "needs_background": "light"
     },
     "output_type": "display_data"
    },
    {
     "data": {
      "image/png": "[encoded data removed]",
      "text/plain": [
       "<Figure size 432x288 with 1 Axes>"
      ]
     },
     "metadata": {
      "needs_background": "light"
     },
     "output_type": "display_data"
    }
   ],
   "source": [
    "df = pd.DataFrame()\n",
    "\n",
    "plt.figure(3)\n",
    "val = np.arange(1,13)\n",
    "xval = initial_run.y[0:12,-1]\n",
    "plt.plot(val,xval,\"ko\")\n",
    "plt.xlabel(\"Plate\", fontsize=12)\n",
    "plt.ylabel(\"Composition \", fontsize=12)\n",
    "plt.xlim([0,13])\n",
    "# plt.ylim([0,1])\n",
    "plt.xticks(fontsize=12)\n",
    "plt.yticks(fontsize=12)\n",
    "# plt.savefig(\"Model_1_ideal_vle_stageplot.svg\")\n",
    "\n",
    "\n",
    "plt.figure(4)\n",
    "plt.plot(t,initial_run.y[0],\"b--\",label = \"$x_D$\")\n",
    "plt.plot(t,initial_run.y[3],\"r-.\",label = \"$x_3$\")\n",
    "plt.plot(t,initial_run.y[11],\"k-\",label =\"$x_B$\")\n",
    "plt.legend(loc = 1,fontsize=12)\n",
    "plt.xlabel(\"Time / min\", fontsize=12)\n",
    "plt.ylabel(\"Composition \", fontsize=12)\n",
    "plt.xlim([0,50])\n",
    "# plt.ylim([0,1])\n",
    "plt.xticks(fontsize=12)\n",
    "plt.yticks(fontsize=12)\n",
    "# plt.savefig(\"Model_1_ideal_vle.svg\")"
   ]
  },
  {
   "cell_type": "code",
   "execution_count": null,
   "metadata": {},
   "outputs": [],
   "source": [
    "x_ss = [0.71332218, 0.62858247, 0.56756165, 0.51559062, 0.51558868, 0.51557352,\n",
    "        0.51550557, 0.51508155, 0.51288654, 0.50231758, 0.4596435,  0.28665376]\n",
    "y_ss,T_ss = vle_data(x_ss)\n",
    "steady_state = pd.DataFrame({'x_ss':x_ss, 'y_ss':y_ss, 'T_ss':T_ss})\n",
    "steady_state"
   ]
  },
  {
   "cell_type": "code",
   "execution_count": null,
   "metadata": {},
   "outputs": [],
   "source": [
    "init= [0.71332218, 0.62858247, 0.56756165, 0.51559062, 0.51558868, 0.51557352,\n",
    "        0.51550557, 0.51508155, 0.51288654, 0.50231758, 0.4596435,  0.28665376]"
   ]
  },
  {
   "cell_type": "code",
   "execution_count": null,
   "metadata": {},
   "outputs": [],
   "source": [
    "mass_DE(0,init)"
   ]
  },
  {
   "cell_type": "code",
   "execution_count": null,
   "metadata": {},
   "outputs": [],
   "source": []
  }
 ],
 "metadata": {
  "kernelspec": {
   "display_name": "Python 3",
   "language": "python",
   "name": "python3"
  },
  "language_info": {
   "codemirror_mode": {
    "name": "ipython",
    "version": 3
   },
   "file_extension": ".py",
   "mimetype": "text/x-python",
   "name": "python",
   "nbconvert_exporter": "python",
   "pygments_lexer": "ipython3",
   "version": "3.7.3"
  }
 },
 "nbformat": 4,
 "nbformat_minor": 2
}
