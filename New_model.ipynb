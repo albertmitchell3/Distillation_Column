{
 "cells": [
  {
   "cell_type": "code",
   "execution_count": 7,
   "metadata": {},
   "outputs": [],
   "source": [
    "import numpy\n",
    "from scipy.optimize import fsolve\n",
    "from matplotlib import pyplot as plt\n",
    "import scipy\n",
    "import scipy.optimize\n",
    "import scipy.integrate"
   ]
  },
  {
   "cell_type": "markdown",
   "metadata": {},
   "source": [
    "## Input variables"
   ]
  },
  {
   "cell_type": "code",
   "execution_count": null,
   "metadata": {},
   "outputs": [],
   "source": [
    "F = 1\n",
    "xF = 0.25\n",
    "α = 1.5"
   ]
  },
  {
   "cell_type": "markdown",
   "metadata": {},
   "source": [
    "## Model "
   ]
  },
  {
   "cell_type": "code",
   "execution_count": null,
   "metadata": {},
   "outputs": [],
   "source": [
    "def vol(xi):\n",
    "    return xi*α/(1+(α-1)*xi)"
   ]
  },
  {
   "cell_type": "code",
   "execution_count": 27,
   "metadata": {},
   "outputs": [],
   "source": [
    "def model(t,var):\n",
    "    \n",
    "    x1,x1,x2,x3,x4,x5,x6,x7,x8,x9,x10x11,x12,M1,M2,M3,M4,M5,M6,M6,M7,M8,M9,M10,M11,M12 = var\n",
    "    \n",
    "    y1 = vol(x1)\n",
    "    y2 = vol(x2)\n",
    "    y3 = vol(x3)\n",
    "    y4 = vol(x4)\n",
    "    y5 = vol(x5)\n",
    "    y6 = vol(x6)\n",
    "    y7 = vol(x7)\n",
    "    y8 = vol(x8)\n",
    "    y9 = vol(x9)\n",
    "    y10 = vol(x10)\n",
    "    y11 = vol(x11)\n",
    "    y11 = vol(x12)\n",
    "    \n",
    "    # Total Material Balances\n",
    "    \n",
    "    # Reboiler\n",
    "    dM1dt = L2 - V1 - B    \n",
    "    \n",
    "    dM2dt = L3 - L2 + V1 - V2\n",
    "    dM3dt = L4 - L3 + V2 - V3\n",
    "    dM4dt = L5 - L4 + V3 - V4\n",
    "    dM5dt = L6 - L5 + V4 - V5\n",
    "    dM6dt = L7 - L6 + V5 - V6\n",
    "    dM7dt = L8 - L7 + V6 - V7\n",
    "    dM8dt = L9 - L8 + V7 - V8\n",
    "    \n",
    "    # Feed stage 3\n",
    "    dM9dt = L10 - L9 + V8 - V9 + F \n",
    "    \n",
    "    dM10dt = L11 - L10 + V9 - V10\n",
    "    dM11dt = L12 - L11 + V10 - V11\n",
    "    \n",
    "    #Condenser\n",
    "    dM12dt = V11 - L12 - D   \n",
    "    \n",
    "    \n",
    "    # Component Material Balances\n",
    "    \n",
    "    # Reboiler\n",
    "    dx1M1dt = x2*L2 - y1*V1 - x1*B    \n",
    "    \n",
    "    dx2M2dt = x3*L3 - x2*L2 + y1*V1 - y2*V2\n",
    "    dx3M3dt = x4*L4 - x3*L3 + y2*V2 - y3*V3\n",
    "    dx4M4dt = x5*L5 - x4*L4 + y3*V3 - y4*V4\n",
    "    dx5M5dt = x6*L6 - x5*L5 + y4*V4 - y5*V5\n",
    "    dx6M6dt = x7*L7 - x6*L6 + y5*V5 - y6*V6\n",
    "    dx7M7dt = x8*L8 - x7*L7 + y6*V6 - y7*V7\n",
    "    dx8M8dt = x9*L9 - x8*L8 + y7*V7 - y8*V8\n",
    "    \n",
    "    # Feed stage 3\n",
    "    dx9M9dt = x10*L10 - x9*L9 + y8*V8 - y9*V9 + xF*F \n",
    "    \n",
    "    dx10M10dt = x11*L11 - x10*L10 + y9*V9 - y10*V10\n",
    "    dx11M11dt = x12*L12 - x11*L11 + y10*V10 - y11*V11\n",
    "    \n",
    "    #Condenser\n",
    "    dx12M12dt = y11*V11 - x12*(L12 + D)\n",
    "    \n",
    "    \n",
    "    # Composition DEs\n",
    "    \n",
    "    dx1dt = (1/M1)*(dx1M1dt - x1*dM1dt)\n",
    "    dx2dt = (1/M2)*(dx2M2dt - x2*dM2dt)\n",
    "    dx3dt = (1/M3)*(dx3M3dt - x3*dM3t)\n",
    "    dx4dt = (1/M4)*(dx4M4dt - x4*dM4dt)\n",
    "    dx5dt = (1/M5)*(dx5M5dt - x5*dM5dt)\n",
    "    dx6dt = (1/M6)*(dx6M6dt - x6*dM6dt)\n",
    "    dx7dt = (1/M7)*(dx7M7dt - x7*dM7dt)\n",
    "    dx8dt = (1/M8)*(dx8M8dt - x8*dM8dt)\n",
    "    dx9dt = (1/M9)*(dx9M9dt - x9*dM9dt)\n",
    "    dx10dt = (1/M10)*(dx01M10dt - x10*dM10dt)\n",
    "    dx11dt = (1/M11)*(dx11M11dt - x11*dM11dt)\n",
    "    dx12dt = (1/M12)*(dx12M12dt - x12*dM12dt)\n",
    "    \n",
    "    return [dx1dt,dx2dt,dx3dt,dx4dt,dx5dt,dx6dt,dx7dt,dx8dt,dx9dt,dx10d,dx11d,dx12d,\n",
    "            dM1dt,dM2dt,dM3dt,dM4dt,dM5dt,dM6dt,dM7dt,dM8dt,dM9dt,dM10d,dM11d,dM12dt]\n",
    "\n"
   ]
  },
  {
   "cell_type": "markdown",
   "metadata": {},
   "source": [
    "## Initial conditions"
   ]
  },
  {
   "cell_type": "code",
   "execution_count": null,
   "metadata": {},
   "outputs": [],
   "source": []
  },
  {
   "cell_type": "markdown",
   "metadata": {},
   "source": [
    "## Solution "
   ]
  },
  {
   "cell_type": "code",
   "execution_count": null,
   "metadata": {},
   "outputs": [],
   "source": []
  },
  {
   "cell_type": "markdown",
   "metadata": {},
   "source": [
    "# Gekko Solution"
   ]
  },
  {
   "cell_type": "code",
   "execution_count": 55,
   "metadata": {},
   "outputs": [],
   "source": [
    "F = 2\n",
    "xF = 0.25\n",
    "D_F_ratio = 0.4\n",
    "\n",
    "# L_star = 1\n",
    "# M1_star = 0.3\n",
    "# M2_star, M3_star, M4_star = [0.1,0.1,0.1]\n",
    "\n",
    "τ = 0.5\n",
    "V = 0.3\n",
    "α = 1.8\n",
    "V = 0.4\n",
    "V1 = V\n",
    "V2 = V\n",
    "V3 = V\n",
    "V4 = V\n",
    "reflux = 0.5\n",
    "\n",
    "init = [0.1,0.1,0.1,0.1,0.1,0.1,0.25,0.25,0.25,0.25]"
   ]
  },
  {
   "cell_type": "code",
   "execution_count": 56,
   "metadata": {},
   "outputs": [],
   "source": [
    "def basic(t,var):\n",
    "    x1,x2,x3,x4,x5,M1,M2,M3,M4,M5 = var\n",
    "    \n",
    "    D = D_F_ratio*(F)\n",
    "    L5 = reflux*D\n",
    "    L4 = L5\n",
    "    L3 = F\n",
    "    L2 = L3+ L5\n",
    "    L1 = L3+ L5\n",
    "    \n",
    "    V = L5 + D\n",
    "    B = L1 - V\n",
    "    \n",
    "    y1 = x1*α/(1+(α-1)*x1)\n",
    "    y2 = x2*α/(1+(α-1)*x2)\n",
    "    y3 = x3*α/(1+(α-1)*x3)\n",
    "    y4 = x4*α/(1+(α-1)*x4)\n",
    "    y5 = x5*α/(1+(α-1)*x5)\n",
    "    \n",
    "    dM1dt = L2 - V1 - B   \n",
    "    dM2dt = L3- L2 + V1 - V2\n",
    "    dM3dt = L4 - L3 + V2 - V3 + F\n",
    "    dM4dt = L5 - L4 + V3 - V4\n",
    "    dM5dt = V4 - L5 - D\n",
    "    \n",
    "    dx1M1dt = x2*L2 - y1*V1 - x1*B   \n",
    "    dx2M2dt = x3*L3- x2*L2 + y1*V1 - y2*V2\n",
    "    dx3M3dt = x4*L4 - x3*L3 + y2*V2 - y3*V3 + xF*F\n",
    "    dx4M4dt = x5*L5 - x4*L4 + y3*V3 - y4*V4\n",
    "    dx5M5dt = y4*V4 - x5*(L5 - D)\n",
    "    \n",
    "    dx1dt = 1/M1*(dx1M1dt - x1*dM1dt)\n",
    "    dx2dt = 1/M2*(dx2M2dt - x2*dM2dt)\n",
    "    dx3dt = 1/M3*(dx3M3dt - x3*dM3dt)\n",
    "    dx4dt = 1/M4*(dx4M4dt - x4*dM4dt)\n",
    "    dx5dt = 1/M5*(dx5M5dt - x5*dM5dt)\n",
    "    \n",
    "    return [dx1dt,dx2dt,dx3dt,dx4dt,dx5dt,dM1dt,dM2dt,dM3dt,dM4dt,dM5dt]"
   ]
  },
  {
   "cell_type": "code",
   "execution_count": 57,
   "metadata": {},
   "outputs": [],
   "source": [
    "tspan = (0, 100)\n",
    "t = numpy.linspace( *tspan, 100)\n",
    "initial_run = scipy.integrate.solve_ivp(basic, tspan, init, t_eval=t)"
   ]
  },
  {
   "cell_type": "code",
   "execution_count": 58,
   "metadata": {},
   "outputs": [],
   "source": [
    "x1,x2,x3,x4,x5,M1,M2,M3,M4,M5 = initial_run.y"
   ]
  },
  {
   "cell_type": "code",
   "execution_count": 59,
   "metadata": {},
   "outputs": [
    {
     "name": "stdout",
     "output_type": "stream",
     "text": [
      "[0.1]\n"
     ]
    }
   ],
   "source": [
    "print(x1)"
   ]
  },
  {
   "cell_type": "code",
   "execution_count": 54,
   "metadata": {},
   "outputs": [
    {
     "data": {
      "text/plain": [
       "[-0.17142857142857182,\n",
       " 5.551115123125783e-17,\n",
       " 1.2,\n",
       " 0.0,\n",
       " 0.7085714285714287,\n",
       " 0.8000000000000003,\n",
       " -0.3999999999999999,\n",
       " 0.3999999999999999,\n",
       " 0.0,\n",
       " -0.8]"
      ]
     },
     "execution_count": 54,
     "metadata": {},
     "output_type": "execute_result"
    }
   ],
   "source": [
    "basic(0,init)"
   ]
  },
  {
   "cell_type": "code",
   "execution_count": null,
   "metadata": {},
   "outputs": [],
   "source": []
  }
 ],
 "metadata": {
  "kernelspec": {
   "display_name": "Python 3",
   "language": "python",
   "name": "python3"
  },
  "language_info": {
   "codemirror_mode": {
    "name": "ipython",
    "version": 3
   },
   "file_extension": ".py",
   "mimetype": "text/x-python",
   "name": "python",
   "nbconvert_exporter": "python",
   "pygments_lexer": "ipython3",
   "version": "3.7.3"
  }
 },
 "nbformat": 4,
 "nbformat_minor": 2
}
