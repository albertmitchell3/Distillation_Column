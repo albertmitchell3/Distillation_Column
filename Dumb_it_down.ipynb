{
 "cells": [
  {
   "cell_type": "code",
   "execution_count": 99,
   "metadata": {},
   "outputs": [],
   "source": [
    "α = 1.5"
   ]
  },
  {
   "cell_type": "code",
   "execution_count": 105,
   "metadata": {},
   "outputs": [],
   "source": [
    "init = [0.1,0.1,0.1,0.1,0.1,0.01,0.01,0.01,0.01,0.01,0]"
   ]
  },
  {
   "cell_type": "code",
   "execution_count": 106,
   "metadata": {},
   "outputs": [],
   "source": [
    "import numpy\n",
    "from scipy.optimize import fsolve\n",
    "from matplotlib import pyplot as plt\n",
    "import scipy\n",
    "import scipy.optimize\n",
    "import scipy.integrate"
   ]
  },
  {
   "cell_type": "code",
   "execution_count": 119,
   "metadata": {},
   "outputs": [],
   "source": [
    "M_star = 0.1\n",
    "τ = 2\n",
    "Ltop = 0.3\n",
    "Lbot = 0.4\n",
    "F = 5\n",
    "xF = 0.5\n",
    "D = 0.3*F\n",
    "reflux = 0.9\n",
    "B_list = []\n"
   ]
  },
  {
   "cell_type": "code",
   "execution_count": 120,
   "metadata": {},
   "outputs": [],
   "source": [
    "def model(t,var):\n",
    "    xc,x1,x2,x3,xr,Mc,M1,M2,M3,Mr,B = var\n",
    "    \n",
    "    y1 = x1*α/(1+(α-1)*x1)\n",
    "    xC = y1\n",
    "    y2 = x2*α/(1+(α-1)*x2)\n",
    "    y3 = x3*α/(1+(α-1)*x3)\n",
    "    y4 = xr*α/(1+(α-1)*xr)\n",
    "\n",
    "    L0 = reflux*D\n",
    "    L1 = Ltop + (M1 - M_star)/τ\n",
    "    L2 = Ltop - Lbot + F +(M2 - M_star)/τ\n",
    "    L3 = Lbot + (M3 - M_star)/τ\n",
    "\n",
    "    V1 = F\n",
    "    V2 = F\n",
    "    V3 = F\n",
    "    V4 = F\n",
    "    \n",
    "    B = L3-V4\n",
    "\n",
    "    dMcdt = V1 - L0 - D\n",
    "    dxcMcdt = y1*V1 - xc*(L0 + D)\n",
    "    dxcdt = 1/Mc*(dxcMcdt - xc*dMcdt)\n",
    "\n",
    "    dM1dt = V2 - V1 + L0 - L1\n",
    "    dx1M1dt = y2*V2 - y1*V1 + xc*L0 - x1*L1\n",
    "    dx1dt = 1/M1*(dx1M1dt - x1*dM1dt)\n",
    "\n",
    "    dM2dt = V3 - V2 + L1 - L2 + F\n",
    "    dx2M2dt = y3*V3 - y2*V2 + x1*L1 - x2*L2 + xF*F\n",
    "    dx2dt = 1/M2*(dx2M2dt - x2*dM2dt)\n",
    "\n",
    "    dM3dt = V4 - V3 + L2 - L3\n",
    "    dx3M3dt = y4*V4 - y3*V3 + x2*L2 - x3*L3\n",
    "    dx3dt = 1/M3*(dx3M3dt - x3*dM3dt)\n",
    "\n",
    "    dMrdt = L3 - V4 - B\n",
    "    dxrMrdt = x3*L3 - y4*V4 - xr*B\n",
    "    dxrdt = 1/Mr*(dxrMrdt - xr*dMrdt)\n",
    "    \n",
    "    \n",
    "\n",
    "    return [dxcdt,dx2dt,dx2dt,dx3dt,dxrdt,dMcdt,dM1dt,dM2dt,dM3dt,dMrdt,B]\n"
   ]
  },
  {
   "cell_type": "code",
   "execution_count": 121,
   "metadata": {},
   "outputs": [],
   "source": [
    "tspan = (0, 50)\n",
    "t = numpy.linspace( *tspan, 100)\n",
    "initial_run = scipy.integrate.solve_ivp(model, tspan, init, t_eval=t)"
   ]
  },
  {
   "cell_type": "code",
   "execution_count": 122,
   "metadata": {},
   "outputs": [],
   "source": [
    "xc,x1,x2,x3,xr,Mc,M1,M2,M3,Mr,B = initial_run.y"
   ]
  },
  {
   "cell_type": "code",
   "execution_count": 123,
   "metadata": {},
   "outputs": [
    {
     "name": "stdout",
     "output_type": "stream",
     "text": [
      "0.5346630076633421\n"
     ]
    },
    {
     "data": {
      "image/png": "[encoded data removed]",
      "text/plain": [
       "<Figure size 432x288 with 1 Axes>"
      ]
     },
     "metadata": {
      "needs_background": "light"
     },
     "output_type": "display_data"
    }
   ],
   "source": [
    "plt.plot(t,xc,label = \"xD\")\n",
    "plt.plot(t,xr,label = \"xB\")\n",
    "plt.legend()\n",
    "print(xc[-1])"
   ]
  },
  {
   "cell_type": "code",
   "execution_count": 98,
   "metadata": {},
   "outputs": [
    {
     "data": {
      "text/plain": [
       "<matplotlib.legend.Legend at 0x1e187e71cc0>"
      ]
     },
     "execution_count": 98,
     "metadata": {},
     "output_type": "execute_result"
    },
    {
     "data": {
      "image/png": "[encoded data removed]",
      "text/plain": [
       "<Figure size 432x288 with 1 Axes>"
      ]
     },
     "metadata": {
      "needs_background": "light"
     },
     "output_type": "display_data"
    }
   ],
   "source": [
    "accum = xF*F - xr*B - xc*D\n",
    "accum1 = Mc+M1+M2+M3+Mr\n",
    "plt.plot(t,accum,label = \"mass balance\")\n",
    "plt.plot(t,accum1,label = \"accumulation\")\n",
    "plt.legend()"
   ]
  },
  {
   "cell_type": "code",
   "execution_count": null,
   "metadata": {},
   "outputs": [],
   "source": []
  }
 ],
 "metadata": {
  "kernelspec": {
   "display_name": "Python 3",
   "language": "python",
   "name": "python3"
  },
  "language_info": {
   "codemirror_mode": {
    "name": "ipython",
    "version": 3
   },
   "file_extension": ".py",
   "mimetype": "text/x-python",
   "name": "python",
   "nbconvert_exporter": "python",
   "pygments_lexer": "ipython3",
   "version": "3.7.3"
  }
 },
 "nbformat": 4,
 "nbformat_minor": 2
}
